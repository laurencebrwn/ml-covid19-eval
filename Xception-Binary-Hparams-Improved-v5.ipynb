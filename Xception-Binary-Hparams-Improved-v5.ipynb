{
 "cells": [
  {
   "cell_type": "markdown",
   "id": "8e0ccce8",
   "metadata": {
    "id": "8e0ccce8",
    "tags": []
   },
   "source": [
    "## Model Variables"
   ]
  },
  {
   "cell_type": "code",
   "execution_count": 3,
   "id": "68fe9ea2",
   "metadata": {
    "executionInfo": {
     "elapsed": 4,
     "status": "ok",
     "timestamp": 1651337636485,
     "user": {
      "displayName": "Laurence Brown",
      "userId": "02353821870267800674"
     },
     "user_tz": -60
    },
    "id": "68fe9ea2"
   },
   "outputs": [],
   "source": [
    "IMAGE_SIZE = 224\n",
    "BATCH_SIZE = 32\n",
    "DATASET_SIZE = 1500\n",
    "MAX_EPOCHS = 20\n",
    "K_FOLDS = 5\n",
    "DATASET_PATH = 'covidx-cxr2'"
   ]
  },
  {
   "cell_type": "markdown",
   "id": "69bfede4",
   "metadata": {
    "id": "69bfede4"
   },
   "source": [
    "## Data Preparation"
   ]
  },
  {
   "cell_type": "code",
   "execution_count": 4,
   "id": "b2c6945d",
   "metadata": {
    "colab": {
     "base_uri": "https://localhost:8080/"
    },
    "executionInfo": {
     "elapsed": 14560,
     "status": "ok",
     "timestamp": 1651337651042,
     "user": {
      "displayName": "Laurence Brown",
      "userId": "02353821870267800674"
     },
     "user_tz": -60
    },
    "id": "b2c6945d",
    "outputId": "ff0f3fbf-f648-4a97-818c-0360e85c89e6"
   },
   "outputs": [
    {
     "name": "stdout",
     "output_type": "stream",
     "text": [
      "Tensorflow Version: 2.8.0\n",
      "Tensorboard Version: 2.8.0\n",
      "WARNING:tensorflow:From <ipython-input-4-524b973928af>:28: is_gpu_available (from tensorflow.python.framework.test_util) is deprecated and will be removed in a future version.\n",
      "Instructions for updating:\n",
      "Use `tf.config.list_physical_devices('GPU')` instead.\n",
      "GPU Found: True\n"
     ]
    }
   ],
   "source": [
    "# import required libraries\n",
    "import numpy as np\n",
    "import pandas as pd\n",
    "import os\n",
    "import tensorflow as tf\n",
    "from tensorflow.keras.preprocessing.image import ImageDataGenerator\n",
    "import shutil\n",
    "from sklearn.metrics import confusion_matrix, classification_report\n",
    "from datetime import datetime\n",
    "from packaging import version\n",
    "%reload_ext tensorboard\n",
    "import tensorboard\n",
    "from sklearn.model_selection import StratifiedKFold\n",
    "from tensorboard.plugins.hparams import api as hp\n",
    "import time\n",
    "\n",
    "# tensorflow-gpu check\n",
    "print(\"Tensorflow Version:\", tf.__version__)\n",
    "print(\"Tensorboard Version:\", tensorboard.__version__)\n",
    "print(\"GPU Found:\", tf.test.is_gpu_available())"
   ]
  },
  {
   "cell_type": "code",
   "execution_count": 5,
   "id": "55a26665",
   "metadata": {
    "executionInfo": {
     "elapsed": 3,
     "status": "ok",
     "timestamp": 1651337651042,
     "user": {
      "displayName": "Laurence Brown",
      "userId": "02353821870267800674"
     },
     "user_tz": -60
    },
    "id": "55a26665"
   },
   "outputs": [],
   "source": [
    "# set up hyper-parameters\n",
    "HP_NUM_UNITS = hp.HParam('num_units', hp.Discrete([128]))\n",
    "HP_DROPOUT = hp.HParam('dropout', hp.Discrete([0.1]))\n",
    "HP_OPTIMIZER = hp.HParam('optimizer', hp.Discrete(['adam']))\n",
    "HP_L_RATE= hp.HParam('learning_rate', hp.Discrete([0.001]))\n",
    "\n",
    "METRIC_ACCURACY = 'accuracy'\n",
    "\n",
    "with tf.summary.create_file_writer('trained-classifiers/logs/hparam_tuning').as_default():\n",
    "    hp.hparams_config(\n",
    "        hparams=[HP_NUM_UNITS, HP_DROPOUT, HP_OPTIMIZER, HP_L_RATE],\n",
    "        metrics=[hp.Metric(METRIC_ACCURACY, display_name='Accuracy')],\n",
    "    )"
   ]
  },
  {
   "cell_type": "code",
   "execution_count": 6,
   "id": "5197d1f5",
   "metadata": {
    "executionInfo": {
     "elapsed": 406,
     "status": "ok",
     "timestamp": 1651337651446,
     "user": {
      "displayName": "Laurence Brown",
      "userId": "02353821870267800674"
     },
     "user_tz": -60
    },
    "id": "5197d1f5"
   },
   "outputs": [],
   "source": [
    "# read in train data\n",
    "train_df = pd.read_csv(DATASET_PATH+'/train_COVIDx9B.txt', \n",
    "                       sep=\" \", header=None)\n",
    "# add columns to go from 0, 1, 2, 3 to patient id, filename, class etc\n",
    "train_df.columns=['patient id', 'filename', 'class', 'data source']\n",
    "\n",
    "# drop patient id and datasource as not needed\n",
    "train_df=train_df.drop(['patient id', 'data source'], axis=1 )\n",
    "\n",
    "# read in test data\n",
    "test_df = pd.read_csv(DATASET_PATH+'/test_COVIDx9B.txt', \n",
    "                      sep=\" \", header=None)\n",
    "# add columns to go from 0, 1, 2, 3 to patient id, filename, class etc\n",
    "test_df.columns=['patient id', 'filename', 'class', 'data source']\n",
    "\n",
    "# drop patient id and datasource as not needed\n",
    "test_df=test_df.drop(['patient id', 'data source'], axis=1 )"
   ]
  },
  {
   "cell_type": "code",
   "execution_count": 7,
   "id": "fe14addd",
   "metadata": {
    "colab": {
     "base_uri": "https://localhost:8080/"
    },
    "executionInfo": {
     "elapsed": 6,
     "status": "ok",
     "timestamp": 1651337651446,
     "user": {
      "displayName": "Laurence Brown",
      "userId": "02353821870267800674"
     },
     "user_tz": -60
    },
    "id": "fe14addd",
    "outputId": "dea35e8d-90bf-4cfb-a587-bc8e51100919"
   },
   "outputs": [
    {
     "name": "stdout",
     "output_type": "stream",
     "text": [
      "Train class counts:\n",
      "positive    16490\n",
      "negative    13992\n",
      "Name: class, dtype: int64\n",
      "\n",
      "Test class counts:\n",
      "positive    200\n",
      "negative    200\n",
      "Name: class, dtype: int64\n"
     ]
    }
   ],
   "source": [
    "print(\"Train class counts:\")\n",
    "print(train_df['class'].value_counts())\n",
    "print(\"\\nTest class counts:\")\n",
    "print(test_df['class'].value_counts())"
   ]
  },
  {
   "cell_type": "code",
   "execution_count": 8,
   "id": "e42bf5ec",
   "metadata": {
    "colab": {
     "base_uri": "https://localhost:8080/"
    },
    "executionInfo": {
     "elapsed": 6,
     "status": "ok",
     "timestamp": 1651337651447,
     "user": {
      "displayName": "Laurence Brown",
      "userId": "02353821870267800674"
     },
     "user_tz": -60
    },
    "id": "e42bf5ec",
    "outputId": "882245c7-34bd-4fa3-f233-a6ebe393ce08"
   },
   "outputs": [
    {
     "name": "stdout",
     "output_type": "stream",
     "text": [
      "Train class counts:\n",
      "positive    750\n",
      "negative    750\n",
      "Name: class, dtype: int64\n"
     ]
    }
   ],
   "source": [
    "negative  = train_df[train_df['class']=='negative']   # normal values in class column\n",
    "positive = train_df[train_df['class']=='positive']  # COVID-19 values in class column\n",
    "\n",
    "from sklearn.utils import resample\n",
    "# downsample training data to equal values of each class, to reduce class bias and reduce training time\n",
    "\n",
    "df_negative_downsampled = resample(negative, replace = True, n_samples = DATASET_SIZE//2)\n",
    "df_positive_downsampled = resample(positive, replace = True, n_samples = DATASET_SIZE//2) \n",
    "\n",
    "#concatenate\n",
    "train_df = pd.concat([df_negative_downsampled, df_positive_downsampled])\n",
    "\n",
    "from sklearn.utils import shuffle\n",
    "train_df = shuffle(train_df) # shuffling so that there is no particular sequence\n",
    "print(\"Train class counts:\")\n",
    "print(train_df['class'].value_counts())"
   ]
  },
  {
   "cell_type": "code",
   "execution_count": 9,
   "id": "7caf2941",
   "metadata": {
    "colab": {
     "base_uri": "https://localhost:8080/"
    },
    "executionInfo": {
     "elapsed": 4,
     "status": "ok",
     "timestamp": 1651337651447,
     "user": {
      "displayName": "Laurence Brown",
      "userId": "02353821870267800674"
     },
     "user_tz": -60
    },
    "id": "7caf2941",
    "outputId": "23d076bf-64b7-49a7-ed7d-8a47ad4a6c81",
    "scrolled": true
   },
   "outputs": [
    {
     "name": "stdout",
     "output_type": "stream",
     "text": [
      "Train class counts:\n",
      "positive    750\n",
      "negative    750\n",
      "Name: class, dtype: int64\n",
      "\n",
      "Test class counts:\n",
      "positive    200\n",
      "negative    200\n",
      "Name: class, dtype: int64\n"
     ]
    }
   ],
   "source": [
    "print(\"Train class counts:\")\n",
    "print(train_df['class'].value_counts())\n",
    "print(\"\\nTest class counts:\")\n",
    "print(test_df['class'].value_counts())"
   ]
  },
  {
   "cell_type": "code",
   "execution_count": 10,
   "id": "4a7105a4",
   "metadata": {
    "colab": {
     "base_uri": "https://localhost:8080/"
    },
    "executionInfo": {
     "elapsed": 413,
     "status": "ok",
     "timestamp": 1651337651857,
     "user": {
      "displayName": "Laurence Brown",
      "userId": "02353821870267800674"
     },
     "user_tz": -60
    },
    "id": "4a7105a4",
    "outputId": "ab355a7e-d8d9-4580-c2de-211cf7688c59"
   },
   "outputs": [
    {
     "name": "stdout",
     "output_type": "stream",
     "text": [
      "Found 400 validated image filenames belonging to 2 classes.\n"
     ]
    }
   ],
   "source": [
    "# preprocess images\n",
    "test_datagen = ImageDataGenerator(preprocessing_function=tf.keras.applications.xception.preprocess_input)\n",
    "\n",
    "test_gen = test_datagen.flow_from_dataframe(dataframe = test_df, directory=DATASET_PATH+'/test', x_col='filename',\n",
    "                                            y_col='class', target_size=(IMAGE_SIZE, IMAGE_SIZE), batch_size=BATCH_SIZE, \n",
    "                                            color_mode='rgb', class_mode='binary', shuffle=False)"
   ]
  },
  {
   "cell_type": "code",
   "execution_count": 11,
   "id": "dc520d7a",
   "metadata": {
    "executionInfo": {
     "elapsed": 5,
     "status": "ok",
     "timestamp": 1651337651857,
     "user": {
      "displayName": "Laurence Brown",
      "userId": "02353821870267800674"
     },
     "user_tz": -60
    },
    "id": "dc520d7a"
   },
   "outputs": [],
   "source": [
    "def preprocess_images_cv(train_index, val_index):\n",
    "    # find the section of the training data that the fold is located\n",
    "    training_data = train_df.iloc[train_index]\n",
    "    validation_data = train_df.iloc[val_index]\n",
    "    train_datagen = ImageDataGenerator(preprocessing_function=tf.keras.applications.xception.preprocess_input,\n",
    "                                       rotation_range = 20, width_shift_range = 0.2, height_shift_range = 0.2, \n",
    "                                       shear_range = 0.2, zoom_range = 0.1, horizontal_flip = True, \n",
    "                                       vertical_flip = True)\n",
    "\n",
    "    # now get the images from directory with augmentation\n",
    "    \n",
    "    train_gen = train_datagen.flow_from_dataframe(dataframe = training_data, directory=DATASET_PATH+'/train', \n",
    "                                                  x_col='filename', y_col='class', target_size=(IMAGE_SIZE, IMAGE_SIZE), \n",
    "                                                  batch_size=BATCH_SIZE, color_mode='rgb', class_mode='binary')\n",
    "    valid_gen = test_datagen.flow_from_dataframe(dataframe = validation_data, directory=DATASET_PATH+'/train', \n",
    "                                                 x_col='filename', y_col='class', target_size=(IMAGE_SIZE, IMAGE_SIZE), \n",
    "                                                 batch_size=BATCH_SIZE,  color_mode='rgb', class_mode='binary')\n",
    "    return train_gen, valid_gen"
   ]
  },
  {
   "cell_type": "markdown",
   "id": "4174e3f4",
   "metadata": {
    "id": "4174e3f4"
   },
   "source": [
    "## Xception"
   ]
  },
  {
   "cell_type": "code",
   "execution_count": 12,
   "id": "96ce3019",
   "metadata": {
    "executionInfo": {
     "elapsed": 4,
     "status": "ok",
     "timestamp": 1651337651857,
     "user": {
      "displayName": "Laurence Brown",
      "userId": "02353821870267800674"
     },
     "user_tz": -60
    },
    "id": "96ce3019"
   },
   "outputs": [],
   "source": [
    "# required libraries for Xception\n",
    "from tensorflow import keras\n",
    "from tensorflow.keras.optimizers import Adam\n",
    "from tensorflow.keras import regularizers"
   ]
  },
  {
   "cell_type": "code",
   "execution_count": 13,
   "id": "836aa1a9",
   "metadata": {
    "executionInfo": {
     "elapsed": 4,
     "status": "ok",
     "timestamp": 1651337651858,
     "user": {
      "displayName": "Laurence Brown",
      "userId": "02353821870267800674"
     },
     "user_tz": -60
    },
    "id": "836aa1a9"
   },
   "outputs": [],
   "source": [
    "def create_model(hparams):\n",
    "    # create the base pre-trained model\n",
    "    base_model = keras.applications.Xception(weights='imagenet', input_shape = (IMAGE_SIZE,IMAGE_SIZE,3),\n",
    "                                                  include_top=False)\n",
    "    # add some minor imtpovements to prevent overfitting and add output layer \n",
    "    model = keras.Sequential([base_model,\n",
    "                              keras.layers.Conv2D(1024,1, padding='same'),\n",
    "                              keras.layers.Flatten(),\n",
    "                              keras.layers.Dropout(hparams[HP_DROPOUT]),\n",
    "                              keras.layers.Dense(hparams[HP_NUM_UNITS], activation='relu',\n",
    "                                                 kernel_regularizer=regularizers.l1_l2(l1=1e-5, l2=1e-4),\n",
    "                                                 bias_regularizer=regularizers.l2(1e-4),\n",
    "                                                 activity_regularizer=regularizers.l2(1e-5)\n",
    "                                                 ),\n",
    "                              keras.layers.Dense(1, activation='sigmoid')\n",
    "                              ])\n",
    "    # compile model\n",
    "    optimizer_name = hparams[HP_OPTIMIZER]\n",
    "    learning_rate = hparams[HP_L_RATE]\n",
    "    if optimizer_name == \"adam\":\n",
    "        optimizer = tf.keras.optimizers.Adam(learning_rate=learning_rate)\n",
    "    elif optimizer_name == \"sgd\":\n",
    "        optimizer = tf.keras.optimizers.SGD(learning_rate=learning_rate)\n",
    "    else:\n",
    "        raise ValueError(\"unexpected optimizer name: %r\" % (optimizer_name,))\n",
    "\n",
    "\n",
    "    model.compile(optimizer = optimizer,\n",
    "                  loss = 'binary_crossentropy',\n",
    "                  metrics=['accuracy'])\n",
    "    return model"
   ]
  },
  {
   "cell_type": "code",
   "execution_count": 14,
   "id": "b8275562",
   "metadata": {
    "executionInfo": {
     "elapsed": 3,
     "status": "ok",
     "timestamp": 1651337651858,
     "user": {
      "displayName": "Laurence Brown",
      "userId": "02353821870267800674"
     },
     "user_tz": -60
    },
    "id": "b8275562"
   },
   "outputs": [],
   "source": [
    "def get_model_name(k):\n",
    "    return str(\"Xception-v5-Binary-\" + \"Fold-\"+str(k)+\"-\"+datetime.now().strftime(\"%Y%m%d-%H%M%S\"))"
   ]
  },
  {
   "cell_type": "code",
   "execution_count": 15,
   "id": "8faa2fa4",
   "metadata": {
    "colab": {
     "base_uri": "https://localhost:8080/"
    },
    "executionInfo": {
     "elapsed": 4105706,
     "status": "ok",
     "timestamp": 1651341757561,
     "user": {
      "displayName": "Laurence Brown",
      "userId": "02353821870267800674"
     },
     "user_tz": -60
    },
    "id": "8faa2fa4",
    "outputId": "4de03dca-fafe-4063-fb50-1bf90fe99efa",
    "scrolled": false
   },
   "outputs": [
    {
     "name": "stdout",
     "output_type": "stream",
     "text": [
      "HPARAMS: {'num_units': 128, 'dropout': 0.1, 'optimizer': 'adam', 'learning_rate': 0.001}\n",
      "--- Starting trial: 0\n",
      "Found 1200 validated image filenames belonging to 2 classes.\n",
      "Found 300 validated image filenames belonging to 2 classes.\n",
      "WARNING:tensorflow:`batch_size` is no longer needed in the `TensorBoard` Callback and will be ignored in TensorFlow 2.0.\n",
      "Epoch 1/20\n",
      "38/38 [==============================] - 332s 9s/step - loss: 1.1074 - accuracy: 0.5067 - val_loss: 1.0574 - val_accuracy: 0.5000 - lr: 0.0010\n",
      "Epoch 2/20\n",
      "38/38 [==============================] - 47s 1s/step - loss: 0.9640 - accuracy: 0.5475 - val_loss: 0.8398 - val_accuracy: 0.7000 - lr: 0.0010\n",
      "Epoch 3/20\n",
      "38/38 [==============================] - 46s 1s/step - loss: 0.7686 - accuracy: 0.7317 - val_loss: 0.7751 - val_accuracy: 0.7067 - lr: 0.0010\n",
      "Epoch 4/20\n",
      "38/38 [==============================] - 48s 1s/step - loss: 0.6721 - accuracy: 0.7492 - val_loss: 0.6676 - val_accuracy: 0.8000 - lr: 0.0010\n",
      "Epoch 5/20\n",
      "38/38 [==============================] - 48s 1s/step - loss: 0.5986 - accuracy: 0.7925 - val_loss: 0.6433 - val_accuracy: 0.7667 - lr: 0.0010\n",
      "Epoch 6/20\n",
      "38/38 [==============================] - ETA: 0s - loss: 0.4791 - accuracy: 0.8700\n",
      "Epoch 6: ReduceLROnPlateau reducing learning rate to 0.0005000000237487257.\n",
      "38/38 [==============================] - 44s 1s/step - loss: 0.4791 - accuracy: 0.8700 - val_loss: 0.9488 - val_accuracy: 0.9000 - lr: 0.0010\n",
      "Epoch 7/20\n",
      "38/38 [==============================] - 47s 1s/step - loss: 0.4253 - accuracy: 0.8817 - val_loss: 0.4113 - val_accuracy: 0.8900 - lr: 5.0000e-04\n",
      "Epoch 8/20\n",
      "38/38 [==============================] - ETA: 0s - loss: 0.3763 - accuracy: 0.8983\n",
      "Epoch 8: ReduceLROnPlateau reducing learning rate to 0.0002500000118743628.\n",
      "38/38 [==============================] - 43s 1s/step - loss: 0.3763 - accuracy: 0.8983 - val_loss: 0.4472 - val_accuracy: 0.8667 - lr: 5.0000e-04\n",
      "Epoch 9/20\n",
      "38/38 [==============================] - ETA: 0s - loss: 0.2960 - accuracy: 0.9283\n",
      "Epoch 9: ReduceLROnPlateau reducing learning rate to 0.0001250000059371814.\n",
      "38/38 [==============================] - 43s 1s/step - loss: 0.2960 - accuracy: 0.9283 - val_loss: 0.4454 - val_accuracy: 0.8800 - lr: 2.5000e-04\n",
      "Epoch 10/20\n",
      "38/38 [==============================] - 47s 1s/step - loss: 0.2548 - accuracy: 0.9408 - val_loss: 0.3149 - val_accuracy: 0.9267 - lr: 1.2500e-04\n",
      "Epoch 11/20\n",
      "38/38 [==============================] - 47s 1s/step - loss: 0.2443 - accuracy: 0.9375 - val_loss: 0.3041 - val_accuracy: 0.9267 - lr: 1.2500e-04\n",
      "Epoch 12/20\n",
      "38/38 [==============================] - 48s 1s/step - loss: 0.2280 - accuracy: 0.9408 - val_loss: 0.2943 - val_accuracy: 0.9400 - lr: 1.2500e-04\n",
      "Epoch 13/20\n",
      "38/38 [==============================] - 48s 1s/step - loss: 0.2204 - accuracy: 0.9492 - val_loss: 0.2617 - val_accuracy: 0.9400 - lr: 1.2500e-04\n",
      "Epoch 14/20\n",
      "38/38 [==============================] - 48s 1s/step - loss: 0.2169 - accuracy: 0.9417 - val_loss: 0.2557 - val_accuracy: 0.9400 - lr: 1.2500e-04\n",
      "Epoch 15/20\n",
      "38/38 [==============================] - ETA: 0s - loss: 0.1717 - accuracy: 0.9642\n",
      "Epoch 15: ReduceLROnPlateau reducing learning rate to 6.25000029685907e-05.\n",
      "38/38 [==============================] - 44s 1s/step - loss: 0.1717 - accuracy: 0.9642 - val_loss: 0.2605 - val_accuracy: 0.9433 - lr: 1.2500e-04\n",
      "Epoch 16/20\n",
      "38/38 [==============================] - 46s 1s/step - loss: 0.1618 - accuracy: 0.9700 - val_loss: 0.2442 - val_accuracy: 0.9433 - lr: 6.2500e-05\n",
      "Epoch 17/20\n",
      "38/38 [==============================] - 48s 1s/step - loss: 0.1630 - accuracy: 0.9600 - val_loss: 0.2299 - val_accuracy: 0.9400 - lr: 6.2500e-05\n",
      "Epoch 18/20\n",
      "38/38 [==============================] - ETA: 0s - loss: 0.1455 - accuracy: 0.9692\n",
      "Epoch 18: ReduceLROnPlateau reducing learning rate to 3.125000148429535e-05.\n",
      "38/38 [==============================] - 44s 1s/step - loss: 0.1455 - accuracy: 0.9692 - val_loss: 0.2405 - val_accuracy: 0.9467 - lr: 6.2500e-05\n",
      "Epoch 19/20\n",
      "38/38 [==============================] - ETA: 0s - loss: 0.1593 - accuracy: 0.9658\n",
      "Epoch 19: ReduceLROnPlateau reducing learning rate to 1.5625000742147677e-05.\n",
      "38/38 [==============================] - 43s 1s/step - loss: 0.1593 - accuracy: 0.9658 - val_loss: 0.2468 - val_accuracy: 0.9467 - lr: 3.1250e-05\n",
      "Epoch 20/20\n",
      "38/38 [==============================] - ETA: 0s - loss: 0.1470 - accuracy: 0.9683Restoring model weights from the end of the best epoch: 17.\n",
      "\n",
      "Epoch 20: ReduceLROnPlateau reducing learning rate to 7.812500371073838e-06.\n",
      "38/38 [==============================] - 43s 1s/step - loss: 0.1470 - accuracy: 0.9683 - val_loss: 0.2497 - val_accuracy: 0.9433 - lr: 1.5625e-05\n",
      "Epoch 20: early stopping\n",
      "--- Starting trial: 1\n",
      "Found 1200 validated image filenames belonging to 2 classes.\n",
      "Found 300 validated image filenames belonging to 2 classes.\n",
      "WARNING:tensorflow:`batch_size` is no longer needed in the `TensorBoard` Callback and will be ignored in TensorFlow 2.0.\n",
      "Epoch 1/20\n",
      "38/38 [==============================] - 52s 1s/step - loss: 1.1343 - accuracy: 0.5050 - val_loss: 1.0577 - val_accuracy: 0.5000 - lr: 0.0010\n",
      "Epoch 2/20\n",
      "38/38 [==============================] - 47s 1s/step - loss: 1.0066 - accuracy: 0.4883 - val_loss: 0.9561 - val_accuracy: 0.5000 - lr: 0.0010\n",
      "Epoch 3/20\n",
      "38/38 [==============================] - 47s 1s/step - loss: 0.9190 - accuracy: 0.4983 - val_loss: 0.8848 - val_accuracy: 0.5000 - lr: 0.0010\n",
      "Epoch 4/20\n",
      "38/38 [==============================] - 47s 1s/step - loss: 0.8593 - accuracy: 0.5000 - val_loss: 0.8356 - val_accuracy: 0.5000 - lr: 0.0010\n",
      "Epoch 5/20\n",
      "38/38 [==============================] - 47s 1s/step - loss: 0.8176 - accuracy: 0.4800 - val_loss: 0.8008 - val_accuracy: 0.5000 - lr: 0.0010\n",
      "Epoch 6/20\n",
      "38/38 [==============================] - 47s 1s/step - loss: 0.7880 - accuracy: 0.4900 - val_loss: 0.7756 - val_accuracy: 0.5000 - lr: 0.0010\n",
      "Epoch 7/20\n",
      "38/38 [==============================] - 47s 1s/step - loss: 0.7662 - accuracy: 0.4767 - val_loss: 0.7573 - val_accuracy: 0.5000 - lr: 0.0010\n",
      "Epoch 8/20\n",
      "38/38 [==============================] - 47s 1s/step - loss: 0.7503 - accuracy: 0.4833 - val_loss: 0.7433 - val_accuracy: 0.5000 - lr: 0.0010\n",
      "Epoch 9/20\n",
      "38/38 [==============================] - 47s 1s/step - loss: 0.7381 - accuracy: 0.4792 - val_loss: 0.7329 - val_accuracy: 0.5000 - lr: 0.0010\n",
      "Epoch 10/20\n",
      "38/38 [==============================] - 47s 1s/step - loss: 0.7288 - accuracy: 0.5000 - val_loss: 0.7249 - val_accuracy: 0.5000 - lr: 0.0010\n",
      "Epoch 11/20\n",
      "38/38 [==============================] - 47s 1s/step - loss: 0.7219 - accuracy: 0.4683 - val_loss: 0.7188 - val_accuracy: 0.5000 - lr: 0.0010\n",
      "Epoch 12/20\n",
      "38/38 [==============================] - 47s 1s/step - loss: 0.7165 - accuracy: 0.5000 - val_loss: 0.7141 - val_accuracy: 0.5000 - lr: 0.0010\n",
      "Epoch 13/20\n",
      "38/38 [==============================] - 47s 1s/step - loss: 0.7123 - accuracy: 0.5000 - val_loss: 0.7104 - val_accuracy: 0.5000 - lr: 0.0010\n",
      "Epoch 14/20\n",
      "38/38 [==============================] - 46s 1s/step - loss: 0.7090 - accuracy: 0.5000 - val_loss: 0.7075 - val_accuracy: 0.5000 - lr: 0.0010\n",
      "Epoch 15/20\n",
      "38/38 [==============================] - 47s 1s/step - loss: 0.7064 - accuracy: 0.5000 - val_loss: 0.7052 - val_accuracy: 0.5000 - lr: 0.0010\n",
      "Epoch 16/20\n",
      "38/38 [==============================] - 47s 1s/step - loss: 0.7043 - accuracy: 0.5000 - val_loss: 0.7034 - val_accuracy: 0.5000 - lr: 0.0010\n",
      "Epoch 17/20\n",
      "38/38 [==============================] - 47s 1s/step - loss: 0.7027 - accuracy: 0.5000 - val_loss: 0.7020 - val_accuracy: 0.5000 - lr: 0.0010\n",
      "Epoch 18/20\n",
      "38/38 [==============================] - 47s 1s/step - loss: 0.7014 - accuracy: 0.5000 - val_loss: 0.7008 - val_accuracy: 0.5000 - lr: 0.0010\n",
      "Epoch 19/20\n",
      "38/38 [==============================] - 47s 1s/step - loss: 0.7004 - accuracy: 0.5000 - val_loss: 0.6999 - val_accuracy: 0.5000 - lr: 0.0010\n",
      "Epoch 20/20\n",
      "38/38 [==============================] - 46s 1s/step - loss: 0.6995 - accuracy: 0.4900 - val_loss: 0.6991 - val_accuracy: 0.5000 - lr: 0.0010\n",
      "--- Starting trial: 2\n",
      "Found 1200 validated image filenames belonging to 2 classes.\n",
      "Found 300 validated image filenames belonging to 2 classes.\n",
      "WARNING:tensorflow:`batch_size` is no longer needed in the `TensorBoard` Callback and will be ignored in TensorFlow 2.0.\n",
      "Epoch 1/20\n",
      "38/38 [==============================] - 52s 1s/step - loss: 1.1503 - accuracy: 0.5150 - val_loss: 1.0343 - val_accuracy: 0.5000 - lr: 0.0010\n",
      "Epoch 2/20\n",
      "38/38 [==============================] - 52s 1s/step - loss: 0.9000 - accuracy: 0.7300 - val_loss: 0.8874 - val_accuracy: 0.6767 - lr: 0.0010\n",
      "Epoch 3/20\n",
      "38/38 [==============================] - ETA: 0s - loss: 0.6563 - accuracy: 0.8408\n",
      "Epoch 3: ReduceLROnPlateau reducing learning rate to 0.0005000000237487257.\n",
      "38/38 [==============================] - 43s 1s/step - loss: 0.6563 - accuracy: 0.8408 - val_loss: 5.9585 - val_accuracy: 0.6633 - lr: 0.0010\n",
      "Epoch 4/20\n",
      "38/38 [==============================] - ETA: 0s - loss: 0.4683 - accuracy: 0.9058\n",
      "Epoch 4: ReduceLROnPlateau reducing learning rate to 0.0002500000118743628.\n",
      "38/38 [==============================] - 42s 1s/step - loss: 0.4683 - accuracy: 0.9058 - val_loss: 0.9810 - val_accuracy: 0.7533 - lr: 5.0000e-04\n",
      "Epoch 5/20\n",
      "38/38 [==============================] - ETA: 0s - loss: 0.3719 - accuracy: 0.9333Restoring model weights from the end of the best epoch: 2.\n",
      "\n",
      "Epoch 5: ReduceLROnPlateau reducing learning rate to 0.0001250000059371814.\n",
      "38/38 [==============================] - 42s 1s/step - loss: 0.3719 - accuracy: 0.9333 - val_loss: 0.9736 - val_accuracy: 0.7667 - lr: 2.5000e-04\n",
      "Epoch 5: early stopping\n",
      "--- Starting trial: 3\n",
      "Found 1200 validated image filenames belonging to 2 classes.\n",
      "Found 300 validated image filenames belonging to 2 classes.\n",
      "WARNING:tensorflow:`batch_size` is no longer needed in the `TensorBoard` Callback and will be ignored in TensorFlow 2.0.\n",
      "Epoch 1/20\n",
      "38/38 [==============================] - 51s 1s/step - loss: 1.4093 - accuracy: 0.5158 - val_loss: 1.1073 - val_accuracy: 0.5000 - lr: 0.0010\n",
      "Epoch 2/20\n",
      "38/38 [==============================] - 47s 1s/step - loss: 1.0728 - accuracy: 0.5008 - val_loss: 1.0350 - val_accuracy: 0.5000 - lr: 0.0010\n",
      "Epoch 3/20\n",
      "38/38 [==============================] - 47s 1s/step - loss: 1.0038 - accuracy: 0.5000 - val_loss: 0.9719 - val_accuracy: 0.5000 - lr: 0.0010\n",
      "Epoch 4/20\n",
      "38/38 [==============================] - 46s 1s/step - loss: 0.9478 - accuracy: 0.4917 - val_loss: 0.9219 - val_accuracy: 0.5000 - lr: 0.0010\n",
      "Epoch 5/20\n",
      "38/38 [==============================] - 47s 1s/step - loss: 0.9013 - accuracy: 0.5000 - val_loss: 0.8809 - val_accuracy: 0.5000 - lr: 0.0010\n",
      "Epoch 6/20\n",
      "38/38 [==============================] - 47s 1s/step - loss: 0.8644 - accuracy: 0.5000 - val_loss: 0.8482 - val_accuracy: 0.5000 - lr: 0.0010\n",
      "Epoch 7/20\n",
      "38/38 [==============================] - 49s 1s/step - loss: 0.8348 - accuracy: 0.5000 - val_loss: 0.8218 - val_accuracy: 0.5000 - lr: 0.0010\n",
      "Epoch 8/20\n",
      "38/38 [==============================] - 47s 1s/step - loss: 0.8111 - accuracy: 0.5000 - val_loss: 0.8003 - val_accuracy: 0.5000 - lr: 0.0010\n",
      "Epoch 9/20\n",
      "38/38 [==============================] - 47s 1s/step - loss: 0.7915 - accuracy: 0.5000 - val_loss: 0.7827 - val_accuracy: 0.5000 - lr: 0.0010\n",
      "Epoch 10/20\n",
      "38/38 [==============================] - 47s 1s/step - loss: 0.7754 - accuracy: 0.4617 - val_loss: 0.7682 - val_accuracy: 0.5000 - lr: 0.0010\n",
      "Epoch 11/20\n",
      "38/38 [==============================] - 47s 1s/step - loss: 0.7622 - accuracy: 0.4883 - val_loss: 0.7562 - val_accuracy: 0.5000 - lr: 0.0010\n",
      "Epoch 12/20\n",
      "38/38 [==============================] - 47s 1s/step - loss: 0.7512 - accuracy: 0.5000 - val_loss: 0.7462 - val_accuracy: 0.5000 - lr: 0.0010\n",
      "Epoch 13/20\n",
      "38/38 [==============================] - 47s 1s/step - loss: 0.7421 - accuracy: 0.5000 - val_loss: 0.7379 - val_accuracy: 0.5000 - lr: 0.0010\n",
      "Epoch 14/20\n",
      "38/38 [==============================] - 48s 1s/step - loss: 0.7345 - accuracy: 0.5000 - val_loss: 0.7310 - val_accuracy: 0.5000 - lr: 0.0010\n",
      "Epoch 15/20\n",
      "38/38 [==============================] - 47s 1s/step - loss: 0.7281 - accuracy: 0.5000 - val_loss: 0.7252 - val_accuracy: 0.5000 - lr: 0.0010\n",
      "Epoch 16/20\n",
      "38/38 [==============================] - 47s 1s/step - loss: 0.7228 - accuracy: 0.5000 - val_loss: 0.7203 - val_accuracy: 0.5000 - lr: 0.0010\n",
      "Epoch 17/20\n",
      "38/38 [==============================] - 46s 1s/step - loss: 0.7183 - accuracy: 0.5000 - val_loss: 0.7162 - val_accuracy: 0.5000 - lr: 0.0010\n",
      "Epoch 18/20\n",
      "38/38 [==============================] - 47s 1s/step - loss: 0.7145 - accuracy: 0.5000 - val_loss: 0.7128 - val_accuracy: 0.5000 - lr: 0.0010\n",
      "Epoch 19/20\n",
      "38/38 [==============================] - 49s 1s/step - loss: 0.7114 - accuracy: 0.4917 - val_loss: 0.7099 - val_accuracy: 0.5000 - lr: 0.0010\n",
      "Epoch 20/20\n",
      "38/38 [==============================] - 47s 1s/step - loss: 0.7087 - accuracy: 0.4950 - val_loss: 0.7075 - val_accuracy: 0.5000 - lr: 0.0010\n",
      "--- Starting trial: 4\n",
      "Found 1200 validated image filenames belonging to 2 classes.\n",
      "Found 300 validated image filenames belonging to 2 classes.\n",
      "WARNING:tensorflow:`batch_size` is no longer needed in the `TensorBoard` Callback and will be ignored in TensorFlow 2.0.\n",
      "Epoch 1/20\n",
      "38/38 [==============================] - 53s 1s/step - loss: 1.1375 - accuracy: 0.6892 - val_loss: 41.6603 - val_accuracy: 0.5000 - lr: 0.0010\n",
      "Epoch 2/20\n",
      "38/38 [==============================] - 48s 1s/step - loss: 0.7407 - accuracy: 0.8650 - val_loss: 4.9989 - val_accuracy: 0.7500 - lr: 0.0010\n",
      "Epoch 3/20\n",
      "38/38 [==============================] - 47s 1s/step - loss: 0.6034 - accuracy: 0.9042 - val_loss: 1.7254 - val_accuracy: 0.7600 - lr: 0.0010\n",
      "Epoch 4/20\n",
      "38/38 [==============================] - 46s 1s/step - loss: 0.4717 - accuracy: 0.9242 - val_loss: 1.0494 - val_accuracy: 0.8567 - lr: 0.0010\n",
      "Epoch 5/20\n",
      "38/38 [==============================] - 46s 1s/step - loss: 0.3932 - accuracy: 0.9275 - val_loss: 0.3715 - val_accuracy: 0.9433 - lr: 0.0010\n",
      "Epoch 6/20\n",
      "38/38 [==============================] - ETA: 0s - loss: 0.3430 - accuracy: 0.9417\n",
      "Epoch 6: ReduceLROnPlateau reducing learning rate to 0.0005000000237487257.\n",
      "38/38 [==============================] - 42s 1s/step - loss: 0.3430 - accuracy: 0.9417 - val_loss: 0.4766 - val_accuracy: 0.8833 - lr: 0.0010\n",
      "Epoch 7/20\n",
      "38/38 [==============================] - ETA: 0s - loss: 0.3144 - accuracy: 0.9417\n",
      "Epoch 7: ReduceLROnPlateau reducing learning rate to 0.0002500000118743628.\n",
      "38/38 [==============================] - 41s 1s/step - loss: 0.3144 - accuracy: 0.9417 - val_loss: 0.3791 - val_accuracy: 0.9233 - lr: 5.0000e-04\n",
      "Epoch 8/20\n",
      "38/38 [==============================] - 45s 1s/step - loss: 0.2542 - accuracy: 0.9558 - val_loss: 0.3036 - val_accuracy: 0.9400 - lr: 2.5000e-04\n",
      "Epoch 9/20\n",
      "38/38 [==============================] - 46s 1s/step - loss: 0.2148 - accuracy: 0.9667 - val_loss: 0.2514 - val_accuracy: 0.9633 - lr: 2.5000e-04\n",
      "Epoch 10/20\n",
      "38/38 [==============================] - 47s 1s/step - loss: 0.1941 - accuracy: 0.9717 - val_loss: 0.1901 - val_accuracy: 0.9633 - lr: 2.5000e-04\n",
      "Epoch 11/20\n",
      "38/38 [==============================] - 46s 1s/step - loss: 0.1837 - accuracy: 0.9742 - val_loss: 0.1785 - val_accuracy: 0.9700 - lr: 2.5000e-04\n",
      "Epoch 12/20\n",
      "38/38 [==============================] - 47s 1s/step - loss: 0.1703 - accuracy: 0.9775 - val_loss: 0.1651 - val_accuracy: 0.9733 - lr: 2.5000e-04\n",
      "Epoch 13/20\n",
      "38/38 [==============================] - ETA: 0s - loss: 0.1724 - accuracy: 0.9767\n",
      "Epoch 13: ReduceLROnPlateau reducing learning rate to 0.0001250000059371814.\n",
      "38/38 [==============================] - 43s 1s/step - loss: 0.1724 - accuracy: 0.9767 - val_loss: 0.1676 - val_accuracy: 0.9733 - lr: 2.5000e-04\n",
      "Epoch 14/20\n",
      "38/38 [==============================] - ETA: 0s - loss: 0.1498 - accuracy: 0.9733\n",
      "Epoch 14: ReduceLROnPlateau reducing learning rate to 6.25000029685907e-05.\n",
      "38/38 [==============================] - 42s 1s/step - loss: 0.1498 - accuracy: 0.9733 - val_loss: 0.1727 - val_accuracy: 0.9700 - lr: 1.2500e-04\n",
      "Epoch 15/20\n",
      "38/38 [==============================] - ETA: 0s - loss: 0.1518 - accuracy: 0.9783Restoring model weights from the end of the best epoch: 12.\n",
      "\n",
      "Epoch 15: ReduceLROnPlateau reducing learning rate to 3.125000148429535e-05.\n",
      "38/38 [==============================] - 42s 1s/step - loss: 0.1518 - accuracy: 0.9783 - val_loss: 0.1662 - val_accuracy: 0.9733 - lr: 6.2500e-05\n",
      "Epoch 15: early stopping\n"
     ]
    }
   ],
   "source": [
    "# perform HP tuning and CV on the model on the data\n",
    "Y = train_df['class']\n",
    "trained_models = []\n",
    "\n",
    "# iterate through hyper-parameters\n",
    "for num_units in HP_NUM_UNITS.domain.values:\n",
    "    for dropout_rate in HP_DROPOUT.domain.values:\n",
    "        for optimizer in HP_OPTIMIZER.domain.values:\n",
    "            for learning_rate in HP_L_RATE.domain.values:\n",
    "                # instantiate k folds and hyper-parameters for this iteration\n",
    "                skf = StratifiedKFold(n_splits = K_FOLDS, shuffle = True) \n",
    "                k_i = 0\n",
    "                k_fold_models = []\n",
    "                elapsed_times = []\n",
    "                hparams = {\n",
    "                    HP_NUM_UNITS: num_units,\n",
    "                    HP_DROPOUT: dropout_rate,\n",
    "                    HP_OPTIMIZER: optimizer,\n",
    "                    HP_L_RATE: learning_rate\n",
    "                }\n",
    "                print('HPARAMS:',{h.name: hparams[h] for h in hparams})\n",
    "                \n",
    "                # iterate through k folds\n",
    "                for train_index, val_index in skf.split(np.zeros(len(Y)),Y):\n",
    "                    print('--- Starting trial: %s' % k_i)\n",
    "                    t = time.process_time() # begin timing model\n",
    "                    train_gen, valid_gen = preprocess_images_cv(train_index, val_index) # fetch dataset for this fold\n",
    "                    \n",
    "                    # set up logging directories and callbacks\n",
    "                    logdir = os.path.join('trained-classifiers','logs','fit', get_model_name(k_i))\n",
    "                    hpdir = os.path.join('trained-classifiers','logs','hparam_tuning', get_model_name(k_i))\n",
    "                    modeldir = os.path.join('model-checkpoints',str(get_model_name(k_i)+\".h5\"))\n",
    "                    callbacks = [\n",
    "                        keras.callbacks.ModelCheckpoint(filepath=modeldir, save_best_only=True, verbose = 0),\n",
    "                        keras.callbacks.EarlyStopping(patience=3, monitor='val_loss', verbose=1, restore_best_weights=True),\n",
    "                        keras.callbacks.ReduceLROnPlateau(monitor='val_loss', factor=0.5, patience=1, verbose=1),\n",
    "                        keras.callbacks.TensorBoard(log_dir=logdir)\n",
    "                      ]\n",
    "                    \n",
    "                    # create the model\n",
    "                    hp.hparams(hparams)  \n",
    "                    model = create_model(hparams)\n",
    "                    \n",
    "                    # train model\n",
    "                    model.fit(train_gen, validation_data=valid_gen, epochs=MAX_EPOCHS, callbacks=callbacks)\n",
    "                    \n",
    "                    # record the values used in this trial\n",
    "                    elapsed_times.append(time.process_time() - t)\n",
    "                    k_fold_models.append(modeldir)\n",
    "                    \n",
    "                    # clean memory\n",
    "                    del model, train_gen, valid_gen\n",
    "                    keras.backend.clear_session()\n",
    "                    k_i += 1\n",
    "                    \n",
    "                trained_models.append([hparams, k_fold_models, elapsed_times])"
   ]
  },
  {
   "cell_type": "markdown",
   "id": "7d4d6530",
   "metadata": {
    "id": "7d4d6530"
   },
   "source": [
    "## Evaluation"
   ]
  },
  {
   "cell_type": "code",
   "execution_count": 16,
   "id": "9851f1f7",
   "metadata": {
    "executionInfo": {
     "elapsed": 11,
     "status": "ok",
     "timestamp": 1651341757561,
     "user": {
      "displayName": "Laurence Brown",
      "userId": "02353821870267800674"
     },
     "user_tz": -60
    },
    "id": "9851f1f7"
   },
   "outputs": [],
   "source": [
    "# import libraries for evaluation\n",
    "from sklearn.metrics import accuracy_score, precision_score, recall_score, f1_score, confusion_matrix\n",
    "from statistics import mean"
   ]
  },
  {
   "cell_type": "code",
   "execution_count": 17,
   "id": "69b88b94",
   "metadata": {
    "colab": {
     "base_uri": "https://localhost:8080/"
    },
    "executionInfo": {
     "elapsed": 343430,
     "status": "ok",
     "timestamp": 1651342100987,
     "user": {
      "displayName": "Laurence Brown",
      "userId": "02353821870267800674"
     },
     "user_tz": -60
    },
    "id": "69b88b94",
    "outputId": "f67ecaa7-a386-4de6-dee3-f5610b96418e"
   },
   "outputs": [
    {
     "name": "stdout",
     "output_type": "stream",
     "text": [
      "13/13 [==============================] - 22s 1s/step - loss: 0.3534 - accuracy: 0.8975\n",
      "13/13 [==============================] - 21s 1s/step - loss: 0.6991 - accuracy: 0.5000\n",
      "13/13 [==============================] - 21s 2s/step - loss: 1.1077 - accuracy: 0.5225\n",
      "13/13 [==============================] - 22s 2s/step - loss: 0.7075 - accuracy: 0.5000\n",
      "13/13 [==============================] - 21s 2s/step - loss: 0.2696 - accuracy: 0.9375\n",
      "SCORE FOR HPARAMS: {'num_units': 128, 'dropout': 0.1, 'optimizer': 'adam', 'learning_rate': 0.001}\n",
      "Mean accuracy: 0.6715\n",
      "Mean k_accuracy; 0.6714999914169312\n",
      "Mean precision: 0.6826310288188742\n",
      "Mean recall: 0.559\n",
      "Mean f1: 0.5161361528373547\n",
      "Mean training time: 922.4690477818\n"
     ]
    }
   ],
   "source": [
    "# iterate through hyper-parameter configurations\n",
    "for j in trained_models:\n",
    "    model = create_model(j[0])\n",
    "    accuracies = []\n",
    "    k_accuracies = []\n",
    "    precisions = []\n",
    "    recalls = []\n",
    "    f1s = []\n",
    "    tp = []\n",
    "    fp = []\n",
    "    tn = []\n",
    "    fn = []\n",
    "    \n",
    "    # iterate through each folds model\n",
    "    for i in j[1]:\n",
    "        model.load_weights(i)\n",
    "        test_pred = model.predict(test_gen)\n",
    "        y_pred = np.rint(test_pred).flatten()\n",
    "        y_test= [test_gen.class_indices[k] for k in test_df['class'].values.tolist()]\n",
    "        k_accuracies.append(model.evaluate(test_gen)[1])\n",
    "        accuracies.append(accuracy_score(y_test, y_pred))\n",
    "        precisions.append(precision_score(y_test, y_pred, zero_division=0))\n",
    "        recalls.append(recall_score(y_test, y_pred))\n",
    "        f1s.append(f1_score(y_test, y_pred))\n",
    "        tn_x, fp_x, fn_x, tp_x = confusion_matrix(y_test, y_pred).ravel()\n",
    "        tp.append(tp_x)\n",
    "        fp.append(fp_x)\n",
    "        tn.append(tn_x)\n",
    "        fn.append(fn_x)\n",
    "\n",
    "    print(\"SCORE FOR HPARAMS:\", {h.name: j[0][h] for h in j[0]})\n",
    "    print(\"Mean accuracy:\", mean(accuracies))\n",
    "    print(\"Mean k_accuracy;\", mean(k_accuracies))\n",
    "    print(\"Mean precision:\", mean(precisions))\n",
    "    print(\"Mean recall:\", mean(recalls))\n",
    "    print(\"Mean f1:\", mean(f1s))\n",
    "    print(\"Mean training time:\", mean(j[2]))\n",
    "    \n",
    "    # retreive hyper-parameters\n",
    "    hdict = {h.name: j[0][h] for h in j[0]}\n",
    "    \n",
    "    # save results to file\n",
    "    df =  pd.DataFrame(np.array([[str(j[1]),\n",
    "                                  hdict.get('num_units'), hdict.get('dropout'), hdict.get('optimizer'), \n",
    "                                  hdict.get('learning_rate'),IMAGE_SIZE, BATCH_SIZE, DATASET_SIZE, MAX_EPOCHS, K_FOLDS,\n",
    "                                  mean(accuracies), mean(k_accuracies), mean(precisions), mean(recalls), mean(f1s),\n",
    "                                  mean(tn), mean(fp), mean(fn), mean(tp), mean(j[2])\n",
    "                                 ]]),\n",
    "                       columns=['Model Names','num_units', 'dropout','optimizer','learning_rate',\n",
    "                                'IMAGE_SIZE', 'BATCH_SIZE', 'DATASET_SIZE', 'MAX_EPOCHS',\n",
    "                                'K_FOLDS','Accuracy', 'K_accuracy', 'Precision', 'Recall', 'f1 Score', \n",
    "                                'True Negatives', ' False Positives', 'False Negatives', 'True Positives', 'Training Time'])\n",
    "    with open('trained-classifiers/Xception.csv', 'a') as f:\n",
    "        df.to_csv(f, mode='a', header=f.tell()==0, index = False)"
   ]
  },
  {
   "cell_type": "markdown",
   "id": "96f74fbe",
   "metadata": {
    "id": "96f74fbe"
   },
   "source": [
    "NOTE: Accuracy and loss graphs can be seen on TensorBoard, run \"%tensorboard --logdir logs --host 0.0.0.0\" to open"
   ]
  }
 ],
 "metadata": {
  "accelerator": "GPU",
  "colab": {
   "collapsed_sections": [],
   "name": "FINAL Xception-Binary-Hparams-Improved-v5.ipynb",
   "provenance": [
    {
     "file_id": "10KjaZLI44g1FgHI6woKI1m50AaP3emKx",
     "timestamp": 1651045115748
    },
    {
     "file_id": "https://github.com/laurencebrwn/ml-covid19-eval/blob/main/Xception-Binary-Hparams-Improved-v3.ipynb",
     "timestamp": 1649112605425
    }
   ]
  },
  "environment": {
   "kernel": "python3",
   "name": "managed-notebooks.m90",
   "type": "gcloud",
   "uri": "gcr.io/deeplearning-platform-release/managed-notebooks:m90"
  },
  "kernelspec": {
   "display_name": "Python 3 (ipykernel)",
   "language": "python",
   "name": "python3"
  },
  "language_info": {
   "codemirror_mode": {
    "name": "ipython",
    "version": 3
   },
   "file_extension": ".py",
   "mimetype": "text/x-python",
   "name": "python",
   "nbconvert_exporter": "python",
   "pygments_lexer": "ipython3",
   "version": "3.7.9"
  }
 },
 "nbformat": 4,
 "nbformat_minor": 5
}
