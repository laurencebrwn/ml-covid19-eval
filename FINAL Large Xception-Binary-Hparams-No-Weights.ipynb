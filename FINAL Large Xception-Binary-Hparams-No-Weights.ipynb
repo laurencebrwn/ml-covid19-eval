{
 "cells": [
  {
   "cell_type": "markdown",
   "id": "8e0ccce8",
   "metadata": {
    "id": "8e0ccce8",
    "tags": []
   },
   "source": [
    "## Model Variables"
   ]
  },
  {
   "cell_type": "code",
   "execution_count": 3,
   "id": "68fe9ea2",
   "metadata": {
    "executionInfo": {
     "elapsed": 4,
     "status": "ok",
     "timestamp": 1651574482906,
     "user": {
      "displayName": "Laurence Brown",
      "userId": "02353821870267800674"
     },
     "user_tz": -60
    },
    "id": "68fe9ea2"
   },
   "outputs": [],
   "source": [
    "IMAGE_SIZE = 224\n",
    "BATCH_SIZE = 32\n",
    "DATASET_SIZE = 30482\n",
    "MAX_EPOCHS = 20\n",
    "K_FOLDS = 5\n",
    "DATASET_PATH = 'covidx-cxr2'"
   ]
  },
  {
   "cell_type": "markdown",
   "id": "69bfede4",
   "metadata": {
    "id": "69bfede4"
   },
   "source": [
    "## Data Preparation"
   ]
  },
  {
   "cell_type": "code",
   "execution_count": 4,
   "id": "b2c6945d",
   "metadata": {
    "colab": {
     "base_uri": "https://localhost:8080/"
    },
    "executionInfo": {
     "elapsed": 14817,
     "status": "ok",
     "timestamp": 1651574497720,
     "user": {
      "displayName": "Laurence Brown",
      "userId": "02353821870267800674"
     },
     "user_tz": -60
    },
    "id": "b2c6945d",
    "outputId": "2b23a5b3-2728-4c7e-af8b-768b5447fae3"
   },
   "outputs": [
    {
     "name": "stdout",
     "output_type": "stream",
     "text": [
      "Tensorflow Version: 2.8.0\n",
      "Tensorboard Version: 2.8.0\n",
      "WARNING:tensorflow:From <ipython-input-4-69532632d99b>:19: is_gpu_available (from tensorflow.python.framework.test_util) is deprecated and will be removed in a future version.\n",
      "Instructions for updating:\n",
      "Use `tf.config.list_physical_devices('GPU')` instead.\n",
      "GPU Found: True\n"
     ]
    }
   ],
   "source": [
    "# import required libraries\n",
    "import numpy as np\n",
    "import pandas as pd\n",
    "import os\n",
    "import tensorflow as tf\n",
    "from tensorflow.keras.preprocessing.image import ImageDataGenerator\n",
    "import shutil\n",
    "from sklearn.metrics import confusion_matrix, classification_report\n",
    "from datetime import datetime\n",
    "from packaging import version\n",
    "%reload_ext tensorboard\n",
    "import tensorboard\n",
    "from sklearn.model_selection import StratifiedKFold\n",
    "from tensorboard.plugins.hparams import api as hp\n",
    "import time\n",
    "\n",
    "print(\"Tensorflow Version:\", tf.__version__)\n",
    "print(\"Tensorboard Version:\", tensorboard.__version__)\n",
    "print(\"GPU Found:\", tf.test.is_gpu_available())"
   ]
  },
  {
   "cell_type": "code",
   "execution_count": 5,
   "id": "55a26665",
   "metadata": {
    "executionInfo": {
     "elapsed": 2641,
     "status": "ok",
     "timestamp": 1651574500359,
     "user": {
      "displayName": "Laurence Brown",
      "userId": "02353821870267800674"
     },
     "user_tz": -60
    },
    "id": "55a26665"
   },
   "outputs": [],
   "source": [
    "# set up hyper-parameters\n",
    "HP_NUM_UNITS = hp.HParam('num_units', hp.Discrete([128]))\n",
    "HP_DROPOUT = hp.HParam('dropout', hp.Discrete([0.1]))\n",
    "HP_OPTIMIZER = hp.HParam('optimizer', hp.Discrete(['adam']))\n",
    "HP_L_RATE= hp.HParam('learning_rate', hp.Discrete([0.001]))\n",
    "\n",
    "METRIC_ACCURACY = 'accuracy'\n",
    "\n",
    "with tf.summary.create_file_writer('trained-classifiers/logs/hparam_tuning').as_default():\n",
    "    hp.hparams_config(\n",
    "        hparams=[HP_NUM_UNITS, HP_DROPOUT, HP_OPTIMIZER, HP_L_RATE],\n",
    "        metrics=[hp.Metric(METRIC_ACCURACY, display_name='Accuracy')],\n",
    "    )"
   ]
  },
  {
   "cell_type": "code",
   "execution_count": 6,
   "id": "5197d1f5",
   "metadata": {
    "executionInfo": {
     "elapsed": 2076,
     "status": "ok",
     "timestamp": 1651574502432,
     "user": {
      "displayName": "Laurence Brown",
      "userId": "02353821870267800674"
     },
     "user_tz": -60
    },
    "id": "5197d1f5"
   },
   "outputs": [],
   "source": [
    "# read in train data\n",
    "train_df = pd.read_csv(DATASET_PATH+'/train_COVIDx9B.txt', \n",
    "                       sep=\" \", header=None)\n",
    "# add columns to go from 0, 1, 2, 3 to patient id, filename, class etc\n",
    "train_df.columns=['patient id', 'filename', 'class', 'data source']\n",
    "\n",
    "# drop patient id and datasource as not needed\n",
    "train_df=train_df.drop(['patient id', 'data source'], axis=1 )\n",
    "\n",
    "# read in test data\n",
    "test_df = pd.read_csv(DATASET_PATH+'/test_COVIDx9B.txt', \n",
    "                      sep=\" \", header=None)\n",
    "# add columns to go from 0, 1, 2, 3 to patient id, filename, class etc\n",
    "test_df.columns=['patient id', 'filename', 'class', 'data source']\n",
    "\n",
    "# drop patient id and datasource as not needed\n",
    "test_df=test_df.drop(['patient id', 'data source'], axis=1 )"
   ]
  },
  {
   "cell_type": "code",
   "execution_count": 7,
   "id": "fe14addd",
   "metadata": {
    "colab": {
     "base_uri": "https://localhost:8080/"
    },
    "executionInfo": {
     "elapsed": 8,
     "status": "ok",
     "timestamp": 1651574502433,
     "user": {
      "displayName": "Laurence Brown",
      "userId": "02353821870267800674"
     },
     "user_tz": -60
    },
    "id": "fe14addd",
    "outputId": "c3e918ac-afa7-471c-d5b2-e35c5ea30114"
   },
   "outputs": [
    {
     "name": "stdout",
     "output_type": "stream",
     "text": [
      "Train class counts:\n",
      "positive    16490\n",
      "negative    13992\n",
      "Name: class, dtype: int64\n",
      "\n",
      "Test class counts:\n",
      "positive    200\n",
      "negative    200\n",
      "Name: class, dtype: int64\n"
     ]
    }
   ],
   "source": [
    "print(\"Train class counts:\")\n",
    "print(train_df['class'].value_counts())\n",
    "print(\"\\nTest class counts:\")\n",
    "print(test_df['class'].value_counts())"
   ]
  },
  {
   "cell_type": "code",
   "execution_count": 8,
   "id": "e42bf5ec",
   "metadata": {
    "colab": {
     "base_uri": "https://localhost:8080/"
    },
    "executionInfo": {
     "elapsed": 6,
     "status": "ok",
     "timestamp": 1651574502433,
     "user": {
      "displayName": "Laurence Brown",
      "userId": "02353821870267800674"
     },
     "user_tz": -60
    },
    "id": "e42bf5ec",
    "outputId": "0afc2774-d3a6-4134-b8ca-e64f5bbd4757"
   },
   "outputs": [
    {
     "name": "stdout",
     "output_type": "stream",
     "text": [
      "Train class counts:\n",
      "positive    15241\n",
      "negative    15241\n",
      "Name: class, dtype: int64\n"
     ]
    }
   ],
   "source": [
    "negative  = train_df[train_df['class']=='negative']   # normal values in class column\n",
    "positive = train_df[train_df['class']=='positive']  # COVID-19 values in class column\n",
    "\n",
    "from sklearn.utils import resample\n",
    "# downsample training data to equal values of each class, to reduce class bias and reduce training time\n",
    "\n",
    "df_negative_downsampled = resample(negative, replace = True, n_samples = DATASET_SIZE//2)\n",
    "df_positive_downsampled = resample(positive, replace = True, n_samples = DATASET_SIZE//2) \n",
    "\n",
    "#concatenate\n",
    "train_df = pd.concat([df_negative_downsampled, df_positive_downsampled])\n",
    "\n",
    "from sklearn.utils import shuffle\n",
    "train_df = shuffle(train_df) # shuffling so that there is no particular sequence\n",
    "print(\"Train class counts:\")\n",
    "print(train_df['class'].value_counts())"
   ]
  },
  {
   "cell_type": "code",
   "execution_count": 9,
   "id": "7caf2941",
   "metadata": {
    "colab": {
     "base_uri": "https://localhost:8080/"
    },
    "executionInfo": {
     "elapsed": 5,
     "status": "ok",
     "timestamp": 1651574502434,
     "user": {
      "displayName": "Laurence Brown",
      "userId": "02353821870267800674"
     },
     "user_tz": -60
    },
    "id": "7caf2941",
    "outputId": "5c787d4b-3599-4123-ba4b-cc793b57d6ba",
    "scrolled": true
   },
   "outputs": [
    {
     "name": "stdout",
     "output_type": "stream",
     "text": [
      "Train class counts:\n",
      "positive    15241\n",
      "negative    15241\n",
      "Name: class, dtype: int64\n",
      "\n",
      "Test class counts:\n",
      "positive    200\n",
      "negative    200\n",
      "Name: class, dtype: int64\n"
     ]
    }
   ],
   "source": [
    "print(\"Train class counts:\")\n",
    "print(train_df['class'].value_counts())\n",
    "print(\"\\nTest class counts:\")\n",
    "print(test_df['class'].value_counts())"
   ]
  },
  {
   "cell_type": "code",
   "execution_count": 10,
   "id": "4a7105a4",
   "metadata": {
    "colab": {
     "base_uri": "https://localhost:8080/"
    },
    "executionInfo": {
     "elapsed": 4287,
     "status": "ok",
     "timestamp": 1651574506717,
     "user": {
      "displayName": "Laurence Brown",
      "userId": "02353821870267800674"
     },
     "user_tz": -60
    },
    "id": "4a7105a4",
    "outputId": "6b6f3787-2481-4424-b297-3caf94f9174b"
   },
   "outputs": [
    {
     "name": "stdout",
     "output_type": "stream",
     "text": [
      "Found 400 validated image filenames belonging to 2 classes.\n"
     ]
    }
   ],
   "source": [
    "# preprocess images\n",
    "test_datagen = ImageDataGenerator(preprocessing_function=tf.keras.applications.xception.preprocess_input)\n",
    "\n",
    "test_gen = test_datagen.flow_from_dataframe(dataframe = test_df, directory=DATASET_PATH+'/test', x_col='filename',\n",
    "                                            y_col='class', target_size=(IMAGE_SIZE, IMAGE_SIZE), batch_size=BATCH_SIZE, \n",
    "                                            color_mode='rgb', class_mode='binary', shuffle=False)"
   ]
  },
  {
   "cell_type": "code",
   "execution_count": 11,
   "id": "dc520d7a",
   "metadata": {
    "executionInfo": {
     "elapsed": 13,
     "status": "ok",
     "timestamp": 1651574506718,
     "user": {
      "displayName": "Laurence Brown",
      "userId": "02353821870267800674"
     },
     "user_tz": -60
    },
    "id": "dc520d7a"
   },
   "outputs": [],
   "source": [
    "def preprocess_images_cv(train_index, val_index):\n",
    "    # find the section of the training data that the fold is located\n",
    "    training_data = train_df.iloc[train_index]\n",
    "    validation_data = train_df.iloc[val_index]\n",
    "    train_datagen = ImageDataGenerator(preprocessing_function=tf.keras.applications.xception.preprocess_input,\n",
    "                                       rotation_range = 20, width_shift_range = 0.2, height_shift_range = 0.2, \n",
    "                                       shear_range = 0.2, zoom_range = 0.1, horizontal_flip = True)\n",
    "\n",
    "    # now get the images from directory with augmentation\n",
    "    \n",
    "    train_gen = train_datagen.flow_from_dataframe(dataframe = training_data, directory=DATASET_PATH+'/train', \n",
    "                                                  x_col='filename', y_col='class', target_size=(IMAGE_SIZE, IMAGE_SIZE), \n",
    "                                                  batch_size=BATCH_SIZE, color_mode='rgb', class_mode='binary')\n",
    "    valid_gen = test_datagen.flow_from_dataframe(dataframe = validation_data, directory=DATASET_PATH+'/train', \n",
    "                                                 x_col='filename', y_col='class', target_size=(IMAGE_SIZE, IMAGE_SIZE), \n",
    "                                                 batch_size=BATCH_SIZE,  color_mode='rgb', class_mode='binary')\n",
    "    return train_gen, valid_gen"
   ]
  },
  {
   "cell_type": "markdown",
   "id": "4174e3f4",
   "metadata": {
    "id": "4174e3f4"
   },
   "source": [
    "## Xception"
   ]
  },
  {
   "cell_type": "code",
   "execution_count": 12,
   "id": "96ce3019",
   "metadata": {
    "executionInfo": {
     "elapsed": 13,
     "status": "ok",
     "timestamp": 1651574506719,
     "user": {
      "displayName": "Laurence Brown",
      "userId": "02353821870267800674"
     },
     "user_tz": -60
    },
    "id": "96ce3019"
   },
   "outputs": [],
   "source": [
    "# required libraries for Xception\n",
    "from tensorflow import keras\n",
    "from tensorflow.keras.optimizers import Adam"
   ]
  },
  {
   "cell_type": "code",
   "execution_count": 13,
   "id": "836aa1a9",
   "metadata": {
    "executionInfo": {
     "elapsed": 12,
     "status": "ok",
     "timestamp": 1651574506719,
     "user": {
      "displayName": "Laurence Brown",
      "userId": "02353821870267800674"
     },
     "user_tz": -60
    },
    "id": "836aa1a9"
   },
   "outputs": [],
   "source": [
    "def create_model(hparams):\n",
    "    # create the base pre-trained model\n",
    "    base_model = keras.applications.Xception(weights=None, input_shape = (IMAGE_SIZE,IMAGE_SIZE,3),\n",
    "                                                  include_top=False)\n",
    "\n",
    "   # add some minor imtpovements to prevent overfitting and add output layer\n",
    "    model = keras.Sequential([ base_model, \n",
    "                                 keras.layers.GlobalAveragePooling2D(), \n",
    "                                 keras.layers.Dense(hparams[HP_NUM_UNITS], activation='relu'),\n",
    "                                 keras.layers.BatchNormalization(), \n",
    "                                 keras.layers.Dropout(hparams[HP_DROPOUT]),\n",
    "                                 keras.layers.Dense(1, activation='sigmoid')\n",
    "                                ])\n",
    "\n",
    "    # compile model\n",
    "    optimizer_name = hparams[HP_OPTIMIZER]\n",
    "    learning_rate = hparams[HP_L_RATE]\n",
    "    if optimizer_name == \"adam\":\n",
    "        optimizer = tf.keras.optimizers.Adam(learning_rate=learning_rate)\n",
    "    elif optimizer_name == \"sgd\":\n",
    "        optimizer = tf.keras.optimizers.SGD(learning_rate=learning_rate)\n",
    "    else:\n",
    "        raise ValueError(\"unexpected optimizer name: %r\" % (optimizer_name,))\n",
    "\n",
    "\n",
    "    model.compile(optimizer = optimizer,\n",
    "                  loss = 'binary_crossentropy',\n",
    "                  metrics=['accuracy'])\n",
    "    return model"
   ]
  },
  {
   "cell_type": "code",
   "execution_count": 14,
   "id": "b8275562",
   "metadata": {
    "executionInfo": {
     "elapsed": 13,
     "status": "ok",
     "timestamp": 1651574506720,
     "user": {
      "displayName": "Laurence Brown",
      "userId": "02353821870267800674"
     },
     "user_tz": -60
    },
    "id": "b8275562"
   },
   "outputs": [],
   "source": [
    "def get_model_name(k):\n",
    "    return str(\"Xception-Binary-No-Weights\" + \"Fold-\"+str(k)+\"-\"+datetime.now().strftime(\"%Y%m%d-%H%M%S\"))"
   ]
  },
  {
   "cell_type": "code",
   "execution_count": 15,
   "id": "8faa2fa4",
   "metadata": {
    "colab": {
     "base_uri": "https://localhost:8080/"
    },
    "executionInfo": {
     "elapsed": 57189026,
     "status": "ok",
     "timestamp": 1651631695734,
     "user": {
      "displayName": "Laurence Brown",
      "userId": "02353821870267800674"
     },
     "user_tz": -60
    },
    "id": "8faa2fa4",
    "outputId": "b34a0deb-8f8a-4c6c-9dd9-b761515219f7"
   },
   "outputs": [
    {
     "name": "stdout",
     "output_type": "stream",
     "text": [
      "HPARAMS: {'num_units': 128, 'dropout': 0.1, 'optimizer': 'adam', 'learning_rate': 0.001}\n",
      "--- Starting trial: 0\n"
     ]
    },
    {
     "name": "stderr",
     "output_type": "stream",
     "text": [
      "/usr/local/lib/python3.7/dist-packages/keras_preprocessing/image/dataframe_iterator.py:282: UserWarning: Found 1 invalid image filename(s) in x_col=\"filename\". These filename(s) will be ignored.\n",
      "  .format(n_invalid, x_col)\n"
     ]
    },
    {
     "name": "stdout",
     "output_type": "stream",
     "text": [
      "Found 24384 validated image filenames belonging to 2 classes.\n",
      "Found 6097 validated image filenames belonging to 2 classes.\n",
      "Epoch 1/20\n",
      "762/762 [==============================] - 13531s 18s/step - loss: 0.3000 - accuracy: 0.8773 - val_loss: 0.4740 - val_accuracy: 0.8378 - lr: 0.0010\n",
      "Epoch 2/20\n",
      "762/762 [==============================] - 872s 1s/step - loss: 0.2262 - accuracy: 0.9119 - val_loss: 0.2402 - val_accuracy: 0.9132 - lr: 0.0010\n",
      "Epoch 3/20\n",
      "762/762 [==============================] - ETA: 0s - loss: 0.2034 - accuracy: 0.9227\n",
      "Epoch 3: ReduceLROnPlateau reducing learning rate to 0.0005000000237487257.\n",
      "762/762 [==============================] - 866s 1s/step - loss: 0.2034 - accuracy: 0.9227 - val_loss: 0.3761 - val_accuracy: 0.8988 - lr: 0.0010\n",
      "Epoch 4/20\n",
      "762/762 [==============================] - ETA: 0s - loss: 0.1589 - accuracy: 0.9394\n",
      "Epoch 4: ReduceLROnPlateau reducing learning rate to 0.0002500000118743628.\n",
      "762/762 [==============================] - 860s 1s/step - loss: 0.1589 - accuracy: 0.9394 - val_loss: 0.5650 - val_accuracy: 0.8357 - lr: 5.0000e-04\n",
      "Epoch 5/20\n",
      "762/762 [==============================] - ETA: 0s - loss: 0.1374 - accuracy: 0.9492Restoring model weights from the end of the best epoch: 2.\n",
      "\n",
      "Epoch 5: ReduceLROnPlateau reducing learning rate to 0.0001250000059371814.\n",
      "762/762 [==============================] - 860s 1s/step - loss: 0.1374 - accuracy: 0.9492 - val_loss: 0.3125 - val_accuracy: 0.8562 - lr: 2.5000e-04\n",
      "Epoch 5: early stopping\n",
      "--- Starting trial: 1\n",
      "Found 24385 validated image filenames belonging to 2 classes.\n",
      "Found 6097 validated image filenames belonging to 2 classes.\n",
      "Epoch 1/20\n",
      "763/763 [==============================] - 911s 1s/step - loss: 0.3205 - accuracy: 0.8650 - val_loss: 0.2580 - val_accuracy: 0.8952 - lr: 0.0010\n",
      "Epoch 2/20\n",
      "763/763 [==============================] - ETA: 0s - loss: 0.2278 - accuracy: 0.9114\n",
      "Epoch 2: ReduceLROnPlateau reducing learning rate to 0.0005000000237487257.\n",
      "763/763 [==============================] - 869s 1s/step - loss: 0.2278 - accuracy: 0.9114 - val_loss: 0.9405 - val_accuracy: 0.7727 - lr: 0.0010\n",
      "Epoch 3/20\n",
      "763/763 [==============================] - ETA: 0s - loss: 0.1833 - accuracy: 0.9307\n",
      "Epoch 3: ReduceLROnPlateau reducing learning rate to 0.0002500000118743628.\n",
      "763/763 [==============================] - 865s 1s/step - loss: 0.1833 - accuracy: 0.9307 - val_loss: 0.4181 - val_accuracy: 0.8588 - lr: 5.0000e-04\n",
      "Epoch 4/20\n",
      "763/763 [==============================] - ETA: 0s - loss: 0.1489 - accuracy: 0.9433Restoring model weights from the end of the best epoch: 1.\n",
      "\n",
      "Epoch 4: ReduceLROnPlateau reducing learning rate to 0.0001250000059371814.\n",
      "763/763 [==============================] - 869s 1s/step - loss: 0.1489 - accuracy: 0.9433 - val_loss: 0.2701 - val_accuracy: 0.9041 - lr: 2.5000e-04\n",
      "Epoch 4: early stopping\n",
      "--- Starting trial: 2\n",
      "Found 24386 validated image filenames belonging to 2 classes.\n",
      "Found 6096 validated image filenames belonging to 2 classes.\n",
      "Epoch 1/20\n",
      "763/763 [==============================] - 871s 1s/step - loss: 0.3086 - accuracy: 0.8730 - val_loss: 0.2231 - val_accuracy: 0.9221 - lr: 0.0010\n",
      "Epoch 2/20\n",
      "763/763 [==============================] - ETA: 0s - loss: 0.2276 - accuracy: 0.9138\n",
      "Epoch 2: ReduceLROnPlateau reducing learning rate to 0.0005000000237487257.\n",
      "763/763 [==============================] - 864s 1s/step - loss: 0.2276 - accuracy: 0.9138 - val_loss: 0.4419 - val_accuracy: 0.8255 - lr: 0.0010\n",
      "Epoch 3/20\n",
      "763/763 [==============================] - 866s 1s/step - loss: 0.2145 - accuracy: 0.9166 - val_loss: 0.1647 - val_accuracy: 0.9432 - lr: 5.0000e-04\n",
      "Epoch 4/20\n",
      "763/763 [==============================] - 873s 1s/step - loss: 0.1851 - accuracy: 0.9304 - val_loss: 0.1516 - val_accuracy: 0.9411 - lr: 5.0000e-04\n",
      "Epoch 5/20\n",
      "763/763 [==============================] - 871s 1s/step - loss: 0.1640 - accuracy: 0.9390 - val_loss: 0.1310 - val_accuracy: 0.9488 - lr: 5.0000e-04\n",
      "Epoch 6/20\n",
      "763/763 [==============================] - ETA: 0s - loss: 0.1542 - accuracy: 0.9422\n",
      "Epoch 6: ReduceLROnPlateau reducing learning rate to 0.0002500000118743628.\n",
      "763/763 [==============================] - 860s 1s/step - loss: 0.1542 - accuracy: 0.9422 - val_loss: 0.2509 - val_accuracy: 0.9114 - lr: 5.0000e-04\n",
      "Epoch 7/20\n",
      "763/763 [==============================] - ETA: 0s - loss: 0.1314 - accuracy: 0.9511\n",
      "Epoch 7: ReduceLROnPlateau reducing learning rate to 0.0001250000059371814.\n",
      "763/763 [==============================] - 860s 1s/step - loss: 0.1314 - accuracy: 0.9511 - val_loss: 0.1453 - val_accuracy: 0.9469 - lr: 2.5000e-04\n",
      "Epoch 8/20\n",
      "763/763 [==============================] - 858s 1s/step - loss: 0.1111 - accuracy: 0.9593 - val_loss: 0.0808 - val_accuracy: 0.9723 - lr: 1.2500e-04\n",
      "Epoch 9/20\n",
      "763/763 [==============================] - ETA: 0s - loss: 0.1044 - accuracy: 0.9611\n",
      "Epoch 9: ReduceLROnPlateau reducing learning rate to 6.25000029685907e-05.\n",
      "763/763 [==============================] - 860s 1s/step - loss: 0.1044 - accuracy: 0.9611 - val_loss: 0.0875 - val_accuracy: 0.9706 - lr: 1.2500e-04\n",
      "Epoch 10/20\n",
      "763/763 [==============================] - ETA: 0s - loss: 0.0953 - accuracy: 0.9642\n",
      "Epoch 10: ReduceLROnPlateau reducing learning rate to 3.125000148429535e-05.\n",
      "763/763 [==============================] - 865s 1s/step - loss: 0.0953 - accuracy: 0.9642 - val_loss: 0.0856 - val_accuracy: 0.9698 - lr: 6.2500e-05\n",
      "Epoch 11/20\n",
      "763/763 [==============================] - ETA: 0s - loss: 0.0834 - accuracy: 0.9689Restoring model weights from the end of the best epoch: 8.\n",
      "\n",
      "Epoch 11: ReduceLROnPlateau reducing learning rate to 1.5625000742147677e-05.\n",
      "763/763 [==============================] - 868s 1s/step - loss: 0.0834 - accuracy: 0.9689 - val_loss: 0.0848 - val_accuracy: 0.9713 - lr: 3.1250e-05\n",
      "Epoch 11: early stopping\n",
      "--- Starting trial: 3\n",
      "Found 24386 validated image filenames belonging to 2 classes.\n",
      "Found 6096 validated image filenames belonging to 2 classes.\n",
      "Epoch 1/20\n",
      "763/763 [==============================] - 867s 1s/step - loss: 0.3086 - accuracy: 0.8743 - val_loss: 0.5068 - val_accuracy: 0.8548 - lr: 0.0010\n",
      "Epoch 2/20\n",
      "763/763 [==============================] - 869s 1s/step - loss: 0.2293 - accuracy: 0.9115 - val_loss: 0.2069 - val_accuracy: 0.9386 - lr: 0.0010\n",
      "Epoch 3/20\n",
      "763/763 [==============================] - 873s 1s/step - loss: 0.2004 - accuracy: 0.9227 - val_loss: 0.1590 - val_accuracy: 0.9442 - lr: 0.0010\n",
      "Epoch 4/20\n",
      "763/763 [==============================] - ETA: 0s - loss: 0.1827 - accuracy: 0.9313\n",
      "Epoch 4: ReduceLROnPlateau reducing learning rate to 0.0005000000237487257.\n",
      "763/763 [==============================] - 870s 1s/step - loss: 0.1827 - accuracy: 0.9313 - val_loss: 0.2629 - val_accuracy: 0.9216 - lr: 0.0010\n",
      "Epoch 5/20\n",
      "763/763 [==============================] - ETA: 0s - loss: 0.1548 - accuracy: 0.9423\n",
      "Epoch 5: ReduceLROnPlateau reducing learning rate to 0.0002500000118743628.\n",
      "763/763 [==============================] - 862s 1s/step - loss: 0.1548 - accuracy: 0.9423 - val_loss: 0.1603 - val_accuracy: 0.9400 - lr: 5.0000e-04\n",
      "Epoch 6/20\n",
      "763/763 [==============================] - 863s 1s/step - loss: 0.1310 - accuracy: 0.9530 - val_loss: 0.0937 - val_accuracy: 0.9677 - lr: 2.5000e-04\n",
      "Epoch 7/20\n",
      "763/763 [==============================] - 872s 1s/step - loss: 0.1184 - accuracy: 0.9573 - val_loss: 0.0796 - val_accuracy: 0.9688 - lr: 2.5000e-04\n",
      "Epoch 8/20\n",
      "763/763 [==============================] - ETA: 0s - loss: 0.1128 - accuracy: 0.9596\n",
      "Epoch 8: ReduceLROnPlateau reducing learning rate to 0.0001250000059371814.\n",
      "763/763 [==============================] - 856s 1s/step - loss: 0.1128 - accuracy: 0.9596 - val_loss: 0.0935 - val_accuracy: 0.9656 - lr: 2.5000e-04\n",
      "Epoch 9/20\n",
      "763/763 [==============================] - ETA: 0s - loss: 0.0964 - accuracy: 0.9647\n",
      "Epoch 9: ReduceLROnPlateau reducing learning rate to 6.25000029685907e-05.\n",
      "763/763 [==============================] - 890s 1s/step - loss: 0.0964 - accuracy: 0.9647 - val_loss: 0.1002 - val_accuracy: 0.9642 - lr: 1.2500e-04\n",
      "Epoch 10/20\n",
      "763/763 [==============================] - 869s 1s/step - loss: 0.0859 - accuracy: 0.9689 - val_loss: 0.0689 - val_accuracy: 0.9738 - lr: 6.2500e-05\n",
      "Epoch 11/20\n",
      "763/763 [==============================] - ETA: 0s - loss: 0.0850 - accuracy: 0.9688\n",
      "Epoch 11: ReduceLROnPlateau reducing learning rate to 3.125000148429535e-05.\n",
      "763/763 [==============================] - 868s 1s/step - loss: 0.0850 - accuracy: 0.9688 - val_loss: 0.0702 - val_accuracy: 0.9747 - lr: 6.2500e-05\n",
      "Epoch 12/20\n",
      "763/763 [==============================] - ETA: 0s - loss: 0.0758 - accuracy: 0.9724\n",
      "Epoch 12: ReduceLROnPlateau reducing learning rate to 1.5625000742147677e-05.\n",
      "763/763 [==============================] - 863s 1s/step - loss: 0.0758 - accuracy: 0.9724 - val_loss: 0.0709 - val_accuracy: 0.9741 - lr: 3.1250e-05\n",
      "Epoch 13/20\n",
      "763/763 [==============================] - 870s 1s/step - loss: 0.0732 - accuracy: 0.9726 - val_loss: 0.0607 - val_accuracy: 0.9777 - lr: 1.5625e-05\n",
      "Epoch 14/20\n",
      "763/763 [==============================] - ETA: 0s - loss: 0.0734 - accuracy: 0.9742\n",
      "Epoch 14: ReduceLROnPlateau reducing learning rate to 7.812500371073838e-06.\n",
      "763/763 [==============================] - 861s 1s/step - loss: 0.0734 - accuracy: 0.9742 - val_loss: 0.0612 - val_accuracy: 0.9772 - lr: 1.5625e-05\n",
      "Epoch 15/20\n",
      "763/763 [==============================] - 863s 1s/step - loss: 0.0724 - accuracy: 0.9738 - val_loss: 0.0591 - val_accuracy: 0.9785 - lr: 7.8125e-06\n",
      "Epoch 16/20\n",
      "763/763 [==============================] - 874s 1s/step - loss: 0.0695 - accuracy: 0.9748 - val_loss: 0.0586 - val_accuracy: 0.9788 - lr: 7.8125e-06\n",
      "Epoch 17/20\n",
      "763/763 [==============================] - ETA: 0s - loss: 0.0709 - accuracy: 0.9751\n",
      "Epoch 17: ReduceLROnPlateau reducing learning rate to 3.906250185536919e-06.\n",
      "763/763 [==============================] - 863s 1s/step - loss: 0.0709 - accuracy: 0.9751 - val_loss: 0.0614 - val_accuracy: 0.9774 - lr: 7.8125e-06\n",
      "Epoch 18/20\n",
      "763/763 [==============================] - ETA: 0s - loss: 0.0689 - accuracy: 0.9755\n",
      "Epoch 18: ReduceLROnPlateau reducing learning rate to 1.9531250927684596e-06.\n",
      "763/763 [==============================] - 858s 1s/step - loss: 0.0689 - accuracy: 0.9755 - val_loss: 0.0606 - val_accuracy: 0.9777 - lr: 3.9063e-06\n",
      "Epoch 19/20\n",
      "763/763 [==============================] - ETA: 0s - loss: 0.0690 - accuracy: 0.9755Restoring model weights from the end of the best epoch: 16.\n",
      "\n",
      "Epoch 19: ReduceLROnPlateau reducing learning rate to 9.765625463842298e-07.\n",
      "763/763 [==============================] - 866s 1s/step - loss: 0.0690 - accuracy: 0.9755 - val_loss: 0.0607 - val_accuracy: 0.9777 - lr: 1.9531e-06\n",
      "Epoch 19: early stopping\n",
      "--- Starting trial: 4\n",
      "Found 24386 validated image filenames belonging to 2 classes.\n",
      "Found 6096 validated image filenames belonging to 2 classes.\n",
      "Epoch 1/20\n",
      "763/763 [==============================] - 865s 1s/step - loss: 0.3219 - accuracy: 0.8670 - val_loss: 0.2933 - val_accuracy: 0.8840 - lr: 0.0010\n",
      "Epoch 2/20\n",
      "763/763 [==============================] - 868s 1s/step - loss: 0.2466 - accuracy: 0.9045 - val_loss: 0.2607 - val_accuracy: 0.9113 - lr: 0.0010\n",
      "Epoch 3/20\n",
      "763/763 [==============================] - ETA: 0s - loss: 0.2296 - accuracy: 0.9115\n",
      "Epoch 3: ReduceLROnPlateau reducing learning rate to 0.0005000000237487257.\n",
      "763/763 [==============================] - 870s 1s/step - loss: 0.2296 - accuracy: 0.9115 - val_loss: 1.8330 - val_accuracy: 0.7167 - lr: 0.0010\n",
      "Epoch 4/20\n",
      "763/763 [==============================] - 867s 1s/step - loss: 0.2045 - accuracy: 0.9218 - val_loss: 0.2036 - val_accuracy: 0.9281 - lr: 5.0000e-04\n",
      "Epoch 5/20\n",
      "763/763 [==============================] - 872s 1s/step - loss: 0.1794 - accuracy: 0.9332 - val_loss: 0.1518 - val_accuracy: 0.9491 - lr: 5.0000e-04\n",
      "Epoch 6/20\n",
      "763/763 [==============================] - ETA: 0s - loss: 0.1579 - accuracy: 0.9400\n",
      "Epoch 6: ReduceLROnPlateau reducing learning rate to 0.0002500000118743628.\n",
      "763/763 [==============================] - 865s 1s/step - loss: 0.1579 - accuracy: 0.9400 - val_loss: 0.1673 - val_accuracy: 0.9362 - lr: 5.0000e-04\n",
      "Epoch 7/20\n",
      "763/763 [==============================] - 860s 1s/step - loss: 0.1364 - accuracy: 0.9501 - val_loss: 0.1016 - val_accuracy: 0.9662 - lr: 2.5000e-04\n",
      "Epoch 8/20\n",
      "763/763 [==============================] - ETA: 0s - loss: 0.1204 - accuracy: 0.9562\n",
      "Epoch 8: ReduceLROnPlateau reducing learning rate to 0.0001250000059371814.\n",
      "763/763 [==============================] - 863s 1s/step - loss: 0.1204 - accuracy: 0.9562 - val_loss: 0.1734 - val_accuracy: 0.9437 - lr: 2.5000e-04\n",
      "Epoch 9/20\n",
      "763/763 [==============================] - 867s 1s/step - loss: 0.1069 - accuracy: 0.9605 - val_loss: 0.0860 - val_accuracy: 0.9698 - lr: 1.2500e-04\n",
      "Epoch 10/20\n",
      "763/763 [==============================] - ETA: 0s - loss: 0.1008 - accuracy: 0.9632\n",
      "Epoch 10: ReduceLROnPlateau reducing learning rate to 6.25000029685907e-05.\n",
      "763/763 [==============================] - 859s 1s/step - loss: 0.1008 - accuracy: 0.9632 - val_loss: 0.0875 - val_accuracy: 0.9710 - lr: 1.2500e-04\n",
      "Epoch 11/20\n",
      "763/763 [==============================] - ETA: 0s - loss: 0.0892 - accuracy: 0.9679\n",
      "Epoch 11: ReduceLROnPlateau reducing learning rate to 3.125000148429535e-05.\n",
      "763/763 [==============================] - 855s 1s/step - loss: 0.0892 - accuracy: 0.9679 - val_loss: 0.0955 - val_accuracy: 0.9677 - lr: 6.2500e-05\n",
      "Epoch 12/20\n",
      "763/763 [==============================] - ETA: 0s - loss: 0.0835 - accuracy: 0.9702Restoring model weights from the end of the best epoch: 9.\n",
      "\n",
      "Epoch 12: ReduceLROnPlateau reducing learning rate to 1.5625000742147677e-05.\n",
      "763/763 [==============================] - 857s 1s/step - loss: 0.0835 - accuracy: 0.9702 - val_loss: 0.0926 - val_accuracy: 0.9692 - lr: 3.1250e-05\n",
      "Epoch 12: early stopping\n"
     ]
    }
   ],
   "source": [
    "# perform HP tuning and CV on the model on the data\n",
    "Y = train_df['class']\n",
    "trained_models = []\n",
    "\n",
    "# iterate through hyper-parameters\n",
    "for num_units in HP_NUM_UNITS.domain.values:\n",
    "    for dropout_rate in HP_DROPOUT.domain.values:\n",
    "        for optimizer in HP_OPTIMIZER.domain.values:\n",
    "            for learning_rate in HP_L_RATE.domain.values:\n",
    "                # instantiate k folds and hyper-parameters for this iteration\n",
    "                skf = StratifiedKFold(n_splits = K_FOLDS, shuffle = True) \n",
    "                k_i = 0\n",
    "                k_fold_models = []\n",
    "                elapsed_times = []\n",
    "                hparams = {\n",
    "                    HP_NUM_UNITS: num_units,\n",
    "                    HP_DROPOUT: dropout_rate,\n",
    "                    HP_OPTIMIZER: optimizer,\n",
    "                    HP_L_RATE: learning_rate\n",
    "                }\n",
    "                print('HPARAMS:',{h.name: hparams[h] for h in hparams})\n",
    "                \n",
    "                # iterate through k folds\n",
    "                for train_index, val_index in skf.split(np.zeros(len(Y)),Y):\n",
    "                    print('--- Starting trial: %s' % k_i)\n",
    "                    t = time.process_time() # begin timing model\n",
    "                    train_gen, valid_gen = preprocess_images_cv(train_index, val_index) # fetch dataset for this fold\n",
    "                    \n",
    "                    # set up logging directories and callbacks\n",
    "                    logdir = os.path.join('trained-classifiers','logs','fit', get_model_name(k_i))\n",
    "                    hpdir = os.path.join('trained-classifiers','logs','hparam_tuning', get_model_name(k_i))\n",
    "                    modeldir = os.path.join('model-checkpoints',str(get_model_name(k_i)+\".h5\"))\n",
    "                    callbacks = [\n",
    "                        keras.callbacks.ModelCheckpoint(filepath=modeldir, save_best_only=True, verbose = 0),\n",
    "                        keras.callbacks.EarlyStopping(patience=3, monitor='val_loss', verbose=1, restore_best_weights=True),\n",
    "                        keras.callbacks.ReduceLROnPlateau(monitor='val_loss', factor=0.5, patience=1, verbose=1),\n",
    "                        keras.callbacks.TensorBoard(log_dir=logdir)\n",
    "                      ]\n",
    "                    \n",
    "                    # create the model\n",
    "                    hp.hparams(hparams)  \n",
    "                    model = create_model(hparams)\n",
    "                    \n",
    "                    # train model\n",
    "                    model.fit(train_gen, validation_data=valid_gen, epochs=MAX_EPOCHS, callbacks=callbacks)\n",
    "                    \n",
    "                    # record the values used in this trial\n",
    "                    elapsed_times.append(time.process_time() - t)\n",
    "                    k_fold_models.append(modeldir)\n",
    "                    \n",
    "                    # clean memory\n",
    "                    del model, train_gen, valid_gen\n",
    "                    keras.backend.clear_session()\n",
    "                    k_i += 1\n",
    "                    \n",
    "                trained_models.append([hparams, k_fold_models, elapsed_times])"
   ]
  },
  {
   "cell_type": "markdown",
   "id": "7d4d6530",
   "metadata": {
    "id": "7d4d6530"
   },
   "source": [
    "## Evaluation"
   ]
  },
  {
   "cell_type": "code",
   "execution_count": 17,
   "id": "9851f1f7",
   "metadata": {
    "executionInfo": {
     "elapsed": 6,
     "status": "ok",
     "timestamp": 1651631695735,
     "user": {
      "displayName": "Laurence Brown",
      "userId": "02353821870267800674"
     },
     "user_tz": -60
    },
    "id": "9851f1f7"
   },
   "outputs": [],
   "source": [
    "# import libraries for evaluation\n",
    "from sklearn.metrics import accuracy_score, precision_score, recall_score, f1_score, confusion_matrix\n",
    "from statistics import mean"
   ]
  },
  {
   "cell_type": "code",
   "execution_count": 18,
   "id": "69b88b94",
   "metadata": {
    "colab": {
     "base_uri": "https://localhost:8080/"
    },
    "executionInfo": {
     "elapsed": 618610,
     "status": "ok",
     "timestamp": 1651632314339,
     "user": {
      "displayName": "Laurence Brown",
      "userId": "02353821870267800674"
     },
     "user_tz": -60
    },
    "id": "69b88b94",
    "outputId": "c2a45c12-1602-46f8-a22f-1a9e78b83523"
   },
   "outputs": [
    {
     "name": "stdout",
     "output_type": "stream",
     "text": [
      "13/13 [==============================] - 25s 2s/step - loss: 0.1534 - accuracy: 0.9400\n",
      "13/13 [==============================] - 23s 2s/step - loss: 0.1489 - accuracy: 0.9325\n",
      "13/13 [==============================] - 23s 2s/step - loss: 0.0497 - accuracy: 0.9875\n",
      "13/13 [==============================] - 23s 2s/step - loss: 0.0723 - accuracy: 0.9775\n",
      "13/13 [==============================] - 23s 2s/step - loss: 0.0812 - accuracy: 0.9750\n",
      "SCORE FOR HPARAMS: {'num_units': 128, 'dropout': 0.1, 'optimizer': 'adam', 'learning_rate': 0.001}\n",
      "Mean accuracy: 0.9625\n",
      "Mean k_accuracy; 0.9625000119209289\n",
      "Mean precision: 0.9740663018653238\n",
      "Mean recall: 0.952\n",
      "Mean f1: 0.9620705510168762\n",
      "Mean training time: 9892.8040630662\n"
     ]
    }
   ],
   "source": [
    "# iterate through hyper-parameter configurations\n",
    "for j in trained_models:\n",
    "    model = create_model(j[0])\n",
    "    accuracies = []\n",
    "    k_accuracies = []\n",
    "    precisions = []\n",
    "    recalls = []\n",
    "    f1s = []\n",
    "    tp = []\n",
    "    fp = []\n",
    "    tn = []\n",
    "    fn = []\n",
    "    \n",
    "    # iterate through each folds model\n",
    "    for i in j[1]:\n",
    "        model.load_weights(i)\n",
    "        test_pred = model.predict(test_gen)\n",
    "        y_pred = np.rint(test_pred).flatten()\n",
    "        y_test= [test_gen.class_indices[k] for k in test_df['class'].values.tolist()]\n",
    "        k_accuracies.append(model.evaluate(test_gen)[1])\n",
    "        accuracies.append(accuracy_score(y_test, y_pred))\n",
    "        precisions.append(precision_score(y_test, y_pred, zero_division=0))\n",
    "        recalls.append(recall_score(y_test, y_pred))\n",
    "        f1s.append(f1_score(y_test, y_pred))\n",
    "        tn_x, fp_x, fn_x, tp_x = confusion_matrix(y_test, y_pred).ravel()\n",
    "        tp.append(tp_x)\n",
    "        fp.append(fp_x)\n",
    "        tn.append(tn_x)\n",
    "        fn.append(fn_x)\n",
    "\n",
    "    print(\"SCORE FOR HPARAMS:\", {h.name: j[0][h] for h in j[0]})\n",
    "    print(\"Mean accuracy:\", mean(accuracies))\n",
    "    print(\"Mean k_accuracy;\", mean(k_accuracies))\n",
    "    print(\"Mean precision:\", mean(precisions))\n",
    "    print(\"Mean recall:\", mean(recalls))\n",
    "    print(\"Mean f1:\", mean(f1s))\n",
    "    print(\"Mean training time:\", mean(j[2]))\n",
    "    \n",
    "    # retreive hyper-parameters\n",
    "    hdict = {h.name: j[0][h] for h in j[0]}\n",
    "    \n",
    "    # save results to file\n",
    "    df =  pd.DataFrame(np.array([[str(j[1]),\n",
    "                                  hdict.get('num_units'), hdict.get('dropout'), hdict.get('optimizer'), \n",
    "                                  hdict.get('learning_rate'),IMAGE_SIZE, BATCH_SIZE, DATASET_SIZE, MAX_EPOCHS, K_FOLDS,\n",
    "                                  mean(accuracies), mean(k_accuracies), mean(precisions), mean(recalls), mean(f1s),\n",
    "                                  mean(tn), mean(fp), mean(fn), mean(tp), mean(j[2])\n",
    "                                 ]]),\n",
    "                       columns=['Model Names','num_units', 'dropout','optimizer','learning_rate',\n",
    "                                'IMAGE_SIZE', 'BATCH_SIZE', 'DATASET_SIZE', 'MAX_EPOCHS',\n",
    "                                'K_FOLDS','Accuracy', 'K_accuracy', 'Precision', 'Recall', 'f1 Score', \n",
    "                                'True Negatives', ' False Positives', 'False Negatives', 'True Positives', 'Training Time'])\n",
    "    with open('trained-classifiers/Xception.csv', 'a') as f:\n",
    "        df.to_csv(f, mode='a', header=f.tell()==0, index = False)"
   ]
  },
  {
   "cell_type": "markdown",
   "id": "96f74fbe",
   "metadata": {
    "id": "96f74fbe"
   },
   "source": [
    "NOTE: Accuracy and loss graphs can be seen on TensorBoard, run \"%tensorboard --logdir logs --host 0.0.0.0\" to open"
   ]
  }
 ],
 "metadata": {
  "accelerator": "GPU",
  "colab": {
   "collapsed_sections": [],
   "name": "FINAL Large Xception-Binary-Hparams-No-Weights.ipynb",
   "provenance": [
    {
     "file_id": "1BMIWsu73Pab8Vf5agnzl42jsHkGYE0Rb",
     "timestamp": 1651491562724
    },
    {
     "file_id": "11r3f-qnUzKIE9bcitoUoSNfognYvm6mH",
     "timestamp": 1651487560509
    },
    {
     "file_id": "https://github.com/laurencebrwn/ml-covid19-eval/blob/main/Xception-Binary-Hparams.ipynb",
     "timestamp": 1649284749785
    }
   ]
  },
  "environment": {
   "kernel": "python3",
   "name": "managed-notebooks.m90",
   "type": "gcloud",
   "uri": "gcr.io/deeplearning-platform-release/managed-notebooks:m90"
  },
  "kernelspec": {
   "display_name": "Python 3 (ipykernel)",
   "language": "python",
   "name": "python3"
  },
  "language_info": {
   "codemirror_mode": {
    "name": "ipython",
    "version": 3
   },
   "file_extension": ".py",
   "mimetype": "text/x-python",
   "name": "python",
   "nbconvert_exporter": "python",
   "pygments_lexer": "ipython3",
   "version": "3.7.9"
  }
 },
 "nbformat": 4,
 "nbformat_minor": 5
}
