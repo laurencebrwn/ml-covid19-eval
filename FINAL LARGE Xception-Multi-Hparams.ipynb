{
 "cells": [
  {
   "cell_type": "markdown",
   "id": "8e0ccce8",
   "metadata": {
    "id": "8e0ccce8",
    "tags": []
   },
   "source": [
    "## Model Variables"
   ]
  },
  {
   "cell_type": "code",
   "execution_count": 61,
   "id": "68fe9ea2",
   "metadata": {
    "executionInfo": {
     "elapsed": 11,
     "status": "ok",
     "timestamp": 1650555594529,
     "user": {
      "displayName": "Laurence Brown",
      "userId": "02353821870267800674"
     },
     "user_tz": -60
    },
    "id": "68fe9ea2"
   },
   "outputs": [],
   "source": [
    "IMAGE_SIZE = 224\n",
    "BATCH_SIZE = 32\n",
    "DATASET_SIZE = 30482\n",
    "MAX_EPOCHS = 20\n",
    "K_FOLDS = 5\n",
    "DATASET_PATH = 'covidx-cxr2'"
   ]
  },
  {
   "cell_type": "markdown",
   "id": "69bfede4",
   "metadata": {
    "id": "69bfede4"
   },
   "source": [
    "## Data Preparation"
   ]
  },
  {
   "cell_type": "code",
   "execution_count": 62,
   "id": "b2c6945d",
   "metadata": {
    "colab": {
     "base_uri": "https://localhost:8080/"
    },
    "executionInfo": {
     "elapsed": 10,
     "status": "ok",
     "timestamp": 1650555594529,
     "user": {
      "displayName": "Laurence Brown",
      "userId": "02353821870267800674"
     },
     "user_tz": -60
    },
    "id": "b2c6945d",
    "outputId": "8d95c399-90d6-4d0f-da87-519ea781bb1e"
   },
   "outputs": [
    {
     "name": "stdout",
     "output_type": "stream",
     "text": [
      "Tensorflow Version: 2.8.0\n",
      "Tensorboard Version: 2.8.0\n",
      "GPU Found: True\n"
     ]
    }
   ],
   "source": [
    "# import required libraries\n",
    "import numpy as np\n",
    "import pandas as pd\n",
    "import os\n",
    "import tensorflow as tf\n",
    "from tensorflow.keras.preprocessing.image import ImageDataGenerator\n",
    "import shutil\n",
    "from sklearn.metrics import confusion_matrix, classification_report\n",
    "from datetime import datetime\n",
    "from packaging import version\n",
    "%reload_ext tensorboard\n",
    "import tensorboard\n",
    "from sklearn.model_selection import StratifiedKFold\n",
    "from tensorboard.plugins.hparams import api as hp\n",
    "import time\n",
    "\n",
    "print(\"Tensorflow Version:\", tf.__version__)\n",
    "print(\"Tensorboard Version:\", tensorboard.__version__)\n",
    "print(\"GPU Found:\", tf.test.is_gpu_available())"
   ]
  },
  {
   "cell_type": "code",
   "execution_count": 63,
   "id": "55a26665",
   "metadata": {
    "executionInfo": {
     "elapsed": 10,
     "status": "ok",
     "timestamp": 1650555594529,
     "user": {
      "displayName": "Laurence Brown",
      "userId": "02353821870267800674"
     },
     "user_tz": -60
    },
    "id": "55a26665"
   },
   "outputs": [],
   "source": [
    "# set up hyper-parameters\n",
    "HP_NUM_UNITS = hp.HParam('num_units', hp.Discrete([128]))\n",
    "HP_DROPOUT = hp.HParam('dropout', hp.Discrete([0.1]))\n",
    "HP_OPTIMIZER = hp.HParam('optimizer', hp.Discrete(['adam']))\n",
    "HP_L_RATE= hp.HParam('learning_rate', hp.Discrete([0.001]))\n",
    "\n",
    "METRIC_ACCURACY = 'accuracy'\n",
    "\n",
    "with tf.summary.create_file_writer('trained-classifiers/logs/hparam_tuning').as_default():\n",
    "    hp.hparams_config(\n",
    "        hparams=[HP_NUM_UNITS, HP_DROPOUT, HP_OPTIMIZER, HP_L_RATE],\n",
    "        metrics=[hp.Metric(METRIC_ACCURACY, display_name='Accuracy')],\n",
    "    )"
   ]
  },
  {
   "cell_type": "code",
   "execution_count": 64,
   "id": "5197d1f5",
   "metadata": {
    "executionInfo": {
     "elapsed": 10,
     "status": "ok",
     "timestamp": 1650555594530,
     "user": {
      "displayName": "Laurence Brown",
      "userId": "02353821870267800674"
     },
     "user_tz": -60
    },
    "id": "5197d1f5"
   },
   "outputs": [],
   "source": [
    "# read in train data\n",
    "train_df = pd.read_csv(DATASET_PATH+'/train_COVIDx9A.txt', \n",
    "                       sep=\" \", header=None)\n",
    "# add columns to go from 0, 1, 2, 3 to patient id, filename, class etc\n",
    "train_df.columns=['patient id', 'filename', 'class', 'data source']\n",
    "# drop patient id and datasource as not needed\n",
    "train_df=train_df.drop(['patient id', 'data source'], axis=1 )\n",
    "\n",
    "# read in test data\n",
    "test_df = pd.read_csv(DATASET_PATH+'/test_COVIDx9A.txt', \n",
    "                      sep=\" \", header=None)\n",
    "# add columns to go from 0, 1, 2, 3 to patient id, filename, class etc\n",
    "test_df.columns=['patient id', 'filename', 'class', 'data source']\n",
    "# drop patient id and datasource as not needed\n",
    "test_df=test_df.drop(['patient id', 'data source'], axis=1 )"
   ]
  },
  {
   "cell_type": "code",
   "execution_count": 65,
   "id": "fe14addd",
   "metadata": {
    "colab": {
     "base_uri": "https://localhost:8080/"
    },
    "executionInfo": {
     "elapsed": 10,
     "status": "ok",
     "timestamp": 1650555594530,
     "user": {
      "displayName": "Laurence Brown",
      "userId": "02353821870267800674"
     },
     "user_tz": -60
    },
    "id": "fe14addd",
    "outputId": "3c488809-603c-47ff-98a4-6d33441fe253"
   },
   "outputs": [
    {
     "name": "stdout",
     "output_type": "stream",
     "text": [
      "Train class counts:\n",
      "COVID-19     15547\n",
      "normal        8085\n",
      "pneumonia     5555\n",
      "positive       943\n",
      "Name: class, dtype: int64\n",
      "\n",
      "Test class counts:\n",
      "COVID-19     200\n",
      "normal       100\n",
      "pneumonia    100\n",
      "Name: class, dtype: int64\n"
     ]
    }
   ],
   "source": [
    "print(\"Train class counts:\")\n",
    "print(train_df['class'].value_counts())\n",
    "print(\"\\nTest class counts:\")\n",
    "print(test_df['class'].value_counts())"
   ]
  },
  {
   "cell_type": "code",
   "execution_count": 66,
   "id": "e42bf5ec",
   "metadata": {
    "colab": {
     "base_uri": "https://localhost:8080/"
    },
    "executionInfo": {
     "elapsed": 10,
     "status": "ok",
     "timestamp": 1650555594531,
     "user": {
      "displayName": "Laurence Brown",
      "userId": "02353821870267800674"
     },
     "user_tz": -60
    },
    "id": "e42bf5ec",
    "outputId": "15065c89-e43e-4b8d-b506-980a98e2b9c2"
   },
   "outputs": [
    {
     "name": "stdout",
     "output_type": "stream",
     "text": [
      "Train class counts:\n",
      "pneumonia    10160\n",
      "COVID-19     10160\n",
      "normal       10160\n",
      "Name: class, dtype: int64\n"
     ]
    }
   ],
   "source": [
    "normal  = train_df[train_df['class']=='normal']   # normal values in class column\n",
    "pneumonia = train_df[train_df['class']=='pneumonia']  # pneumonia values in class column\n",
    "COVID19 = train_df[train_df['class']=='COVID-19']  # COVID-19 values in class column\n",
    "\n",
    "from sklearn.utils import resample\n",
    "# downsample training data to equal values of each class, to reduce class bias and reduce training time\n",
    "\n",
    "df_normal_downsampled = resample(normal, replace = True, n_samples = DATASET_SIZE//3) \n",
    "df_pneumonia_downsampled = resample(pneumonia, replace = True, n_samples = DATASET_SIZE//3) \n",
    "df_COVID19_downsampled = resample(COVID19, replace = True, n_samples = DATASET_SIZE//3) \n",
    "\n",
    "#concatenate\n",
    "train_df = pd.concat([df_normal_downsampled, df_pneumonia_downsampled, df_COVID19_downsampled])\n",
    "\n",
    "from sklearn.utils import shuffle\n",
    "train_df = shuffle(train_df) # shuffling so that there is particular sequence\n",
    "print(\"Train class counts:\")\n",
    "print(train_df['class'].value_counts())"
   ]
  },
  {
   "cell_type": "code",
   "execution_count": 67,
   "id": "7caf2941",
   "metadata": {
    "colab": {
     "base_uri": "https://localhost:8080/"
    },
    "executionInfo": {
     "elapsed": 9,
     "status": "ok",
     "timestamp": 1650555594531,
     "user": {
      "displayName": "Laurence Brown",
      "userId": "02353821870267800674"
     },
     "user_tz": -60
    },
    "id": "7caf2941",
    "outputId": "670718bd-bafa-46bd-b884-d6e10dfae135",
    "scrolled": true
   },
   "outputs": [
    {
     "name": "stdout",
     "output_type": "stream",
     "text": [
      "Train class counts:\n",
      "pneumonia    10160\n",
      "COVID-19     10160\n",
      "normal       10160\n",
      "Name: class, dtype: int64\n",
      "\n",
      "Test class counts:\n",
      "COVID-19     200\n",
      "normal       100\n",
      "pneumonia    100\n",
      "Name: class, dtype: int64\n"
     ]
    }
   ],
   "source": [
    "print(\"Train class counts:\")\n",
    "print(train_df['class'].value_counts())\n",
    "print(\"\\nTest class counts:\")\n",
    "print(test_df['class'].value_counts())"
   ]
  },
  {
   "cell_type": "code",
   "execution_count": 68,
   "id": "4a7105a4",
   "metadata": {
    "colab": {
     "base_uri": "https://localhost:8080/"
    },
    "executionInfo": {
     "elapsed": 9,
     "status": "ok",
     "timestamp": 1650555594532,
     "user": {
      "displayName": "Laurence Brown",
      "userId": "02353821870267800674"
     },
     "user_tz": -60
    },
    "id": "4a7105a4",
    "outputId": "5a11d4da-6148-4193-b199-65ee203361ea"
   },
   "outputs": [
    {
     "name": "stdout",
     "output_type": "stream",
     "text": [
      "Found 400 validated image filenames belonging to 3 classes.\n"
     ]
    }
   ],
   "source": [
    "# preprocess images\n",
    "test_datagen = ImageDataGenerator(preprocessing_function=tf.keras.applications.xception.preprocess_input)\n",
    "\n",
    "test_gen = test_datagen.flow_from_dataframe(dataframe = test_df, directory=DATASET_PATH+'/test\", x_col='filename', \n",
    "                                            y_col='class', target_size=(IMAGE_SIZE, IMAGE_SIZE), batch_size=BATCH_SIZE, \n",
    "                                            color_mode='rgb', class_mode='categorical', shuffle=False)"
   ]
  },
  {
   "cell_type": "code",
   "execution_count": 69,
   "id": "dc520d7a",
   "metadata": {
    "executionInfo": {
     "elapsed": 8,
     "status": "ok",
     "timestamp": 1650555594532,
     "user": {
      "displayName": "Laurence Brown",
      "userId": "02353821870267800674"
     },
     "user_tz": -60
    },
    "id": "dc520d7a"
   },
   "outputs": [],
   "source": [
    "def preprocess_images_cv(train_index, val_index):\n",
    "    # find the section of the training data that the fold is located\n",
    "    training_data = train_df.iloc[train_index]\n",
    "    validation_data = train_df.iloc[val_index]\n",
    "    train_datagen = ImageDataGenerator(preprocessing_function=tf.keras.applications.xception.preprocess_input,\n",
    "                                       rotation_range = 20, width_shift_range = 0.2, height_shift_range = 0.2, \n",
    "                                       shear_range = 0.2, zoom_range = 0.1, horizontal_flip = True)\n",
    "\n",
    "    # now get the images from directory with augmentation\n",
    "\n",
    "    train_gen = train_datagen.flow_from_dataframe(dataframe = training_data, directory=DATASET_PATH+'/train\", x_col='filename', \n",
    "                                                  y_col='class', target_size=(IMAGE_SIZE, IMAGE_SIZE), batch_size=BATCH_SIZE, \n",
    "                                                  color_mode='rgb', class_mode='categorical')\n",
    "    valid_gen = test_datagen.flow_from_dataframe(dataframe = validation_data, directory=DATASET_PATH+'/train\", x_col='filename',\n",
    "                                                 y_col='class', target_size=(IMAGE_SIZE, IMAGE_SIZE), batch_size=BATCH_SIZE, \n",
    "                                                 color_mode='rgb', class_mode='categorical')\n",
    "    return train_gen, valid_gen"
   ]
  },
  {
   "cell_type": "markdown",
   "id": "4174e3f4",
   "metadata": {
    "id": "4174e3f4"
   },
   "source": [
    "## Xception"
   ]
  },
  {
   "cell_type": "code",
   "execution_count": 70,
   "id": "96ce3019",
   "metadata": {
    "executionInfo": {
     "elapsed": 7,
     "status": "ok",
     "timestamp": 1650555594532,
     "user": {
      "displayName": "Laurence Brown",
      "userId": "02353821870267800674"
     },
     "user_tz": -60
    },
    "id": "96ce3019"
   },
   "outputs": [],
   "source": [
    "# required libraries for Xception\n",
    "from tensorflow import keras\n",
    "from tensorflow.keras.optimizers import Adam"
   ]
  },
  {
   "cell_type": "code",
   "execution_count": 71,
   "id": "836aa1a9",
   "metadata": {
    "executionInfo": {
     "elapsed": 8,
     "status": "ok",
     "timestamp": 1650555594533,
     "user": {
      "displayName": "Laurence Brown",
      "userId": "02353821870267800674"
     },
     "user_tz": -60
    },
    "id": "836aa1a9"
   },
   "outputs": [],
   "source": [
    "def create_model(hparams):\n",
    "    # create the base pre-trained model\n",
    "    base_model = keras.applications.Xception(weights='imagenet', input_shape = (IMAGE_SIZE,IMAGE_SIZE,3),\n",
    "                                                  include_top=False)\n",
    " \n",
    "    # add some minor imtpovements to prevent overfitting and add output layer\n",
    "    model = keras.Sequential([ base_model, \n",
    "                                 keras.layers.GlobalAveragePooling2D(), \n",
    "                                 keras.layers.Dense(hparams[HP_NUM_UNITS], activation='relu'),\n",
    "                                 keras.layers.BatchNormalization(), \n",
    "                                 keras.layers.Dropout(hparams[HP_DROPOUT]),\n",
    "                                 keras.layers.Dense(3, activation='softmax')\n",
    "                                ])\n",
    "    # compile model\n",
    "    optimizer_name = hparams[HP_OPTIMIZER]\n",
    "    learning_rate = hparams[HP_L_RATE]\n",
    "    if optimizer_name == \"adam\":\n",
    "        optimizer = tf.keras.optimizers.Adam(learning_rate=learning_rate)\n",
    "    elif optimizer_name == \"sgd\":\n",
    "        optimizer = tf.keras.optimizers.SGD(learning_rate=learning_rate)\n",
    "    else:\n",
    "        raise ValueError(\"unexpected optimizer name: %r\" % (optimizer_name,))\n",
    "\n",
    "\n",
    "    model.compile(optimizer = optimizer,\n",
    "                  loss = 'categorical_crossentropy',\n",
    "                  metrics=['accuracy'])\n",
    "    return model"
   ]
  },
  {
   "cell_type": "code",
   "execution_count": 72,
   "id": "b8275562",
   "metadata": {
    "executionInfo": {
     "elapsed": 8,
     "status": "ok",
     "timestamp": 1650555594533,
     "user": {
      "displayName": "Laurence Brown",
      "userId": "02353821870267800674"
     },
     "user_tz": -60
    },
    "id": "b8275562"
   },
   "outputs": [],
   "source": [
    "def get_model_name(k):\n",
    "    return str(\"Xception-Multi-\" + \"Fold-\"+str(k)+\"-\"+datetime.now().strftime(\"%Y%m%d-%H%M%S\"))"
   ]
  },
  {
   "cell_type": "code",
   "execution_count": 73,
   "id": "8faa2fa4",
   "metadata": {
    "colab": {
     "base_uri": "https://localhost:8080/"
    },
    "executionInfo": {
     "elapsed": 32868208,
     "status": "ok",
     "timestamp": 1650588462733,
     "user": {
      "displayName": "Laurence Brown",
      "userId": "02353821870267800674"
     },
     "user_tz": -60
    },
    "id": "8faa2fa4",
    "outputId": "233c4525-f37c-4839-b74c-e9ca760b1d68"
   },
   "outputs": [
    {
     "name": "stdout",
     "output_type": "stream",
     "text": [
      "HPARAMS: {'num_units': 128, 'dropout': 0.1, 'optimizer': 'adam', 'learning_rate': 0.001}\n",
      "--- Starting trial: 0\n",
      "Found 24384 validated image filenames belonging to 3 classes.\n",
      "Found 6096 validated image filenames belonging to 3 classes.\n",
      "Epoch 1/20\n",
      "762/762 [==============================] - 3414s 4s/step - loss: 0.2837 - accuracy: 0.8972 - val_loss: 1.5434 - val_accuracy: 0.6806 - lr: 0.0010\n",
      "Epoch 2/20\n",
      "762/762 [==============================] - 809s 1s/step - loss: 0.1980 - accuracy: 0.9293 - val_loss: 0.2661 - val_accuracy: 0.9081 - lr: 0.0010\n",
      "Epoch 3/20\n",
      "762/762 [==============================] - 806s 1s/step - loss: 0.1724 - accuracy: 0.9410 - val_loss: 0.1676 - val_accuracy: 0.9423 - lr: 0.0010\n",
      "Epoch 4/20\n",
      "762/762 [==============================] - ETA: 0s - loss: 0.1557 - accuracy: 0.9450\n",
      "Epoch 4: ReduceLROnPlateau reducing learning rate to 0.0005000000237487257.\n",
      "762/762 [==============================] - 802s 1s/step - loss: 0.1557 - accuracy: 0.9450 - val_loss: 0.5369 - val_accuracy: 0.8250 - lr: 0.0010\n",
      "Epoch 5/20\n",
      "762/762 [==============================] - ETA: 0s - loss: 0.1126 - accuracy: 0.9612\n",
      "Epoch 5: ReduceLROnPlateau reducing learning rate to 0.0002500000118743628.\n",
      "762/762 [==============================] - 802s 1s/step - loss: 0.1126 - accuracy: 0.9612 - val_loss: 0.4783 - val_accuracy: 0.8315 - lr: 5.0000e-04\n",
      "Epoch 6/20\n",
      "762/762 [==============================] - ETA: 0s - loss: 0.0833 - accuracy: 0.9708Restoring model weights from the end of the best epoch: 3.\n",
      "\n",
      "Epoch 6: ReduceLROnPlateau reducing learning rate to 0.0001250000059371814.\n",
      "762/762 [==============================] - 804s 1s/step - loss: 0.0833 - accuracy: 0.9708 - val_loss: 0.4649 - val_accuracy: 0.8301 - lr: 2.5000e-04\n",
      "Epoch 6: early stopping\n",
      "--- Starting trial: 1\n",
      "Found 24384 validated image filenames belonging to 3 classes.\n",
      "Found 6096 validated image filenames belonging to 3 classes.\n",
      "Epoch 1/20\n",
      "762/762 [==============================] - 810s 1s/step - loss: 0.2834 - accuracy: 0.8983 - val_loss: 0.2560 - val_accuracy: 0.9094 - lr: 0.0010\n",
      "Epoch 2/20\n",
      "762/762 [==============================] - ETA: 0s - loss: 0.1920 - accuracy: 0.9322\n",
      "Epoch 2: ReduceLROnPlateau reducing learning rate to 0.0005000000237487257.\n",
      "762/762 [==============================] - 858s 1s/step - loss: 0.1920 - accuracy: 0.9322 - val_loss: 1.1530 - val_accuracy: 0.6985 - lr: 0.0010\n",
      "Epoch 3/20\n",
      "762/762 [==============================] - 812s 1s/step - loss: 0.1319 - accuracy: 0.9532 - val_loss: 0.2274 - val_accuracy: 0.9234 - lr: 5.0000e-04\n",
      "Epoch 4/20\n",
      "762/762 [==============================] - ETA: 0s - loss: 0.1226 - accuracy: 0.9561\n",
      "Epoch 4: ReduceLROnPlateau reducing learning rate to 0.0002500000118743628.\n",
      "762/762 [==============================] - 816s 1s/step - loss: 0.1226 - accuracy: 0.9561 - val_loss: 0.4252 - val_accuracy: 0.8261 - lr: 5.0000e-04\n",
      "Epoch 5/20\n",
      "762/762 [==============================] - 823s 1s/step - loss: 0.0902 - accuracy: 0.9681 - val_loss: 0.1544 - val_accuracy: 0.9447 - lr: 2.5000e-04\n",
      "Epoch 6/20\n",
      "762/762 [==============================] - 825s 1s/step - loss: 0.0779 - accuracy: 0.9734 - val_loss: 0.1176 - val_accuracy: 0.9554 - lr: 2.5000e-04\n",
      "Epoch 7/20\n",
      "762/762 [==============================] - ETA: 0s - loss: 0.0747 - accuracy: 0.9739\n",
      "Epoch 7: ReduceLROnPlateau reducing learning rate to 0.0001250000059371814.\n",
      "762/762 [==============================] - 812s 1s/step - loss: 0.0747 - accuracy: 0.9739 - val_loss: 0.2521 - val_accuracy: 0.9101 - lr: 2.5000e-04\n",
      "Epoch 8/20\n",
      "762/762 [==============================] - ETA: 0s - loss: 0.0455 - accuracy: 0.9841\n",
      "Epoch 8: ReduceLROnPlateau reducing learning rate to 6.25000029685907e-05.\n",
      "762/762 [==============================] - 812s 1s/step - loss: 0.0455 - accuracy: 0.9841 - val_loss: 0.2062 - val_accuracy: 0.9326 - lr: 1.2500e-04\n",
      "Epoch 9/20\n",
      "762/762 [==============================] - ETA: 0s - loss: 0.0336 - accuracy: 0.9882Restoring model weights from the end of the best epoch: 6.\n",
      "\n",
      "Epoch 9: ReduceLROnPlateau reducing learning rate to 3.125000148429535e-05.\n",
      "762/762 [==============================] - 819s 1s/step - loss: 0.0336 - accuracy: 0.9882 - val_loss: 0.2666 - val_accuracy: 0.9154 - lr: 6.2500e-05\n",
      "Epoch 9: early stopping\n",
      "--- Starting trial: 2\n",
      "Found 24384 validated image filenames belonging to 3 classes.\n",
      "Found 6096 validated image filenames belonging to 3 classes.\n",
      "Epoch 1/20\n",
      "762/762 [==============================] - 817s 1s/step - loss: 0.2823 - accuracy: 0.8978 - val_loss: 0.3392 - val_accuracy: 0.8898 - lr: 0.0010\n",
      "Epoch 2/20\n",
      "762/762 [==============================] - 869s 1s/step - loss: 0.1923 - accuracy: 0.9318 - val_loss: 0.2938 - val_accuracy: 0.8950 - lr: 0.0010\n",
      "Epoch 3/20\n",
      "762/762 [==============================] - ETA: 0s - loss: 0.1708 - accuracy: 0.9402\n",
      "Epoch 3: ReduceLROnPlateau reducing learning rate to 0.0005000000237487257.\n",
      "762/762 [==============================] - 813s 1s/step - loss: 0.1708 - accuracy: 0.9402 - val_loss: 0.4725 - val_accuracy: 0.8374 - lr: 0.0010\n",
      "Epoch 4/20\n",
      "762/762 [==============================] - 824s 1s/step - loss: 0.1226 - accuracy: 0.9580 - val_loss: 0.1577 - val_accuracy: 0.9441 - lr: 5.0000e-04\n",
      "Epoch 5/20\n",
      "762/762 [==============================] - 825s 1s/step - loss: 0.1119 - accuracy: 0.9598 - val_loss: 0.1495 - val_accuracy: 0.9544 - lr: 5.0000e-04\n",
      "Epoch 6/20\n",
      "762/762 [==============================] - ETA: 0s - loss: 0.1017 - accuracy: 0.9652\n",
      "Epoch 6: ReduceLROnPlateau reducing learning rate to 0.0002500000118743628.\n",
      "762/762 [==============================] - 818s 1s/step - loss: 0.1017 - accuracy: 0.9652 - val_loss: 0.3550 - val_accuracy: 0.8766 - lr: 5.0000e-04\n",
      "Epoch 7/20\n",
      "762/762 [==============================] - ETA: 0s - loss: 0.0756 - accuracy: 0.9743\n",
      "Epoch 7: ReduceLROnPlateau reducing learning rate to 0.0001250000059371814.\n",
      "762/762 [==============================] - 813s 1s/step - loss: 0.0756 - accuracy: 0.9743 - val_loss: 0.2148 - val_accuracy: 0.9227 - lr: 2.5000e-04\n",
      "Epoch 8/20\n",
      "762/762 [==============================] - ETA: 0s - loss: 0.0540 - accuracy: 0.9813Restoring model weights from the end of the best epoch: 5.\n",
      "\n",
      "Epoch 8: ReduceLROnPlateau reducing learning rate to 6.25000029685907e-05.\n",
      "762/762 [==============================] - 804s 1s/step - loss: 0.0540 - accuracy: 0.9813 - val_loss: 0.3255 - val_accuracy: 0.8911 - lr: 1.2500e-04\n",
      "Epoch 8: early stopping\n",
      "--- Starting trial: 3\n",
      "Found 24384 validated image filenames belonging to 3 classes.\n",
      "Found 6096 validated image filenames belonging to 3 classes.\n",
      "Epoch 1/20\n",
      "762/762 [==============================] - 814s 1s/step - loss: 0.2741 - accuracy: 0.8994 - val_loss: 0.7263 - val_accuracy: 0.8189 - lr: 0.0010\n",
      "Epoch 2/20\n",
      "762/762 [==============================] - 817s 1s/step - loss: 0.1894 - accuracy: 0.9336 - val_loss: 0.2226 - val_accuracy: 0.9288 - lr: 0.0010\n",
      "Epoch 3/20\n",
      "762/762 [==============================] - ETA: 0s - loss: 0.1719 - accuracy: 0.9389\n",
      "Epoch 3: ReduceLROnPlateau reducing learning rate to 0.0005000000237487257.\n",
      "762/762 [==============================] - 805s 1s/step - loss: 0.1719 - accuracy: 0.9389 - val_loss: 0.2820 - val_accuracy: 0.8801 - lr: 0.0010\n",
      "Epoch 4/20\n",
      "762/762 [==============================] - ETA: 0s - loss: 0.1259 - accuracy: 0.9557\n",
      "Epoch 4: ReduceLROnPlateau reducing learning rate to 0.0002500000118743628.\n",
      "762/762 [==============================] - 802s 1s/step - loss: 0.1259 - accuracy: 0.9557 - val_loss: 0.8226 - val_accuracy: 0.7160 - lr: 5.0000e-04\n",
      "Epoch 5/20\n",
      "762/762 [==============================] - ETA: 0s - loss: 0.0894 - accuracy: 0.9678Restoring model weights from the end of the best epoch: 2.\n",
      "\n",
      "Epoch 5: ReduceLROnPlateau reducing learning rate to 0.0001250000059371814.\n",
      "762/762 [==============================] - 804s 1s/step - loss: 0.0894 - accuracy: 0.9678 - val_loss: 0.2248 - val_accuracy: 0.9268 - lr: 2.5000e-04\n",
      "Epoch 5: early stopping\n",
      "--- Starting trial: 4\n",
      "Found 24384 validated image filenames belonging to 3 classes.\n",
      "Found 6096 validated image filenames belonging to 3 classes.\n",
      "Epoch 1/20\n",
      "762/762 [==============================] - 812s 1s/step - loss: 0.2726 - accuracy: 0.9022 - val_loss: 0.7679 - val_accuracy: 0.7444 - lr: 0.0010\n",
      "Epoch 2/20\n",
      "762/762 [==============================] - 814s 1s/step - loss: 0.1916 - accuracy: 0.9334 - val_loss: 0.3158 - val_accuracy: 0.8912 - lr: 0.0010\n",
      "Epoch 3/20\n",
      "762/762 [==============================] - ETA: 0s - loss: 0.1664 - accuracy: 0.9402\n",
      "Epoch 3: ReduceLROnPlateau reducing learning rate to 0.0005000000237487257.\n",
      "762/762 [==============================] - 809s 1s/step - loss: 0.1664 - accuracy: 0.9402 - val_loss: 0.3679 - val_accuracy: 0.8801 - lr: 0.0010\n",
      "Epoch 4/20\n",
      "762/762 [==============================] - ETA: 0s - loss: 0.1240 - accuracy: 0.9573\n",
      "Epoch 4: ReduceLROnPlateau reducing learning rate to 0.0002500000118743628.\n",
      "762/762 [==============================] - 807s 1s/step - loss: 0.1240 - accuracy: 0.9573 - val_loss: 0.6164 - val_accuracy: 0.7833 - lr: 5.0000e-04\n",
      "Epoch 5/20\n",
      "762/762 [==============================] - 814s 1s/step - loss: 0.0874 - accuracy: 0.9698 - val_loss: 0.3071 - val_accuracy: 0.8944 - lr: 2.5000e-04\n",
      "Epoch 6/20\n",
      "762/762 [==============================] - 819s 1s/step - loss: 0.0816 - accuracy: 0.9727 - val_loss: 0.1566 - val_accuracy: 0.9519 - lr: 2.5000e-04\n",
      "Epoch 7/20\n",
      "762/762 [==============================] - ETA: 0s - loss: 0.0713 - accuracy: 0.9738\n",
      "Epoch 7: ReduceLROnPlateau reducing learning rate to 0.0001250000059371814.\n",
      "762/762 [==============================] - 810s 1s/step - loss: 0.0713 - accuracy: 0.9738 - val_loss: 0.3463 - val_accuracy: 0.8973 - lr: 2.5000e-04\n",
      "Epoch 8/20\n",
      "762/762 [==============================] - ETA: 0s - loss: 0.0522 - accuracy: 0.9829\n",
      "Epoch 8: ReduceLROnPlateau reducing learning rate to 6.25000029685907e-05.\n",
      "762/762 [==============================] - 809s 1s/step - loss: 0.0522 - accuracy: 0.9829 - val_loss: 0.1979 - val_accuracy: 0.9336 - lr: 1.2500e-04\n",
      "Epoch 9/20\n",
      "762/762 [==============================] - ETA: 0s - loss: 0.0385 - accuracy: 0.9871Restoring model weights from the end of the best epoch: 6.\n",
      "\n",
      "Epoch 9: ReduceLROnPlateau reducing learning rate to 3.125000148429535e-05.\n",
      "762/762 [==============================] - 810s 1s/step - loss: 0.0385 - accuracy: 0.9871 - val_loss: 0.1752 - val_accuracy: 0.9421 - lr: 6.2500e-05\n",
      "Epoch 9: early stopping\n"
     ]
    }
   ],
   "source": [
    "# perform HP tuning and CV on the model on the data\n",
    "Y = train_df['class']\n",
    "trained_models = []\n",
    "\n",
    "# iterate through hyper-parameters\n",
    "for num_units in HP_NUM_UNITS.domain.values:\n",
    "    for dropout_rate in HP_DROPOUT.domain.values:\n",
    "        for optimizer in HP_OPTIMIZER.domain.values:\n",
    "            for learning_rate in HP_L_RATE.domain.values:\n",
    "                # instantiate k folds and hyper-parameters for this iteration\n",
    "                skf = StratifiedKFold(n_splits = K_FOLDS, shuffle = True) \n",
    "                k_i = 0\n",
    "                k_fold_models = []\n",
    "                elapsed_times = []\n",
    "                hparams = {\n",
    "                    HP_NUM_UNITS: num_units,\n",
    "                    HP_DROPOUT: dropout_rate,\n",
    "                    HP_OPTIMIZER: optimizer,\n",
    "                    HP_L_RATE: learning_rate\n",
    "                }\n",
    "                print('HPARAMS:',{h.name: hparams[h] for h in hparams})\n",
    "                \n",
    "                # iterate through k folds\n",
    "                for train_index, val_index in skf.split(np.zeros(len(Y)),Y):\n",
    "                    print('--- Starting trial: %s' % k_i)\n",
    "                    t = time.process_time() # begin timing model\n",
    "                    train_gen, valid_gen = preprocess_images_cv(train_index, val_index) # fetch dataset for this fold\n",
    "                    \n",
    "                    # set up logging directories and callbacks\n",
    "                    logdir = os.path.join('trained-classifiers','logs','fit', get_model_name(k_i))\n",
    "                    hpdir = os.path.join('trained-classifiers','logs','hparam_tuning', get_model_name(k_i))\n",
    "                    modeldir = os.path.join('model-checkpoints',str(get_model_name(k_i)+\".h5\"))\n",
    "                    callbacks = [\n",
    "                        keras.callbacks.ModelCheckpoint(filepath=modeldir, save_best_only=True, verbose = 0),\n",
    "                        keras.callbacks.EarlyStopping(patience=3, monitor='val_loss', verbose=1, restore_best_weights=True),\n",
    "                        keras.callbacks.ReduceLROnPlateau(monitor='val_loss', factor=0.5, patience=1, verbose=1),\n",
    "                        keras.callbacks.TensorBoard(log_dir=logdir)\n",
    "                      ]\n",
    "                    \n",
    "                    # create the model\n",
    "                    hp.hparams(hparams)  \n",
    "                    model = create_model(hparams)\n",
    "                    \n",
    "                    # train model\n",
    "                    model.fit(train_gen, validation_data=valid_gen, epochs=MAX_EPOCHS, callbacks=callbacks)\n",
    "                    \n",
    "                    # record the values used in this trial\n",
    "                    elapsed_times.append(time.process_time() - t)\n",
    "                    k_fold_models.append(modeldir)\n",
    "                    \n",
    "                    # clean memory\n",
    "                    del model, train_gen, valid_gen\n",
    "                    keras.backend.clear_session()\n",
    "                    k_i += 1\n",
    "                    \n",
    "                trained_models.append([hparams, k_fold_models, elapsed_times])"
   ]
  },
  {
   "cell_type": "markdown",
   "id": "7d4d6530",
   "metadata": {
    "id": "7d4d6530"
   },
   "source": [
    "## Evaluation"
   ]
  },
  {
   "cell_type": "code",
   "execution_count": 75,
   "id": "9851f1f7",
   "metadata": {
    "executionInfo": {
     "elapsed": 8,
     "status": "ok",
     "timestamp": 1650588462734,
     "user": {
      "displayName": "Laurence Brown",
      "userId": "02353821870267800674"
     },
     "user_tz": -60
    },
    "id": "9851f1f7"
   },
   "outputs": [],
   "source": [
    "# import libraries for evaluation\n",
    "from sklearn.metrics import accuracy_score, precision_score, recall_score, f1_score, confusion_matrix\n",
    "from statistics import mean"
   ]
  },
  {
   "cell_type": "code",
   "execution_count": 76,
   "id": "69b88b94",
   "metadata": {
    "colab": {
     "base_uri": "https://localhost:8080/"
    },
    "executionInfo": {
     "elapsed": 287498,
     "status": "ok",
     "timestamp": 1650588750525,
     "user": {
      "displayName": "Laurence Brown",
      "userId": "02353821870267800674"
     },
     "user_tz": -60
    },
    "id": "69b88b94",
    "outputId": "e1027963-a9bf-42bb-e2dc-cdc921126abc"
   },
   "outputs": [
    {
     "name": "stdout",
     "output_type": "stream",
     "text": [
      "13/13 [==============================] - 20s 1s/step - loss: 0.1163 - accuracy: 0.9725\n",
      "13/13 [==============================] - 19s 1s/step - loss: 0.1246 - accuracy: 0.9675\n",
      "13/13 [==============================] - 19s 1s/step - loss: 0.1789 - accuracy: 0.9100\n",
      "13/13 [==============================] - 19s 1s/step - loss: 0.1662 - accuracy: 0.9475\n",
      "13/13 [==============================] - 19s 1s/step - loss: 0.1093 - accuracy: 0.9675\n",
      "SCORE FOR HPARAMS: {'num_units': 128, 'dropout': 0.1, 'optimizer': 'adam', 'learning_rate': 0.001}\n",
      "Mean accuracy: 0.9530000000000001\n",
      "Mean k_accuracy; 0.9529999971389771\n",
      "Mean precision: 0.9435741997145635\n",
      "Mean recall: 0.946\n",
      "Mean f1: 0.9441183462430239\n",
      "Mean training time: 7972.9221661746005\n"
     ]
    }
   ],
   "source": [
    "# iterate through hyper-parameter configurations\n",
    "for j in trained_models:\n",
    "    model = create_model(j[0])\n",
    "    accuracies = []\n",
    "    k_accuracies = []\n",
    "    precisions = []\n",
    "    recalls = []\n",
    "    f1s = []\n",
    "    tc_c =[]\n",
    "    fc_n =[]\n",
    "    fc_p =[]\n",
    "    fn_c =[]\n",
    "    tn_n =[]\n",
    "    fn_p =[]\n",
    "    fp_c =[]\n",
    "    fp_n =[]\n",
    "    tp_p =[]\n",
    "    \n",
    "    # iterate through each folds model\n",
    "    for i in j[1]:\n",
    "        model.load_weights(i)\n",
    "        test_pred = model.predict(test_gen)\n",
    "        y_pred = np.argmax(test_pred, axis=1)\n",
    "        y_test= [test_gen.class_indices[k] for k in test_df['class'].values.tolist()]\n",
    "        k_accuracies.append(model.evaluate(test_gen)[1])\n",
    "        accuracies.append(accuracy_score(y_test, y_pred))\n",
    "        precisions.append(precision_score(y_test, y_pred, zero_division=0, average='macro'))\n",
    "        recalls.append(recall_score(y_test, y_pred, average='macro'))\n",
    "        f1s.append(f1_score(y_test, y_pred, average='macro'))\n",
    "        xtc_c, xfc_n, xfc_p, xfn_c, xtn_n, xfn_p, xfp_c, xfp_n, xtp_p = confusion_matrix(y_test, y_pred).ravel()\n",
    "        tc_c.append(xtc_c)\n",
    "        fc_n.append(xfc_n)\n",
    "        fc_p.append(xfc_p)\n",
    "        fn_c.append(xfn_c)\n",
    "        tn_n.append(xtn_n)\n",
    "        fn_p.append(xfn_p)\n",
    "        fp_c.append(xfp_c)\n",
    "        fp_n.append(xfp_n)\n",
    "        tp_p.append(xtp_p)\n",
    "\n",
    "    print(\"SCORE FOR HPARAMS:\", {h.name: j[0][h] for h in j[0]})\n",
    "    print(\"Mean accuracy:\", mean(accuracies))\n",
    "    print(\"Mean k_accuracy;\", mean(k_accuracies))\n",
    "    print(\"Mean precision:\", mean(precisions))\n",
    "    print(\"Mean recall:\", mean(recalls))\n",
    "    print(\"Mean f1:\", mean(f1s))\n",
    "    print(\"Mean training time:\", mean(j[2]))\n",
    "    \n",
    "    # retreive hyper-parameters\n",
    "    hdict = {h.name: j[0][h] for h in j[0]}\n",
    "    \n",
    "    # save results to file\n",
    "    df =  pd.DataFrame(np.array([[str(j[1]),\n",
    "                                  hdict.get('num_units'), hdict.get('dropout'), hdict.get('optimizer'), \n",
    "                                  hdict.get('learning_rate'),IMAGE_SIZE, BATCH_SIZE, DATASET_SIZE, MAX_EPOCHS, K_FOLDS,\n",
    "                                  mean(accuracies), mean(k_accuracies), mean(precisions), mean(recalls), mean(f1s),\n",
    "                                  mean(tc_c), mean(fc_n), mean(fc_p), mean(fn_c), mean(tn_n), mean(fn_p), mean(fp_c), mean(fp_n), mean(tp_p), mean(j[2])\n",
    "                                 ]]),\n",
    "                       columns=['Model Names','num_units', 'dropout','optimizer','learning_rate',\n",
    "                                'IMAGE_SIZE', 'BATCH_SIZE', 'DATASET_SIZE', 'MAX_EPOCHS',\n",
    "                                'K_FOLDS','Accuracy', 'K_accuracy', 'Precision', 'Recall', 'f1 Score', \n",
    "                                'True Covid', ' False Covid (Normal)', 'False Covid (Pnemumonia)', 'False Normal (Covid)', 'True Normal', 'False Normal (Pnenumonia)', \n",
    "                                'False Pnumonia (Covid)', ' False Pnumonia (Normal)', 'True Pnumonia', 'Training Time'])\n",
    "    with open(gdpath+'trained-classifiers/Xception-Multi.csv', 'a') as f:\n",
    "        df.to_csv(f, mode='a', header=f.tell()==0, index = False)"
   ]
  },
  {
   "cell_type": "markdown",
   "id": "96f74fbe",
   "metadata": {
    "id": "96f74fbe"
   },
   "source": [
    "NOTE: Accuracy and loss graphs can be seen on TensorBoard, run \"%tensorboard --logdir logs --host 0.0.0.0\" to open"
   ]
  }
 ],
 "metadata": {
  "accelerator": "GPU",
  "colab": {
   "collapsed_sections": [],
   "name": "FINAL LARGE Xception-Multi-Hparams.ipynb",
   "provenance": [
    {
     "file_id": "11r3f-qnUzKIE9bcitoUoSNfognYvm6mH",
     "timestamp": 1650548152418
    },
    {
     "file_id": "https://github.com/laurencebrwn/ml-covid19-eval/blob/main/Xception-Binary-Hparams.ipynb",
     "timestamp": 1649284749785
    }
   ]
  },
  "environment": {
   "kernel": "python3",
   "name": "managed-notebooks.m90",
   "type": "gcloud",
   "uri": "gcr.io/deeplearning-platform-release/managed-notebooks:m90"
  },
  "kernelspec": {
   "display_name": "Python 3 (ipykernel)",
   "language": "python",
   "name": "python3"
  },
  "language_info": {
   "codemirror_mode": {
    "name": "ipython",
    "version": 3
   },
   "file_extension": ".py",
   "mimetype": "text/x-python",
   "name": "python",
   "nbconvert_exporter": "python",
   "pygments_lexer": "ipython3",
   "version": "3.7.9"
  }
 },
 "nbformat": 4,
 "nbformat_minor": 5
}
