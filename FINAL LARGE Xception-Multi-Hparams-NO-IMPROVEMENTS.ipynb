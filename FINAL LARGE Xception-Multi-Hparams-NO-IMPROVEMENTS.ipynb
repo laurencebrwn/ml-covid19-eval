{
 "cells": [
  {
   "cell_type": "markdown",
   "id": "8e0ccce8",
   "metadata": {
    "id": "8e0ccce8",
    "tags": []
   },
   "source": [
    "## Model Variables"
   ]
  },
  {
   "cell_type": "code",
   "execution_count": 3,
   "id": "68fe9ea2",
   "metadata": {
    "executionInfo": {
     "elapsed": 5,
     "status": "ok",
     "timestamp": 1651416510565,
     "user": {
      "displayName": "Laurence Brown",
      "userId": "02353821870267800674"
     },
     "user_tz": -60
    },
    "id": "68fe9ea2"
   },
   "outputs": [],
   "source": [
    "IMAGE_SIZE = 224\n",
    "BATCH_SIZE = 32\n",
    "DATASET_SIZE = 30482\n",
    "MAX_EPOCHS = 20\n",
    "K_FOLDS = 5\n",
    "DATASET_PATH = 'covidx-cxr2'"
   ]
  },
  {
   "cell_type": "markdown",
   "id": "69bfede4",
   "metadata": {
    "id": "69bfede4"
   },
   "source": [
    "## Data Preparation"
   ]
  },
  {
   "cell_type": "code",
   "execution_count": 4,
   "id": "b2c6945d",
   "metadata": {
    "colab": {
     "base_uri": "https://localhost:8080/"
    },
    "executionInfo": {
     "elapsed": 5009,
     "status": "ok",
     "timestamp": 1651416515569,
     "user": {
      "displayName": "Laurence Brown",
      "userId": "02353821870267800674"
     },
     "user_tz": -60
    },
    "id": "b2c6945d",
    "outputId": "5f430fa2-b5dd-4176-8017-0b396bb3a41c"
   },
   "outputs": [
    {
     "name": "stdout",
     "output_type": "stream",
     "text": [
      "Tensorflow Version: 2.8.0\n",
      "Tensorboard Version: 2.8.0\n",
      "WARNING:tensorflow:From <ipython-input-4-69532632d99b>:19: is_gpu_available (from tensorflow.python.framework.test_util) is deprecated and will be removed in a future version.\n",
      "Instructions for updating:\n",
      "Use `tf.config.list_physical_devices('GPU')` instead.\n",
      "GPU Found: True\n"
     ]
    }
   ],
   "source": [
    "# import required libraries\n",
    "import numpy as np\n",
    "import pandas as pd\n",
    "import os\n",
    "import tensorflow as tf\n",
    "from tensorflow.keras.preprocessing.image import ImageDataGenerator\n",
    "import shutil\n",
    "from sklearn.metrics import confusion_matrix, classification_report\n",
    "from datetime import datetime\n",
    "from packaging import version\n",
    "%reload_ext tensorboard\n",
    "import tensorboard\n",
    "from sklearn.model_selection import StratifiedKFold\n",
    "from tensorboard.plugins.hparams import api as hp\n",
    "import time\n",
    "\n",
    "print(\"Tensorflow Version:\", tf.__version__)\n",
    "print(\"Tensorboard Version:\", tensorboard.__version__)\n",
    "print(\"GPU Found:\", tf.test.is_gpu_available())"
   ]
  },
  {
   "cell_type": "code",
   "execution_count": 5,
   "id": "55a26665",
   "metadata": {
    "executionInfo": {
     "elapsed": 1792,
     "status": "ok",
     "timestamp": 1651416517359,
     "user": {
      "displayName": "Laurence Brown",
      "userId": "02353821870267800674"
     },
     "user_tz": -60
    },
    "id": "55a26665"
   },
   "outputs": [],
   "source": [
    "# set up hyper-parameters\n",
    "HP_NUM_UNITS = hp.HParam('num_units', hp.Discrete([128]))\n",
    "HP_DROPOUT = hp.HParam('dropout', hp.Discrete([0.1]))\n",
    "HP_OPTIMIZER = hp.HParam('optimizer', hp.Discrete(['adam']))\n",
    "HP_L_RATE= hp.HParam('learning_rate', hp.Discrete([0.001]))\n",
    "\n",
    "METRIC_ACCURACY = 'accuracy'\n",
    "\n",
    "with tf.summary.create_file_writer('trained-classifiers/logs/hparam_tuning').as_default():\n",
    "    hp.hparams_config(\n",
    "        hparams=[HP_NUM_UNITS, HP_DROPOUT, HP_OPTIMIZER, HP_L_RATE],\n",
    "        metrics=[hp.Metric(METRIC_ACCURACY, display_name='Accuracy')],\n",
    "    )"
   ]
  },
  {
   "cell_type": "code",
   "execution_count": 6,
   "id": "5197d1f5",
   "metadata": {
    "executionInfo": {
     "elapsed": 632,
     "status": "ok",
     "timestamp": 1651416517988,
     "user": {
      "displayName": "Laurence Brown",
      "userId": "02353821870267800674"
     },
     "user_tz": -60
    },
    "id": "5197d1f5"
   },
   "outputs": [],
   "source": [
    "# read in train data\n",
    "train_df = pd.read_csv(DATASET_PATH+'/train_COVIDx9A.txt', \n",
    "                       sep=\" \", header=None)\n",
    "# add columns to go from 0, 1, 2, 3 to patient id, filename, class etc\n",
    "train_df.columns=['patient id', 'filename', 'class', 'data source']\n",
    "# drop patient id and datasource as not needed\n",
    "train_df=train_df.drop(['patient id', 'data source'], axis=1 )\n",
    "\n",
    "# read in test data\n",
    "test_df = pd.read_csv(DATASET_PATH+'/test_COVIDx9A.txt', \n",
    "                      sep=\" \", header=None)\n",
    "# add columns to go from 0, 1, 2, 3 to patient id, filename, class etc\n",
    "test_df.columns=['patient id', 'filename', 'class', 'data source']\n",
    "# drop patient id and datasource as not needed\n",
    "test_df=test_df.drop(['patient id', 'data source'], axis=1 )"
   ]
  },
  {
   "cell_type": "code",
   "execution_count": 7,
   "id": "fe14addd",
   "metadata": {
    "colab": {
     "base_uri": "https://localhost:8080/"
    },
    "executionInfo": {
     "elapsed": 9,
     "status": "ok",
     "timestamp": 1651416517989,
     "user": {
      "displayName": "Laurence Brown",
      "userId": "02353821870267800674"
     },
     "user_tz": -60
    },
    "id": "fe14addd",
    "outputId": "a8858eea-f87f-40ed-89a3-f60cd06e09cf"
   },
   "outputs": [
    {
     "name": "stdout",
     "output_type": "stream",
     "text": [
      "Train class counts:\n",
      "COVID-19     15547\n",
      "normal        8085\n",
      "pneumonia     5555\n",
      "positive       943\n",
      "Name: class, dtype: int64\n",
      "\n",
      "Test class counts:\n",
      "COVID-19     200\n",
      "normal       100\n",
      "pneumonia    100\n",
      "Name: class, dtype: int64\n"
     ]
    }
   ],
   "source": [
    "print(\"Train class counts:\")\n",
    "print(train_df['class'].value_counts())\n",
    "print(\"\\nTest class counts:\")\n",
    "print(test_df['class'].value_counts())"
   ]
  },
  {
   "cell_type": "code",
   "execution_count": 8,
   "id": "e42bf5ec",
   "metadata": {
    "colab": {
     "base_uri": "https://localhost:8080/"
    },
    "executionInfo": {
     "elapsed": 6,
     "status": "ok",
     "timestamp": 1651416517989,
     "user": {
      "displayName": "Laurence Brown",
      "userId": "02353821870267800674"
     },
     "user_tz": -60
    },
    "id": "e42bf5ec",
    "outputId": "9c6fbb43-4abc-4a6d-a6f3-c3351156206a"
   },
   "outputs": [
    {
     "name": "stdout",
     "output_type": "stream",
     "text": [
      "Train class counts:\n",
      "normal       10160\n",
      "pneumonia    10160\n",
      "COVID-19     10160\n",
      "Name: class, dtype: int64\n"
     ]
    }
   ],
   "source": [
    "normal  = train_df[train_df['class']=='normal']   # normal values in class column\n",
    "pneumonia = train_df[train_df['class']=='pneumonia']  # pneumonia values in class column\n",
    "COVID19 = train_df[train_df['class']=='COVID-19']  # COVID-19 values in class column\n",
    "\n",
    "from sklearn.utils import resample\n",
    "# downsample training data to equal values of each class, to reduce class bias and reduce training time\n",
    "\n",
    "df_normal_downsampled = resample(normal, replace = True, n_samples = DATASET_SIZE//3) \n",
    "df_pneumonia_downsampled = resample(pneumonia, replace = True, n_samples = DATASET_SIZE//3) \n",
    "df_COVID19_downsampled = resample(COVID19, replace = True, n_samples = DATASET_SIZE//3) \n",
    "\n",
    "#concatenate\n",
    "train_df = pd.concat([df_normal_downsampled, df_pneumonia_downsampled, df_COVID19_downsampled])\n",
    "\n",
    "from sklearn.utils import shuffle\n",
    "train_df = shuffle(train_df) # shuffling so that there is particular sequence\n",
    "print(\"Train class counts:\")\n",
    "print(train_df['class'].value_counts())"
   ]
  },
  {
   "cell_type": "code",
   "execution_count": 9,
   "id": "7caf2941",
   "metadata": {
    "colab": {
     "base_uri": "https://localhost:8080/"
    },
    "executionInfo": {
     "elapsed": 5,
     "status": "ok",
     "timestamp": 1651416517989,
     "user": {
      "displayName": "Laurence Brown",
      "userId": "02353821870267800674"
     },
     "user_tz": -60
    },
    "id": "7caf2941",
    "outputId": "01770267-89e4-48c9-d7a0-18d1fe1332cd",
    "scrolled": true
   },
   "outputs": [
    {
     "name": "stdout",
     "output_type": "stream",
     "text": [
      "Train class counts:\n",
      "normal       10160\n",
      "pneumonia    10160\n",
      "COVID-19     10160\n",
      "Name: class, dtype: int64\n",
      "\n",
      "Test class counts:\n",
      "COVID-19     200\n",
      "normal       100\n",
      "pneumonia    100\n",
      "Name: class, dtype: int64\n"
     ]
    }
   ],
   "source": [
    "print(\"Train class counts:\")\n",
    "print(train_df['class'].value_counts())\n",
    "print(\"\\nTest class counts:\")\n",
    "print(test_df['class'].value_counts())"
   ]
  },
  {
   "cell_type": "code",
   "execution_count": 10,
   "id": "4a7105a4",
   "metadata": {
    "colab": {
     "base_uri": "https://localhost:8080/"
    },
    "executionInfo": {
     "elapsed": 2360,
     "status": "ok",
     "timestamp": 1651416520678,
     "user": {
      "displayName": "Laurence Brown",
      "userId": "02353821870267800674"
     },
     "user_tz": -60
    },
    "id": "4a7105a4",
    "outputId": "f2415d57-88cc-4491-e442-ca331ebcd72c"
   },
   "outputs": [
    {
     "name": "stdout",
     "output_type": "stream",
     "text": [
      "Found 400 validated image filenames belonging to 3 classes.\n"
     ]
    }
   ],
   "source": [
    "# preprocess images\n",
    "test_datagen = ImageDataGenerator(preprocessing_function=tf.keras.applications.xception.preprocess_input)\n",
    "\n",
    "test_gen = test_datagen.flow_from_dataframe(dataframe = test_df, directory=DATASET_PATH+'/test\", x_col='filename', \n",
    "                                            y_col='class', target_size=(IMAGE_SIZE, IMAGE_SIZE), batch_size=BATCH_SIZE, \n",
    "                                            color_mode='rgb', class_mode='categorical', shuffle=False)"
   ]
  },
  {
   "cell_type": "code",
   "execution_count": 11,
   "id": "dc520d7a",
   "metadata": {
    "executionInfo": {
     "elapsed": 7,
     "status": "ok",
     "timestamp": 1651416520678,
     "user": {
      "displayName": "Laurence Brown",
      "userId": "02353821870267800674"
     },
     "user_tz": -60
    },
    "id": "dc520d7a"
   },
   "outputs": [],
   "source": [
    "def preprocess_images_cv(train_index, val_index):\n",
    "    # find the section of the training data that the fold is located\n",
    "    training_data = train_df.iloc[train_index]\n",
    "    validation_data = train_df.iloc[val_index]\n",
    "    train_datagen = ImageDataGenerator(preprocessing_function=tf.keras.applications.xception.preprocess_input,\n",
    "                                       rotation_range = 20, width_shift_range = 0.2, height_shift_range = 0.2, \n",
    "                                       shear_range = 0.2, zoom_range = 0.1, horizontal_flip = True)\n",
    "\n",
    "    # now get the images from directory with augmentation\n",
    "\n",
    "    train_gen = train_datagen.flow_from_dataframe(dataframe = training_data, directory=DATASET_PATH+'/train\", x_col='filename', \n",
    "                                                  y_col='class', target_size=(IMAGE_SIZE, IMAGE_SIZE), batch_size=BATCH_SIZE, \n",
    "                                                  color_mode='rgb', class_mode='categorical')\n",
    "    valid_gen = test_datagen.flow_from_dataframe(dataframe = validation_data, directory=DATASET_PATH+'/train\", x_col='filename',\n",
    "                                                 y_col='class', target_size=(IMAGE_SIZE, IMAGE_SIZE), batch_size=BATCH_SIZE, \n",
    "                                                 color_mode='rgb', class_mode='categorical')\n",
    "    return train_gen, valid_gen"
   ]
  },
  {
   "cell_type": "markdown",
   "id": "4174e3f4",
   "metadata": {
    "id": "4174e3f4"
   },
   "source": [
    "## Xception"
   ]
  },
  {
   "cell_type": "code",
   "execution_count": 12,
   "id": "96ce3019",
   "metadata": {
    "executionInfo": {
     "elapsed": 7,
     "status": "ok",
     "timestamp": 1651416520679,
     "user": {
      "displayName": "Laurence Brown",
      "userId": "02353821870267800674"
     },
     "user_tz": -60
    },
    "id": "96ce3019"
   },
   "outputs": [],
   "source": [
    "# required libraries for Xception\n",
    "from tensorflow import keras\n",
    "from tensorflow.keras.optimizers import Adam"
   ]
  },
  {
   "cell_type": "code",
   "execution_count": 13,
   "id": "836aa1a9",
   "metadata": {
    "executionInfo": {
     "elapsed": 6,
     "status": "ok",
     "timestamp": 1651416520679,
     "user": {
      "displayName": "Laurence Brown",
      "userId": "02353821870267800674"
     },
     "user_tz": -60
    },
    "id": "836aa1a9"
   },
   "outputs": [],
   "source": [
    "def create_model(hparams):\n",
    "    # create the base pre-trained model\n",
    "    base_model = keras.applications.Xception(weights='imagenet', input_shape = (IMAGE_SIZE,IMAGE_SIZE,3),\n",
    "                                                  include_top=False)\n",
    "    # add no imtpovements and add output layer\n",
    "    model = keras.Sequential([base_model,\n",
    "                              keras.layers.GlobalAveragePooling2D(),\n",
    "                              keras.layers.Dense(3, activation='softmax')\n",
    "                              ])\n",
    "    \n",
    "    # compile model\n",
    "    optimizer_name = hparams[HP_OPTIMIZER]\n",
    "    learning_rate = hparams[HP_L_RATE]\n",
    "    if optimizer_name == \"adam\":\n",
    "        optimizer = tf.keras.optimizers.Adam(learning_rate=learning_rate)\n",
    "    elif optimizer_name == \"sgd\":\n",
    "        optimizer = tf.keras.optimizers.SGD(learning_rate=learning_rate)\n",
    "    else:\n",
    "        raise ValueError(\"unexpected optimizer name: %r\" % (optimizer_name,))\n",
    "\n",
    "\n",
    "    model.compile(optimizer = optimizer,\n",
    "                  loss = 'categorical_crossentropy',\n",
    "                  metrics=['accuracy'])\n",
    "    return model"
   ]
  },
  {
   "cell_type": "code",
   "execution_count": 14,
   "id": "b8275562",
   "metadata": {
    "executionInfo": {
     "elapsed": 6,
     "status": "ok",
     "timestamp": 1651416520679,
     "user": {
      "displayName": "Laurence Brown",
      "userId": "02353821870267800674"
     },
     "user_tz": -60
    },
    "id": "b8275562"
   },
   "outputs": [],
   "source": [
    "def get_model_name(k):\n",
    "    return str(\"Xception-Multi-\" + \"Fold-\"+str(k)+\"-\"+datetime.now().strftime(\"%Y%m%d-%H%M%S\"))"
   ]
  },
  {
   "cell_type": "code",
   "execution_count": 15,
   "id": "8faa2fa4",
   "metadata": {
    "colab": {
     "base_uri": "https://localhost:8080/"
    },
    "executionInfo": {
     "elapsed": 35633789,
     "status": "ok",
     "timestamp": 1651452154463,
     "user": {
      "displayName": "Laurence Brown",
      "userId": "02353821870267800674"
     },
     "user_tz": -60
    },
    "id": "8faa2fa4",
    "outputId": "b9e47ff3-8db6-4199-b9ea-2bc1571f66c7"
   },
   "outputs": [
    {
     "name": "stdout",
     "output_type": "stream",
     "text": [
      "HPARAMS: {'num_units': 128, 'dropout': 0.1, 'optimizer': 'adam', 'learning_rate': 0.001}\n",
      "--- Starting trial: 0\n"
     ]
    },
    {
     "name": "stderr",
     "output_type": "stream",
     "text": [
      "/usr/local/lib/python3.7/dist-packages/keras_preprocessing/image/dataframe_iterator.py:282: UserWarning: Found 1 invalid image filename(s) in x_col=\"filename\". These filename(s) will be ignored.\n",
      "  .format(n_invalid, x_col)\n"
     ]
    },
    {
     "name": "stdout",
     "output_type": "stream",
     "text": [
      "Found 24383 validated image filenames belonging to 3 classes.\n",
      "Found 6096 validated image filenames belonging to 3 classes.\n",
      "Downloading data from https://storage.googleapis.com/tensorflow/keras-applications/xception/xception_weights_tf_dim_ordering_tf_kernels_notop.h5\n",
      "83689472/83683744 [==============================] - 0s 0us/step\n",
      "83697664/83683744 [==============================] - 0s 0us/step\n",
      "Epoch 1/20\n",
      "762/762 [==============================] - 6244s 8s/step - loss: 0.2860 - accuracy: 0.8970 - val_loss: 0.2213 - val_accuracy: 0.9237 - lr: 0.0010\n",
      "Epoch 2/20\n",
      "762/762 [==============================] - ETA: 0s - loss: 0.1992 - accuracy: 0.9302\n",
      "Epoch 2: ReduceLROnPlateau reducing learning rate to 0.0005000000237487257.\n",
      "762/762 [==============================] - 785s 1s/step - loss: 0.1992 - accuracy: 0.9302 - val_loss: 1.8459 - val_accuracy: 0.6025 - lr: 0.0010\n",
      "Epoch 3/20\n",
      "762/762 [==============================] - ETA: 0s - loss: 0.1347 - accuracy: 0.9526\n",
      "Epoch 3: ReduceLROnPlateau reducing learning rate to 0.0002500000118743628.\n",
      "762/762 [==============================] - 781s 1s/step - loss: 0.1347 - accuracy: 0.9526 - val_loss: 0.2393 - val_accuracy: 0.9263 - lr: 5.0000e-04\n",
      "Epoch 4/20\n",
      "762/762 [==============================] - ETA: 0s - loss: 0.1017 - accuracy: 0.9638Restoring model weights from the end of the best epoch: 1.\n",
      "\n",
      "Epoch 4: ReduceLROnPlateau reducing learning rate to 0.0001250000059371814.\n",
      "762/762 [==============================] - 782s 1s/step - loss: 0.1017 - accuracy: 0.9638 - val_loss: 0.2713 - val_accuracy: 0.9109 - lr: 2.5000e-04\n",
      "Epoch 4: early stopping\n",
      "--- Starting trial: 1\n",
      "Found 24384 validated image filenames belonging to 3 classes.\n",
      "Found 6096 validated image filenames belonging to 3 classes.\n",
      "Epoch 1/20\n",
      "762/762 [==============================] - 788s 1s/step - loss: 0.2775 - accuracy: 0.9019 - val_loss: 0.4675 - val_accuracy: 0.8739 - lr: 0.0010\n",
      "Epoch 2/20\n",
      "762/762 [==============================] - ETA: 0s - loss: 0.1925 - accuracy: 0.9319\n",
      "Epoch 2: ReduceLROnPlateau reducing learning rate to 0.0005000000237487257.\n",
      "762/762 [==============================] - 786s 1s/step - loss: 0.1925 - accuracy: 0.9319 - val_loss: 0.9362 - val_accuracy: 0.8215 - lr: 0.0010\n",
      "Epoch 3/20\n",
      "762/762 [==============================] - 792s 1s/step - loss: 0.1376 - accuracy: 0.9528 - val_loss: 0.4160 - val_accuracy: 0.8607 - lr: 5.0000e-04\n",
      "Epoch 4/20\n",
      "762/762 [==============================] - 790s 1s/step - loss: 0.1228 - accuracy: 0.9572 - val_loss: 0.3245 - val_accuracy: 0.9098 - lr: 5.0000e-04\n",
      "Epoch 5/20\n",
      "762/762 [==============================] - 787s 1s/step - loss: 0.1116 - accuracy: 0.9604 - val_loss: 0.1932 - val_accuracy: 0.9391 - lr: 5.0000e-04\n",
      "Epoch 6/20\n",
      "762/762 [==============================] - ETA: 0s - loss: 0.1069 - accuracy: 0.9623\n",
      "Epoch 6: ReduceLROnPlateau reducing learning rate to 0.0002500000118743628.\n",
      "762/762 [==============================] - 787s 1s/step - loss: 0.1069 - accuracy: 0.9623 - val_loss: 0.3727 - val_accuracy: 0.8934 - lr: 5.0000e-04\n",
      "Epoch 7/20\n",
      "762/762 [==============================] - 786s 1s/step - loss: 0.0740 - accuracy: 0.9744 - val_loss: 0.1388 - val_accuracy: 0.9442 - lr: 2.5000e-04\n",
      "Epoch 8/20\n",
      "762/762 [==============================] - ETA: 0s - loss: 0.0669 - accuracy: 0.9753\n",
      "Epoch 8: ReduceLROnPlateau reducing learning rate to 0.0001250000059371814.\n",
      "762/762 [==============================] - 788s 1s/step - loss: 0.0669 - accuracy: 0.9753 - val_loss: 0.2007 - val_accuracy: 0.9247 - lr: 2.5000e-04\n",
      "Epoch 9/20\n",
      "762/762 [==============================] - ETA: 0s - loss: 0.0489 - accuracy: 0.9822\n",
      "Epoch 9: ReduceLROnPlateau reducing learning rate to 6.25000029685907e-05.\n",
      "762/762 [==============================] - 784s 1s/step - loss: 0.0489 - accuracy: 0.9822 - val_loss: 0.2281 - val_accuracy: 0.9221 - lr: 1.2500e-04\n",
      "Epoch 10/20\n",
      "762/762 [==============================] - ETA: 0s - loss: 0.0366 - accuracy: 0.9877Restoring model weights from the end of the best epoch: 7.\n",
      "\n",
      "Epoch 10: ReduceLROnPlateau reducing learning rate to 3.125000148429535e-05.\n",
      "762/762 [==============================] - 788s 1s/step - loss: 0.0366 - accuracy: 0.9877 - val_loss: 0.3707 - val_accuracy: 0.8870 - lr: 6.2500e-05\n",
      "Epoch 10: early stopping\n",
      "--- Starting trial: 2\n",
      "Found 24384 validated image filenames belonging to 3 classes.\n",
      "Found 6096 validated image filenames belonging to 3 classes.\n",
      "Epoch 1/20\n",
      "762/762 [==============================] - 791s 1s/step - loss: 0.2778 - accuracy: 0.9003 - val_loss: 0.4809 - val_accuracy: 0.8284 - lr: 0.0010\n",
      "Epoch 2/20\n",
      "762/762 [==============================] - ETA: 0s - loss: 0.1880 - accuracy: 0.9324\n",
      "Epoch 2: ReduceLROnPlateau reducing learning rate to 0.0005000000237487257.\n",
      "762/762 [==============================] - 786s 1s/step - loss: 0.1880 - accuracy: 0.9324 - val_loss: 0.9960 - val_accuracy: 0.7154 - lr: 0.0010\n",
      "Epoch 3/20\n",
      "762/762 [==============================] - 788s 1s/step - loss: 0.1318 - accuracy: 0.9535 - val_loss: 0.1815 - val_accuracy: 0.9323 - lr: 5.0000e-04\n",
      "Epoch 4/20\n",
      "762/762 [==============================] - ETA: 0s - loss: 0.1224 - accuracy: 0.9576\n",
      "Epoch 4: ReduceLROnPlateau reducing learning rate to 0.0002500000118743628.\n",
      "762/762 [==============================] - 784s 1s/step - loss: 0.1224 - accuracy: 0.9576 - val_loss: 0.2535 - val_accuracy: 0.9213 - lr: 5.0000e-04\n",
      "Epoch 5/20\n",
      "762/762 [==============================] - ETA: 0s - loss: 0.0905 - accuracy: 0.9677\n",
      "Epoch 5: ReduceLROnPlateau reducing learning rate to 0.0001250000059371814.\n",
      "762/762 [==============================] - 781s 1s/step - loss: 0.0905 - accuracy: 0.9677 - val_loss: 0.4684 - val_accuracy: 0.8445 - lr: 2.5000e-04\n",
      "Epoch 6/20\n",
      "762/762 [==============================] - 787s 1s/step - loss: 0.0687 - accuracy: 0.9741 - val_loss: 0.1698 - val_accuracy: 0.9437 - lr: 1.2500e-04\n",
      "Epoch 7/20\n",
      "762/762 [==============================] - ETA: 0s - loss: 0.0618 - accuracy: 0.9780\n",
      "Epoch 7: ReduceLROnPlateau reducing learning rate to 6.25000029685907e-05.\n",
      "762/762 [==============================] - 793s 1s/step - loss: 0.0618 - accuracy: 0.9780 - val_loss: 0.2196 - val_accuracy: 0.9285 - lr: 1.2500e-04\n",
      "Epoch 8/20\n",
      "762/762 [==============================] - 790s 1s/step - loss: 0.0483 - accuracy: 0.9833 - val_loss: 0.1588 - val_accuracy: 0.9477 - lr: 6.2500e-05\n",
      "Epoch 9/20\n",
      "762/762 [==============================] - ETA: 0s - loss: 0.0403 - accuracy: 0.9852\n",
      "Epoch 9: ReduceLROnPlateau reducing learning rate to 3.125000148429535e-05.\n",
      "762/762 [==============================] - 788s 1s/step - loss: 0.0403 - accuracy: 0.9852 - val_loss: 0.3294 - val_accuracy: 0.9006 - lr: 6.2500e-05\n",
      "Epoch 10/20\n",
      "762/762 [==============================] - ETA: 0s - loss: 0.0324 - accuracy: 0.9888\n",
      "Epoch 10: ReduceLROnPlateau reducing learning rate to 1.5625000742147677e-05.\n",
      "762/762 [==============================] - 785s 1s/step - loss: 0.0324 - accuracy: 0.9888 - val_loss: 0.1990 - val_accuracy: 0.9406 - lr: 3.1250e-05\n",
      "Epoch 11/20\n",
      "762/762 [==============================] - 790s 1s/step - loss: 0.0284 - accuracy: 0.9906 - val_loss: 0.1547 - val_accuracy: 0.9521 - lr: 1.5625e-05\n",
      "Epoch 12/20\n",
      "762/762 [==============================] - ETA: 0s - loss: 0.0284 - accuracy: 0.9901\n",
      "Epoch 12: ReduceLROnPlateau reducing learning rate to 7.812500371073838e-06.\n",
      "762/762 [==============================] - 789s 1s/step - loss: 0.0284 - accuracy: 0.9901 - val_loss: 0.1560 - val_accuracy: 0.9514 - lr: 1.5625e-05\n",
      "Epoch 13/20\n",
      "762/762 [==============================] - ETA: 0s - loss: 0.0246 - accuracy: 0.9913\n",
      "Epoch 13: ReduceLROnPlateau reducing learning rate to 3.906250185536919e-06.\n",
      "762/762 [==============================] - 843s 1s/step - loss: 0.0246 - accuracy: 0.9913 - val_loss: 0.1771 - val_accuracy: 0.9460 - lr: 7.8125e-06\n",
      "Epoch 14/20\n",
      "762/762 [==============================] - ETA: 0s - loss: 0.0230 - accuracy: 0.9920Restoring model weights from the end of the best epoch: 11.\n",
      "\n",
      "Epoch 14: ReduceLROnPlateau reducing learning rate to 1.9531250927684596e-06.\n",
      "762/762 [==============================] - 783s 1s/step - loss: 0.0230 - accuracy: 0.9920 - val_loss: 0.1835 - val_accuracy: 0.9434 - lr: 3.9063e-06\n",
      "Epoch 14: early stopping\n",
      "--- Starting trial: 3\n",
      "Found 24384 validated image filenames belonging to 3 classes.\n",
      "Found 6096 validated image filenames belonging to 3 classes.\n",
      "Epoch 1/20\n",
      "762/762 [==============================] - 791s 1s/step - loss: 0.2762 - accuracy: 0.9019 - val_loss: 0.3079 - val_accuracy: 0.9111 - lr: 0.0010\n",
      "Epoch 2/20\n",
      "762/762 [==============================] - 789s 1s/step - loss: 0.1945 - accuracy: 0.9302 - val_loss: 0.2055 - val_accuracy: 0.9372 - lr: 0.0010\n",
      "Epoch 3/20\n",
      "762/762 [==============================] - ETA: 0s - loss: 0.1640 - accuracy: 0.9422\n",
      "Epoch 3: ReduceLROnPlateau reducing learning rate to 0.0005000000237487257.\n",
      "762/762 [==============================] - 785s 1s/step - loss: 0.1640 - accuracy: 0.9422 - val_loss: 0.3186 - val_accuracy: 0.8922 - lr: 0.0010\n",
      "Epoch 4/20\n",
      "762/762 [==============================] - ETA: 0s - loss: 0.1235 - accuracy: 0.9560\n",
      "Epoch 4: ReduceLROnPlateau reducing learning rate to 0.0002500000118743628.\n",
      "762/762 [==============================] - 783s 1s/step - loss: 0.1235 - accuracy: 0.9560 - val_loss: 0.8134 - val_accuracy: 0.6903 - lr: 5.0000e-04\n",
      "Epoch 5/20\n",
      "762/762 [==============================] - ETA: 0s - loss: 0.0904 - accuracy: 0.9677Restoring model weights from the end of the best epoch: 2.\n",
      "\n",
      "Epoch 5: ReduceLROnPlateau reducing learning rate to 0.0001250000059371814.\n",
      "762/762 [==============================] - 787s 1s/step - loss: 0.0904 - accuracy: 0.9677 - val_loss: 0.2833 - val_accuracy: 0.8975 - lr: 2.5000e-04\n",
      "Epoch 5: early stopping\n",
      "--- Starting trial: 4\n",
      "Found 24384 validated image filenames belonging to 3 classes.\n",
      "Found 6096 validated image filenames belonging to 3 classes.\n",
      "Epoch 1/20\n",
      "762/762 [==============================] - 796s 1s/step - loss: 0.2832 - accuracy: 0.8974 - val_loss: 0.2492 - val_accuracy: 0.9135 - lr: 0.0010\n",
      "Epoch 2/20\n",
      "762/762 [==============================] - 790s 1s/step - loss: 0.1957 - accuracy: 0.9308 - val_loss: 0.1652 - val_accuracy: 0.9405 - lr: 0.0010\n",
      "Epoch 3/20\n",
      "762/762 [==============================] - ETA: 0s - loss: 0.1704 - accuracy: 0.9396\n",
      "Epoch 3: ReduceLROnPlateau reducing learning rate to 0.0005000000237487257.\n",
      "762/762 [==============================] - 784s 1s/step - loss: 0.1704 - accuracy: 0.9396 - val_loss: 0.3064 - val_accuracy: 0.8899 - lr: 0.0010\n",
      "Epoch 4/20\n",
      "762/762 [==============================] - ETA: 0s - loss: 0.1203 - accuracy: 0.9562\n",
      "Epoch 4: ReduceLROnPlateau reducing learning rate to 0.0002500000118743628.\n",
      "762/762 [==============================] - 786s 1s/step - loss: 0.1203 - accuracy: 0.9562 - val_loss: 0.3097 - val_accuracy: 0.9003 - lr: 5.0000e-04\n",
      "Epoch 5/20\n",
      "762/762 [==============================] - ETA: 0s - loss: 0.0953 - accuracy: 0.9664Restoring model weights from the end of the best epoch: 2.\n",
      "\n",
      "Epoch 5: ReduceLROnPlateau reducing learning rate to 0.0001250000059371814.\n",
      "762/762 [==============================] - 781s 1s/step - loss: 0.0953 - accuracy: 0.9664 - val_loss: 0.2192 - val_accuracy: 0.9206 - lr: 2.5000e-04\n",
      "Epoch 5: early stopping\n"
     ]
    }
   ],
   "source": [
    "# perform HP tuning and CV on the model on the data\n",
    "Y = train_df['class']\n",
    "trained_models = []\n",
    "\n",
    "# iterate through hyper-parameters\n",
    "for num_units in HP_NUM_UNITS.domain.values:\n",
    "    for dropout_rate in HP_DROPOUT.domain.values:\n",
    "        for optimizer in HP_OPTIMIZER.domain.values:\n",
    "            for learning_rate in HP_L_RATE.domain.values:\n",
    "                # instantiate k folds and hyper-parameters for this iteration\n",
    "                skf = StratifiedKFold(n_splits = K_FOLDS, shuffle = True) \n",
    "                k_i = 0\n",
    "                k_fold_models = []\n",
    "                elapsed_times = []\n",
    "                hparams = {\n",
    "                    HP_NUM_UNITS: num_units,\n",
    "                    HP_DROPOUT: dropout_rate,\n",
    "                    HP_OPTIMIZER: optimizer,\n",
    "                    HP_L_RATE: learning_rate\n",
    "                }\n",
    "                print('HPARAMS:',{h.name: hparams[h] for h in hparams})\n",
    "                \n",
    "                # iterate through k folds\n",
    "                for train_index, val_index in skf.split(np.zeros(len(Y)),Y):\n",
    "                    print('--- Starting trial: %s' % k_i)\n",
    "                    t = time.process_time() # begin timing model\n",
    "                    train_gen, valid_gen = preprocess_images_cv(train_index, val_index) # fetch dataset for this fold\n",
    "                    \n",
    "                    # set up logging directories and callbacks\n",
    "                    logdir = os.path.join('trained-classifiers','logs','fit', get_model_name(k_i))\n",
    "                    hpdir = os.path.join('trained-classifiers','logs','hparam_tuning', get_model_name(k_i))\n",
    "                    modeldir = os.path.join('model-checkpoints',str(get_model_name(k_i)+\".h5\"))\n",
    "                    callbacks = [\n",
    "                        keras.callbacks.ModelCheckpoint(filepath=modeldir, save_best_only=True, verbose = 0),\n",
    "                        keras.callbacks.EarlyStopping(patience=3, monitor='val_loss', verbose=1, restore_best_weights=True),\n",
    "                        keras.callbacks.ReduceLROnPlateau(monitor='val_loss', factor=0.5, patience=1, verbose=1),\n",
    "                        keras.callbacks.TensorBoard(log_dir=logdir)\n",
    "                      ]\n",
    "                    \n",
    "                    # create the model\n",
    "                    hp.hparams(hparams)  \n",
    "                    model = create_model(hparams)\n",
    "                    \n",
    "                    # train model\n",
    "                    model.fit(train_gen, validation_data=valid_gen, epochs=MAX_EPOCHS, callbacks=callbacks)\n",
    "                    \n",
    "                    # record the values used in this trial\n",
    "                    elapsed_times.append(time.process_time() - t)\n",
    "                    k_fold_models.append(modeldir)\n",
    "                    \n",
    "                    # clean memory\n",
    "                    del model, train_gen, valid_gen\n",
    "                    keras.backend.clear_session()\n",
    "                    k_i += 1\n",
    "                    \n",
    "                trained_models.append([hparams, k_fold_models, elapsed_times])"
   ]
  },
  {
   "cell_type": "markdown",
   "id": "7d4d6530",
   "metadata": {
    "id": "7d4d6530"
   },
   "source": [
    "## Evaluation"
   ]
  },
  {
   "cell_type": "code",
   "execution_count": 17,
   "id": "9851f1f7",
   "metadata": {
    "executionInfo": {
     "elapsed": 4,
     "status": "ok",
     "timestamp": 1651452154464,
     "user": {
      "displayName": "Laurence Brown",
      "userId": "02353821870267800674"
     },
     "user_tz": -60
    },
    "id": "9851f1f7"
   },
   "outputs": [],
   "source": [
    "# import libraries for evaluation\n",
    "from sklearn.metrics import accuracy_score, precision_score, recall_score, f1_score, confusion_matrix\n",
    "from statistics import mean"
   ]
  },
  {
   "cell_type": "code",
   "execution_count": 18,
   "id": "69b88b94",
   "metadata": {
    "colab": {
     "base_uri": "https://localhost:8080/"
    },
    "executionInfo": {
     "elapsed": 347205,
     "status": "ok",
     "timestamp": 1651452501994,
     "user": {
      "displayName": "Laurence Brown",
      "userId": "02353821870267800674"
     },
     "user_tz": -60
    },
    "id": "69b88b94",
    "outputId": "cacf60a0-bcc4-42fb-c428-ecf91f44c572"
   },
   "outputs": [
    {
     "name": "stdout",
     "output_type": "stream",
     "text": [
      "13/13 [==============================] - 20s 1s/step - loss: 0.1366 - accuracy: 0.9500\n",
      "13/13 [==============================] - 19s 1s/step - loss: 0.1290 - accuracy: 0.9450\n",
      "13/13 [==============================] - 18s 1s/step - loss: 0.1249 - accuracy: 0.9700\n",
      "13/13 [==============================] - 19s 1s/step - loss: 0.1336 - accuracy: 0.9625\n",
      "13/13 [==============================] - 18s 1s/step - loss: 0.1177 - accuracy: 0.9550\n",
      "SCORE FOR HPARAMS: {'num_units': 128, 'dropout': 0.1, 'optimizer': 'adam', 'learning_rate': 0.001}\n",
      "Mean accuracy: 0.9565\n",
      "Mean k_accuracy; 0.9564999938011169\n",
      "Mean precision: 0.9499189238677933\n",
      "Mean recall: 0.9453333333333334\n",
      "Mean f1: 0.9468265738876802\n",
      "Mean training time: 7803.8475474196\n"
     ]
    }
   ],
   "source": [
    "# iterate through hyper-parameter configurations\n",
    "for j in trained_models:\n",
    "    model = create_model(j[0])\n",
    "    accuracies = []\n",
    "    k_accuracies = []\n",
    "    precisions = []\n",
    "    recalls = []\n",
    "    f1s = []\n",
    "    tc_c =[]\n",
    "    fc_n =[]\n",
    "    fc_p =[]\n",
    "    fn_c =[]\n",
    "    tn_n =[]\n",
    "    fn_p =[]\n",
    "    fp_c =[]\n",
    "    fp_n =[]\n",
    "    tp_p =[]\n",
    "    \n",
    "    # iterate through each folds model\n",
    "    for i in j[1]:\n",
    "        model.load_weights(i)\n",
    "        test_pred = model.predict(test_gen)\n",
    "        y_pred = np.argmax(test_pred, axis=1)\n",
    "        y_test= [test_gen.class_indices[k] for k in test_df['class'].values.tolist()]\n",
    "        k_accuracies.append(model.evaluate(test_gen)[1])\n",
    "        accuracies.append(accuracy_score(y_test, y_pred))\n",
    "        precisions.append(precision_score(y_test, y_pred, zero_division=0, average='macro'))\n",
    "        recalls.append(recall_score(y_test, y_pred, average='macro'))\n",
    "        f1s.append(f1_score(y_test, y_pred, average='macro'))\n",
    "        xtc_c, xfc_n, xfc_p, xfn_c, xtn_n, xfn_p, xfp_c, xfp_n, xtp_p = confusion_matrix(y_test, y_pred).ravel()\n",
    "        tc_c.append(xtc_c)\n",
    "        fc_n.append(xfc_n)\n",
    "        fc_p.append(xfc_p)\n",
    "        fn_c.append(xfn_c)\n",
    "        tn_n.append(xtn_n)\n",
    "        fn_p.append(xfn_p)\n",
    "        fp_c.append(xfp_c)\n",
    "        fp_n.append(xfp_n)\n",
    "        tp_p.append(xtp_p)\n",
    "\n",
    "    print(\"SCORE FOR HPARAMS:\", {h.name: j[0][h] for h in j[0]})\n",
    "    print(\"Mean accuracy:\", mean(accuracies))\n",
    "    print(\"Mean k_accuracy;\", mean(k_accuracies))\n",
    "    print(\"Mean precision:\", mean(precisions))\n",
    "    print(\"Mean recall:\", mean(recalls))\n",
    "    print(\"Mean f1:\", mean(f1s))\n",
    "    print(\"Mean training time:\", mean(j[2]))\n",
    "    \n",
    "    # retreive hyper-parameters\n",
    "    hdict = {h.name: j[0][h] for h in j[0]}\n",
    "    \n",
    "    # save results to file\n",
    "    df =  pd.DataFrame(np.array([[str(j[1]),\n",
    "                                  hdict.get('num_units'), hdict.get('dropout'), hdict.get('optimizer'), \n",
    "                                  hdict.get('learning_rate'),IMAGE_SIZE, BATCH_SIZE, DATASET_SIZE, MAX_EPOCHS, K_FOLDS,\n",
    "                                  mean(accuracies), mean(k_accuracies), mean(precisions), mean(recalls), mean(f1s),\n",
    "                                  mean(tc_c), mean(fc_n), mean(fc_p), mean(fn_c), mean(tn_n), mean(fn_p), mean(fp_c), mean(fp_n), mean(tp_p), mean(j[2])\n",
    "                                 ]]),\n",
    "                       columns=['Model Names','num_units', 'dropout','optimizer','learning_rate',\n",
    "                                'IMAGE_SIZE', 'BATCH_SIZE', 'DATASET_SIZE', 'MAX_EPOCHS',\n",
    "                                'K_FOLDS','Accuracy', 'K_accuracy', 'Precision', 'Recall', 'f1 Score', \n",
    "                                'True Covid', ' False Covid (Normal)', 'False Covid (Pnemumonia)', 'False Normal (Covid)', 'True Normal', 'False Normal (Pnenumonia)', \n",
    "                                'False Pnumonia (Covid)', ' False Pnumonia (Normal)', 'True Pnumonia', 'Training Time'])\n",
    "    with open(gdpath+'trained-classifiers/Xception-Multi.csv', 'a') as f:\n",
    "        df.to_csv(f, mode='a', header=f.tell()==0, index = False)"
   ]
  },
  {
   "cell_type": "markdown",
   "id": "96f74fbe",
   "metadata": {
    "id": "96f74fbe"
   },
   "source": [
    "NOTE: Accuracy and loss graphs can be seen on TensorBoard, run \"%tensorboard --logdir logs --host 0.0.0.0\" to open"
   ]
  }
 ],
 "metadata": {
  "accelerator": "GPU",
  "colab": {
   "collapsed_sections": [],
   "name": "FINAL LARGE Xception-Multi-Hparams-NO-IMPROVEMENTS.ipynb",
   "provenance": [
    {
     "file_id": "1SaPlkmniHrHckWmV4BlWFgk3OlUnJJJ2",
     "timestamp": 1651416411307
    },
    {
     "file_id": "1jrE0HqkDYcOz9bx01xWuzwbOA07FxykR",
     "timestamp": 1651412098163
    },
    {
     "file_id": "11r3f-qnUzKIE9bcitoUoSNfognYvm6mH",
     "timestamp": 1650548152418
    },
    {
     "file_id": "https://github.com/laurencebrwn/ml-covid19-eval/blob/main/Xception-Binary-Hparams.ipynb",
     "timestamp": 1649284749785
    }
   ]
  },
  "environment": {
   "kernel": "python3",
   "name": "managed-notebooks.m90",
   "type": "gcloud",
   "uri": "gcr.io/deeplearning-platform-release/managed-notebooks:m90"
  },
  "kernelspec": {
   "display_name": "Python 3 (ipykernel)",
   "language": "python",
   "name": "python3"
  },
  "language_info": {
   "codemirror_mode": {
    "name": "ipython",
    "version": 3
   },
   "file_extension": ".py",
   "mimetype": "text/x-python",
   "name": "python",
   "nbconvert_exporter": "python",
   "pygments_lexer": "ipython3",
   "version": "3.7.9"
  }
 },
 "nbformat": 4,
 "nbformat_minor": 5
}
