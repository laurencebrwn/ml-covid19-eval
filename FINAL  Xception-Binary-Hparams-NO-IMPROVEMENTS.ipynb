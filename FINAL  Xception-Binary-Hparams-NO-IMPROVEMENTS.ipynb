{
 "cells": [
  {
   "cell_type": "markdown",
   "id": "8e0ccce8",
   "metadata": {
    "id": "8e0ccce8",
    "tags": []
   },
   "source": [
    "## Model Variables"
   ]
  },
  {
   "cell_type": "code",
   "execution_count": 3,
   "id": "68fe9ea2",
   "metadata": {
    "executionInfo": {
     "elapsed": 3,
     "status": "ok",
     "timestamp": 1651401935592,
     "user": {
      "displayName": "Laurence Brown",
      "userId": "02353821870267800674"
     },
     "user_tz": -60
    },
    "id": "68fe9ea2"
   },
   "outputs": [],
   "source": [
    "IMAGE_SIZE = 224\n",
    "BATCH_SIZE = 32\n",
    "DATASET_SIZE = 1500\n",
    "MAX_EPOCHS = 20\n",
    "K_FOLDS = 5\n",
    "DATASET_PATH = 'covidx-cxr2'"
   ]
  },
  {
   "cell_type": "markdown",
   "id": "69bfede4",
   "metadata": {
    "id": "69bfede4"
   },
   "source": [
    "## Data Preparation"
   ]
  },
  {
   "cell_type": "code",
   "execution_count": 4,
   "id": "b2c6945d",
   "metadata": {
    "colab": {
     "base_uri": "https://localhost:8080/"
    },
    "executionInfo": {
     "elapsed": 6794,
     "status": "ok",
     "timestamp": 1651401942383,
     "user": {
      "displayName": "Laurence Brown",
      "userId": "02353821870267800674"
     },
     "user_tz": -60
    },
    "id": "b2c6945d",
    "outputId": "f6752e23-1695-42de-a781-01ecdbca79a0"
   },
   "outputs": [
    {
     "name": "stdout",
     "output_type": "stream",
     "text": [
      "Tensorflow Version: 2.8.0\n",
      "Tensorboard Version: 2.8.0\n",
      "WARNING:tensorflow:From <ipython-input-4-69532632d99b>:19: is_gpu_available (from tensorflow.python.framework.test_util) is deprecated and will be removed in a future version.\n",
      "Instructions for updating:\n",
      "Use `tf.config.list_physical_devices('GPU')` instead.\n",
      "GPU Found: True\n"
     ]
    }
   ],
   "source": [
    "# import required libraries\n",
    "import numpy as np\n",
    "import pandas as pd\n",
    "import os\n",
    "import tensorflow as tf\n",
    "from tensorflow.keras.preprocessing.image import ImageDataGenerator\n",
    "import shutil\n",
    "from sklearn.metrics import confusion_matrix, classification_report\n",
    "from datetime import datetime\n",
    "from packaging import version\n",
    "%reload_ext tensorboard\n",
    "import tensorboard\n",
    "from sklearn.model_selection import StratifiedKFold\n",
    "from tensorboard.plugins.hparams import api as hp\n",
    "import time\n",
    "\n",
    "print(\"Tensorflow Version:\", tf.__version__)\n",
    "print(\"Tensorboard Version:\", tensorboard.__version__)\n",
    "print(\"GPU Found:\", tf.test.is_gpu_available())"
   ]
  },
  {
   "cell_type": "code",
   "execution_count": 5,
   "id": "55a26665",
   "metadata": {
    "executionInfo": {
     "elapsed": 5,
     "status": "ok",
     "timestamp": 1651401942384,
     "user": {
      "displayName": "Laurence Brown",
      "userId": "02353821870267800674"
     },
     "user_tz": -60
    },
    "id": "55a26665"
   },
   "outputs": [],
   "source": [
    "# set up hyper-parameters\n",
    "HP_NUM_UNITS = hp.HParam('num_units', hp.Discrete([128]))\n",
    "HP_DROPOUT = hp.HParam('dropout', hp.Discrete([0.1]))\n",
    "HP_OPTIMIZER = hp.HParam('optimizer', hp.Discrete(['adam']))\n",
    "HP_L_RATE= hp.HParam('learning_rate', hp.Discrete([0.001]))\n",
    "\n",
    "METRIC_ACCURACY = 'accuracy'\n",
    "\n",
    "with tf.summary.create_file_writer('trained-classifiers/logs/hparam_tuning').as_default():\n",
    "    hp.hparams_config(\n",
    "        hparams=[HP_NUM_UNITS, HP_DROPOUT, HP_OPTIMIZER, HP_L_RATE],\n",
    "        metrics=[hp.Metric(METRIC_ACCURACY, display_name='Accuracy')],\n",
    "    )"
   ]
  },
  {
   "cell_type": "code",
   "execution_count": 6,
   "id": "5197d1f5",
   "metadata": {
    "executionInfo": {
     "elapsed": 411,
     "status": "ok",
     "timestamp": 1651401942791,
     "user": {
      "displayName": "Laurence Brown",
      "userId": "02353821870267800674"
     },
     "user_tz": -60
    },
    "id": "5197d1f5"
   },
   "outputs": [],
   "source": [
    "# read in train data\n",
    "train_df = pd.read_csv(DATASET_PATH+'/train_COVIDx9B.txt', \n",
    "                       sep=\" \", header=None)\n",
    "# add columns to go from 0, 1, 2, 3 to patient id, filename, class etc\n",
    "train_df.columns=['patient id', 'filename', 'class', 'data source']\n",
    "\n",
    "# drop patient id and datasource as not needed\n",
    "train_df=train_df.drop(['patient id', 'data source'], axis=1 )\n",
    "\n",
    "# read in test data\n",
    "test_df = pd.read_csv(DATASET_PATH+'/test_COVIDx9B.txt', \n",
    "                      sep=\" \", header=None)\n",
    "# add columns to go from 0, 1, 2, 3 to patient id, filename, class etc\n",
    "test_df.columns=['patient id', 'filename', 'class', 'data source']\n",
    "\n",
    "# drop patient id and datasource as not needed\n",
    "test_df=test_df.drop(['patient id', 'data source'], axis=1 )"
   ]
  },
  {
   "cell_type": "code",
   "execution_count": 7,
   "id": "fe14addd",
   "metadata": {
    "colab": {
     "base_uri": "https://localhost:8080/"
    },
    "executionInfo": {
     "elapsed": 6,
     "status": "ok",
     "timestamp": 1651401942792,
     "user": {
      "displayName": "Laurence Brown",
      "userId": "02353821870267800674"
     },
     "user_tz": -60
    },
    "id": "fe14addd",
    "outputId": "77a7b217-89a7-4307-a5a8-c5c7d4d26d78"
   },
   "outputs": [
    {
     "name": "stdout",
     "output_type": "stream",
     "text": [
      "Train class counts:\n",
      "positive    16490\n",
      "negative    13992\n",
      "Name: class, dtype: int64\n",
      "\n",
      "Test class counts:\n",
      "positive    200\n",
      "negative    200\n",
      "Name: class, dtype: int64\n"
     ]
    }
   ],
   "source": [
    "print(\"Train class counts:\")\n",
    "print(train_df['class'].value_counts())\n",
    "print(\"\\nTest class counts:\")\n",
    "print(test_df['class'].value_counts())"
   ]
  },
  {
   "cell_type": "code",
   "execution_count": 8,
   "id": "e42bf5ec",
   "metadata": {
    "colab": {
     "base_uri": "https://localhost:8080/"
    },
    "executionInfo": {
     "elapsed": 5,
     "status": "ok",
     "timestamp": 1651401942792,
     "user": {
      "displayName": "Laurence Brown",
      "userId": "02353821870267800674"
     },
     "user_tz": -60
    },
    "id": "e42bf5ec",
    "outputId": "ced2f330-ef7f-4a76-ac53-2d2f9f0584cf"
   },
   "outputs": [
    {
     "name": "stdout",
     "output_type": "stream",
     "text": [
      "Train class counts:\n",
      "negative    750\n",
      "positive    750\n",
      "Name: class, dtype: int64\n"
     ]
    }
   ],
   "source": [
    "negative  = train_df[train_df['class']=='negative']   # normal values in class column\n",
    "positive = train_df[train_df['class']=='positive']  # COVID-19 values in class column\n",
    "\n",
    "from sklearn.utils import resample\n",
    "# downsample training data to equal values of each class, to reduce class bias and reduce training time\n",
    "\n",
    "df_negative_downsampled = resample(negative, replace = True, n_samples = DATASET_SIZE//2)\n",
    "df_positive_downsampled = resample(positive, replace = True, n_samples = DATASET_SIZE//2) \n",
    "\n",
    "#concatenate\n",
    "train_df = pd.concat([df_negative_downsampled, df_positive_downsampled])\n",
    "\n",
    "from sklearn.utils import shuffle\n",
    "train_df = shuffle(train_df) # shuffling so that there is no particular sequence\n",
    "print(\"Train class counts:\")\n",
    "print(train_df['class'].value_counts())"
   ]
  },
  {
   "cell_type": "code",
   "execution_count": 9,
   "id": "7caf2941",
   "metadata": {
    "colab": {
     "base_uri": "https://localhost:8080/"
    },
    "executionInfo": {
     "elapsed": 4,
     "status": "ok",
     "timestamp": 1651401942792,
     "user": {
      "displayName": "Laurence Brown",
      "userId": "02353821870267800674"
     },
     "user_tz": -60
    },
    "id": "7caf2941",
    "outputId": "2f76a283-8ca4-4641-a4ba-f3a547aa38cb",
    "scrolled": true
   },
   "outputs": [
    {
     "name": "stdout",
     "output_type": "stream",
     "text": [
      "Train class counts:\n",
      "negative    750\n",
      "positive    750\n",
      "Name: class, dtype: int64\n",
      "\n",
      "Test class counts:\n",
      "positive    200\n",
      "negative    200\n",
      "Name: class, dtype: int64\n"
     ]
    }
   ],
   "source": [
    "print(\"Train class counts:\")\n",
    "print(train_df['class'].value_counts())\n",
    "print(\"\\nTest class counts:\")\n",
    "print(test_df['class'].value_counts())"
   ]
  },
  {
   "cell_type": "code",
   "execution_count": 10,
   "id": "4a7105a4",
   "metadata": {
    "colab": {
     "base_uri": "https://localhost:8080/"
    },
    "executionInfo": {
     "elapsed": 328,
     "status": "ok",
     "timestamp": 1651401943117,
     "user": {
      "displayName": "Laurence Brown",
      "userId": "02353821870267800674"
     },
     "user_tz": -60
    },
    "id": "4a7105a4",
    "outputId": "c949b510-c54a-40b7-96f8-f19c8591fb64"
   },
   "outputs": [
    {
     "name": "stdout",
     "output_type": "stream",
     "text": [
      "Found 400 validated image filenames belonging to 2 classes.\n"
     ]
    }
   ],
   "source": [
    "# preprocess images\n",
    "test_datagen = ImageDataGenerator(preprocessing_function=tf.keras.applications.xception.preprocess_input)\n",
    "\n",
    "test_gen = test_datagen.flow_from_dataframe(dataframe = test_df, directory=DATASET_PATH+'/test', x_col='filename',\n",
    "                                            y_col='class', target_size=(IMAGE_SIZE, IMAGE_SIZE), batch_size=BATCH_SIZE, \n",
    "                                            color_mode='rgb', class_mode='binary', shuffle=False)"
   ]
  },
  {
   "cell_type": "code",
   "execution_count": 11,
   "id": "dc520d7a",
   "metadata": {
    "executionInfo": {
     "elapsed": 4,
     "status": "ok",
     "timestamp": 1651401943118,
     "user": {
      "displayName": "Laurence Brown",
      "userId": "02353821870267800674"
     },
     "user_tz": -60
    },
    "id": "dc520d7a"
   },
   "outputs": [],
   "source": [
    "def preprocess_images_cv(train_index, val_index):\n",
    "    # find the section of the training data that the fold is located\n",
    "    training_data = train_df.iloc[train_index]\n",
    "    validation_data = train_df.iloc[val_index]\n",
    "    train_datagen = ImageDataGenerator(preprocessing_function=tf.keras.applications.xception.preprocess_input,\n",
    "                                       rotation_range = 20, width_shift_range = 0.2, height_shift_range = 0.2, \n",
    "                                       shear_range = 0.2, zoom_range = 0.1, horizontal_flip = True)\n",
    "\n",
    "    # now get the images from directory with augmentation\n",
    "    \n",
    "    train_gen = train_datagen.flow_from_dataframe(dataframe = training_data, directory=DATASET_PATH+'/train', \n",
    "                                                  x_col='filename', y_col='class', target_size=(IMAGE_SIZE, IMAGE_SIZE), \n",
    "                                                  batch_size=BATCH_SIZE, color_mode='rgb', class_mode='binary')\n",
    "    valid_gen = test_datagen.flow_from_dataframe(dataframe = validation_data, directory=DATASET_PATH+'/train', \n",
    "                                                 x_col='filename', y_col='class', target_size=(IMAGE_SIZE, IMAGE_SIZE), \n",
    "                                                 batch_size=BATCH_SIZE,  color_mode='rgb', class_mode='binary')\n",
    "    return train_gen, valid_gen"
   ]
  },
  {
   "cell_type": "markdown",
   "id": "4174e3f4",
   "metadata": {
    "id": "4174e3f4"
   },
   "source": [
    "## Xception"
   ]
  },
  {
   "cell_type": "code",
   "execution_count": 12,
   "id": "96ce3019",
   "metadata": {
    "executionInfo": {
     "elapsed": 3,
     "status": "ok",
     "timestamp": 1651401943118,
     "user": {
      "displayName": "Laurence Brown",
      "userId": "02353821870267800674"
     },
     "user_tz": -60
    },
    "id": "96ce3019"
   },
   "outputs": [],
   "source": [
    "# required libraries for Xception\n",
    "from tensorflow import keras\n",
    "from tensorflow.keras.optimizers import Adam"
   ]
  },
  {
   "cell_type": "code",
   "execution_count": 19,
   "id": "836aa1a9",
   "metadata": {
    "executionInfo": {
     "elapsed": 242,
     "status": "ok",
     "timestamp": 1651403798792,
     "user": {
      "displayName": "Laurence Brown",
      "userId": "02353821870267800674"
     },
     "user_tz": -60
    },
    "id": "836aa1a9"
   },
   "outputs": [],
   "source": [
    "def create_model(hparams):\n",
    "   # create the base pre-trained model\n",
    "    base_model = keras.applications.Xception(weights='imagenet', input_shape = (IMAGE_SIZE,IMAGE_SIZE,3),\n",
    "                                                  include_top=False)\n",
    "    \n",
    "    # add no imtpovements and add output layer\n",
    "    model = keras.Sequential([base_model,\n",
    "                              keras.layers.GlobalAveragePooling2D(),\n",
    "                              keras.layers.Dense(1, activation='sigmoid')\n",
    "                              ])\n",
    "    # compile model\n",
    "    optimizer_name = hparams[HP_OPTIMIZER]\n",
    "    learning_rate = hparams[HP_L_RATE]\n",
    "    if optimizer_name == \"adam\":\n",
    "        optimizer = tf.keras.optimizers.Adam(learning_rate=learning_rate)\n",
    "    elif optimizer_name == \"sgd\":\n",
    "        optimizer = tf.keras.optimizers.SGD(learning_rate=learning_rate)\n",
    "    else:\n",
    "        raise ValueError(\"unexpected optimizer name: %r\" % (optimizer_name,))\n",
    "\n",
    "\n",
    "    model.compile(optimizer = optimizer,\n",
    "                  loss = 'binary_crossentropy',\n",
    "                  metrics=['accuracy'])\n",
    "    return model"
   ]
  },
  {
   "cell_type": "code",
   "execution_count": 14,
   "id": "b8275562",
   "metadata": {
    "executionInfo": {
     "elapsed": 2,
     "status": "ok",
     "timestamp": 1651401943335,
     "user": {
      "displayName": "Laurence Brown",
      "userId": "02353821870267800674"
     },
     "user_tz": -60
    },
    "id": "b8275562"
   },
   "outputs": [],
   "source": [
    "def get_model_name(k):\n",
    "    return str(\"Xception-Binary-NoImprov\" + \"Fold-\"+str(k)+\"-\"+datetime.now().strftime(\"%Y%m%d-%H%M%S\"))"
   ]
  },
  {
   "cell_type": "code",
   "execution_count": 20,
   "id": "8faa2fa4",
   "metadata": {
    "colab": {
     "base_uri": "https://localhost:8080/"
    },
    "executionInfo": {
     "elapsed": 3978203,
     "status": "ok",
     "timestamp": 1651407778584,
     "user": {
      "displayName": "Laurence Brown",
      "userId": "02353821870267800674"
     },
     "user_tz": -60
    },
    "id": "8faa2fa4",
    "outputId": "085cef34-1280-4f3d-f0ac-68eb2e3113d6"
   },
   "outputs": [
    {
     "name": "stdout",
     "output_type": "stream",
     "text": [
      "HPARAMS: {'num_units': 128, 'dropout': 0.1, 'optimizer': 'adam', 'learning_rate': 0.001}\n",
      "--- Starting trial: 0\n",
      "Found 1200 validated image filenames belonging to 2 classes.\n",
      "Found 300 validated image filenames belonging to 2 classes.\n",
      "Epoch 1/20\n",
      "38/38 [==============================] - 498s 13s/step - loss: 0.3002 - accuracy: 0.8867 - val_loss: 8.9500 - val_accuracy: 0.5367 - lr: 0.0010\n",
      "Epoch 2/20\n",
      "38/38 [==============================] - 43s 1s/step - loss: 0.1924 - accuracy: 0.9292 - val_loss: 4.3958 - val_accuracy: 0.8467 - lr: 0.0010\n",
      "Epoch 3/20\n",
      "38/38 [==============================] - ETA: 0s - loss: 0.1266 - accuracy: 0.9583\n",
      "Epoch 3: ReduceLROnPlateau reducing learning rate to 0.0005000000237487257.\n",
      "38/38 [==============================] - 41s 1s/step - loss: 0.1266 - accuracy: 0.9583 - val_loss: 48.6698 - val_accuracy: 0.5000 - lr: 0.0010\n",
      "Epoch 4/20\n",
      "38/38 [==============================] - 43s 1s/step - loss: 0.1268 - accuracy: 0.9500 - val_loss: 2.2893 - val_accuracy: 0.7500 - lr: 5.0000e-04\n",
      "Epoch 5/20\n",
      "38/38 [==============================] - 44s 1s/step - loss: 0.0917 - accuracy: 0.9650 - val_loss: 0.3376 - val_accuracy: 0.9533 - lr: 5.0000e-04\n",
      "Epoch 6/20\n",
      "38/38 [==============================] - 44s 1s/step - loss: 0.0595 - accuracy: 0.9792 - val_loss: 0.2999 - val_accuracy: 0.9267 - lr: 5.0000e-04\n",
      "Epoch 7/20\n",
      "38/38 [==============================] - ETA: 0s - loss: 0.0825 - accuracy: 0.9700\n",
      "Epoch 7: ReduceLROnPlateau reducing learning rate to 0.0002500000118743628.\n",
      "38/38 [==============================] - 40s 1s/step - loss: 0.0825 - accuracy: 0.9700 - val_loss: 0.4606 - val_accuracy: 0.9033 - lr: 5.0000e-04\n",
      "Epoch 8/20\n",
      "38/38 [==============================] - 42s 1s/step - loss: 0.0423 - accuracy: 0.9858 - val_loss: 0.1992 - val_accuracy: 0.9433 - lr: 2.5000e-04\n",
      "Epoch 9/20\n",
      "38/38 [==============================] - 43s 1s/step - loss: 0.0348 - accuracy: 0.9875 - val_loss: 0.0730 - val_accuracy: 0.9800 - lr: 2.5000e-04\n",
      "Epoch 10/20\n",
      "38/38 [==============================] - 43s 1s/step - loss: 0.0303 - accuracy: 0.9900 - val_loss: 0.0717 - val_accuracy: 0.9800 - lr: 2.5000e-04\n",
      "Epoch 11/20\n",
      "38/38 [==============================] - 44s 1s/step - loss: 0.0218 - accuracy: 0.9917 - val_loss: 0.0627 - val_accuracy: 0.9833 - lr: 2.5000e-04\n",
      "Epoch 12/20\n",
      "38/38 [==============================] - ETA: 0s - loss: 0.0393 - accuracy: 0.9875\n",
      "Epoch 12: ReduceLROnPlateau reducing learning rate to 0.0001250000059371814.\n",
      "38/38 [==============================] - 40s 1s/step - loss: 0.0393 - accuracy: 0.9875 - val_loss: 0.0887 - val_accuracy: 0.9767 - lr: 2.5000e-04\n",
      "Epoch 13/20\n",
      "38/38 [==============================] - ETA: 0s - loss: 0.0338 - accuracy: 0.9875\n",
      "Epoch 13: ReduceLROnPlateau reducing learning rate to 6.25000029685907e-05.\n",
      "38/38 [==============================] - 40s 1s/step - loss: 0.0338 - accuracy: 0.9875 - val_loss: 0.1402 - val_accuracy: 0.9667 - lr: 1.2500e-04\n",
      "Epoch 14/20\n",
      "38/38 [==============================] - ETA: 0s - loss: 0.0174 - accuracy: 0.9933Restoring model weights from the end of the best epoch: 11.\n",
      "\n",
      "Epoch 14: ReduceLROnPlateau reducing learning rate to 3.125000148429535e-05.\n",
      "38/38 [==============================] - 40s 1s/step - loss: 0.0174 - accuracy: 0.9933 - val_loss: 0.1089 - val_accuracy: 0.9667 - lr: 6.2500e-05\n",
      "Epoch 14: early stopping\n",
      "--- Starting trial: 1\n",
      "Found 1200 validated image filenames belonging to 2 classes.\n",
      "Found 300 validated image filenames belonging to 2 classes.\n",
      "Epoch 1/20\n",
      "38/38 [==============================] - 50s 1s/step - loss: 0.3215 - accuracy: 0.8650 - val_loss: 5.5982 - val_accuracy: 0.6500 - lr: 0.0010\n",
      "Epoch 2/20\n",
      "38/38 [==============================] - ETA: 0s - loss: 0.1744 - accuracy: 0.9292\n",
      "Epoch 2: ReduceLROnPlateau reducing learning rate to 0.0005000000237487257.\n",
      "38/38 [==============================] - 41s 1s/step - loss: 0.1744 - accuracy: 0.9292 - val_loss: 8.2046 - val_accuracy: 0.6667 - lr: 0.0010\n",
      "Epoch 3/20\n",
      "38/38 [==============================] - ETA: 0s - loss: 0.1337 - accuracy: 0.9492\n",
      "Epoch 3: ReduceLROnPlateau reducing learning rate to 0.0002500000118743628.\n",
      "38/38 [==============================] - 40s 1s/step - loss: 0.1337 - accuracy: 0.9492 - val_loss: 9.6781 - val_accuracy: 0.6333 - lr: 5.0000e-04\n",
      "Epoch 4/20\n",
      "38/38 [==============================] - 43s 1s/step - loss: 0.1066 - accuracy: 0.9700 - val_loss: 4.1015 - val_accuracy: 0.6533 - lr: 2.5000e-04\n",
      "Epoch 5/20\n",
      "38/38 [==============================] - 44s 1s/step - loss: 0.0634 - accuracy: 0.9758 - val_loss: 0.8383 - val_accuracy: 0.8100 - lr: 2.5000e-04\n",
      "Epoch 6/20\n",
      "38/38 [==============================] - 44s 1s/step - loss: 0.0649 - accuracy: 0.9808 - val_loss: 0.3715 - val_accuracy: 0.9067 - lr: 2.5000e-04\n",
      "Epoch 7/20\n",
      "38/38 [==============================] - 43s 1s/step - loss: 0.0434 - accuracy: 0.9833 - val_loss: 0.2045 - val_accuracy: 0.9467 - lr: 2.5000e-04\n",
      "Epoch 8/20\n",
      "38/38 [==============================] - ETA: 0s - loss: 0.0424 - accuracy: 0.9833\n",
      "Epoch 8: ReduceLROnPlateau reducing learning rate to 0.0001250000059371814.\n",
      "38/38 [==============================] - 41s 1s/step - loss: 0.0424 - accuracy: 0.9833 - val_loss: 0.3400 - val_accuracy: 0.9167 - lr: 2.5000e-04\n",
      "Epoch 9/20\n",
      "38/38 [==============================] - 43s 1s/step - loss: 0.0398 - accuracy: 0.9867 - val_loss: 0.1729 - val_accuracy: 0.9567 - lr: 1.2500e-04\n",
      "Epoch 10/20\n",
      "38/38 [==============================] - 43s 1s/step - loss: 0.0358 - accuracy: 0.9850 - val_loss: 0.1577 - val_accuracy: 0.9533 - lr: 1.2500e-04\n",
      "Epoch 11/20\n",
      "38/38 [==============================] - 44s 1s/step - loss: 0.0220 - accuracy: 0.9942 - val_loss: 0.1469 - val_accuracy: 0.9567 - lr: 1.2500e-04\n",
      "Epoch 12/20\n",
      "38/38 [==============================] - ETA: 0s - loss: 0.0120 - accuracy: 0.9975\n",
      "Epoch 12: ReduceLROnPlateau reducing learning rate to 6.25000029685907e-05.\n",
      "38/38 [==============================] - 45s 1s/step - loss: 0.0120 - accuracy: 0.9975 - val_loss: 0.1591 - val_accuracy: 0.9533 - lr: 1.2500e-04\n",
      "Epoch 13/20\n",
      "38/38 [==============================] - ETA: 0s - loss: 0.0162 - accuracy: 0.9950\n",
      "Epoch 13: ReduceLROnPlateau reducing learning rate to 3.125000148429535e-05.\n",
      "38/38 [==============================] - 40s 1s/step - loss: 0.0162 - accuracy: 0.9950 - val_loss: 0.1777 - val_accuracy: 0.9567 - lr: 6.2500e-05\n",
      "Epoch 14/20\n",
      "38/38 [==============================] - ETA: 0s - loss: 0.0136 - accuracy: 0.9983Restoring model weights from the end of the best epoch: 11.\n",
      "\n",
      "Epoch 14: ReduceLROnPlateau reducing learning rate to 1.5625000742147677e-05.\n",
      "38/38 [==============================] - 40s 1s/step - loss: 0.0136 - accuracy: 0.9983 - val_loss: 0.1796 - val_accuracy: 0.9567 - lr: 3.1250e-05\n",
      "Epoch 14: early stopping\n",
      "--- Starting trial: 2\n",
      "Found 1200 validated image filenames belonging to 2 classes.\n",
      "Found 300 validated image filenames belonging to 2 classes.\n",
      "Epoch 1/20\n",
      "38/38 [==============================] - 49s 1s/step - loss: 0.3149 - accuracy: 0.8817 - val_loss: 3.7242 - val_accuracy: 0.7067 - lr: 0.0010\n",
      "Epoch 2/20\n",
      "38/38 [==============================] - ETA: 0s - loss: 0.1904 - accuracy: 0.9392\n",
      "Epoch 2: ReduceLROnPlateau reducing learning rate to 0.0005000000237487257.\n",
      "38/38 [==============================] - 41s 1s/step - loss: 0.1904 - accuracy: 0.9392 - val_loss: 5.0672 - val_accuracy: 0.7267 - lr: 0.0010\n",
      "Epoch 3/20\n",
      "38/38 [==============================] - 43s 1s/step - loss: 0.1190 - accuracy: 0.9567 - val_loss: 1.0636 - val_accuracy: 0.8400 - lr: 5.0000e-04\n",
      "Epoch 4/20\n",
      "38/38 [==============================] - ETA: 0s - loss: 0.1210 - accuracy: 0.9575\n",
      "Epoch 4: ReduceLROnPlateau reducing learning rate to 0.0002500000118743628.\n",
      "38/38 [==============================] - 40s 1s/step - loss: 0.1210 - accuracy: 0.9575 - val_loss: 1.3496 - val_accuracy: 0.7867 - lr: 5.0000e-04\n",
      "Epoch 5/20\n",
      "38/38 [==============================] - 43s 1s/step - loss: 0.0618 - accuracy: 0.9792 - val_loss: 0.5966 - val_accuracy: 0.8733 - lr: 2.5000e-04\n",
      "Epoch 6/20\n",
      "38/38 [==============================] - 44s 1s/step - loss: 0.0545 - accuracy: 0.9833 - val_loss: 0.2275 - val_accuracy: 0.9400 - lr: 2.5000e-04\n",
      "Epoch 7/20\n",
      "38/38 [==============================] - 44s 1s/step - loss: 0.0602 - accuracy: 0.9733 - val_loss: 0.2072 - val_accuracy: 0.9533 - lr: 2.5000e-04\n",
      "Epoch 8/20\n",
      "38/38 [==============================] - ETA: 0s - loss: 0.0627 - accuracy: 0.9783\n",
      "Epoch 8: ReduceLROnPlateau reducing learning rate to 0.0001250000059371814.\n",
      "38/38 [==============================] - 41s 1s/step - loss: 0.0627 - accuracy: 0.9783 - val_loss: 0.2315 - val_accuracy: 0.9567 - lr: 2.5000e-04\n",
      "Epoch 9/20\n",
      "38/38 [==============================] - 43s 1s/step - loss: 0.0397 - accuracy: 0.9883 - val_loss: 0.1596 - val_accuracy: 0.9600 - lr: 1.2500e-04\n",
      "Epoch 10/20\n",
      "38/38 [==============================] - 43s 1s/step - loss: 0.0402 - accuracy: 0.9833 - val_loss: 0.1075 - val_accuracy: 0.9733 - lr: 1.2500e-04\n",
      "Epoch 11/20\n",
      "38/38 [==============================] - 44s 1s/step - loss: 0.0278 - accuracy: 0.9908 - val_loss: 0.1049 - val_accuracy: 0.9800 - lr: 1.2500e-04\n",
      "Epoch 12/20\n",
      "38/38 [==============================] - 43s 1s/step - loss: 0.0173 - accuracy: 0.9958 - val_loss: 0.0966 - val_accuracy: 0.9667 - lr: 1.2500e-04\n",
      "Epoch 13/20\n",
      "38/38 [==============================] - ETA: 0s - loss: 0.0186 - accuracy: 0.9950\n",
      "Epoch 13: ReduceLROnPlateau reducing learning rate to 6.25000029685907e-05.\n",
      "38/38 [==============================] - 41s 1s/step - loss: 0.0186 - accuracy: 0.9950 - val_loss: 0.1183 - val_accuracy: 0.9667 - lr: 1.2500e-04\n",
      "Epoch 14/20\n",
      "38/38 [==============================] - ETA: 0s - loss: 0.0221 - accuracy: 0.9917\n",
      "Epoch 14: ReduceLROnPlateau reducing learning rate to 3.125000148429535e-05.\n",
      "38/38 [==============================] - 40s 1s/step - loss: 0.0221 - accuracy: 0.9917 - val_loss: 0.1011 - val_accuracy: 0.9733 - lr: 6.2500e-05\n",
      "Epoch 15/20\n",
      "38/38 [==============================] - 43s 1s/step - loss: 0.0193 - accuracy: 0.9908 - val_loss: 0.0911 - val_accuracy: 0.9767 - lr: 3.1250e-05\n",
      "Epoch 16/20\n",
      "38/38 [==============================] - 44s 1s/step - loss: 0.0113 - accuracy: 0.9975 - val_loss: 0.0907 - val_accuracy: 0.9767 - lr: 3.1250e-05\n",
      "Epoch 17/20\n",
      "38/38 [==============================] - 44s 1s/step - loss: 0.0111 - accuracy: 0.9958 - val_loss: 0.0866 - val_accuracy: 0.9700 - lr: 3.1250e-05\n",
      "Epoch 18/20\n",
      "38/38 [==============================] - 44s 1s/step - loss: 0.0151 - accuracy: 0.9950 - val_loss: 0.0864 - val_accuracy: 0.9767 - lr: 3.1250e-05\n",
      "Epoch 19/20\n",
      "38/38 [==============================] - 44s 1s/step - loss: 0.0132 - accuracy: 0.9958 - val_loss: 0.0791 - val_accuracy: 0.9733 - lr: 3.1250e-05\n",
      "Epoch 20/20\n",
      "38/38 [==============================] - ETA: 0s - loss: 0.0129 - accuracy: 0.9950\n",
      "Epoch 20: ReduceLROnPlateau reducing learning rate to 1.5625000742147677e-05.\n",
      "38/38 [==============================] - 41s 1s/step - loss: 0.0129 - accuracy: 0.9950 - val_loss: 0.0846 - val_accuracy: 0.9700 - lr: 3.1250e-05\n",
      "--- Starting trial: 3\n",
      "Found 1200 validated image filenames belonging to 2 classes.\n",
      "Found 300 validated image filenames belonging to 2 classes.\n",
      "Epoch 1/20\n",
      "38/38 [==============================] - 49s 1s/step - loss: 0.3006 - accuracy: 0.8775 - val_loss: 34.7520 - val_accuracy: 0.6100 - lr: 0.0010\n",
      "Epoch 2/20\n",
      "38/38 [==============================] - 45s 1s/step - loss: 0.1915 - accuracy: 0.9225 - val_loss: 2.6689 - val_accuracy: 0.8733 - lr: 0.0010\n",
      "Epoch 3/20\n",
      "38/38 [==============================] - 44s 1s/step - loss: 0.1332 - accuracy: 0.9500 - val_loss: 1.0849 - val_accuracy: 0.9267 - lr: 0.0010\n",
      "Epoch 4/20\n",
      "38/38 [==============================] - 44s 1s/step - loss: 0.1673 - accuracy: 0.9475 - val_loss: 0.5465 - val_accuracy: 0.9267 - lr: 0.0010\n",
      "Epoch 5/20\n",
      "38/38 [==============================] - 43s 1s/step - loss: 0.1082 - accuracy: 0.9550 - val_loss: 0.5106 - val_accuracy: 0.9133 - lr: 0.0010\n",
      "Epoch 6/20\n",
      "38/38 [==============================] - ETA: 0s - loss: 0.1234 - accuracy: 0.9575\n",
      "Epoch 6: ReduceLROnPlateau reducing learning rate to 0.0005000000237487257.\n",
      "38/38 [==============================] - 41s 1s/step - loss: 0.1234 - accuracy: 0.9575 - val_loss: 0.9825 - val_accuracy: 0.9300 - lr: 0.0010\n",
      "Epoch 7/20\n",
      "38/38 [==============================] - 43s 1s/step - loss: 0.0942 - accuracy: 0.9700 - val_loss: 0.2418 - val_accuracy: 0.9433 - lr: 5.0000e-04\n",
      "Epoch 8/20\n",
      "38/38 [==============================] - 44s 1s/step - loss: 0.0421 - accuracy: 0.9825 - val_loss: 0.1577 - val_accuracy: 0.9500 - lr: 5.0000e-04\n",
      "Epoch 9/20\n",
      "38/38 [==============================] - ETA: 0s - loss: 0.0672 - accuracy: 0.9775\n",
      "Epoch 9: ReduceLROnPlateau reducing learning rate to 0.0002500000118743628.\n",
      "38/38 [==============================] - 41s 1s/step - loss: 0.0672 - accuracy: 0.9775 - val_loss: 0.3118 - val_accuracy: 0.9200 - lr: 5.0000e-04\n",
      "Epoch 10/20\n",
      "38/38 [==============================] - 43s 1s/step - loss: 0.0599 - accuracy: 0.9800 - val_loss: 0.1428 - val_accuracy: 0.9600 - lr: 2.5000e-04\n",
      "Epoch 11/20\n",
      "38/38 [==============================] - 44s 1s/step - loss: 0.0411 - accuracy: 0.9875 - val_loss: 0.1179 - val_accuracy: 0.9600 - lr: 2.5000e-04\n",
      "Epoch 12/20\n",
      "38/38 [==============================] - ETA: 0s - loss: 0.0222 - accuracy: 0.9933\n",
      "Epoch 12: ReduceLROnPlateau reducing learning rate to 0.0001250000059371814.\n",
      "38/38 [==============================] - 41s 1s/step - loss: 0.0222 - accuracy: 0.9933 - val_loss: 0.2056 - val_accuracy: 0.9333 - lr: 2.5000e-04\n",
      "Epoch 13/20\n",
      "38/38 [==============================] - ETA: 0s - loss: 0.0181 - accuracy: 0.9933\n",
      "Epoch 13: ReduceLROnPlateau reducing learning rate to 6.25000029685907e-05.\n",
      "38/38 [==============================] - 40s 1s/step - loss: 0.0181 - accuracy: 0.9933 - val_loss: 0.2080 - val_accuracy: 0.9367 - lr: 1.2500e-04\n",
      "Epoch 14/20\n",
      "38/38 [==============================] - ETA: 0s - loss: 0.0219 - accuracy: 0.9942Restoring model weights from the end of the best epoch: 11.\n",
      "\n",
      "Epoch 14: ReduceLROnPlateau reducing learning rate to 3.125000148429535e-05.\n",
      "38/38 [==============================] - 40s 1s/step - loss: 0.0219 - accuracy: 0.9942 - val_loss: 0.2304 - val_accuracy: 0.9333 - lr: 6.2500e-05\n",
      "Epoch 14: early stopping\n",
      "--- Starting trial: 4\n",
      "Found 1200 validated image filenames belonging to 2 classes.\n",
      "Found 300 validated image filenames belonging to 2 classes.\n",
      "Epoch 1/20\n",
      "38/38 [==============================] - 49s 1s/step - loss: 0.3076 - accuracy: 0.8717 - val_loss: 16.7077 - val_accuracy: 0.5133 - lr: 0.0010\n",
      "Epoch 2/20\n",
      "38/38 [==============================] - 44s 1s/step - loss: 0.2425 - accuracy: 0.9100 - val_loss: 0.4456 - val_accuracy: 0.9300 - lr: 0.0010\n",
      "Epoch 3/20\n",
      "38/38 [==============================] - 44s 1s/step - loss: 0.1649 - accuracy: 0.9467 - val_loss: 0.3863 - val_accuracy: 0.9333 - lr: 0.0010\n",
      "Epoch 4/20\n",
      "38/38 [==============================] - ETA: 0s - loss: 0.1239 - accuracy: 0.9492\n",
      "Epoch 4: ReduceLROnPlateau reducing learning rate to 0.0005000000237487257.\n",
      "38/38 [==============================] - 41s 1s/step - loss: 0.1239 - accuracy: 0.9492 - val_loss: 2.4237 - val_accuracy: 0.8833 - lr: 0.0010\n",
      "Epoch 5/20\n",
      "38/38 [==============================] - 43s 1s/step - loss: 0.0703 - accuracy: 0.9775 - val_loss: 0.3179 - val_accuracy: 0.9467 - lr: 5.0000e-04\n",
      "Epoch 6/20\n",
      "38/38 [==============================] - 44s 1s/step - loss: 0.0740 - accuracy: 0.9692 - val_loss: 0.1119 - val_accuracy: 0.9667 - lr: 5.0000e-04\n",
      "Epoch 7/20\n",
      "38/38 [==============================] - ETA: 0s - loss: 0.0801 - accuracy: 0.9717\n",
      "Epoch 7: ReduceLROnPlateau reducing learning rate to 0.0002500000118743628.\n",
      "38/38 [==============================] - 41s 1s/step - loss: 0.0801 - accuracy: 0.9717 - val_loss: 0.2749 - val_accuracy: 0.9133 - lr: 5.0000e-04\n",
      "Epoch 8/20\n",
      "38/38 [==============================] - 43s 1s/step - loss: 0.0516 - accuracy: 0.9842 - val_loss: 0.1083 - val_accuracy: 0.9733 - lr: 2.5000e-04\n",
      "Epoch 9/20\n",
      "38/38 [==============================] - ETA: 0s - loss: 0.0394 - accuracy: 0.9883\n",
      "Epoch 9: ReduceLROnPlateau reducing learning rate to 0.0001250000059371814.\n",
      "38/38 [==============================] - 41s 1s/step - loss: 0.0394 - accuracy: 0.9883 - val_loss: 0.1452 - val_accuracy: 0.9500 - lr: 2.5000e-04\n",
      "Epoch 10/20\n",
      "38/38 [==============================] - ETA: 0s - loss: 0.0290 - accuracy: 0.9900\n",
      "Epoch 10: ReduceLROnPlateau reducing learning rate to 6.25000029685907e-05.\n",
      "38/38 [==============================] - 40s 1s/step - loss: 0.0290 - accuracy: 0.9900 - val_loss: 0.1407 - val_accuracy: 0.9500 - lr: 1.2500e-04\n",
      "Epoch 11/20\n",
      "38/38 [==============================] - 43s 1s/step - loss: 0.0235 - accuracy: 0.9933 - val_loss: 0.0795 - val_accuracy: 0.9800 - lr: 6.2500e-05\n",
      "Epoch 12/20\n",
      "38/38 [==============================] - 43s 1s/step - loss: 0.0200 - accuracy: 0.9933 - val_loss: 0.0729 - val_accuracy: 0.9800 - lr: 6.2500e-05\n",
      "Epoch 13/20\n",
      "38/38 [==============================] - ETA: 0s - loss: 0.0186 - accuracy: 0.9925\n",
      "Epoch 13: ReduceLROnPlateau reducing learning rate to 3.125000148429535e-05.\n",
      "38/38 [==============================] - 41s 1s/step - loss: 0.0186 - accuracy: 0.9925 - val_loss: 0.0803 - val_accuracy: 0.9800 - lr: 6.2500e-05\n",
      "Epoch 14/20\n",
      "38/38 [==============================] - ETA: 0s - loss: 0.0174 - accuracy: 0.9925\n",
      "Epoch 14: ReduceLROnPlateau reducing learning rate to 1.5625000742147677e-05.\n",
      "38/38 [==============================] - 40s 1s/step - loss: 0.0174 - accuracy: 0.9925 - val_loss: 0.0749 - val_accuracy: 0.9833 - lr: 3.1250e-05\n",
      "Epoch 15/20\n",
      "38/38 [==============================] - 43s 1s/step - loss: 0.0090 - accuracy: 0.9992 - val_loss: 0.0723 - val_accuracy: 0.9833 - lr: 1.5625e-05\n",
      "Epoch 16/20\n",
      "38/38 [==============================] - ETA: 0s - loss: 0.0125 - accuracy: 0.9967\n",
      "Epoch 16: ReduceLROnPlateau reducing learning rate to 7.812500371073838e-06.\n",
      "38/38 [==============================] - 42s 1s/step - loss: 0.0125 - accuracy: 0.9967 - val_loss: 0.0761 - val_accuracy: 0.9800 - lr: 1.5625e-05\n",
      "Epoch 17/20\n",
      "38/38 [==============================] - ETA: 0s - loss: 0.0144 - accuracy: 0.9950\n",
      "Epoch 17: ReduceLROnPlateau reducing learning rate to 3.906250185536919e-06.\n",
      "38/38 [==============================] - 40s 1s/step - loss: 0.0144 - accuracy: 0.9950 - val_loss: 0.0812 - val_accuracy: 0.9767 - lr: 7.8125e-06\n",
      "Epoch 18/20\n",
      "38/38 [==============================] - ETA: 0s - loss: 0.0135 - accuracy: 0.9967Restoring model weights from the end of the best epoch: 15.\n",
      "\n",
      "Epoch 18: ReduceLROnPlateau reducing learning rate to 1.9531250927684596e-06.\n",
      "38/38 [==============================] - 40s 1s/step - loss: 0.0135 - accuracy: 0.9967 - val_loss: 0.0857 - val_accuracy: 0.9733 - lr: 3.9063e-06\n",
      "Epoch 18: early stopping\n"
     ]
    }
   ],
   "source": [
    "# perform HP tuning and CV on the model on the data\n",
    "Y = train_df['class']\n",
    "trained_models = []\n",
    "\n",
    "# iterate through hyper-parameters\n",
    "for num_units in HP_NUM_UNITS.domain.values:\n",
    "    for dropout_rate in HP_DROPOUT.domain.values:\n",
    "        for optimizer in HP_OPTIMIZER.domain.values:\n",
    "            for learning_rate in HP_L_RATE.domain.values:\n",
    "                # instantiate k folds and hyper-parameters for this iteration\n",
    "                skf = StratifiedKFold(n_splits = K_FOLDS, shuffle = True) \n",
    "                k_i = 0\n",
    "                k_fold_models = []\n",
    "                elapsed_times = []\n",
    "                hparams = {\n",
    "                    HP_NUM_UNITS: num_units,\n",
    "                    HP_DROPOUT: dropout_rate,\n",
    "                    HP_OPTIMIZER: optimizer,\n",
    "                    HP_L_RATE: learning_rate\n",
    "                }\n",
    "                print('HPARAMS:',{h.name: hparams[h] for h in hparams})\n",
    "                \n",
    "                # iterate through k folds\n",
    "                for train_index, val_index in skf.split(np.zeros(len(Y)),Y):\n",
    "                    print('--- Starting trial: %s' % k_i)\n",
    "                    t = time.process_time() # begin timing model\n",
    "                    train_gen, valid_gen = preprocess_images_cv(train_index, val_index) # fetch dataset for this fold\n",
    "                    \n",
    "                    # set up logging directories and callbacks\n",
    "                    logdir = os.path.join('trained-classifiers','logs','fit', get_model_name(k_i))\n",
    "                    hpdir = os.path.join('trained-classifiers','logs','hparam_tuning', get_model_name(k_i))\n",
    "                    modeldir = os.path.join('model-checkpoints',str(get_model_name(k_i)+\".h5\"))\n",
    "                    callbacks = [\n",
    "                        keras.callbacks.ModelCheckpoint(filepath=modeldir, save_best_only=True, verbose = 0),\n",
    "                        keras.callbacks.EarlyStopping(patience=3, monitor='val_loss', verbose=1, restore_best_weights=True),\n",
    "                        keras.callbacks.ReduceLROnPlateau(monitor='val_loss', factor=0.5, patience=1, verbose=1),\n",
    "                        keras.callbacks.TensorBoard(log_dir=logdir)\n",
    "                      ]\n",
    "                    \n",
    "                    # create the model\n",
    "                    hp.hparams(hparams)  \n",
    "                    model = create_model(hparams)\n",
    "                    \n",
    "                    # train model\n",
    "                    model.fit(train_gen, validation_data=valid_gen, epochs=MAX_EPOCHS, callbacks=callbacks)\n",
    "                    \n",
    "                    # record the values used in this trial\n",
    "                    elapsed_times.append(time.process_time() - t)\n",
    "                    k_fold_models.append(modeldir)\n",
    "                    \n",
    "                    # clean memory\n",
    "                    del model, train_gen, valid_gen\n",
    "                    keras.backend.clear_session()\n",
    "                    k_i += 1\n",
    "                    \n",
    "                trained_models.append([hparams, k_fold_models, elapsed_times])"
   ]
  },
  {
   "cell_type": "markdown",
   "id": "7d4d6530",
   "metadata": {
    "id": "7d4d6530"
   },
   "source": [
    "## Evaluation"
   ]
  },
  {
   "cell_type": "code",
   "execution_count": 21,
   "id": "9851f1f7",
   "metadata": {
    "executionInfo": {
     "elapsed": 3,
     "status": "ok",
     "timestamp": 1651407779280,
     "user": {
      "displayName": "Laurence Brown",
      "userId": "02353821870267800674"
     },
     "user_tz": -60
    },
    "id": "9851f1f7"
   },
   "outputs": [],
   "source": [
    "# import libraries for evaluation\n",
    "from sklearn.metrics import accuracy_score, precision_score, recall_score, f1_score, confusion_matrix\n",
    "from statistics import mean"
   ]
  },
  {
   "cell_type": "code",
   "execution_count": 22,
   "id": "69b88b94",
   "metadata": {
    "colab": {
     "base_uri": "https://localhost:8080/"
    },
    "executionInfo": {
     "elapsed": 534080,
     "status": "ok",
     "timestamp": 1651408313358,
     "user": {
      "displayName": "Laurence Brown",
      "userId": "02353821870267800674"
     },
     "user_tz": -60
    },
    "id": "69b88b94",
    "outputId": "905e69af-78d9-403f-dd38-56275423e5c5"
   },
   "outputs": [
    {
     "name": "stdout",
     "output_type": "stream",
     "text": [
      "13/13 [==============================] - 24s 2s/step - loss: 0.0553 - accuracy: 0.9800\n",
      "13/13 [==============================] - 23s 2s/step - loss: 0.0214 - accuracy: 0.9925\n",
      "13/13 [==============================] - 23s 2s/step - loss: 0.1330 - accuracy: 0.9425\n",
      "13/13 [==============================] - 22s 2s/step - loss: 0.0965 - accuracy: 0.9650\n",
      "13/13 [==============================] - 22s 2s/step - loss: 0.0384 - accuracy: 0.9850\n",
      "SCORE FOR HPARAMS: {'num_units': 128, 'dropout': 0.1, 'optimizer': 'adam', 'learning_rate': 0.001}\n",
      "Mean accuracy: 0.973\n",
      "Mean k_accuracy; 0.9730000019073486\n",
      "Mean precision: 0.9828569657371146\n",
      "Mean recall: 0.963\n",
      "Mean f1: 0.9725071240134648\n",
      "Mean training time: 794.7231328148\n"
     ]
    }
   ],
   "source": [
    "# iterate through hyper-parameter configurations\n",
    "for j in trained_models:\n",
    "    model = create_model(j[0])\n",
    "    accuracies = []\n",
    "    k_accuracies = []\n",
    "    precisions = []\n",
    "    recalls = []\n",
    "    f1s = []\n",
    "    tp = []\n",
    "    fp = []\n",
    "    tn = []\n",
    "    fn = []\n",
    "    \n",
    "    # iterate through each folds model\n",
    "    for i in j[1]:\n",
    "        model.load_weights(i)\n",
    "        test_pred = model.predict(test_gen)\n",
    "        y_pred = np.rint(test_pred).flatten()\n",
    "        y_test= [test_gen.class_indices[k] for k in test_df['class'].values.tolist()]\n",
    "        k_accuracies.append(model.evaluate(test_gen)[1])\n",
    "        accuracies.append(accuracy_score(y_test, y_pred))\n",
    "        precisions.append(precision_score(y_test, y_pred, zero_division=0))\n",
    "        recalls.append(recall_score(y_test, y_pred))\n",
    "        f1s.append(f1_score(y_test, y_pred))\n",
    "        tn_x, fp_x, fn_x, tp_x = confusion_matrix(y_test, y_pred).ravel()\n",
    "        tp.append(tp_x)\n",
    "        fp.append(fp_x)\n",
    "        tn.append(tn_x)\n",
    "        fn.append(fn_x)\n",
    "\n",
    "    print(\"SCORE FOR HPARAMS:\", {h.name: j[0][h] for h in j[0]})\n",
    "    print(\"Mean accuracy:\", mean(accuracies))\n",
    "    print(\"Mean k_accuracy;\", mean(k_accuracies))\n",
    "    print(\"Mean precision:\", mean(precisions))\n",
    "    print(\"Mean recall:\", mean(recalls))\n",
    "    print(\"Mean f1:\", mean(f1s))\n",
    "    print(\"Mean training time:\", mean(j[2]))\n",
    "    \n",
    "    # retreive hyper-parameters\n",
    "    hdict = {h.name: j[0][h] for h in j[0]}\n",
    "    \n",
    "    # save results to file\n",
    "    df =  pd.DataFrame(np.array([[str(j[1]),\n",
    "                                  hdict.get('num_units'), hdict.get('dropout'), hdict.get('optimizer'), \n",
    "                                  hdict.get('learning_rate'),IMAGE_SIZE, BATCH_SIZE, DATASET_SIZE, MAX_EPOCHS, K_FOLDS,\n",
    "                                  mean(accuracies), mean(k_accuracies), mean(precisions), mean(recalls), mean(f1s),\n",
    "                                  mean(tn), mean(fp), mean(fn), mean(tp), mean(j[2])\n",
    "                                 ]]),\n",
    "                       columns=['Model Names','num_units', 'dropout','optimizer','learning_rate',\n",
    "                                'IMAGE_SIZE', 'BATCH_SIZE', 'DATASET_SIZE', 'MAX_EPOCHS',\n",
    "                                'K_FOLDS','Accuracy', 'K_accuracy', 'Precision', 'Recall', 'f1 Score', \n",
    "                                'True Negatives', ' False Positives', 'False Negatives', 'True Positives', 'Training Time'])\n",
    "    with open('trained-classifiers/Xception.csv', 'a') as f:\n",
    "        df.to_csv(f, mode='a', header=f.tell()==0, index = False)"
   ]
  },
  {
   "cell_type": "markdown",
   "id": "96f74fbe",
   "metadata": {
    "id": "96f74fbe"
   },
   "source": [
    "NOTE: Accuracy and loss graphs can be seen on TensorBoard, run \"%tensorboard --logdir logs --host 0.0.0.0\" to open"
   ]
  }
 ],
 "metadata": {
  "accelerator": "GPU",
  "colab": {
   "collapsed_sections": [],
   "name": "FINAL  Xception-Binary-Hparams-NO-IMPROVEMENTS.ipynb",
   "provenance": [
    {
     "file_id": "11r3f-qnUzKIE9bcitoUoSNfognYvm6mH",
     "timestamp": 1651401421910
    },
    {
     "file_id": "https://github.com/laurencebrwn/ml-covid19-eval/blob/main/Xception-Binary-Hparams.ipynb",
     "timestamp": 1649284749785
    }
   ]
  },
  "environment": {
   "kernel": "python3",
   "name": "managed-notebooks.m90",
   "type": "gcloud",
   "uri": "gcr.io/deeplearning-platform-release/managed-notebooks:m90"
  },
  "kernelspec": {
   "display_name": "Python 3 (ipykernel)",
   "language": "python",
   "name": "python3"
  },
  "language_info": {
   "codemirror_mode": {
    "name": "ipython",
    "version": 3
   },
   "file_extension": ".py",
   "mimetype": "text/x-python",
   "name": "python",
   "nbconvert_exporter": "python",
   "pygments_lexer": "ipython3",
   "version": "3.7.9"
  }
 },
 "nbformat": 4,
 "nbformat_minor": 5
}
