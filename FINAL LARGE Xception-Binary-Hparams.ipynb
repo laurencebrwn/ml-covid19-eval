{
 "cells": [
  {
   "cell_type": "markdown",
   "id": "8e0ccce8",
   "metadata": {
    "id": "8e0ccce8",
    "tags": []
   },
   "source": [
    "## Model Variables"
   ]
  },
  {
   "cell_type": "code",
   "execution_count": null,
   "id": "68fe9ea2",
   "metadata": {
    "id": "68fe9ea2"
   },
   "outputs": [],
   "source": [
    "IMAGE_SIZE = 224\n",
    "BATCH_SIZE = 32\n",
    "DATASET_SIZE = 30482\n",
    "MAX_EPOCHS = 20\n",
    "K_FOLDS = 5\n",
    "DATASET_PATH = 'covidx-cxr2'"
   ]
  },
  {
   "cell_type": "markdown",
   "id": "69bfede4",
   "metadata": {
    "id": "69bfede4"
   },
   "source": [
    "## Data Preparation"
   ]
  },
  {
   "cell_type": "code",
   "execution_count": null,
   "id": "b2c6945d",
   "metadata": {
    "colab": {
     "base_uri": "https://localhost:8080/"
    },
    "executionInfo": {
     "elapsed": 5779,
     "status": "ok",
     "timestamp": 1649259740467,
     "user": {
      "displayName": "",
      "userId": ""
     },
     "user_tz": -60
    },
    "id": "b2c6945d",
    "outputId": "599a317d-0e6d-4b2b-ec8a-f8df12289973"
   },
   "outputs": [
    {
     "name": "stdout",
     "output_type": "stream",
     "text": [
      "Tensorflow Version: 2.8.0\n",
      "Tensorboard Version: 2.8.0\n",
      "WARNING:tensorflow:From <ipython-input-5-69532632d99b>:19: is_gpu_available (from tensorflow.python.framework.test_util) is deprecated and will be removed in a future version.\n",
      "Instructions for updating:\n",
      "Use `tf.config.list_physical_devices('GPU')` instead.\n",
      "GPU Found: True\n"
     ]
    }
   ],
   "source": [
    "# import required libraries\n",
    "import numpy as np\n",
    "import pandas as pd\n",
    "import os\n",
    "import tensorflow as tf\n",
    "from tensorflow.keras.preprocessing.image import ImageDataGenerator\n",
    "import shutil\n",
    "from sklearn.metrics import confusion_matrix, classification_report\n",
    "from datetime import datetime\n",
    "from packaging import version\n",
    "%reload_ext tensorboard\n",
    "import tensorboard\n",
    "from sklearn.model_selection import StratifiedKFold\n",
    "from tensorboard.plugins.hparams import api as hp\n",
    "import time\n",
    "\n",
    "print(\"Tensorflow Version:\", tf.__version__)\n",
    "print(\"Tensorboard Version:\", tensorboard.__version__)\n",
    "print(\"GPU Found:\", tf.test.is_gpu_available())"
   ]
  },
  {
   "cell_type": "code",
   "execution_count": null,
   "id": "55a26665",
   "metadata": {
    "id": "55a26665"
   },
   "outputs": [],
   "source": [
    "# set up hyper-parameters\n",
    "HP_NUM_UNITS = hp.HParam('num_units', hp.Discrete([128]))\n",
    "HP_DROPOUT = hp.HParam('dropout', hp.Discrete([0.1]))\n",
    "HP_OPTIMIZER = hp.HParam('optimizer', hp.Discrete(['adam']))\n",
    "HP_L_RATE= hp.HParam('learning_rate', hp.Discrete([0.001]))\n",
    "\n",
    "METRIC_ACCURACY = 'accuracy'\n",
    "\n",
    "with tf.summary.create_file_writer('trained-classifiers/logs/hparam_tuning').as_default():\n",
    "    hp.hparams_config(\n",
    "        hparams=[HP_NUM_UNITS, HP_DROPOUT, HP_OPTIMIZER, HP_L_RATE],\n",
    "        metrics=[hp.Metric(METRIC_ACCURACY, display_name='Accuracy')],\n",
    "    )"
   ]
  },
  {
   "cell_type": "code",
   "execution_count": null,
   "id": "5197d1f5",
   "metadata": {
    "id": "5197d1f5"
   },
   "outputs": [],
   "source": [
    "# read in train data\n",
    "train_df = pd.read_csv(DATASET_PATH+'/train_COVIDx9B.txt', \n",
    "                       sep=\" \", header=None)\n",
    "# add columns to go from 0, 1, 2, 3 to patient id, filename, class etc\n",
    "train_df.columns=['patient id', 'filename', 'class', 'data source']\n",
    "\n",
    "# drop patient id and datasource as not needed\n",
    "train_df=train_df.drop(['patient id', 'data source'], axis=1 )\n",
    "\n",
    "# read in test data\n",
    "test_df = pd.read_csv(DATASET_PATH+'/test_COVIDx9B.txt', \n",
    "                      sep=\" \", header=None)\n",
    "# add columns to go from 0, 1, 2, 3 to patient id, filename, class etc\n",
    "test_df.columns=['patient id', 'filename', 'class', 'data source']\n",
    "\n",
    "# drop patient id and datasource as not needed\n",
    "test_df=test_df.drop(['patient id', 'data source'], axis=1 )"
   ]
  },
  {
   "cell_type": "code",
   "execution_count": null,
   "id": "fe14addd",
   "metadata": {
    "colab": {
     "base_uri": "https://localhost:8080/"
    },
    "executionInfo": {
     "elapsed": 4,
     "status": "ok",
     "timestamp": 1649259749830,
     "user": {
      "displayName": "",
      "userId": ""
     },
     "user_tz": -60
    },
    "id": "fe14addd",
    "outputId": "e4d2c9bb-fdb7-4863-960c-18bd8c96d524"
   },
   "outputs": [
    {
     "name": "stdout",
     "output_type": "stream",
     "text": [
      "Train class counts:\n",
      "positive    16490\n",
      "negative    13992\n",
      "Name: class, dtype: int64\n",
      "\n",
      "Test class counts:\n",
      "positive    200\n",
      "negative    200\n",
      "Name: class, dtype: int64\n"
     ]
    }
   ],
   "source": [
    "print(\"Train class counts:\")\n",
    "print(train_df['class'].value_counts())\n",
    "print(\"\\nTest class counts:\")\n",
    "print(test_df['class'].value_counts())"
   ]
  },
  {
   "cell_type": "code",
   "execution_count": null,
   "id": "e42bf5ec",
   "metadata": {
    "colab": {
     "base_uri": "https://localhost:8080/"
    },
    "executionInfo": {
     "elapsed": 369,
     "status": "ok",
     "timestamp": 1649259751867,
     "user": {
      "displayName": "",
      "userId": ""
     },
     "user_tz": -60
    },
    "id": "e42bf5ec",
    "outputId": "8a61dcc6-54a0-4e3b-a2fe-b6faaf86fab3"
   },
   "outputs": [
    {
     "name": "stdout",
     "output_type": "stream",
     "text": [
      "Train class counts:\n",
      "positive    15241\n",
      "negative    15241\n",
      "Name: class, dtype: int64\n"
     ]
    }
   ],
   "source": [
    "negative  = train_df[train_df['class']=='negative']   # normal values in class column\n",
    "positive = train_df[train_df['class']=='positive']  # COVID-19 values in class column\n",
    "\n",
    "from sklearn.utils import resample\n",
    "# downsample training data to equal values of each class, to reduce class bias and reduce training time\n",
    "\n",
    "df_negative_downsampled = resample(negative, replace = True, n_samples = DATASET_SIZE//2)\n",
    "df_positive_downsampled = resample(positive, replace = True, n_samples = DATASET_SIZE//2) \n",
    "\n",
    "#concatenate\n",
    "train_df = pd.concat([df_negative_downsampled, df_positive_downsampled])\n",
    "\n",
    "from sklearn.utils import shuffle\n",
    "train_df = shuffle(train_df) # shuffling so that there is no particular sequence\n",
    "print(\"Train class counts:\")\n",
    "print(train_df['class'].value_counts())"
   ]
  },
  {
   "cell_type": "code",
   "execution_count": null,
   "id": "7caf2941",
   "metadata": {
    "colab": {
     "base_uri": "https://localhost:8080/"
    },
    "executionInfo": {
     "elapsed": 2,
     "status": "ok",
     "timestamp": 1649259752664,
     "user": {
      "displayName": "",
      "userId": ""
     },
     "user_tz": -60
    },
    "id": "7caf2941",
    "outputId": "ed34de47-eb73-4a49-e46a-789a859d60af",
    "scrolled": true
   },
   "outputs": [
    {
     "name": "stdout",
     "output_type": "stream",
     "text": [
      "Train class counts:\n",
      "positive    15241\n",
      "negative    15241\n",
      "Name: class, dtype: int64\n",
      "\n",
      "Test class counts:\n",
      "positive    200\n",
      "negative    200\n",
      "Name: class, dtype: int64\n"
     ]
    }
   ],
   "source": [
    "print(\"Train class counts:\")\n",
    "print(train_df['class'].value_counts())\n",
    "print(\"\\nTest class counts:\")\n",
    "print(test_df['class'].value_counts())"
   ]
  },
  {
   "cell_type": "code",
   "execution_count": null,
   "id": "4a7105a4",
   "metadata": {
    "colab": {
     "base_uri": "https://localhost:8080/"
    },
    "executionInfo": {
     "elapsed": 4056,
     "status": "ok",
     "timestamp": 1649259757925,
     "user": {
      "displayName": "",
      "userId": ""
     },
     "user_tz": -60
    },
    "id": "4a7105a4",
    "outputId": "e7d2a2bb-3531-4487-c908-02f87cce0d66"
   },
   "outputs": [
    {
     "name": "stdout",
     "output_type": "stream",
     "text": [
      "Found 400 validated image filenames belonging to 2 classes.\n"
     ]
    }
   ],
   "source": [
    "# preprocess images\n",
    "test_datagen = ImageDataGenerator(preprocessing_function=tf.keras.applications.xception.preprocess_input)\n",
    "\n",
    "test_gen = test_datagen.flow_from_dataframe(dataframe = test_df, directory=DATASET_PATH+'/test', x_col='filename',\n",
    "                                            y_col='class', target_size=(IMAGE_SIZE, IMAGE_SIZE), batch_size=BATCH_SIZE, \n",
    "                                            color_mode='rgb', class_mode='binary', shuffle=False)"
   ]
  },
  {
   "cell_type": "code",
   "execution_count": null,
   "id": "dc520d7a",
   "metadata": {
    "id": "dc520d7a"
   },
   "outputs": [],
   "source": [
    "def preprocess_images_cv(train_index, val_index):\n",
    "    # find the section of the training data that the fold is located\n",
    "    training_data = train_df.iloc[train_index]\n",
    "    validation_data = train_df.iloc[val_index]\n",
    "    train_datagen = ImageDataGenerator(preprocessing_function=tf.keras.applications.xception.preprocess_input,\n",
    "                                       rotation_range = 20, width_shift_range = 0.2, height_shift_range = 0.2, \n",
    "                                       shear_range = 0.2, zoom_range = 0.1, horizontal_flip = True)\n",
    "\n",
    "    # now get the images from directory with augmentation\n",
    "    \n",
    "    train_gen = train_datagen.flow_from_dataframe(dataframe = training_data, directory=DATASET_PATH+'/train', \n",
    "                                                  x_col='filename', y_col='class', target_size=(IMAGE_SIZE, IMAGE_SIZE), \n",
    "                                                  batch_size=BATCH_SIZE, color_mode='rgb', class_mode='binary')\n",
    "    valid_gen = test_datagen.flow_from_dataframe(dataframe = validation_data, directory=DATASET_PATH+'/train', \n",
    "                                                 x_col='filename', y_col='class', target_size=(IMAGE_SIZE, IMAGE_SIZE), \n",
    "                                                 batch_size=BATCH_SIZE,  color_mode='rgb', class_mode='binary')\n",
    "    return train_gen, valid_gen"
   ]
  },
  {
   "cell_type": "markdown",
   "id": "4174e3f4",
   "metadata": {
    "id": "4174e3f4"
   },
   "source": [
    "## Xception"
   ]
  },
  {
   "cell_type": "code",
   "execution_count": null,
   "id": "96ce3019",
   "metadata": {
    "id": "96ce3019"
   },
   "outputs": [],
   "source": [
    "# required libraries for Xception\n",
    "from tensorflow import keras\n",
    "from tensorflow.keras.optimizers import Adam"
   ]
  },
  {
   "cell_type": "code",
   "execution_count": null,
   "id": "836aa1a9",
   "metadata": {
    "id": "836aa1a9"
   },
   "outputs": [],
   "source": [
    "def create_model(hparams):\n",
    "    # create the base pre-trained model\n",
    "    base_model = keras.applications.Xception(weights='imagenet', input_shape = (IMAGE_SIZE,IMAGE_SIZE,3),\n",
    "                                                  include_top=False)\n",
    "    # add some minor imtpovements to prevent overfitting and add output layer\n",
    "    model = keras.Sequential([ base_model, \n",
    "                                 keras.layers.GlobalAveragePooling2D(), \n",
    "                                 keras.layers.Dense(hparams[HP_NUM_UNITS], activation='relu'),\n",
    "                                 keras.layers.BatchNormalization(), \n",
    "                                 keras.layers.Dropout(hparams[HP_DROPOUT]),\n",
    "                                 keras.layers.Dense(1, activation='sigmoid')\n",
    "                                ])\n",
    "\n",
    "    # compile model\n",
    "    optimizer_name = hparams[HP_OPTIMIZER]\n",
    "    learning_rate = hparams[HP_L_RATE]\n",
    "    if optimizer_name == \"adam\":\n",
    "        optimizer = tf.keras.optimizers.Adam(learning_rate=learning_rate)\n",
    "    elif optimizer_name == \"sgd\":\n",
    "        optimizer = tf.keras.optimizers.SGD(learning_rate=learning_rate)\n",
    "    else:\n",
    "        raise ValueError(\"unexpected optimizer name: %r\" % (optimizer_name,))\n",
    "\n",
    "\n",
    "    model.compile(optimizer = optimizer,\n",
    "                  loss = 'binary_crossentropy',\n",
    "                  metrics=['accuracy'])\n",
    "    return model"
   ]
  },
  {
   "cell_type": "code",
   "execution_count": null,
   "id": "b8275562",
   "metadata": {
    "id": "b8275562"
   },
   "outputs": [],
   "source": [
    "def get_model_name(k):\n",
    "    return str(\"Xception-Binary-\" + \"Fold-\"+str(k)+\"-\"+datetime.now().strftime(\"%Y%m%d-%H%M%S\"))"
   ]
  },
  {
   "cell_type": "code",
   "execution_count": null,
   "id": "8faa2fa4",
   "metadata": {
    "colab": {
     "base_uri": "https://localhost:8080/"
    },
    "executionInfo": {
     "elapsed": 30589999,
     "status": "ok",
     "timestamp": 1649186488747,
     "user": {
      "displayName": "",
      "userId": ""
     },
     "user_tz": -60
    },
    "id": "8faa2fa4",
    "outputId": "1a9cc3d1-91ca-4105-ba3b-832ef2bcadfc"
   },
   "outputs": [
    {
     "name": "stdout",
     "output_type": "stream",
     "text": [
      "HPARAMS: {'num_units': 128, 'dropout': 0.1, 'optimizer': 'adam', 'learning_rate': 0.001}\n",
      "--- Starting trial: 0\n",
      "Found 24385 validated image filenames belonging to 2 classes.\n",
      "Found 6097 validated image filenames belonging to 2 classes.\n",
      "Epoch 1/20\n",
      "763/763 [==============================] - 9097s 12s/step - loss: 0.1513 - accuracy: 0.9426 - val_loss: 0.1549 - val_accuracy: 0.9524 - lr: 0.0010\n",
      "Epoch 2/20\n",
      "763/763 [==============================] - ETA: 0s - loss: 0.0894 - accuracy: 0.9684\n",
      "Epoch 2: ReduceLROnPlateau reducing learning rate to 0.0005000000237487257.\n",
      "763/763 [==============================] - 754s 988ms/step - loss: 0.0894 - accuracy: 0.9684 - val_loss: 0.2764 - val_accuracy: 0.9170 - lr: 0.0010\n",
      "Epoch 3/20\n",
      "763/763 [==============================] - ETA: 0s - loss: 0.0549 - accuracy: 0.9814\n",
      "Epoch 3: ReduceLROnPlateau reducing learning rate to 0.0002500000118743628.\n",
      "763/763 [==============================] - 755s 989ms/step - loss: 0.0549 - accuracy: 0.9814 - val_loss: 0.3100 - val_accuracy: 0.8727 - lr: 5.0000e-04\n",
      "Epoch 4/20\n",
      "763/763 [==============================] - ETA: 0s - loss: 0.0400 - accuracy: 0.9863Restoring model weights from the end of the best epoch: 1.\n",
      "\n",
      "Epoch 4: ReduceLROnPlateau reducing learning rate to 0.0001250000059371814.\n",
      "763/763 [==============================] - 754s 988ms/step - loss: 0.0400 - accuracy: 0.9863 - val_loss: 0.3048 - val_accuracy: 0.8611 - lr: 2.5000e-04\n",
      "Epoch 4: early stopping\n",
      "--- Starting trial: 1\n",
      "Found 24385 validated image filenames belonging to 2 classes.\n",
      "Found 6097 validated image filenames belonging to 2 classes.\n",
      "Epoch 1/20\n",
      "763/763 [==============================] - 765s 996ms/step - loss: 0.1499 - accuracy: 0.9460 - val_loss: 0.1489 - val_accuracy: 0.9380 - lr: 0.0010\n",
      "Epoch 2/20\n",
      "763/763 [==============================] - ETA: 0s - loss: 0.0963 - accuracy: 0.9662\n",
      "Epoch 2: ReduceLROnPlateau reducing learning rate to 0.0005000000237487257.\n",
      "763/763 [==============================] - 759s 995ms/step - loss: 0.0963 - accuracy: 0.9662 - val_loss: 1.1926 - val_accuracy: 0.6803 - lr: 0.0010\n",
      "Epoch 3/20\n",
      "763/763 [==============================] - ETA: 0s - loss: 0.0567 - accuracy: 0.9804\n",
      "Epoch 3: ReduceLROnPlateau reducing learning rate to 0.0002500000118743628.\n",
      "763/763 [==============================] - 758s 994ms/step - loss: 0.0567 - accuracy: 0.9804 - val_loss: 0.3492 - val_accuracy: 0.8729 - lr: 5.0000e-04\n",
      "Epoch 4/20\n",
      "763/763 [==============================] - 761s 998ms/step - loss: 0.0390 - accuracy: 0.9856 - val_loss: 0.1091 - val_accuracy: 0.9569 - lr: 2.5000e-04\n",
      "Epoch 5/20\n",
      "763/763 [==============================] - ETA: 0s - loss: 0.0339 - accuracy: 0.9872\n",
      "Epoch 5: ReduceLROnPlateau reducing learning rate to 0.0001250000059371814.\n",
      "763/763 [==============================] - 760s 995ms/step - loss: 0.0339 - accuracy: 0.9872 - val_loss: 0.1484 - val_accuracy: 0.9380 - lr: 2.5000e-04\n",
      "Epoch 6/20\n",
      "763/763 [==============================] - ETA: 0s - loss: 0.0224 - accuracy: 0.9917\n",
      "Epoch 6: ReduceLROnPlateau reducing learning rate to 6.25000029685907e-05.\n",
      "763/763 [==============================] - 808s 1s/step - loss: 0.0224 - accuracy: 0.9917 - val_loss: 0.2589 - val_accuracy: 0.9186 - lr: 1.2500e-04\n",
      "Epoch 7/20\n",
      "763/763 [==============================] - ETA: 0s - loss: 0.0161 - accuracy: 0.9945Restoring model weights from the end of the best epoch: 4.\n",
      "\n",
      "Epoch 7: ReduceLROnPlateau reducing learning rate to 3.125000148429535e-05.\n",
      "763/763 [==============================] - 759s 994ms/step - loss: 0.0161 - accuracy: 0.9945 - val_loss: 0.1123 - val_accuracy: 0.9600 - lr: 6.2500e-05\n",
      "Epoch 7: early stopping\n",
      "--- Starting trial: 2\n",
      "Found 24386 validated image filenames belonging to 2 classes.\n",
      "Found 6096 validated image filenames belonging to 2 classes.\n",
      "Epoch 1/20\n",
      "763/763 [==============================] - 766s 998ms/step - loss: 0.1586 - accuracy: 0.9409 - val_loss: 0.1109 - val_accuracy: 0.9647 - lr: 0.0010\n",
      "Epoch 2/20\n",
      "763/763 [==============================] - ETA: 0s - loss: 0.0932 - accuracy: 0.9674\n",
      "Epoch 2: ReduceLROnPlateau reducing learning rate to 0.0005000000237487257.\n",
      "763/763 [==============================] - 759s 994ms/step - loss: 0.0932 - accuracy: 0.9674 - val_loss: 0.3468 - val_accuracy: 0.8552 - lr: 0.0010\n",
      "Epoch 3/20\n",
      "763/763 [==============================] - ETA: 0s - loss: 0.0583 - accuracy: 0.9794\n",
      "Epoch 3: ReduceLROnPlateau reducing learning rate to 0.0002500000118743628.\n",
      "763/763 [==============================] - 759s 995ms/step - loss: 0.0583 - accuracy: 0.9794 - val_loss: 0.1216 - val_accuracy: 0.9669 - lr: 5.0000e-04\n",
      "Epoch 4/20\n",
      "763/763 [==============================] - 765s 1s/step - loss: 0.0378 - accuracy: 0.9875 - val_loss: 0.0699 - val_accuracy: 0.9746 - lr: 2.5000e-04\n",
      "Epoch 5/20\n",
      "763/763 [==============================] - ETA: 0s - loss: 0.0338 - accuracy: 0.9873\n",
      "Epoch 5: ReduceLROnPlateau reducing learning rate to 0.0001250000059371814.\n",
      "763/763 [==============================] - 759s 994ms/step - loss: 0.0338 - accuracy: 0.9873 - val_loss: 0.0959 - val_accuracy: 0.9598 - lr: 2.5000e-04\n",
      "Epoch 6/20\n",
      "763/763 [==============================] - ETA: 0s - loss: 0.0237 - accuracy: 0.9914\n",
      "Epoch 6: ReduceLROnPlateau reducing learning rate to 6.25000029685907e-05.\n",
      "763/763 [==============================] - 755s 989ms/step - loss: 0.0237 - accuracy: 0.9914 - val_loss: 0.2661 - val_accuracy: 0.8796 - lr: 1.2500e-04\n",
      "Epoch 7/20\n",
      "763/763 [==============================] - ETA: 0s - loss: 0.0167 - accuracy: 0.9940Restoring model weights from the end of the best epoch: 4.\n",
      "\n",
      "Epoch 7: ReduceLROnPlateau reducing learning rate to 3.125000148429535e-05.\n",
      "763/763 [==============================] - 752s 985ms/step - loss: 0.0167 - accuracy: 0.9940 - val_loss: 0.0990 - val_accuracy: 0.9626 - lr: 6.2500e-05\n",
      "Epoch 7: early stopping\n",
      "--- Starting trial: 3\n",
      "Found 24386 validated image filenames belonging to 2 classes.\n",
      "Found 6096 validated image filenames belonging to 2 classes.\n",
      "Epoch 1/20\n",
      "763/763 [==============================] - 765s 996ms/step - loss: 0.1468 - accuracy: 0.9453 - val_loss: 0.1432 - val_accuracy: 0.9555 - lr: 0.0010\n",
      "Epoch 2/20\n",
      "763/763 [==============================] - ETA: 0s - loss: 0.0855 - accuracy: 0.9703\n",
      "Epoch 2: ReduceLROnPlateau reducing learning rate to 0.0005000000237487257.\n",
      "763/763 [==============================] - 758s 993ms/step - loss: 0.0855 - accuracy: 0.9703 - val_loss: 0.2876 - val_accuracy: 0.8907 - lr: 0.0010\n",
      "Epoch 3/20\n",
      "763/763 [==============================] - 762s 999ms/step - loss: 0.0524 - accuracy: 0.9811 - val_loss: 0.0730 - val_accuracy: 0.9744 - lr: 5.0000e-04\n",
      "Epoch 4/20\n",
      "763/763 [==============================] - ETA: 0s - loss: 0.0510 - accuracy: 0.9822\n",
      "Epoch 4: ReduceLROnPlateau reducing learning rate to 0.0002500000118743628.\n",
      "763/763 [==============================] - 764s 1s/step - loss: 0.0510 - accuracy: 0.9822 - val_loss: 0.1003 - val_accuracy: 0.9603 - lr: 5.0000e-04\n",
      "Epoch 5/20\n",
      "763/763 [==============================] - ETA: 0s - loss: 0.0479 - accuracy: 0.9842\n",
      "Epoch 5: ReduceLROnPlateau reducing learning rate to 0.0001250000059371814.\n",
      "763/763 [==============================] - 810s 1s/step - loss: 0.0479 - accuracy: 0.9842 - val_loss: 0.1616 - val_accuracy: 0.9385 - lr: 2.5000e-04\n",
      "Epoch 6/20\n",
      "763/763 [==============================] - ETA: 0s - loss: 0.0323 - accuracy: 0.9891Restoring model weights from the end of the best epoch: 3.\n",
      "\n",
      "Epoch 6: ReduceLROnPlateau reducing learning rate to 6.25000029685907e-05.\n",
      "763/763 [==============================] - 763s 1000ms/step - loss: 0.0323 - accuracy: 0.9891 - val_loss: 0.1759 - val_accuracy: 0.9255 - lr: 1.2500e-04\n",
      "Epoch 6: early stopping\n",
      "--- Starting trial: 4\n",
      "Found 24386 validated image filenames belonging to 2 classes.\n",
      "Found 6096 validated image filenames belonging to 2 classes.\n",
      "Epoch 1/20\n",
      "763/763 [==============================] - 770s 1s/step - loss: 0.1506 - accuracy: 0.9466 - val_loss: 0.6232 - val_accuracy: 0.8274 - lr: 0.0010\n",
      "Epoch 2/20\n",
      "763/763 [==============================] - 767s 1s/step - loss: 0.1603 - accuracy: 0.9426 - val_loss: 0.1313 - val_accuracy: 0.9567 - lr: 0.0010\n",
      "Epoch 3/20\n",
      "763/763 [==============================] - ETA: 0s - loss: 0.1708 - accuracy: 0.9371\n",
      "Epoch 3: ReduceLROnPlateau reducing learning rate to 0.0005000000237487257.\n",
      "763/763 [==============================] - 759s 995ms/step - loss: 0.1708 - accuracy: 0.9371 - val_loss: 0.2410 - val_accuracy: 0.9116 - lr: 0.0010\n",
      "Epoch 4/20\n",
      "763/763 [==============================] - ETA: 0s - loss: 0.1421 - accuracy: 0.9476\n",
      "Epoch 4: ReduceLROnPlateau reducing learning rate to 0.0002500000118743628.\n",
      "763/763 [==============================] - 760s 995ms/step - loss: 0.1421 - accuracy: 0.9476 - val_loss: 0.1677 - val_accuracy: 0.9368 - lr: 5.0000e-04\n",
      "Epoch 5/20\n",
      "763/763 [==============================] - ETA: 0s - loss: 0.0990 - accuracy: 0.9646Restoring model weights from the end of the best epoch: 2.\n",
      "\n",
      "Epoch 5: ReduceLROnPlateau reducing learning rate to 0.0001250000059371814.\n",
      "763/763 [==============================] - 757s 993ms/step - loss: 0.0990 - accuracy: 0.9646 - val_loss: 0.1411 - val_accuracy: 0.9455 - lr: 2.5000e-04\n",
      "Epoch 5: early stopping\n"
     ]
    }
   ],
   "source": [
    "# perform HP tuning and CV on the model on the data\n",
    "Y = train_df['class']\n",
    "trained_models = []\n",
    "\n",
    "# iterate through hyper-parameters\n",
    "for num_units in HP_NUM_UNITS.domain.values:\n",
    "    for dropout_rate in HP_DROPOUT.domain.values:\n",
    "        for optimizer in HP_OPTIMIZER.domain.values:\n",
    "            for learning_rate in HP_L_RATE.domain.values:\n",
    "                # instantiate k folds and hyper-parameters for this iteration\n",
    "                skf = StratifiedKFold(n_splits = K_FOLDS, shuffle = True) \n",
    "                k_i = 0\n",
    "                k_fold_models = []\n",
    "                elapsed_times = []\n",
    "                hparams = {\n",
    "                    HP_NUM_UNITS: num_units,\n",
    "                    HP_DROPOUT: dropout_rate,\n",
    "                    HP_OPTIMIZER: optimizer,\n",
    "                    HP_L_RATE: learning_rate\n",
    "                }\n",
    "                print('HPARAMS:',{h.name: hparams[h] for h in hparams})\n",
    "                \n",
    "                # iterate through k folds\n",
    "                for train_index, val_index in skf.split(np.zeros(len(Y)),Y):\n",
    "                    print('--- Starting trial: %s' % k_i)\n",
    "                    t = time.process_time() # begin timing model\n",
    "                    train_gen, valid_gen = preprocess_images_cv(train_index, val_index) # fetch dataset for this fold\n",
    "                    \n",
    "                    # set up logging directories and callbacks\n",
    "                    logdir = os.path.join('trained-classifiers','logs','fit', get_model_name(k_i))\n",
    "                    hpdir = os.path.join('trained-classifiers','logs','hparam_tuning', get_model_name(k_i))\n",
    "                    modeldir = os.path.join('model-checkpoints',str(get_model_name(k_i)+\".h5\"))\n",
    "                    callbacks = [\n",
    "                        keras.callbacks.ModelCheckpoint(filepath=modeldir, save_best_only=True, verbose = 0),\n",
    "                        keras.callbacks.EarlyStopping(patience=3, monitor='val_loss', verbose=1, restore_best_weights=True),\n",
    "                        keras.callbacks.ReduceLROnPlateau(monitor='val_loss', factor=0.5, patience=1, verbose=1),\n",
    "                        keras.callbacks.TensorBoard(log_dir=logdir)\n",
    "                      ]\n",
    "                    \n",
    "                    # create the model\n",
    "                    hp.hparams(hparams)  \n",
    "                    model = create_model(hparams)\n",
    "                    \n",
    "                    # train model\n",
    "                    model.fit(train_gen, validation_data=valid_gen, epochs=MAX_EPOCHS, callbacks=callbacks)\n",
    "                    \n",
    "                    # record the values used in this trial\n",
    "                    elapsed_times.append(time.process_time() - t)\n",
    "                    k_fold_models.append(modeldir)\n",
    "                    \n",
    "                    # clean memory\n",
    "                    del model, train_gen, valid_gen\n",
    "                    keras.backend.clear_session()\n",
    "                    k_i += 1\n",
    "                    \n",
    "                trained_models.append([hparams, k_fold_models, elapsed_times])"
   ]
  },
  {
   "cell_type": "markdown",
   "id": "7d4d6530",
   "metadata": {
    "id": "7d4d6530"
   },
   "source": [
    "## Evaluation"
   ]
  },
  {
   "cell_type": "code",
   "execution_count": null,
   "id": "9851f1f7",
   "metadata": {
    "id": "9851f1f7"
   },
   "outputs": [],
   "source": [
    "# import libraries for evaluation\n",
    "from sklearn.metrics import accuracy_score, precision_score, recall_score, f1_score, confusion_matrix\n",
    "from statistics import mean"
   ]
  },
  {
   "cell_type": "code",
   "execution_count": null,
   "id": "69b88b94",
   "metadata": {
    "colab": {
     "base_uri": "https://localhost:8080/"
    },
    "executionInfo": {
     "elapsed": 466213,
     "status": "ok",
     "timestamp": 1649260604162,
     "user": {
      "displayName": "",
      "userId": ""
     },
     "user_tz": -60
    },
    "id": "69b88b94",
    "outputId": "c54fab92-e503-4f1a-9778-f59bdb2bab0d"
   },
   "outputs": [
    {
     "name": "stdout",
     "output_type": "stream",
     "text": [
      "13/13 [==============================] - 25s 2s/step - loss: 0.1187 - accuracy: 0.9575\n",
      "13/13 [==============================] - 24s 2s/step - loss: 0.1025 - accuracy: 0.9575\n",
      "13/13 [==============================] - 24s 2s/step - loss: 0.0712 - accuracy: 0.9875\n",
      "13/13 [==============================] - 23s 2s/step - loss: 0.1075 - accuracy: 0.9575\n",
      "13/13 [==============================] - 23s 2s/step - loss: 0.0696 - accuracy: 0.9750\n",
      "SCORE FOR HPARAMS: {'num_units': 128, 'dropout': 0.1, 'optimizer': 'adam', 'learning_rate': 0.001}\n",
      "Mean accuracy: 0.967\n",
      "Mean k_accuracy; 0.9669999957084656\n",
      "Mean precision: 0.9632183859584688\n",
      "Mean recall: 0.972\n",
      "Mean f1: 0.9671110115797129\n",
      "Mean training time: 0\n"
     ]
    }
   ],
   "source": [
    "# iterate through hyper-parameter configurations\n",
    "for j in trained_models:\n",
    "    model = create_model(j[0])\n",
    "    accuracies = []\n",
    "    k_accuracies = []\n",
    "    precisions = []\n",
    "    recalls = []\n",
    "    f1s = []\n",
    "    tp = []\n",
    "    fp = []\n",
    "    tn = []\n",
    "    fn = []\n",
    "    \n",
    "    # iterate through each folds model\n",
    "    for i in j[1]:\n",
    "        model.load_weights(i)\n",
    "        test_pred = model.predict(test_gen)\n",
    "        y_pred = np.rint(test_pred).flatten()\n",
    "        y_test= [test_gen.class_indices[k] for k in test_df['class'].values.tolist()]\n",
    "        k_accuracies.append(model.evaluate(test_gen)[1])\n",
    "        accuracies.append(accuracy_score(y_test, y_pred))\n",
    "        precisions.append(precision_score(y_test, y_pred, zero_division=0))\n",
    "        recalls.append(recall_score(y_test, y_pred))\n",
    "        f1s.append(f1_score(y_test, y_pred))\n",
    "        tn_x, fp_x, fn_x, tp_x = confusion_matrix(y_test, y_pred).ravel()\n",
    "        tp.append(tp_x)\n",
    "        fp.append(fp_x)\n",
    "        tn.append(tn_x)\n",
    "        fn.append(fn_x)\n",
    "\n",
    "    print(\"SCORE FOR HPARAMS:\", {h.name: j[0][h] for h in j[0]})\n",
    "    print(\"Mean accuracy:\", mean(accuracies))\n",
    "    print(\"Mean k_accuracy;\", mean(k_accuracies))\n",
    "    print(\"Mean precision:\", mean(precisions))\n",
    "    print(\"Mean recall:\", mean(recalls))\n",
    "    print(\"Mean f1:\", mean(f1s))\n",
    "    print(\"Mean training time:\", mean(j[2]))\n",
    "    \n",
    "    # retreive hyper-parameters\n",
    "    hdict = {h.name: j[0][h] for h in j[0]}\n",
    "    \n",
    "    # save results to file\n",
    "    df =  pd.DataFrame(np.array([[str(j[1]),\n",
    "                                  hdict.get('num_units'), hdict.get('dropout'), hdict.get('optimizer'), \n",
    "                                  hdict.get('learning_rate'),IMAGE_SIZE, BATCH_SIZE, DATASET_SIZE, MAX_EPOCHS, K_FOLDS,\n",
    "                                  mean(accuracies), mean(k_accuracies), mean(precisions), mean(recalls), mean(f1s),\n",
    "                                  mean(tn), mean(fp), mean(fn), mean(tp), mean(j[2])\n",
    "                                 ]]),\n",
    "                       columns=['Model Names','num_units', 'dropout','optimizer','learning_rate',\n",
    "                                'IMAGE_SIZE', 'BATCH_SIZE', 'DATASET_SIZE', 'MAX_EPOCHS',\n",
    "                                'K_FOLDS','Accuracy', 'K_accuracy', 'Precision', 'Recall', 'f1 Score', \n",
    "                                'True Negatives', ' False Positives', 'False Negatives', 'True Positives', 'Training Time'])\n",
    "    with open('trained-classifiers/Xception.csv', 'a') as f:\n",
    "        df.to_csv(f, mode='a', header=f.tell()==0, index = False)"
   ]
  },
  {
   "cell_type": "markdown",
   "id": "96f74fbe",
   "metadata": {
    "id": "96f74fbe"
   },
   "source": [
    "NOTE: Accuracy and loss graphs can be seen on TensorBoard, run \"%tensorboard --logdir logs --host 0.0.0.0\" to open"
   ]
  }
 ],
 "metadata": {
  "accelerator": "GPU",
  "colab": {
   "name": "FINAL LARGE Xception-Binary-Hparams.ipynb",
   "provenance": [
    {
     "file_id": "https://github.com/laurencebrwn/ml-covid19-eval/blob/main/Xception-Binary-Hparams.ipynb",
     "timestamp": 1649284749785
    }
   ]
  },
  "environment": {
   "kernel": "python3",
   "name": "managed-notebooks.m90",
   "type": "gcloud",
   "uri": "gcr.io/deeplearning-platform-release/managed-notebooks:m90"
  },
  "kernelspec": {
   "display_name": "Python 3 (ipykernel)",
   "language": "python",
   "name": "python3"
  },
  "language_info": {
   "codemirror_mode": {
    "name": "ipython",
    "version": 3
   },
   "file_extension": ".py",
   "mimetype": "text/x-python",
   "name": "python",
   "nbconvert_exporter": "python",
   "pygments_lexer": "ipython3",
   "version": "3.7.9"
  }
 },
 "nbformat": 4,
 "nbformat_minor": 5
}
