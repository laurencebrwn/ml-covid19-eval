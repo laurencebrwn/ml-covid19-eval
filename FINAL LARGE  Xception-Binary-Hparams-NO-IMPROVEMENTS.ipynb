{
 "cells": [
  {
   "cell_type": "markdown",
   "id": "8e0ccce8",
   "metadata": {
    "id": "8e0ccce8",
    "tags": []
   },
   "source": [
    "## Model Variables"
   ]
  },
  {
   "cell_type": "code",
   "execution_count": 3,
   "id": "68fe9ea2",
   "metadata": {
    "executionInfo": {
     "elapsed": 4,
     "status": "ok",
     "timestamp": 1651420418157,
     "user": {
      "displayName": "Laurence Brown",
      "userId": "02353821870267800674"
     },
     "user_tz": -60
    },
    "id": "68fe9ea2"
   },
   "outputs": [],
   "source": [
    "IMAGE_SIZE = 224\n",
    "BATCH_SIZE = 32\n",
    "DATASET_SIZE = 30482\n",
    "MAX_EPOCHS = 20\n",
    "K_FOLDS = 5\n",
    "DATASET_PATH = 'covidx-cxr2'"
   ]
  },
  {
   "cell_type": "markdown",
   "id": "69bfede4",
   "metadata": {
    "id": "69bfede4"
   },
   "source": [
    "## Data Preparation"
   ]
  },
  {
   "cell_type": "code",
   "execution_count": 4,
   "id": "b2c6945d",
   "metadata": {
    "colab": {
     "base_uri": "https://localhost:8080/"
    },
    "executionInfo": {
     "elapsed": 5074,
     "status": "ok",
     "timestamp": 1651420423228,
     "user": {
      "displayName": "Laurence Brown",
      "userId": "02353821870267800674"
     },
     "user_tz": -60
    },
    "id": "b2c6945d",
    "outputId": "e1f26f8c-e3b2-4a82-8ffc-1135023edf3c"
   },
   "outputs": [
    {
     "name": "stdout",
     "output_type": "stream",
     "text": [
      "Tensorflow Version: 2.8.0\n",
      "Tensorboard Version: 2.8.0\n",
      "WARNING:tensorflow:From <ipython-input-4-69532632d99b>:19: is_gpu_available (from tensorflow.python.framework.test_util) is deprecated and will be removed in a future version.\n",
      "Instructions for updating:\n",
      "Use `tf.config.list_physical_devices('GPU')` instead.\n",
      "GPU Found: True\n"
     ]
    }
   ],
   "source": [
    "# import required libraries\n",
    "import numpy as np\n",
    "import pandas as pd\n",
    "import os\n",
    "import tensorflow as tf\n",
    "from tensorflow.keras.preprocessing.image import ImageDataGenerator\n",
    "import shutil\n",
    "from sklearn.metrics import confusion_matrix, classification_report\n",
    "from datetime import datetime\n",
    "from packaging import version\n",
    "%reload_ext tensorboard\n",
    "import tensorboard\n",
    "from sklearn.model_selection import StratifiedKFold\n",
    "from tensorboard.plugins.hparams import api as hp\n",
    "import time\n",
    "\n",
    "print(\"Tensorflow Version:\", tf.__version__)\n",
    "print(\"Tensorboard Version:\", tensorboard.__version__)\n",
    "print(\"GPU Found:\", tf.test.is_gpu_available())"
   ]
  },
  {
   "cell_type": "code",
   "execution_count": 5,
   "id": "55a26665",
   "metadata": {
    "executionInfo": {
     "elapsed": 2887,
     "status": "ok",
     "timestamp": 1651420426112,
     "user": {
      "displayName": "Laurence Brown",
      "userId": "02353821870267800674"
     },
     "user_tz": -60
    },
    "id": "55a26665"
   },
   "outputs": [],
   "source": [
    "# set up hyper-parameters\n",
    "HP_NUM_UNITS = hp.HParam('num_units', hp.Discrete([128]))\n",
    "HP_DROPOUT = hp.HParam('dropout', hp.Discrete([0.1]))\n",
    "HP_OPTIMIZER = hp.HParam('optimizer', hp.Discrete(['adam']))\n",
    "HP_L_RATE= hp.HParam('learning_rate', hp.Discrete([0.001]))\n",
    "\n",
    "METRIC_ACCURACY = 'accuracy'\n",
    "\n",
    "with tf.summary.create_file_writer('trained-classifiers/logs/hparam_tuning').as_default():\n",
    "    hp.hparams_config(\n",
    "        hparams=[HP_NUM_UNITS, HP_DROPOUT, HP_OPTIMIZER, HP_L_RATE],\n",
    "        metrics=[hp.Metric(METRIC_ACCURACY, display_name='Accuracy')],\n",
    "    )"
   ]
  },
  {
   "cell_type": "code",
   "execution_count": 6,
   "id": "5197d1f5",
   "metadata": {
    "executionInfo": {
     "elapsed": 734,
     "status": "ok",
     "timestamp": 1651420426843,
     "user": {
      "displayName": "Laurence Brown",
      "userId": "02353821870267800674"
     },
     "user_tz": -60
    },
    "id": "5197d1f5"
   },
   "outputs": [],
   "source": [
    "# read in train data\n",
    "train_df = pd.read_csv(DATASET_PATH+'/train_COVIDx9B.txt', \n",
    "                       sep=\" \", header=None)\n",
    "# add columns to go from 0, 1, 2, 3 to patient id, filename, class etc\n",
    "train_df.columns=['patient id', 'filename', 'class', 'data source']\n",
    "\n",
    "# drop patient id and datasource as not needed\n",
    "train_df=train_df.drop(['patient id', 'data source'], axis=1 )\n",
    "\n",
    "# read in test data\n",
    "test_df = pd.read_csv(DATASET_PATH+'/test_COVIDx9B.txt', \n",
    "                      sep=\" \", header=None)\n",
    "# add columns to go from 0, 1, 2, 3 to patient id, filename, class etc\n",
    "test_df.columns=['patient id', 'filename', 'class', 'data source']\n",
    "\n",
    "# drop patient id and datasource as not needed\n",
    "test_df=test_df.drop(['patient id', 'data source'], axis=1 )"
   ]
  },
  {
   "cell_type": "code",
   "execution_count": 7,
   "id": "fe14addd",
   "metadata": {
    "colab": {
     "base_uri": "https://localhost:8080/"
    },
    "executionInfo": {
     "elapsed": 9,
     "status": "ok",
     "timestamp": 1651420426843,
     "user": {
      "displayName": "Laurence Brown",
      "userId": "02353821870267800674"
     },
     "user_tz": -60
    },
    "id": "fe14addd",
    "outputId": "2c9a9cf1-49d8-4aa2-b620-85c299fa9f9d"
   },
   "outputs": [
    {
     "name": "stdout",
     "output_type": "stream",
     "text": [
      "Train class counts:\n",
      "positive    16490\n",
      "negative    13992\n",
      "Name: class, dtype: int64\n",
      "\n",
      "Test class counts:\n",
      "positive    200\n",
      "negative    200\n",
      "Name: class, dtype: int64\n"
     ]
    }
   ],
   "source": [
    "print(\"Train class counts:\")\n",
    "print(train_df['class'].value_counts())\n",
    "print(\"\\nTest class counts:\")\n",
    "print(test_df['class'].value_counts())"
   ]
  },
  {
   "cell_type": "code",
   "execution_count": 8,
   "id": "e42bf5ec",
   "metadata": {
    "colab": {
     "base_uri": "https://localhost:8080/"
    },
    "executionInfo": {
     "elapsed": 7,
     "status": "ok",
     "timestamp": 1651420426844,
     "user": {
      "displayName": "Laurence Brown",
      "userId": "02353821870267800674"
     },
     "user_tz": -60
    },
    "id": "e42bf5ec",
    "outputId": "c058d667-a1ec-4489-bc8f-a6d06130076e"
   },
   "outputs": [
    {
     "name": "stdout",
     "output_type": "stream",
     "text": [
      "Train class counts:\n",
      "negative    15241\n",
      "positive    15241\n",
      "Name: class, dtype: int64\n"
     ]
    }
   ],
   "source": [
    "negative  = train_df[train_df['class']=='negative']   # normal values in class column\n",
    "positive = train_df[train_df['class']=='positive']  # COVID-19 values in class column\n",
    "\n",
    "from sklearn.utils import resample\n",
    "# downsample training data to equal values of each class, to reduce class bias and reduce training time\n",
    "\n",
    "df_negative_downsampled = resample(negative, replace = True, n_samples = DATASET_SIZE//2)\n",
    "df_positive_downsampled = resample(positive, replace = True, n_samples = DATASET_SIZE//2) \n",
    "\n",
    "#concatenate\n",
    "train_df = pd.concat([df_negative_downsampled, df_positive_downsampled])\n",
    "\n",
    "from sklearn.utils import shuffle\n",
    "train_df = shuffle(train_df) # shuffling so that there is no particular sequence\n",
    "print(\"Train class counts:\")\n",
    "print(train_df['class'].value_counts())"
   ]
  },
  {
   "cell_type": "code",
   "execution_count": 9,
   "id": "7caf2941",
   "metadata": {
    "colab": {
     "base_uri": "https://localhost:8080/"
    },
    "executionInfo": {
     "elapsed": 5,
     "status": "ok",
     "timestamp": 1651420426844,
     "user": {
      "displayName": "Laurence Brown",
      "userId": "02353821870267800674"
     },
     "user_tz": -60
    },
    "id": "7caf2941",
    "outputId": "872eb520-277c-4f85-e7ab-cc348fc6bd9d",
    "scrolled": true
   },
   "outputs": [
    {
     "name": "stdout",
     "output_type": "stream",
     "text": [
      "Train class counts:\n",
      "negative    15241\n",
      "positive    15241\n",
      "Name: class, dtype: int64\n",
      "\n",
      "Test class counts:\n",
      "positive    200\n",
      "negative    200\n",
      "Name: class, dtype: int64\n"
     ]
    }
   ],
   "source": [
    "print(\"Train class counts:\")\n",
    "print(train_df['class'].value_counts())\n",
    "print(\"\\nTest class counts:\")\n",
    "print(test_df['class'].value_counts())"
   ]
  },
  {
   "cell_type": "code",
   "execution_count": 10,
   "id": "4a7105a4",
   "metadata": {
    "colab": {
     "base_uri": "https://localhost:8080/"
    },
    "executionInfo": {
     "elapsed": 2102,
     "status": "ok",
     "timestamp": 1651420428943,
     "user": {
      "displayName": "Laurence Brown",
      "userId": "02353821870267800674"
     },
     "user_tz": -60
    },
    "id": "4a7105a4",
    "outputId": "d9c72337-0c5e-453c-8ba8-a81fa068c639"
   },
   "outputs": [
    {
     "name": "stdout",
     "output_type": "stream",
     "text": [
      "Found 400 validated image filenames belonging to 2 classes.\n"
     ]
    }
   ],
   "source": [
    "# preprocess images\n",
    "test_datagen = ImageDataGenerator(preprocessing_function=tf.keras.applications.xception.preprocess_input)\n",
    "\n",
    "test_gen = test_datagen.flow_from_dataframe(dataframe = test_df, directory=DATASET_PATH+'/test', x_col='filename',\n",
    "                                            y_col='class', target_size=(IMAGE_SIZE, IMAGE_SIZE), batch_size=BATCH_SIZE, \n",
    "                                            color_mode='rgb', class_mode='binary', shuffle=False)"
   ]
  },
  {
   "cell_type": "code",
   "execution_count": 11,
   "id": "dc520d7a",
   "metadata": {
    "executionInfo": {
     "elapsed": 5,
     "status": "ok",
     "timestamp": 1651420428943,
     "user": {
      "displayName": "Laurence Brown",
      "userId": "02353821870267800674"
     },
     "user_tz": -60
    },
    "id": "dc520d7a"
   },
   "outputs": [],
   "source": [
    "def preprocess_images_cv(train_index, val_index):\n",
    "    # find the section of the training data that the fold is located\n",
    "    training_data = train_df.iloc[train_index]\n",
    "    validation_data = train_df.iloc[val_index]\n",
    "    train_datagen = ImageDataGenerator(preprocessing_function=tf.keras.applications.xception.preprocess_input,\n",
    "                                       rotation_range = 20, width_shift_range = 0.2, height_shift_range = 0.2, \n",
    "                                       shear_range = 0.2, zoom_range = 0.1, horizontal_flip = True)\n",
    "\n",
    "    # now get the images from directory with augmentation\n",
    "    \n",
    "    train_gen = train_datagen.flow_from_dataframe(dataframe = training_data, directory=DATASET_PATH+'/train', \n",
    "                                                  x_col='filename', y_col='class', target_size=(IMAGE_SIZE, IMAGE_SIZE), \n",
    "                                                  batch_size=BATCH_SIZE, color_mode='rgb', class_mode='binary')\n",
    "    valid_gen = test_datagen.flow_from_dataframe(dataframe = validation_data, directory=DATASET_PATH+'/train', \n",
    "                                                 x_col='filename', y_col='class', target_size=(IMAGE_SIZE, IMAGE_SIZE), \n",
    "                                                 batch_size=BATCH_SIZE,  color_mode='rgb', class_mode='binary')\n",
    "    return train_gen, valid_gen"
   ]
  },
  {
   "cell_type": "markdown",
   "id": "4174e3f4",
   "metadata": {
    "id": "4174e3f4"
   },
   "source": [
    "## Xception"
   ]
  },
  {
   "cell_type": "code",
   "execution_count": 12,
   "id": "96ce3019",
   "metadata": {
    "executionInfo": {
     "elapsed": 5,
     "status": "ok",
     "timestamp": 1651420428944,
     "user": {
      "displayName": "Laurence Brown",
      "userId": "02353821870267800674"
     },
     "user_tz": -60
    },
    "id": "96ce3019"
   },
   "outputs": [],
   "source": [
    "# required libraries for Xception\n",
    "from tensorflow import keras\n",
    "from tensorflow.keras.optimizers import Adam"
   ]
  },
  {
   "cell_type": "code",
   "execution_count": 13,
   "id": "836aa1a9",
   "metadata": {
    "executionInfo": {
     "elapsed": 4,
     "status": "ok",
     "timestamp": 1651420428944,
     "user": {
      "displayName": "Laurence Brown",
      "userId": "02353821870267800674"
     },
     "user_tz": -60
    },
    "id": "836aa1a9"
   },
   "outputs": [],
   "source": [
    "def create_model(hparams):\n",
    "    # create the base pre-trained model\n",
    "    base_model = keras.applications.Xception(weights='imagenet', input_shape = (IMAGE_SIZE,IMAGE_SIZE,3),\n",
    "                                                  include_top=False)\n",
    "    # add no imtpovements and add output layer\n",
    "    model = keras.Sequential([base_model,\n",
    "                              keras.layers.GlobalAveragePooling2D(),\n",
    "                              keras.layers.Dense(1, activation='sigmoid')\n",
    "                              ])\n",
    "    # compile model\n",
    "    optimizer_name = hparams[HP_OPTIMIZER]\n",
    "    learning_rate = hparams[HP_L_RATE]\n",
    "    if optimizer_name == \"adam\":\n",
    "        optimizer = tf.keras.optimizers.Adam(learning_rate=learning_rate)\n",
    "    elif optimizer_name == \"sgd\":\n",
    "        optimizer = tf.keras.optimizers.SGD(learning_rate=learning_rate)\n",
    "    else:\n",
    "        raise ValueError(\"unexpected optimizer name: %r\" % (optimizer_name,))\n",
    "\n",
    "\n",
    "    model.compile(optimizer = optimizer,\n",
    "                  loss = 'binary_crossentropy',\n",
    "                  metrics=['accuracy'])\n",
    "    return model"
   ]
  },
  {
   "cell_type": "code",
   "execution_count": 14,
   "id": "b8275562",
   "metadata": {
    "executionInfo": {
     "elapsed": 4,
     "status": "ok",
     "timestamp": 1651420428944,
     "user": {
      "displayName": "Laurence Brown",
      "userId": "02353821870267800674"
     },
     "user_tz": -60
    },
    "id": "b8275562"
   },
   "outputs": [],
   "source": [
    "def get_model_name(k):\n",
    "    return str(\"Xception-Binary-NoImprov\" + \"Fold-\"+str(k)+\"-\"+datetime.now().strftime(\"%Y%m%d-%H%M%S\"))"
   ]
  },
  {
   "cell_type": "code",
   "execution_count": 15,
   "id": "8faa2fa4",
   "metadata": {
    "colab": {
     "base_uri": "https://localhost:8080/"
    },
    "executionInfo": {
     "elapsed": 32754099,
     "status": "ok",
     "timestamp": 1651453183039,
     "user": {
      "displayName": "Laurence Brown",
      "userId": "02353821870267800674"
     },
     "user_tz": -60
    },
    "id": "8faa2fa4",
    "outputId": "0d8ad3da-a21f-4b2e-badf-57f6791fbf88"
   },
   "outputs": [
    {
     "name": "stdout",
     "output_type": "stream",
     "text": [
      "HPARAMS: {'num_units': 128, 'dropout': 0.1, 'optimizer': 'adam', 'learning_rate': 0.001}\n",
      "--- Starting trial: 0\n"
     ]
    },
    {
     "name": "stderr",
     "output_type": "stream",
     "text": [
      "/usr/local/lib/python3.7/dist-packages/keras_preprocessing/image/dataframe_iterator.py:282: UserWarning: Found 1 invalid image filename(s) in x_col=\"filename\". These filename(s) will be ignored.\n",
      "  .format(n_invalid, x_col)\n"
     ]
    },
    {
     "name": "stdout",
     "output_type": "stream",
     "text": [
      "Found 24384 validated image filenames belonging to 2 classes.\n",
      "Found 6097 validated image filenames belonging to 2 classes.\n",
      "Downloading data from https://storage.googleapis.com/tensorflow/keras-applications/xception/xception_weights_tf_dim_ordering_tf_kernels_notop.h5\n",
      "83689472/83683744 [==============================] - 0s 0us/step\n",
      "83697664/83683744 [==============================] - 0s 0us/step\n",
      "Epoch 1/20\n",
      "762/762 [==============================] - 5946s 8s/step - loss: 0.1509 - accuracy: 0.9441 - val_loss: 0.1544 - val_accuracy: 0.9559 - lr: 0.0010\n",
      "Epoch 2/20\n",
      "762/762 [==============================] - 833s 1s/step - loss: 0.0920 - accuracy: 0.9664 - val_loss: 0.1061 - val_accuracy: 0.9624 - lr: 0.0010\n",
      "Epoch 3/20\n",
      "762/762 [==============================] - ETA: 0s - loss: 0.0729 - accuracy: 0.9737\n",
      "Epoch 3: ReduceLROnPlateau reducing learning rate to 0.0005000000237487257.\n",
      "762/762 [==============================] - 823s 1s/step - loss: 0.0729 - accuracy: 0.9737 - val_loss: 0.2147 - val_accuracy: 0.9316 - lr: 0.0010\n",
      "Epoch 4/20\n",
      "762/762 [==============================] - 823s 1s/step - loss: 0.0463 - accuracy: 0.9828 - val_loss: 0.0826 - val_accuracy: 0.9788 - lr: 5.0000e-04\n",
      "Epoch 5/20\n",
      "762/762 [==============================] - ETA: 0s - loss: 0.0395 - accuracy: 0.9850\n",
      "Epoch 5: ReduceLROnPlateau reducing learning rate to 0.0002500000118743628.\n",
      "762/762 [==============================] - 823s 1s/step - loss: 0.0395 - accuracy: 0.9850 - val_loss: 0.1799 - val_accuracy: 0.9380 - lr: 5.0000e-04\n",
      "Epoch 6/20\n",
      "762/762 [==============================] - ETA: 0s - loss: 0.0296 - accuracy: 0.9896\n",
      "Epoch 6: ReduceLROnPlateau reducing learning rate to 0.0001250000059371814.\n",
      "762/762 [==============================] - 822s 1s/step - loss: 0.0296 - accuracy: 0.9896 - val_loss: 0.2361 - val_accuracy: 0.9172 - lr: 2.5000e-04\n",
      "Epoch 7/20\n",
      "762/762 [==============================] - ETA: 0s - loss: 0.0193 - accuracy: 0.9933Restoring model weights from the end of the best epoch: 4.\n",
      "\n",
      "Epoch 7: ReduceLROnPlateau reducing learning rate to 6.25000029685907e-05.\n",
      "762/762 [==============================] - 824s 1s/step - loss: 0.0193 - accuracy: 0.9933 - val_loss: 0.0980 - val_accuracy: 0.9677 - lr: 1.2500e-04\n",
      "Epoch 7: early stopping\n",
      "--- Starting trial: 1\n",
      "Found 24385 validated image filenames belonging to 2 classes.\n",
      "Found 6097 validated image filenames belonging to 2 classes.\n",
      "Epoch 1/20\n",
      "763/763 [==============================] - 835s 1s/step - loss: 0.1523 - accuracy: 0.9430 - val_loss: 0.2779 - val_accuracy: 0.9444 - lr: 0.0010\n",
      "Epoch 2/20\n",
      "763/763 [==============================] - ETA: 0s - loss: 0.0938 - accuracy: 0.9666\n",
      "Epoch 2: ReduceLROnPlateau reducing learning rate to 0.0005000000237487257.\n",
      "763/763 [==============================] - 830s 1s/step - loss: 0.0938 - accuracy: 0.9666 - val_loss: 0.4493 - val_accuracy: 0.9247 - lr: 0.0010\n",
      "Epoch 3/20\n",
      "763/763 [==============================] - 828s 1s/step - loss: 0.0586 - accuracy: 0.9792 - val_loss: 0.0834 - val_accuracy: 0.9662 - lr: 5.0000e-04\n",
      "Epoch 4/20\n",
      "763/763 [==============================] - ETA: 0s - loss: 0.0596 - accuracy: 0.9784\n",
      "Epoch 4: ReduceLROnPlateau reducing learning rate to 0.0002500000118743628.\n",
      "763/763 [==============================] - 827s 1s/step - loss: 0.0596 - accuracy: 0.9784 - val_loss: 0.2470 - val_accuracy: 0.8880 - lr: 5.0000e-04\n",
      "Epoch 5/20\n",
      "763/763 [==============================] - 828s 1s/step - loss: 0.0339 - accuracy: 0.9875 - val_loss: 0.0804 - val_accuracy: 0.9711 - lr: 2.5000e-04\n",
      "Epoch 6/20\n",
      "763/763 [==============================] - ETA: 0s - loss: 0.0333 - accuracy: 0.9882\n",
      "Epoch 6: ReduceLROnPlateau reducing learning rate to 0.0001250000059371814.\n",
      "763/763 [==============================] - 827s 1s/step - loss: 0.0333 - accuracy: 0.9882 - val_loss: 0.1896 - val_accuracy: 0.9510 - lr: 2.5000e-04\n",
      "Epoch 7/20\n",
      "763/763 [==============================] - ETA: 0s - loss: 0.0226 - accuracy: 0.9917\n",
      "Epoch 7: ReduceLROnPlateau reducing learning rate to 6.25000029685907e-05.\n",
      "763/763 [==============================] - 826s 1s/step - loss: 0.0226 - accuracy: 0.9917 - val_loss: 0.1164 - val_accuracy: 0.9598 - lr: 1.2500e-04\n",
      "Epoch 8/20\n",
      "763/763 [==============================] - ETA: 0s - loss: 0.0186 - accuracy: 0.9932Restoring model weights from the end of the best epoch: 5.\n",
      "\n",
      "Epoch 8: ReduceLROnPlateau reducing learning rate to 3.125000148429535e-05.\n",
      "763/763 [==============================] - 832s 1s/step - loss: 0.0186 - accuracy: 0.9932 - val_loss: 0.1978 - val_accuracy: 0.9244 - lr: 6.2500e-05\n",
      "Epoch 8: early stopping\n",
      "--- Starting trial: 2\n",
      "Found 24386 validated image filenames belonging to 2 classes.\n",
      "Found 6096 validated image filenames belonging to 2 classes.\n",
      "Epoch 1/20\n",
      "763/763 [==============================] - 834s 1s/step - loss: 0.1552 - accuracy: 0.9430 - val_loss: 0.1594 - val_accuracy: 0.9521 - lr: 0.0010\n",
      "Epoch 2/20\n",
      "763/763 [==============================] - ETA: 0s - loss: 0.1241 - accuracy: 0.9542\n",
      "Epoch 2: ReduceLROnPlateau reducing learning rate to 0.0005000000237487257.\n",
      "763/763 [==============================] - 827s 1s/step - loss: 0.1241 - accuracy: 0.9542 - val_loss: 0.3095 - val_accuracy: 0.9203 - lr: 0.0010\n",
      "Epoch 3/20\n",
      "763/763 [==============================] - ETA: 0s - loss: 0.0751 - accuracy: 0.9733\n",
      "Epoch 3: ReduceLROnPlateau reducing learning rate to 0.0002500000118743628.\n",
      "763/763 [==============================] - 822s 1s/step - loss: 0.0751 - accuracy: 0.9733 - val_loss: 0.6781 - val_accuracy: 0.7462 - lr: 5.0000e-04\n",
      "Epoch 4/20\n",
      "763/763 [==============================] - 829s 1s/step - loss: 0.0540 - accuracy: 0.9799 - val_loss: 0.0444 - val_accuracy: 0.9839 - lr: 2.5000e-04\n",
      "Epoch 5/20\n",
      "763/763 [==============================] - ETA: 0s - loss: 0.0452 - accuracy: 0.9840\n",
      "Epoch 5: ReduceLROnPlateau reducing learning rate to 0.0001250000059371814.\n",
      "763/763 [==============================] - 825s 1s/step - loss: 0.0452 - accuracy: 0.9840 - val_loss: 0.0460 - val_accuracy: 0.9828 - lr: 2.5000e-04\n",
      "Epoch 6/20\n",
      "763/763 [==============================] - ETA: 0s - loss: 0.0346 - accuracy: 0.9875\n",
      "Epoch 6: ReduceLROnPlateau reducing learning rate to 6.25000029685907e-05.\n",
      "763/763 [==============================] - 822s 1s/step - loss: 0.0346 - accuracy: 0.9875 - val_loss: 0.0493 - val_accuracy: 0.9820 - lr: 1.2500e-04\n",
      "Epoch 7/20\n",
      "763/763 [==============================] - ETA: 0s - loss: 0.0293 - accuracy: 0.9896Restoring model weights from the end of the best epoch: 4.\n",
      "\n",
      "Epoch 7: ReduceLROnPlateau reducing learning rate to 3.125000148429535e-05.\n",
      "763/763 [==============================] - 822s 1s/step - loss: 0.0293 - accuracy: 0.9896 - val_loss: 0.1001 - val_accuracy: 0.9611 - lr: 6.2500e-05\n",
      "Epoch 7: early stopping\n",
      "--- Starting trial: 3\n",
      "Found 24386 validated image filenames belonging to 2 classes.\n",
      "Found 6096 validated image filenames belonging to 2 classes.\n",
      "Epoch 1/20\n",
      "763/763 [==============================] - 834s 1s/step - loss: 0.1663 - accuracy: 0.9389 - val_loss: 0.1164 - val_accuracy: 0.9601 - lr: 0.0010\n",
      "Epoch 2/20\n",
      "763/763 [==============================] - ETA: 0s - loss: 0.1059 - accuracy: 0.9614\n",
      "Epoch 2: ReduceLROnPlateau reducing learning rate to 0.0005000000237487257.\n",
      "763/763 [==============================] - 833s 1s/step - loss: 0.1059 - accuracy: 0.9614 - val_loss: 0.3418 - val_accuracy: 0.8246 - lr: 0.0010\n",
      "Epoch 3/20\n",
      "763/763 [==============================] - 829s 1s/step - loss: 0.0825 - accuracy: 0.9709 - val_loss: 0.0683 - val_accuracy: 0.9759 - lr: 5.0000e-04\n",
      "Epoch 4/20\n",
      "763/763 [==============================] - ETA: 0s - loss: 0.0631 - accuracy: 0.9767\n",
      "Epoch 4: ReduceLROnPlateau reducing learning rate to 0.0002500000118743628.\n",
      "763/763 [==============================] - 832s 1s/step - loss: 0.0631 - accuracy: 0.9767 - val_loss: 0.0814 - val_accuracy: 0.9724 - lr: 5.0000e-04\n",
      "Epoch 5/20\n",
      "763/763 [==============================] - ETA: 0s - loss: 0.0430 - accuracy: 0.9827\n",
      "Epoch 5: ReduceLROnPlateau reducing learning rate to 0.0001250000059371814.\n",
      "763/763 [==============================] - 826s 1s/step - loss: 0.0430 - accuracy: 0.9827 - val_loss: 0.2597 - val_accuracy: 0.9332 - lr: 2.5000e-04\n",
      "Epoch 6/20\n",
      "763/763 [==============================] - ETA: 0s - loss: 0.0379 - accuracy: 0.9859Restoring model weights from the end of the best epoch: 3.\n",
      "\n",
      "Epoch 6: ReduceLROnPlateau reducing learning rate to 6.25000029685907e-05.\n",
      "763/763 [==============================] - 830s 1s/step - loss: 0.0379 - accuracy: 0.9859 - val_loss: 0.0745 - val_accuracy: 0.9719 - lr: 1.2500e-04\n",
      "Epoch 6: early stopping\n",
      "--- Starting trial: 4\n",
      "Found 24386 validated image filenames belonging to 2 classes.\n",
      "Found 6096 validated image filenames belonging to 2 classes.\n",
      "Epoch 1/20\n",
      "763/763 [==============================] - 836s 1s/step - loss: 0.1476 - accuracy: 0.9470 - val_loss: 0.2567 - val_accuracy: 0.9170 - lr: 0.0010\n",
      "Epoch 2/20\n",
      "763/763 [==============================] - 836s 1s/step - loss: 0.0881 - accuracy: 0.9685 - val_loss: 0.1394 - val_accuracy: 0.9567 - lr: 0.0010\n",
      "Epoch 3/20\n",
      "763/763 [==============================] - ETA: 0s - loss: 0.0754 - accuracy: 0.9742\n",
      "Epoch 3: ReduceLROnPlateau reducing learning rate to 0.0005000000237487257.\n",
      "763/763 [==============================] - 835s 1s/step - loss: 0.0754 - accuracy: 0.9742 - val_loss: 0.3345 - val_accuracy: 0.8893 - lr: 0.0010\n",
      "Epoch 4/20\n",
      "763/763 [==============================] - ETA: 0s - loss: 0.0570 - accuracy: 0.9802\n",
      "Epoch 4: ReduceLROnPlateau reducing learning rate to 0.0002500000118743628.\n",
      "763/763 [==============================] - 831s 1s/step - loss: 0.0570 - accuracy: 0.9802 - val_loss: 0.2223 - val_accuracy: 0.9178 - lr: 5.0000e-04\n",
      "Epoch 5/20\n",
      "763/763 [==============================] - ETA: 0s - loss: 0.0500 - accuracy: 0.9824Restoring model weights from the end of the best epoch: 2.\n",
      "\n",
      "Epoch 5: ReduceLROnPlateau reducing learning rate to 0.0001250000059371814.\n",
      "763/763 [==============================] - 830s 1s/step - loss: 0.0500 - accuracy: 0.9824 - val_loss: 0.2066 - val_accuracy: 0.9286 - lr: 2.5000e-04\n",
      "Epoch 5: early stopping\n"
     ]
    }
   ],
   "source": [
    "# perform HP tuning and CV on the model on the data\n",
    "Y = train_df['class']\n",
    "trained_models = []\n",
    "\n",
    "# iterate through hyper-parameters\n",
    "for num_units in HP_NUM_UNITS.domain.values:\n",
    "    for dropout_rate in HP_DROPOUT.domain.values:\n",
    "        for optimizer in HP_OPTIMIZER.domain.values:\n",
    "            for learning_rate in HP_L_RATE.domain.values:\n",
    "                # instantiate k folds and hyper-parameters for this iteration\n",
    "                skf = StratifiedKFold(n_splits = K_FOLDS, shuffle = True) \n",
    "                k_i = 0\n",
    "                k_fold_models = []\n",
    "                elapsed_times = []\n",
    "                hparams = {\n",
    "                    HP_NUM_UNITS: num_units,\n",
    "                    HP_DROPOUT: dropout_rate,\n",
    "                    HP_OPTIMIZER: optimizer,\n",
    "                    HP_L_RATE: learning_rate\n",
    "                }\n",
    "                print('HPARAMS:',{h.name: hparams[h] for h in hparams})\n",
    "                \n",
    "                # iterate through k folds\n",
    "                for train_index, val_index in skf.split(np.zeros(len(Y)),Y):\n",
    "                    print('--- Starting trial: %s' % k_i)\n",
    "                    t = time.process_time() # begin timing model\n",
    "                    train_gen, valid_gen = preprocess_images_cv(train_index, val_index) # fetch dataset for this fold\n",
    "                    \n",
    "                    # set up logging directories and callbacks\n",
    "                    logdir = os.path.join('trained-classifiers','logs','fit', get_model_name(k_i))\n",
    "                    hpdir = os.path.join('trained-classifiers','logs','hparam_tuning', get_model_name(k_i))\n",
    "                    modeldir = os.path.join('model-checkpoints',str(get_model_name(k_i)+\".h5\"))\n",
    "                    callbacks = [\n",
    "                        keras.callbacks.ModelCheckpoint(filepath=modeldir, save_best_only=True, verbose = 0),\n",
    "                        keras.callbacks.EarlyStopping(patience=3, monitor='val_loss', verbose=1, restore_best_weights=True),\n",
    "                        keras.callbacks.ReduceLROnPlateau(monitor='val_loss', factor=0.5, patience=1, verbose=1),\n",
    "                        keras.callbacks.TensorBoard(log_dir=logdir)\n",
    "                      ]\n",
    "                    \n",
    "                    # create the model\n",
    "                    hp.hparams(hparams)  \n",
    "                    model = create_model(hparams)\n",
    "                    \n",
    "                    # train model\n",
    "                    model.fit(train_gen, validation_data=valid_gen, epochs=MAX_EPOCHS, callbacks=callbacks)\n",
    "                    \n",
    "                    # record the values used in this trial\n",
    "                    elapsed_times.append(time.process_time() - t)\n",
    "                    k_fold_models.append(modeldir)\n",
    "                    \n",
    "                    # clean memory\n",
    "                    del model, train_gen, valid_gen\n",
    "                    keras.backend.clear_session()\n",
    "                    k_i += 1\n",
    "                    \n",
    "                trained_models.append([hparams, k_fold_models, elapsed_times])"
   ]
  },
  {
   "cell_type": "markdown",
   "id": "7d4d6530",
   "metadata": {
    "id": "7d4d6530"
   },
   "source": [
    "## Evaluation"
   ]
  },
  {
   "cell_type": "code",
   "execution_count": 16,
   "id": "9851f1f7",
   "metadata": {
    "executionInfo": {
     "elapsed": 3,
     "status": "ok",
     "timestamp": 1651453183039,
     "user": {
      "displayName": "Laurence Brown",
      "userId": "02353821870267800674"
     },
     "user_tz": -60
    },
    "id": "9851f1f7"
   },
   "outputs": [],
   "source": [
    "# import libraries for evaluation\n",
    "from sklearn.metrics import accuracy_score, precision_score, recall_score, f1_score, confusion_matrix\n",
    "from statistics import mean"
   ]
  },
  {
   "cell_type": "code",
   "execution_count": 17,
   "id": "69b88b94",
   "metadata": {
    "colab": {
     "base_uri": "https://localhost:8080/"
    },
    "executionInfo": {
     "elapsed": 347710,
     "status": "ok",
     "timestamp": 1651453530747,
     "user": {
      "displayName": "Laurence Brown",
      "userId": "02353821870267800674"
     },
     "user_tz": -60
    },
    "id": "69b88b94",
    "outputId": "15ea984e-06ce-4e42-99df-2893dcd9f96b"
   },
   "outputs": [
    {
     "name": "stdout",
     "output_type": "stream",
     "text": [
      "13/13 [==============================] - 20s 1s/step - loss: 0.0378 - accuracy: 0.9900\n",
      "13/13 [==============================] - 19s 1s/step - loss: 0.0909 - accuracy: 0.9775\n",
      "13/13 [==============================] - 19s 1s/step - loss: 0.0904 - accuracy: 0.9675\n",
      "13/13 [==============================] - 19s 1s/step - loss: 0.1528 - accuracy: 0.9475\n",
      "13/13 [==============================] - 19s 1s/step - loss: 0.5096 - accuracy: 0.8075\n",
      "SCORE FOR HPARAMS: {'num_units': 128, 'dropout': 0.1, 'optimizer': 'adam', 'learning_rate': 0.001}\n",
      "Mean accuracy: 0.9380000000000001\n",
      "Mean k_accuracy; 0.9379999995231628\n",
      "Mean precision: 0.9900657593316264\n",
      "Mean recall: 0.886\n",
      "Mean f1: 0.9281355686792301\n",
      "Mean training time: 7211.669876480199\n"
     ]
    }
   ],
   "source": [
    "# iterate through hyper-parameter configurations\n",
    "for j in trained_models:\n",
    "    model = create_model(j[0])\n",
    "    accuracies = []\n",
    "    k_accuracies = []\n",
    "    precisions = []\n",
    "    recalls = []\n",
    "    f1s = []\n",
    "    tp = []\n",
    "    fp = []\n",
    "    tn = []\n",
    "    fn = []\n",
    "    \n",
    "    # iterate through each folds model\n",
    "    for i in j[1]:\n",
    "        model.load_weights(i)\n",
    "        test_pred = model.predict(test_gen)\n",
    "        y_pred = np.rint(test_pred).flatten()\n",
    "        y_test= [test_gen.class_indices[k] for k in test_df['class'].values.tolist()]\n",
    "        k_accuracies.append(model.evaluate(test_gen)[1])\n",
    "        accuracies.append(accuracy_score(y_test, y_pred))\n",
    "        precisions.append(precision_score(y_test, y_pred, zero_division=0))\n",
    "        recalls.append(recall_score(y_test, y_pred))\n",
    "        f1s.append(f1_score(y_test, y_pred))\n",
    "        tn_x, fp_x, fn_x, tp_x = confusion_matrix(y_test, y_pred).ravel()\n",
    "        tp.append(tp_x)\n",
    "        fp.append(fp_x)\n",
    "        tn.append(tn_x)\n",
    "        fn.append(fn_x)\n",
    "\n",
    "    print(\"SCORE FOR HPARAMS:\", {h.name: j[0][h] for h in j[0]})\n",
    "    print(\"Mean accuracy:\", mean(accuracies))\n",
    "    print(\"Mean k_accuracy;\", mean(k_accuracies))\n",
    "    print(\"Mean precision:\", mean(precisions))\n",
    "    print(\"Mean recall:\", mean(recalls))\n",
    "    print(\"Mean f1:\", mean(f1s))\n",
    "    print(\"Mean training time:\", mean(j[2]))\n",
    "    \n",
    "    # retreive hyper-parameters\n",
    "    hdict = {h.name: j[0][h] for h in j[0]}\n",
    "    \n",
    "    # save results to file\n",
    "    df =  pd.DataFrame(np.array([[str(j[1]),\n",
    "                                  hdict.get('num_units'), hdict.get('dropout'), hdict.get('optimizer'), \n",
    "                                  hdict.get('learning_rate'),IMAGE_SIZE, BATCH_SIZE, DATASET_SIZE, MAX_EPOCHS, K_FOLDS,\n",
    "                                  mean(accuracies), mean(k_accuracies), mean(precisions), mean(recalls), mean(f1s),\n",
    "                                  mean(tn), mean(fp), mean(fn), mean(tp), mean(j[2])\n",
    "                                 ]]),\n",
    "                       columns=['Model Names','num_units', 'dropout','optimizer','learning_rate',\n",
    "                                'IMAGE_SIZE', 'BATCH_SIZE', 'DATASET_SIZE', 'MAX_EPOCHS',\n",
    "                                'K_FOLDS','Accuracy', 'K_accuracy', 'Precision', 'Recall', 'f1 Score', \n",
    "                                'True Negatives', ' False Positives', 'False Negatives', 'True Positives', 'Training Time'])\n",
    "    with open('trained-classifiers/Xception.csv', 'a') as f:\n",
    "        df.to_csv(f, mode='a', header=f.tell()==0, index = False)"
   ]
  },
  {
   "cell_type": "markdown",
   "id": "96f74fbe",
   "metadata": {
    "id": "96f74fbe"
   },
   "source": [
    "NOTE: Accuracy and loss graphs can be seen on TensorBoard, run \"%tensorboard --logdir logs --host 0.0.0.0\" to open"
   ]
  }
 ],
 "metadata": {
  "accelerator": "GPU",
  "colab": {
   "collapsed_sections": [],
   "name": "FINAL LARGE  Xception-Binary-Hparams-NO-IMPROVEMENTS.ipynb",
   "provenance": [
    {
     "file_id": "1cmmilrcaZShuyk6PoM8ZIAB8r5Ieiu5V",
     "timestamp": 1651420354370
    },
    {
     "file_id": "11r3f-qnUzKIE9bcitoUoSNfognYvm6mH",
     "timestamp": 1651401421910
    },
    {
     "file_id": "https://github.com/laurencebrwn/ml-covid19-eval/blob/main/Xception-Binary-Hparams.ipynb",
     "timestamp": 1649284749785
    }
   ]
  },
  "environment": {
   "kernel": "python3",
   "name": "managed-notebooks.m90",
   "type": "gcloud",
   "uri": "gcr.io/deeplearning-platform-release/managed-notebooks:m90"
  },
  "kernelspec": {
   "display_name": "Python 3 (ipykernel)",
   "language": "python",
   "name": "python3"
  },
  "language_info": {
   "codemirror_mode": {
    "name": "ipython",
    "version": 3
   },
   "file_extension": ".py",
   "mimetype": "text/x-python",
   "name": "python",
   "nbconvert_exporter": "python",
   "pygments_lexer": "ipython3",
   "version": "3.7.9"
  }
 },
 "nbformat": 4,
 "nbformat_minor": 5
}
