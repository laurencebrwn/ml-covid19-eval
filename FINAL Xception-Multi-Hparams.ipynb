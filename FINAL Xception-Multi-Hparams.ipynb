{
 "cells": [
  {
   "cell_type": "markdown",
   "id": "8e0ccce8",
   "metadata": {
    "id": "8e0ccce8",
    "tags": []
   },
   "source": [
    "## Model Variables"
   ]
  },
  {
   "cell_type": "code",
   "execution_count": 3,
   "id": "68fe9ea2",
   "metadata": {
    "executionInfo": {
     "elapsed": 3,
     "status": "ok",
     "timestamp": 1651414850764,
     "user": {
      "displayName": "Laurence Brown",
      "userId": "02353821870267800674"
     },
     "user_tz": -60
    },
    "id": "68fe9ea2"
   },
   "outputs": [],
   "source": [
    "IMAGE_SIZE = 224\n",
    "BATCH_SIZE = 32\n",
    "DATASET_SIZE = 1500\n",
    "MAX_EPOCHS = 20\n",
    "K_FOLDS = 5\n",
    "DATASET_PATH = 'covidx-cxr2'"
   ]
  },
  {
   "cell_type": "markdown",
   "id": "69bfede4",
   "metadata": {
    "id": "69bfede4"
   },
   "source": [
    "## Data Preparation"
   ]
  },
  {
   "cell_type": "code",
   "execution_count": 4,
   "id": "b2c6945d",
   "metadata": {
    "colab": {
     "base_uri": "https://localhost:8080/"
    },
    "executionInfo": {
     "elapsed": 7548,
     "status": "ok",
     "timestamp": 1651414858309,
     "user": {
      "displayName": "Laurence Brown",
      "userId": "02353821870267800674"
     },
     "user_tz": -60
    },
    "id": "b2c6945d",
    "outputId": "cb8ea7fe-36b2-4714-bd30-23d1b4b3f555"
   },
   "outputs": [
    {
     "name": "stdout",
     "output_type": "stream",
     "text": [
      "Tensorflow Version: 2.8.0\n",
      "Tensorboard Version: 2.8.0\n",
      "WARNING:tensorflow:From <ipython-input-4-69532632d99b>:19: is_gpu_available (from tensorflow.python.framework.test_util) is deprecated and will be removed in a future version.\n",
      "Instructions for updating:\n",
      "Use `tf.config.list_physical_devices('GPU')` instead.\n",
      "GPU Found: True\n"
     ]
    }
   ],
   "source": [
    "# import required libraries\n",
    "import numpy as np\n",
    "import pandas as pd\n",
    "import os\n",
    "import tensorflow as tf\n",
    "from tensorflow.keras.preprocessing.image import ImageDataGenerator\n",
    "import shutil\n",
    "from sklearn.metrics import confusion_matrix, classification_report\n",
    "from datetime import datetime\n",
    "from packaging import version\n",
    "%reload_ext tensorboard\n",
    "import tensorboard\n",
    "from sklearn.model_selection import StratifiedKFold\n",
    "from tensorboard.plugins.hparams import api as hp\n",
    "import time\n",
    "\n",
    "print(\"Tensorflow Version:\", tf.__version__)\n",
    "print(\"Tensorboard Version:\", tensorboard.__version__)\n",
    "print(\"GPU Found:\", tf.test.is_gpu_available())"
   ]
  },
  {
   "cell_type": "code",
   "execution_count": 5,
   "id": "55a26665",
   "metadata": {
    "executionInfo": {
     "elapsed": 1812,
     "status": "ok",
     "timestamp": 1651414860118,
     "user": {
      "displayName": "Laurence Brown",
      "userId": "02353821870267800674"
     },
     "user_tz": -60
    },
    "id": "55a26665"
   },
   "outputs": [],
   "source": [
    "# set up hyper-parameters\n",
    "HP_NUM_UNITS = hp.HParam('num_units', hp.Discrete([128]))\n",
    "HP_DROPOUT = hp.HParam('dropout', hp.Discrete([0.1]))\n",
    "HP_OPTIMIZER = hp.HParam('optimizer', hp.Discrete(['adam']))\n",
    "HP_L_RATE= hp.HParam('learning_rate', hp.Discrete([0.001]))\n",
    "\n",
    "METRIC_ACCURACY = 'accuracy'\n",
    "\n",
    "with tf.summary.create_file_writer('trained-classifiers/logs/hparam_tuning').as_default():\n",
    "    hp.hparams_config(\n",
    "        hparams=[HP_NUM_UNITS, HP_DROPOUT, HP_OPTIMIZER, HP_L_RATE],\n",
    "        metrics=[hp.Metric(METRIC_ACCURACY, display_name='Accuracy')],\n",
    "    )"
   ]
  },
  {
   "cell_type": "code",
   "execution_count": 6,
   "id": "5197d1f5",
   "metadata": {
    "executionInfo": {
     "elapsed": 1421,
     "status": "ok",
     "timestamp": 1651414861537,
     "user": {
      "displayName": "Laurence Brown",
      "userId": "02353821870267800674"
     },
     "user_tz": -60
    },
    "id": "5197d1f5"
   },
   "outputs": [],
   "source": [
    "# read in train data\n",
    "train_df = pd.read_csv(DATASET_PATH+'/train_COVIDx9A.txt', \n",
    "                       sep=\" \", header=None)\n",
    "# add columns to go from 0, 1, 2, 3 to patient id, filename, class etc\n",
    "train_df.columns=['patient id', 'filename', 'class', 'data source']\n",
    "# drop patient id and datasource as not needed\n",
    "train_df=train_df.drop(['patient id', 'data source'], axis=1 )\n",
    "\n",
    "# read in test data\n",
    "test_df = pd.read_csv(DATASET_PATH+'/test_COVIDx9A.txt', \n",
    "                      sep=\" \", header=None)\n",
    "# add columns to go from 0, 1, 2, 3 to patient id, filename, class etc\n",
    "test_df.columns=['patient id', 'filename', 'class', 'data source']\n",
    "# drop patient id and datasource as not needed\n",
    "test_df=test_df.drop(['patient id', 'data source'], axis=1 )"
   ]
  },
  {
   "cell_type": "code",
   "execution_count": 7,
   "id": "fe14addd",
   "metadata": {
    "colab": {
     "base_uri": "https://localhost:8080/"
    },
    "executionInfo": {
     "elapsed": 10,
     "status": "ok",
     "timestamp": 1651414861538,
     "user": {
      "displayName": "Laurence Brown",
      "userId": "02353821870267800674"
     },
     "user_tz": -60
    },
    "id": "fe14addd",
    "outputId": "7a8925f2-42eb-4a6f-ece2-de0e15c1d2ae"
   },
   "outputs": [
    {
     "name": "stdout",
     "output_type": "stream",
     "text": [
      "Train class counts:\n",
      "COVID-19     15547\n",
      "normal        8085\n",
      "pneumonia     5555\n",
      "positive       943\n",
      "Name: class, dtype: int64\n",
      "\n",
      "Test class counts:\n",
      "COVID-19     200\n",
      "normal       100\n",
      "pneumonia    100\n",
      "Name: class, dtype: int64\n"
     ]
    }
   ],
   "source": [
    "print(\"Train class counts:\")\n",
    "print(train_df['class'].value_counts())\n",
    "print(\"\\nTest class counts:\")\n",
    "print(test_df['class'].value_counts())"
   ]
  },
  {
   "cell_type": "code",
   "execution_count": 8,
   "id": "e42bf5ec",
   "metadata": {
    "colab": {
     "base_uri": "https://localhost:8080/"
    },
    "executionInfo": {
     "elapsed": 8,
     "status": "ok",
     "timestamp": 1651414861538,
     "user": {
      "displayName": "Laurence Brown",
      "userId": "02353821870267800674"
     },
     "user_tz": -60
    },
    "id": "e42bf5ec",
    "outputId": "7d91ab87-7117-4ac6-ba22-cf7369e93265"
   },
   "outputs": [
    {
     "name": "stdout",
     "output_type": "stream",
     "text": [
      "Train class counts:\n",
      "COVID-19     500\n",
      "pneumonia    500\n",
      "normal       500\n",
      "Name: class, dtype: int64\n"
     ]
    }
   ],
   "source": [
    "normal  = train_df[train_df['class']=='normal']   # normal values in class column\n",
    "pneumonia = train_df[train_df['class']=='pneumonia']  # pneumonia values in class column\n",
    "COVID19 = train_df[train_df['class']=='COVID-19']  # COVID-19 values in class column\n",
    "\n",
    "from sklearn.utils import resample\n",
    "# downsample training data to equal values of each class, to reduce class bias and reduce training time\n",
    "\n",
    "df_normal_downsampled = resample(normal, replace = True, n_samples = DATASET_SIZE//3) \n",
    "df_pneumonia_downsampled = resample(pneumonia, replace = True, n_samples = DATASET_SIZE//3) \n",
    "df_COVID19_downsampled = resample(COVID19, replace = True, n_samples = DATASET_SIZE//3) \n",
    "\n",
    "#concatenate\n",
    "train_df = pd.concat([df_normal_downsampled, df_pneumonia_downsampled, df_COVID19_downsampled])\n",
    "\n",
    "from sklearn.utils import shuffle\n",
    "train_df = shuffle(train_df) # shuffling so that there is particular sequence\n",
    "print(\"Train class counts:\")\n",
    "print(train_df['class'].value_counts())"
   ]
  },
  {
   "cell_type": "code",
   "execution_count": 9,
   "id": "7caf2941",
   "metadata": {
    "colab": {
     "base_uri": "https://localhost:8080/"
    },
    "executionInfo": {
     "elapsed": 6,
     "status": "ok",
     "timestamp": 1651414861538,
     "user": {
      "displayName": "Laurence Brown",
      "userId": "02353821870267800674"
     },
     "user_tz": -60
    },
    "id": "7caf2941",
    "outputId": "0e3140b5-4e55-43c7-f505-cd2113b31374",
    "scrolled": true
   },
   "outputs": [
    {
     "name": "stdout",
     "output_type": "stream",
     "text": [
      "Train class counts:\n",
      "COVID-19     500\n",
      "pneumonia    500\n",
      "normal       500\n",
      "Name: class, dtype: int64\n",
      "\n",
      "Test class counts:\n",
      "COVID-19     200\n",
      "normal       100\n",
      "pneumonia    100\n",
      "Name: class, dtype: int64\n"
     ]
    }
   ],
   "source": [
    "print(\"Train class counts:\")\n",
    "print(train_df['class'].value_counts())\n",
    "print(\"\\nTest class counts:\")\n",
    "print(test_df['class'].value_counts())"
   ]
  },
  {
   "cell_type": "code",
   "execution_count": 10,
   "id": "4a7105a4",
   "metadata": {
    "colab": {
     "base_uri": "https://localhost:8080/"
    },
    "executionInfo": {
     "elapsed": 2784,
     "status": "ok",
     "timestamp": 1651414864318,
     "user": {
      "displayName": "Laurence Brown",
      "userId": "02353821870267800674"
     },
     "user_tz": -60
    },
    "id": "4a7105a4",
    "outputId": "87d4489c-5c87-4657-bf0c-24c3b1c02167"
   },
   "outputs": [
    {
     "name": "stdout",
     "output_type": "stream",
     "text": [
      "Found 400 validated image filenames belonging to 3 classes.\n"
     ]
    }
   ],
   "source": [
    "# preprocess images\n",
    "test_datagen = ImageDataGenerator(preprocessing_function=tf.keras.applications.xception.preprocess_input)\n",
    "\n",
    "test_gen = test_datagen.flow_from_dataframe(dataframe = test_df, directory=DATASET_PATH+'/test\", x_col='filename', \n",
    "                                            y_col='class', target_size=(IMAGE_SIZE, IMAGE_SIZE), batch_size=BATCH_SIZE, \n",
    "                                            color_mode='rgb', class_mode='categorical', shuffle=False)"
   ]
  },
  {
   "cell_type": "code",
   "execution_count": 11,
   "id": "dc520d7a",
   "metadata": {
    "executionInfo": {
     "elapsed": 6,
     "status": "ok",
     "timestamp": 1651414864319,
     "user": {
      "displayName": "Laurence Brown",
      "userId": "02353821870267800674"
     },
     "user_tz": -60
    },
    "id": "dc520d7a"
   },
   "outputs": [],
   "source": [
    "def preprocess_images_cv(train_index, val_index):\n",
    "    # find the section of the training data that the fold is located\n",
    "    training_data = train_df.iloc[train_index]\n",
    "    validation_data = train_df.iloc[val_index]\n",
    "    train_datagen = ImageDataGenerator(preprocessing_function=tf.keras.applications.xception.preprocess_input,\n",
    "                                       rotation_range = 20, width_shift_range = 0.2, height_shift_range = 0.2, \n",
    "                                       shear_range = 0.2, zoom_range = 0.1, horizontal_flip = True)\n",
    "\n",
    "    # now get the images from directory with augmentation\n",
    "\n",
    "    train_gen = train_datagen.flow_from_dataframe(dataframe = training_data, directory=DATASET_PATH+'/train\", x_col='filename', \n",
    "                                                  y_col='class', target_size=(IMAGE_SIZE, IMAGE_SIZE), batch_size=BATCH_SIZE, \n",
    "                                                  color_mode='rgb', class_mode='categorical')\n",
    "    valid_gen = test_datagen.flow_from_dataframe(dataframe = validation_data, directory=DATASET_PATH+'/train\", x_col='filename',\n",
    "                                                 y_col='class', target_size=(IMAGE_SIZE, IMAGE_SIZE), batch_size=BATCH_SIZE, \n",
    "                                                 color_mode='rgb', class_mode='categorical')\n",
    "    return train_gen, valid_gen"
   ]
  },
  {
   "cell_type": "markdown",
   "id": "4174e3f4",
   "metadata": {
    "id": "4174e3f4"
   },
   "source": [
    "## Xception"
   ]
  },
  {
   "cell_type": "code",
   "execution_count": 12,
   "id": "96ce3019",
   "metadata": {
    "executionInfo": {
     "elapsed": 6,
     "status": "ok",
     "timestamp": 1651414864320,
     "user": {
      "displayName": "Laurence Brown",
      "userId": "02353821870267800674"
     },
     "user_tz": -60
    },
    "id": "96ce3019"
   },
   "outputs": [],
   "source": [
    "# required libraries for Xception\n",
    "from tensorflow import keras\n",
    "from tensorflow.keras.optimizers import Adam"
   ]
  },
  {
   "cell_type": "code",
   "execution_count": 13,
   "id": "836aa1a9",
   "metadata": {
    "executionInfo": {
     "elapsed": 6,
     "status": "ok",
     "timestamp": 1651414864320,
     "user": {
      "displayName": "Laurence Brown",
      "userId": "02353821870267800674"
     },
     "user_tz": -60
    },
    "id": "836aa1a9"
   },
   "outputs": [],
   "source": [
    "def create_model(hparams):\n",
    "    # create the base pre-trained model\n",
    "    base_model = keras.applications.Xception(weights='imagenet', input_shape = (IMAGE_SIZE,IMAGE_SIZE,3),\n",
    "                                                  include_top=False)\n",
    "    # add some minor imtpovements to prevent overfitting and add output layer\n",
    "    model = keras.Sequential([ base_model, \n",
    "                                 keras.layers.GlobalAveragePooling2D(), \n",
    "                                 keras.layers.Dense(hparams[HP_NUM_UNITS], activation='relu'),\n",
    "                                 keras.layers.BatchNormalization(), \n",
    "                                 keras.layers.Dropout(hparams[HP_DROPOUT]),\n",
    "                                 keras.layers.Dense(3, activation='softmax')\n",
    "                                ])\n",
    "    # compile model\n",
    "    optimizer_name = hparams[HP_OPTIMIZER]\n",
    "    learning_rate = hparams[HP_L_RATE]\n",
    "    if optimizer_name == \"adam\":\n",
    "        optimizer = tf.keras.optimizers.Adam(learning_rate=learning_rate)\n",
    "    elif optimizer_name == \"sgd\":\n",
    "        optimizer = tf.keras.optimizers.SGD(learning_rate=learning_rate)\n",
    "    else:\n",
    "        raise ValueError(\"unexpected optimizer name: %r\" % (optimizer_name,))\n",
    "\n",
    "\n",
    "    model.compile(optimizer = optimizer,\n",
    "                  loss = 'categorical_crossentropy',\n",
    "                  metrics=['accuracy'])\n",
    "    return model"
   ]
  },
  {
   "cell_type": "code",
   "execution_count": 14,
   "id": "b8275562",
   "metadata": {
    "executionInfo": {
     "elapsed": 6,
     "status": "ok",
     "timestamp": 1651414864321,
     "user": {
      "displayName": "Laurence Brown",
      "userId": "02353821870267800674"
     },
     "user_tz": -60
    },
    "id": "b8275562"
   },
   "outputs": [],
   "source": [
    "def get_model_name(k):\n",
    "    return str(\"Xception-Multi-\" + \"Fold-\"+str(k)+\"-\"+datetime.now().strftime(\"%Y%m%d-%H%M%S\"))"
   ]
  },
  {
   "cell_type": "code",
   "execution_count": 15,
   "id": "8faa2fa4",
   "metadata": {
    "colab": {
     "base_uri": "https://localhost:8080/"
    },
    "executionInfo": {
     "elapsed": 3557922,
     "status": "ok",
     "timestamp": 1651418422237,
     "user": {
      "displayName": "Laurence Brown",
      "userId": "02353821870267800674"
     },
     "user_tz": -60
    },
    "id": "8faa2fa4",
    "outputId": "21ae3bf0-b894-49b2-f9bb-0d7bc500d545"
   },
   "outputs": [
    {
     "name": "stdout",
     "output_type": "stream",
     "text": [
      "HPARAMS: {'num_units': 128, 'dropout': 0.1, 'optimizer': 'adam', 'learning_rate': 0.001}\n",
      "--- Starting trial: 0\n"
     ]
    },
    {
     "name": "stderr",
     "output_type": "stream",
     "text": [
      "/usr/local/lib/python3.7/dist-packages/keras_preprocessing/image/dataframe_iterator.py:282: UserWarning: Found 1 invalid image filename(s) in x_col=\"filename\". These filename(s) will be ignored.\n",
      "  .format(n_invalid, x_col)\n"
     ]
    },
    {
     "name": "stdout",
     "output_type": "stream",
     "text": [
      "Found 1199 validated image filenames belonging to 3 classes.\n",
      "Found 300 validated image filenames belonging to 3 classes.\n",
      "Downloading data from https://storage.googleapis.com/tensorflow/keras-applications/xception/xception_weights_tf_dim_ordering_tf_kernels_notop.h5\n",
      "83689472/83683744 [==============================] - 1s 0us/step\n",
      "83697664/83683744 [==============================] - 1s 0us/step\n",
      "Epoch 1/20\n",
      "38/38 [==============================] - 494s 13s/step - loss: 0.6565 - accuracy: 0.7556 - val_loss: 0.6970 - val_accuracy: 0.7667 - lr: 0.0010\n",
      "Epoch 2/20\n",
      "38/38 [==============================] - ETA: 0s - loss: 0.3369 - accuracy: 0.8891\n",
      "Epoch 2: ReduceLROnPlateau reducing learning rate to 0.0005000000237487257.\n",
      "38/38 [==============================] - 39s 1s/step - loss: 0.3369 - accuracy: 0.8891 - val_loss: 0.8538 - val_accuracy: 0.7833 - lr: 0.0010\n",
      "Epoch 3/20\n",
      "38/38 [==============================] - 41s 1s/step - loss: 0.3061 - accuracy: 0.8957 - val_loss: 0.3240 - val_accuracy: 0.8767 - lr: 5.0000e-04\n",
      "Epoch 4/20\n",
      "38/38 [==============================] - ETA: 0s - loss: 0.2168 - accuracy: 0.9199\n",
      "Epoch 4: ReduceLROnPlateau reducing learning rate to 0.0002500000118743628.\n",
      "38/38 [==============================] - 39s 1s/step - loss: 0.2168 - accuracy: 0.9199 - val_loss: 0.5740 - val_accuracy: 0.8300 - lr: 5.0000e-04\n",
      "Epoch 5/20\n",
      "38/38 [==============================] - ETA: 0s - loss: 0.1827 - accuracy: 0.9324\n",
      "Epoch 5: ReduceLROnPlateau reducing learning rate to 0.0001250000059371814.\n",
      "38/38 [==============================] - 38s 999ms/step - loss: 0.1827 - accuracy: 0.9324 - val_loss: 0.3594 - val_accuracy: 0.8700 - lr: 2.5000e-04\n",
      "Epoch 6/20\n",
      "38/38 [==============================] - 41s 1s/step - loss: 0.1444 - accuracy: 0.9516 - val_loss: 0.3064 - val_accuracy: 0.9000 - lr: 1.2500e-04\n",
      "Epoch 7/20\n",
      "38/38 [==============================] - 42s 1s/step - loss: 0.1292 - accuracy: 0.9550 - val_loss: 0.3014 - val_accuracy: 0.8900 - lr: 1.2500e-04\n",
      "Epoch 8/20\n",
      "38/38 [==============================] - ETA: 0s - loss: 0.1215 - accuracy: 0.9633\n",
      "Epoch 8: ReduceLROnPlateau reducing learning rate to 6.25000029685907e-05.\n",
      "38/38 [==============================] - 39s 1s/step - loss: 0.1215 - accuracy: 0.9633 - val_loss: 0.3024 - val_accuracy: 0.9000 - lr: 1.2500e-04\n",
      "Epoch 9/20\n",
      "38/38 [==============================] - 41s 1s/step - loss: 0.0764 - accuracy: 0.9741 - val_loss: 0.2557 - val_accuracy: 0.9067 - lr: 6.2500e-05\n",
      "Epoch 10/20\n",
      "38/38 [==============================] - ETA: 0s - loss: 0.0819 - accuracy: 0.9733\n",
      "Epoch 10: ReduceLROnPlateau reducing learning rate to 3.125000148429535e-05.\n",
      "38/38 [==============================] - 39s 1s/step - loss: 0.0819 - accuracy: 0.9733 - val_loss: 0.3130 - val_accuracy: 0.8933 - lr: 6.2500e-05\n",
      "Epoch 11/20\n",
      "38/38 [==============================] - ETA: 0s - loss: 0.0868 - accuracy: 0.9650\n",
      "Epoch 11: ReduceLROnPlateau reducing learning rate to 1.5625000742147677e-05.\n",
      "38/38 [==============================] - 38s 994ms/step - loss: 0.0868 - accuracy: 0.9650 - val_loss: 0.3023 - val_accuracy: 0.9067 - lr: 3.1250e-05\n",
      "Epoch 12/20\n",
      "38/38 [==============================] - ETA: 0s - loss: 0.0659 - accuracy: 0.9800Restoring model weights from the end of the best epoch: 9.\n",
      "\n",
      "Epoch 12: ReduceLROnPlateau reducing learning rate to 7.812500371073838e-06.\n",
      "38/38 [==============================] - 38s 999ms/step - loss: 0.0659 - accuracy: 0.9800 - val_loss: 0.2995 - val_accuracy: 0.9100 - lr: 1.5625e-05\n",
      "Epoch 12: early stopping\n",
      "--- Starting trial: 1\n",
      "Found 1200 validated image filenames belonging to 3 classes.\n",
      "Found 300 validated image filenames belonging to 3 classes.\n",
      "Epoch 1/20\n",
      "38/38 [==============================] - 47s 1s/step - loss: 0.6488 - accuracy: 0.7592 - val_loss: 2.0356 - val_accuracy: 0.4600 - lr: 0.0010\n",
      "Epoch 2/20\n",
      "38/38 [==============================] - 42s 1s/step - loss: 0.4265 - accuracy: 0.8433 - val_loss: 1.5514 - val_accuracy: 0.7233 - lr: 0.0010\n",
      "Epoch 3/20\n",
      "38/38 [==============================] - 42s 1s/step - loss: 0.3293 - accuracy: 0.8733 - val_loss: 1.2432 - val_accuracy: 0.6600 - lr: 0.0010\n",
      "Epoch 4/20\n",
      "38/38 [==============================] - 42s 1s/step - loss: 0.3153 - accuracy: 0.8842 - val_loss: 1.0049 - val_accuracy: 0.6767 - lr: 0.0010\n",
      "Epoch 5/20\n",
      "38/38 [==============================] - 42s 1s/step - loss: 0.2606 - accuracy: 0.9008 - val_loss: 0.4202 - val_accuracy: 0.8833 - lr: 0.0010\n",
      "Epoch 6/20\n",
      "38/38 [==============================] - ETA: 0s - loss: 0.2365 - accuracy: 0.9125\n",
      "Epoch 6: ReduceLROnPlateau reducing learning rate to 0.0005000000237487257.\n",
      "38/38 [==============================] - 39s 1s/step - loss: 0.2365 - accuracy: 0.9125 - val_loss: 0.5822 - val_accuracy: 0.8633 - lr: 0.0010\n",
      "Epoch 7/20\n",
      "38/38 [==============================] - 41s 1s/step - loss: 0.1885 - accuracy: 0.9317 - val_loss: 0.4149 - val_accuracy: 0.8967 - lr: 5.0000e-04\n",
      "Epoch 8/20\n",
      "38/38 [==============================] - 42s 1s/step - loss: 0.1417 - accuracy: 0.9525 - val_loss: 0.2519 - val_accuracy: 0.9033 - lr: 5.0000e-04\n",
      "Epoch 9/20\n",
      "38/38 [==============================] - ETA: 0s - loss: 0.1534 - accuracy: 0.9442\n",
      "Epoch 9: ReduceLROnPlateau reducing learning rate to 0.0002500000118743628.\n",
      "38/38 [==============================] - 39s 1s/step - loss: 0.1534 - accuracy: 0.9442 - val_loss: 0.2977 - val_accuracy: 0.9167 - lr: 5.0000e-04\n",
      "Epoch 10/20\n",
      "38/38 [==============================] - 41s 1s/step - loss: 0.1106 - accuracy: 0.9650 - val_loss: 0.2322 - val_accuracy: 0.9133 - lr: 2.5000e-04\n",
      "Epoch 11/20\n",
      "38/38 [==============================] - ETA: 0s - loss: 0.1076 - accuracy: 0.9600\n",
      "Epoch 11: ReduceLROnPlateau reducing learning rate to 0.0001250000059371814.\n",
      "38/38 [==============================] - 39s 1s/step - loss: 0.1076 - accuracy: 0.9600 - val_loss: 0.2726 - val_accuracy: 0.9067 - lr: 2.5000e-04\n",
      "Epoch 12/20\n",
      "38/38 [==============================] - 41s 1s/step - loss: 0.0757 - accuracy: 0.9758 - val_loss: 0.1729 - val_accuracy: 0.9267 - lr: 1.2500e-04\n",
      "Epoch 13/20\n",
      "38/38 [==============================] - 42s 1s/step - loss: 0.0667 - accuracy: 0.9817 - val_loss: 0.1486 - val_accuracy: 0.9400 - lr: 1.2500e-04\n",
      "Epoch 14/20\n",
      "38/38 [==============================] - ETA: 0s - loss: 0.0545 - accuracy: 0.9850\n",
      "Epoch 14: ReduceLROnPlateau reducing learning rate to 6.25000029685907e-05.\n",
      "38/38 [==============================] - 40s 1s/step - loss: 0.0545 - accuracy: 0.9850 - val_loss: 0.1952 - val_accuracy: 0.9133 - lr: 1.2500e-04\n",
      "Epoch 15/20\n",
      "38/38 [==============================] - ETA: 0s - loss: 0.0317 - accuracy: 0.9925\n",
      "Epoch 15: ReduceLROnPlateau reducing learning rate to 3.125000148429535e-05.\n",
      "38/38 [==============================] - 38s 1s/step - loss: 0.0317 - accuracy: 0.9925 - val_loss: 0.1837 - val_accuracy: 0.9200 - lr: 6.2500e-05\n",
      "Epoch 16/20\n",
      "38/38 [==============================] - ETA: 0s - loss: 0.0362 - accuracy: 0.9908Restoring model weights from the end of the best epoch: 13.\n",
      "\n",
      "Epoch 16: ReduceLROnPlateau reducing learning rate to 1.5625000742147677e-05.\n",
      "38/38 [==============================] - 38s 994ms/step - loss: 0.0362 - accuracy: 0.9908 - val_loss: 0.1976 - val_accuracy: 0.9200 - lr: 3.1250e-05\n",
      "Epoch 16: early stopping\n",
      "--- Starting trial: 2\n",
      "Found 1200 validated image filenames belonging to 3 classes.\n",
      "Found 300 validated image filenames belonging to 3 classes.\n",
      "Epoch 1/20\n",
      "38/38 [==============================] - 46s 1s/step - loss: 0.6153 - accuracy: 0.7558 - val_loss: 1.7807 - val_accuracy: 0.4533 - lr: 0.0010\n",
      "Epoch 2/20\n",
      "38/38 [==============================] - ETA: 0s - loss: 0.4277 - accuracy: 0.8525\n",
      "Epoch 2: ReduceLROnPlateau reducing learning rate to 0.0005000000237487257.\n",
      "38/38 [==============================] - 39s 1s/step - loss: 0.4277 - accuracy: 0.8525 - val_loss: 3.1359 - val_accuracy: 0.4767 - lr: 0.0010\n",
      "Epoch 3/20\n",
      "38/38 [==============================] - 41s 1s/step - loss: 0.2663 - accuracy: 0.9058 - val_loss: 1.6991 - val_accuracy: 0.5967 - lr: 5.0000e-04\n",
      "Epoch 4/20\n",
      "38/38 [==============================] - 42s 1s/step - loss: 0.2403 - accuracy: 0.9158 - val_loss: 0.7891 - val_accuracy: 0.7767 - lr: 5.0000e-04\n",
      "Epoch 5/20\n",
      "38/38 [==============================] - 42s 1s/step - loss: 0.1980 - accuracy: 0.9233 - val_loss: 0.5130 - val_accuracy: 0.8333 - lr: 5.0000e-04\n",
      "Epoch 6/20\n",
      "38/38 [==============================] - 42s 1s/step - loss: 0.2288 - accuracy: 0.9133 - val_loss: 0.3650 - val_accuracy: 0.9033 - lr: 5.0000e-04\n",
      "Epoch 7/20\n",
      "38/38 [==============================] - ETA: 0s - loss: 0.1493 - accuracy: 0.9450\n",
      "Epoch 7: ReduceLROnPlateau reducing learning rate to 0.0002500000118743628.\n",
      "38/38 [==============================] - 39s 1s/step - loss: 0.1493 - accuracy: 0.9450 - val_loss: 0.6609 - val_accuracy: 0.7900 - lr: 5.0000e-04\n",
      "Epoch 8/20\n",
      "38/38 [==============================] - 41s 1s/step - loss: 0.1193 - accuracy: 0.9525 - val_loss: 0.2779 - val_accuracy: 0.9133 - lr: 2.5000e-04\n",
      "Epoch 9/20\n",
      "38/38 [==============================] - ETA: 0s - loss: 0.0889 - accuracy: 0.9667\n",
      "Epoch 9: ReduceLROnPlateau reducing learning rate to 0.0001250000059371814.\n",
      "38/38 [==============================] - 39s 1s/step - loss: 0.0889 - accuracy: 0.9667 - val_loss: 0.2859 - val_accuracy: 0.9000 - lr: 2.5000e-04\n",
      "Epoch 10/20\n",
      "38/38 [==============================] - ETA: 0s - loss: 0.0678 - accuracy: 0.9733\n",
      "Epoch 10: ReduceLROnPlateau reducing learning rate to 6.25000029685907e-05.\n",
      "38/38 [==============================] - 38s 1s/step - loss: 0.0678 - accuracy: 0.9733 - val_loss: 0.2815 - val_accuracy: 0.9100 - lr: 1.2500e-04\n",
      "Epoch 11/20\n",
      "38/38 [==============================] - 41s 1s/step - loss: 0.0603 - accuracy: 0.9792 - val_loss: 0.2675 - val_accuracy: 0.9200 - lr: 6.2500e-05\n",
      "Epoch 12/20\n",
      "38/38 [==============================] - ETA: 0s - loss: 0.0490 - accuracy: 0.9842\n",
      "Epoch 12: ReduceLROnPlateau reducing learning rate to 3.125000148429535e-05.\n",
      "38/38 [==============================] - 40s 1s/step - loss: 0.0490 - accuracy: 0.9842 - val_loss: 0.2870 - val_accuracy: 0.9167 - lr: 6.2500e-05\n",
      "Epoch 13/20\n",
      "38/38 [==============================] - ETA: 0s - loss: 0.0661 - accuracy: 0.9792\n",
      "Epoch 13: ReduceLROnPlateau reducing learning rate to 1.5625000742147677e-05.\n",
      "38/38 [==============================] - 39s 1s/step - loss: 0.0661 - accuracy: 0.9792 - val_loss: 0.2828 - val_accuracy: 0.9167 - lr: 3.1250e-05\n",
      "Epoch 14/20\n",
      "38/38 [==============================] - 42s 1s/step - loss: 0.0462 - accuracy: 0.9842 - val_loss: 0.2672 - val_accuracy: 0.9233 - lr: 1.5625e-05\n",
      "Epoch 15/20\n",
      "38/38 [==============================] - 43s 1s/step - loss: 0.0461 - accuracy: 0.9800 - val_loss: 0.2658 - val_accuracy: 0.9267 - lr: 1.5625e-05\n",
      "Epoch 16/20\n",
      "38/38 [==============================] - ETA: 0s - loss: 0.0474 - accuracy: 0.9875\n",
      "Epoch 16: ReduceLROnPlateau reducing learning rate to 7.812500371073838e-06.\n",
      "38/38 [==============================] - 40s 1s/step - loss: 0.0474 - accuracy: 0.9875 - val_loss: 0.2743 - val_accuracy: 0.9300 - lr: 1.5625e-05\n",
      "Epoch 17/20\n",
      "38/38 [==============================] - ETA: 0s - loss: 0.0393 - accuracy: 0.9867\n",
      "Epoch 17: ReduceLROnPlateau reducing learning rate to 3.906250185536919e-06.\n",
      "38/38 [==============================] - 39s 1s/step - loss: 0.0393 - accuracy: 0.9867 - val_loss: 0.2822 - val_accuracy: 0.9233 - lr: 7.8125e-06\n",
      "Epoch 18/20\n",
      "38/38 [==============================] - ETA: 0s - loss: 0.0430 - accuracy: 0.9858Restoring model weights from the end of the best epoch: 15.\n",
      "\n",
      "Epoch 18: ReduceLROnPlateau reducing learning rate to 1.9531250927684596e-06.\n",
      "38/38 [==============================] - 39s 1s/step - loss: 0.0430 - accuracy: 0.9858 - val_loss: 0.2908 - val_accuracy: 0.9200 - lr: 3.9063e-06\n",
      "Epoch 18: early stopping\n",
      "--- Starting trial: 3\n",
      "Found 1200 validated image filenames belonging to 3 classes.\n",
      "Found 300 validated image filenames belonging to 3 classes.\n",
      "Epoch 1/20\n",
      "38/38 [==============================] - 48s 1s/step - loss: 0.6479 - accuracy: 0.7467 - val_loss: 1.3640 - val_accuracy: 0.3967 - lr: 0.0010\n",
      "Epoch 2/20\n",
      "38/38 [==============================] - 44s 1s/step - loss: 0.3670 - accuracy: 0.8575 - val_loss: 0.9315 - val_accuracy: 0.6233 - lr: 0.0010\n",
      "Epoch 3/20\n",
      "38/38 [==============================] - ETA: 0s - loss: 0.3124 - accuracy: 0.8867\n",
      "Epoch 3: ReduceLROnPlateau reducing learning rate to 0.0005000000237487257.\n",
      "38/38 [==============================] - 39s 1s/step - loss: 0.3124 - accuracy: 0.8867 - val_loss: 2.1448 - val_accuracy: 0.6200 - lr: 0.0010\n",
      "Epoch 4/20\n",
      "38/38 [==============================] - 43s 1s/step - loss: 0.2344 - accuracy: 0.9150 - val_loss: 0.8374 - val_accuracy: 0.8067 - lr: 5.0000e-04\n",
      "Epoch 5/20\n",
      "38/38 [==============================] - 43s 1s/step - loss: 0.2174 - accuracy: 0.9208 - val_loss: 0.2306 - val_accuracy: 0.9200 - lr: 5.0000e-04\n",
      "Epoch 6/20\n",
      "38/38 [==============================] - ETA: 0s - loss: 0.1767 - accuracy: 0.9333\n",
      "Epoch 6: ReduceLROnPlateau reducing learning rate to 0.0002500000118743628.\n",
      "38/38 [==============================] - 40s 1s/step - loss: 0.1767 - accuracy: 0.9333 - val_loss: 0.4218 - val_accuracy: 0.8633 - lr: 5.0000e-04\n",
      "Epoch 7/20\n",
      "38/38 [==============================] - 42s 1s/step - loss: 0.1805 - accuracy: 0.9342 - val_loss: 0.2063 - val_accuracy: 0.9133 - lr: 2.5000e-04\n",
      "Epoch 8/20\n",
      "38/38 [==============================] - 42s 1s/step - loss: 0.1034 - accuracy: 0.9650 - val_loss: 0.1425 - val_accuracy: 0.9533 - lr: 2.5000e-04\n",
      "Epoch 9/20\n",
      "38/38 [==============================] - 42s 1s/step - loss: 0.1142 - accuracy: 0.9633 - val_loss: 0.1391 - val_accuracy: 0.9467 - lr: 2.5000e-04\n",
      "Epoch 10/20\n",
      "38/38 [==============================] - ETA: 0s - loss: 0.0993 - accuracy: 0.9658\n",
      "Epoch 10: ReduceLROnPlateau reducing learning rate to 0.0001250000059371814.\n",
      "38/38 [==============================] - 40s 1s/step - loss: 0.0993 - accuracy: 0.9658 - val_loss: 0.1969 - val_accuracy: 0.9233 - lr: 2.5000e-04\n",
      "Epoch 11/20\n",
      "38/38 [==============================] - ETA: 0s - loss: 0.0721 - accuracy: 0.9783\n",
      "Epoch 11: ReduceLROnPlateau reducing learning rate to 6.25000029685907e-05.\n",
      "38/38 [==============================] - 40s 1s/step - loss: 0.0721 - accuracy: 0.9783 - val_loss: 0.1582 - val_accuracy: 0.9433 - lr: 1.2500e-04\n",
      "Epoch 12/20\n",
      "38/38 [==============================] - ETA: 0s - loss: 0.0683 - accuracy: 0.9792Restoring model weights from the end of the best epoch: 9.\n",
      "\n",
      "Epoch 12: ReduceLROnPlateau reducing learning rate to 3.125000148429535e-05.\n",
      "38/38 [==============================] - 40s 1s/step - loss: 0.0683 - accuracy: 0.9792 - val_loss: 0.1872 - val_accuracy: 0.9333 - lr: 6.2500e-05\n",
      "Epoch 12: early stopping\n",
      "--- Starting trial: 4\n",
      "Found 1200 validated image filenames belonging to 3 classes.\n",
      "Found 300 validated image filenames belonging to 3 classes.\n",
      "Epoch 1/20\n",
      "38/38 [==============================] - 49s 1s/step - loss: 0.5977 - accuracy: 0.7775 - val_loss: 0.8249 - val_accuracy: 0.6600 - lr: 0.0010\n",
      "Epoch 2/20\n",
      "38/38 [==============================] - 44s 1s/step - loss: 0.3852 - accuracy: 0.8533 - val_loss: 0.4757 - val_accuracy: 0.7967 - lr: 0.0010\n",
      "Epoch 3/20\n",
      "38/38 [==============================] - 44s 1s/step - loss: 0.3191 - accuracy: 0.8942 - val_loss: 0.4353 - val_accuracy: 0.8600 - lr: 0.0010\n",
      "Epoch 4/20\n",
      "38/38 [==============================] - 44s 1s/step - loss: 0.3148 - accuracy: 0.8900 - val_loss: 0.3631 - val_accuracy: 0.8967 - lr: 0.0010\n",
      "Epoch 5/20\n",
      "38/38 [==============================] - ETA: 0s - loss: 0.2340 - accuracy: 0.9192\n",
      "Epoch 5: ReduceLROnPlateau reducing learning rate to 0.0005000000237487257.\n",
      "38/38 [==============================] - 41s 1s/step - loss: 0.2340 - accuracy: 0.9192 - val_loss: 0.4124 - val_accuracy: 0.8467 - lr: 0.0010\n",
      "Epoch 6/20\n",
      "38/38 [==============================] - 44s 1s/step - loss: 0.2473 - accuracy: 0.9100 - val_loss: 0.3529 - val_accuracy: 0.8533 - lr: 5.0000e-04\n",
      "Epoch 7/20\n",
      "38/38 [==============================] - ETA: 0s - loss: 0.1547 - accuracy: 0.9475\n",
      "Epoch 7: ReduceLROnPlateau reducing learning rate to 0.0002500000118743628.\n",
      "38/38 [==============================] - 42s 1s/step - loss: 0.1547 - accuracy: 0.9475 - val_loss: 0.3815 - val_accuracy: 0.8833 - lr: 5.0000e-04\n",
      "Epoch 8/20\n",
      "38/38 [==============================] - 44s 1s/step - loss: 0.1264 - accuracy: 0.9492 - val_loss: 0.2299 - val_accuracy: 0.9167 - lr: 2.5000e-04\n",
      "Epoch 9/20\n",
      "38/38 [==============================] - ETA: 0s - loss: 0.0982 - accuracy: 0.9667\n",
      "Epoch 9: ReduceLROnPlateau reducing learning rate to 0.0001250000059371814.\n",
      "38/38 [==============================] - 41s 1s/step - loss: 0.0982 - accuracy: 0.9667 - val_loss: 0.3010 - val_accuracy: 0.9267 - lr: 2.5000e-04\n",
      "Epoch 10/20\n",
      "38/38 [==============================] - ETA: 0s - loss: 0.0929 - accuracy: 0.9675\n",
      "Epoch 10: ReduceLROnPlateau reducing learning rate to 6.25000029685907e-05.\n",
      "38/38 [==============================] - 41s 1s/step - loss: 0.0929 - accuracy: 0.9675 - val_loss: 0.3173 - val_accuracy: 0.9033 - lr: 1.2500e-04\n",
      "Epoch 11/20\n",
      "38/38 [==============================] - ETA: 0s - loss: 0.0565 - accuracy: 0.9817Restoring model weights from the end of the best epoch: 8.\n",
      "\n",
      "Epoch 11: ReduceLROnPlateau reducing learning rate to 3.125000148429535e-05.\n",
      "38/38 [==============================] - 41s 1s/step - loss: 0.0565 - accuracy: 0.9817 - val_loss: 0.2904 - val_accuracy: 0.9200 - lr: 6.2500e-05\n",
      "Epoch 11: early stopping\n"
     ]
    }
   ],
   "source": [
    "# perform HP tuning and CV on the model on the data\n",
    "Y = train_df['class']\n",
    "trained_models = []\n",
    "\n",
    "# iterate through hyper-parameters\n",
    "for num_units in HP_NUM_UNITS.domain.values:\n",
    "    for dropout_rate in HP_DROPOUT.domain.values:\n",
    "        for optimizer in HP_OPTIMIZER.domain.values:\n",
    "            for learning_rate in HP_L_RATE.domain.values:\n",
    "                # instantiate k folds and hyper-parameters for this iteration\n",
    "                skf = StratifiedKFold(n_splits = K_FOLDS, shuffle = True) \n",
    "                k_i = 0\n",
    "                k_fold_models = []\n",
    "                elapsed_times = []\n",
    "                hparams = {\n",
    "                    HP_NUM_UNITS: num_units,\n",
    "                    HP_DROPOUT: dropout_rate,\n",
    "                    HP_OPTIMIZER: optimizer,\n",
    "                    HP_L_RATE: learning_rate\n",
    "                }\n",
    "                print('HPARAMS:',{h.name: hparams[h] for h in hparams})\n",
    "                \n",
    "                # iterate through k folds\n",
    "                for train_index, val_index in skf.split(np.zeros(len(Y)),Y):\n",
    "                    print('--- Starting trial: %s' % k_i)\n",
    "                    t = time.process_time() # begin timing model\n",
    "                    train_gen, valid_gen = preprocess_images_cv(train_index, val_index) # fetch dataset for this fold\n",
    "                    \n",
    "                    # set up logging directories and callbacks\n",
    "                    logdir = os.path.join('trained-classifiers','logs','fit', get_model_name(k_i))\n",
    "                    hpdir = os.path.join('trained-classifiers','logs','hparam_tuning', get_model_name(k_i))\n",
    "                    modeldir = os.path.join('model-checkpoints',str(get_model_name(k_i)+\".h5\"))\n",
    "                    callbacks = [\n",
    "                        keras.callbacks.ModelCheckpoint(filepath=modeldir, save_best_only=True, verbose = 0),\n",
    "                        keras.callbacks.EarlyStopping(patience=3, monitor='val_loss', verbose=1, restore_best_weights=True),\n",
    "                        keras.callbacks.ReduceLROnPlateau(monitor='val_loss', factor=0.5, patience=1, verbose=1),\n",
    "                        keras.callbacks.TensorBoard(log_dir=logdir)\n",
    "                      ]\n",
    "                    \n",
    "                    # create the model\n",
    "                    hp.hparams(hparams)  \n",
    "                    model = create_model(hparams)\n",
    "                    \n",
    "                    # train model\n",
    "                    model.fit(train_gen, validation_data=valid_gen, epochs=MAX_EPOCHS, callbacks=callbacks)\n",
    "                    \n",
    "                    # record the values used in this trial\n",
    "                    elapsed_times.append(time.process_time() - t)\n",
    "                    k_fold_models.append(modeldir)\n",
    "                    \n",
    "                    # clean memory\n",
    "                    del model, train_gen, valid_gen\n",
    "                    keras.backend.clear_session()\n",
    "                    k_i += 1\n",
    "                    \n",
    "                trained_models.append([hparams, k_fold_models, elapsed_times])"
   ]
  },
  {
   "cell_type": "markdown",
   "id": "7d4d6530",
   "metadata": {
    "id": "7d4d6530"
   },
   "source": [
    "## Evaluation"
   ]
  },
  {
   "cell_type": "code",
   "execution_count": 17,
   "id": "9851f1f7",
   "metadata": {
    "executionInfo": {
     "elapsed": 2,
     "status": "ok",
     "timestamp": 1651418422557,
     "user": {
      "displayName": "Laurence Brown",
      "userId": "02353821870267800674"
     },
     "user_tz": -60
    },
    "id": "9851f1f7"
   },
   "outputs": [],
   "source": [
    "# import libraries for evaluation\n",
    "from sklearn.metrics import accuracy_score, precision_score, recall_score, f1_score, confusion_matrix\n",
    "from statistics import mean"
   ]
  },
  {
   "cell_type": "code",
   "execution_count": 18,
   "id": "69b88b94",
   "metadata": {
    "colab": {
     "base_uri": "https://localhost:8080/"
    },
    "executionInfo": {
     "elapsed": 432198,
     "status": "ok",
     "timestamp": 1651418854754,
     "user": {
      "displayName": "Laurence Brown",
      "userId": "02353821870267800674"
     },
     "user_tz": -60
    },
    "id": "69b88b94",
    "outputId": "9b8de3c7-190a-4393-eee1-d09cc34903cb"
   },
   "outputs": [
    {
     "name": "stdout",
     "output_type": "stream",
     "text": [
      "13/13 [==============================] - 25s 2s/step - loss: 0.2067 - accuracy: 0.9275\n",
      "13/13 [==============================] - 23s 2s/step - loss: 0.1953 - accuracy: 0.9225\n",
      "13/13 [==============================] - 23s 2s/step - loss: 0.1412 - accuracy: 0.9525\n",
      "13/13 [==============================] - 23s 2s/step - loss: 0.2321 - accuracy: 0.9300\n",
      "13/13 [==============================] - 23s 2s/step - loss: 0.1462 - accuracy: 0.9350\n",
      "SCORE FOR HPARAMS: {'num_units': 128, 'dropout': 0.1, 'optimizer': 'adam', 'learning_rate': 0.001}\n",
      "Mean accuracy: 0.9335\n",
      "Mean k_accuracy; 0.9335000038146972\n",
      "Mean precision: 0.9185357377816358\n",
      "Mean recall: 0.9266666666666666\n",
      "Mean f1: 0.9218638960851149\n",
      "Mean training time: 672.8471405637999\n"
     ]
    }
   ],
   "source": [
    "# iterate through hyper-parameter configurations\n",
    "for j in trained_models:\n",
    "    model = create_model(j[0])\n",
    "    accuracies = []\n",
    "    k_accuracies = []\n",
    "    precisions = []\n",
    "    recalls = []\n",
    "    f1s = []\n",
    "    tc_c =[]\n",
    "    fc_n =[]\n",
    "    fc_p =[]\n",
    "    fn_c =[]\n",
    "    tn_n =[]\n",
    "    fn_p =[]\n",
    "    fp_c =[]\n",
    "    fp_n =[]\n",
    "    tp_p =[]\n",
    "    \n",
    "    # iterate through each folds model\n",
    "    for i in j[1]:\n",
    "        model.load_weights(i)\n",
    "        test_pred = model.predict(test_gen)\n",
    "        y_pred = np.argmax(test_pred, axis=1)\n",
    "        y_test= [test_gen.class_indices[k] for k in test_df['class'].values.tolist()]\n",
    "        k_accuracies.append(model.evaluate(test_gen)[1])\n",
    "        accuracies.append(accuracy_score(y_test, y_pred))\n",
    "        precisions.append(precision_score(y_test, y_pred, zero_division=0, average='macro'))\n",
    "        recalls.append(recall_score(y_test, y_pred, average='macro'))\n",
    "        f1s.append(f1_score(y_test, y_pred, average='macro'))\n",
    "        xtc_c, xfc_n, xfc_p, xfn_c, xtn_n, xfn_p, xfp_c, xfp_n, xtp_p = confusion_matrix(y_test, y_pred).ravel()\n",
    "        tc_c.append(xtc_c)\n",
    "        fc_n.append(xfc_n)\n",
    "        fc_p.append(xfc_p)\n",
    "        fn_c.append(xfn_c)\n",
    "        tn_n.append(xtn_n)\n",
    "        fn_p.append(xfn_p)\n",
    "        fp_c.append(xfp_c)\n",
    "        fp_n.append(xfp_n)\n",
    "        tp_p.append(xtp_p)\n",
    "\n",
    "    print(\"SCORE FOR HPARAMS:\", {h.name: j[0][h] for h in j[0]})\n",
    "    print(\"Mean accuracy:\", mean(accuracies))\n",
    "    print(\"Mean k_accuracy;\", mean(k_accuracies))\n",
    "    print(\"Mean precision:\", mean(precisions))\n",
    "    print(\"Mean recall:\", mean(recalls))\n",
    "    print(\"Mean f1:\", mean(f1s))\n",
    "    print(\"Mean training time:\", mean(j[2]))\n",
    "    \n",
    "    # retreive hyper-parameters\n",
    "    hdict = {h.name: j[0][h] for h in j[0]}\n",
    "    \n",
    "    # save results to file\n",
    "    df =  pd.DataFrame(np.array([[str(j[1]),\n",
    "                                  hdict.get('num_units'), hdict.get('dropout'), hdict.get('optimizer'), \n",
    "                                  hdict.get('learning_rate'),IMAGE_SIZE, BATCH_SIZE, DATASET_SIZE, MAX_EPOCHS, K_FOLDS,\n",
    "                                  mean(accuracies), mean(k_accuracies), mean(precisions), mean(recalls), mean(f1s),\n",
    "                                  mean(tc_c), mean(fc_n), mean(fc_p), mean(fn_c), mean(tn_n), mean(fn_p), mean(fp_c), mean(fp_n), mean(tp_p), mean(j[2])\n",
    "                                 ]]),\n",
    "                       columns=['Model Names','num_units', 'dropout','optimizer','learning_rate',\n",
    "                                'IMAGE_SIZE', 'BATCH_SIZE', 'DATASET_SIZE', 'MAX_EPOCHS',\n",
    "                                'K_FOLDS','Accuracy', 'K_accuracy', 'Precision', 'Recall', 'f1 Score', \n",
    "                                'True Covid', ' False Covid (Normal)', 'False Covid (Pnemumonia)', 'False Normal (Covid)', 'True Normal', 'False Normal (Pnenumonia)', \n",
    "                                'False Pnumonia (Covid)', ' False Pnumonia (Normal)', 'True Pnumonia', 'Training Time'])\n",
    "    with open(gdpath+'trained-classifiers/Xception-Multi.csv', 'a') as f:\n",
    "        df.to_csv(f, mode='a', header=f.tell()==0, index = False)"
   ]
  },
  {
   "cell_type": "markdown",
   "id": "96f74fbe",
   "metadata": {
    "id": "96f74fbe"
   },
   "source": [
    "NOTE: Accuracy and loss graphs can be seen on TensorBoard, run \"%tensorboard --logdir logs --host 0.0.0.0\" to open"
   ]
  }
 ],
 "metadata": {
  "accelerator": "GPU",
  "colab": {
   "collapsed_sections": [],
   "name": "FINAL Xception-Multi-Hparams.ipynb",
   "provenance": [
    {
     "file_id": "1jrE0HqkDYcOz9bx01xWuzwbOA07FxykR",
     "timestamp": 1651414749324
    },
    {
     "file_id": "11r3f-qnUzKIE9bcitoUoSNfognYvm6mH",
     "timestamp": 1650548152418
    },
    {
     "file_id": "https://github.com/laurencebrwn/ml-covid19-eval/blob/main/Xception-Binary-Hparams.ipynb",
     "timestamp": 1649284749785
    }
   ]
  },
  "environment": {
   "kernel": "python3",
   "name": "managed-notebooks.m90",
   "type": "gcloud",
   "uri": "gcr.io/deeplearning-platform-release/managed-notebooks:m90"
  },
  "kernelspec": {
   "display_name": "Python 3 (ipykernel)",
   "language": "python",
   "name": "python3"
  },
  "language_info": {
   "codemirror_mode": {
    "name": "ipython",
    "version": 3
   },
   "file_extension": ".py",
   "mimetype": "text/x-python",
   "name": "python",
   "nbconvert_exporter": "python",
   "pygments_lexer": "ipython3",
   "version": "3.7.9"
  }
 },
 "nbformat": 4,
 "nbformat_minor": 5
}
