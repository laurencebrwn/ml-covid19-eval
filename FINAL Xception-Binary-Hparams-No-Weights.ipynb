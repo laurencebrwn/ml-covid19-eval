{
 "cells": [
  {
   "cell_type": "markdown",
   "id": "8e0ccce8",
   "metadata": {
    "id": "8e0ccce8",
    "tags": []
   },
   "source": [
    "## Model Variables"
   ]
  },
  {
   "cell_type": "code",
   "execution_count": 3,
   "id": "68fe9ea2",
   "metadata": {
    "executionInfo": {
     "elapsed": 5,
     "status": "ok",
     "timestamp": 1651487779212,
     "user": {
      "displayName": "Laurence Brown",
      "userId": "02353821870267800674"
     },
     "user_tz": -60
    },
    "id": "68fe9ea2"
   },
   "outputs": [],
   "source": [
    "IMAGE_SIZE = 224\n",
    "BATCH_SIZE = 32\n",
    "DATASET_SIZE = 1500\n",
    "MAX_EPOCHS = 20\n",
    "K_FOLDS = 5\n",
    "DATASET_PATH = 'covidx-cxr2'"
   ]
  },
  {
   "cell_type": "markdown",
   "id": "69bfede4",
   "metadata": {
    "id": "69bfede4"
   },
   "source": [
    "## Data Preparation"
   ]
  },
  {
   "cell_type": "code",
   "execution_count": 4,
   "id": "b2c6945d",
   "metadata": {
    "colab": {
     "base_uri": "https://localhost:8080/"
    },
    "executionInfo": {
     "elapsed": 5317,
     "status": "ok",
     "timestamp": 1651487784525,
     "user": {
      "displayName": "Laurence Brown",
      "userId": "02353821870267800674"
     },
     "user_tz": -60
    },
    "id": "b2c6945d",
    "outputId": "2d2afd13-2db6-4a76-c74b-f2538c1ca0e3"
   },
   "outputs": [
    {
     "name": "stdout",
     "output_type": "stream",
     "text": [
      "Tensorflow Version: 2.8.0\n",
      "Tensorboard Version: 2.8.0\n",
      "WARNING:tensorflow:From <ipython-input-4-69532632d99b>:19: is_gpu_available (from tensorflow.python.framework.test_util) is deprecated and will be removed in a future version.\n",
      "Instructions for updating:\n",
      "Use `tf.config.list_physical_devices('GPU')` instead.\n",
      "GPU Found: True\n"
     ]
    }
   ],
   "source": [
    "# import required libraries\n",
    "import numpy as np\n",
    "import pandas as pd\n",
    "import os\n",
    "import tensorflow as tf\n",
    "from tensorflow.keras.preprocessing.image import ImageDataGenerator\n",
    "import shutil\n",
    "from sklearn.metrics import confusion_matrix, classification_report\n",
    "from datetime import datetime\n",
    "from packaging import version\n",
    "%reload_ext tensorboard\n",
    "import tensorboard\n",
    "from sklearn.model_selection import StratifiedKFold\n",
    "from tensorboard.plugins.hparams import api as hp\n",
    "import time\n",
    "\n",
    "print(\"Tensorflow Version:\", tf.__version__)\n",
    "print(\"Tensorboard Version:\", tensorboard.__version__)\n",
    "print(\"GPU Found:\", tf.test.is_gpu_available())"
   ]
  },
  {
   "cell_type": "code",
   "execution_count": 5,
   "id": "55a26665",
   "metadata": {
    "executionInfo": {
     "elapsed": 3,
     "status": "ok",
     "timestamp": 1651487784525,
     "user": {
      "displayName": "Laurence Brown",
      "userId": "02353821870267800674"
     },
     "user_tz": -60
    },
    "id": "55a26665"
   },
   "outputs": [],
   "source": [
    "# set up hyper-parameters\n",
    "HP_NUM_UNITS = hp.HParam('num_units', hp.Discrete([128]))\n",
    "HP_DROPOUT = hp.HParam('dropout', hp.Discrete([0.1]))\n",
    "HP_OPTIMIZER = hp.HParam('optimizer', hp.Discrete(['adam']))\n",
    "HP_L_RATE= hp.HParam('learning_rate', hp.Discrete([0.001]))\n",
    "\n",
    "METRIC_ACCURACY = 'accuracy'\n",
    "\n",
    "with tf.summary.create_file_writer('trained-classifiers/logs/hparam_tuning').as_default():\n",
    "    hp.hparams_config(\n",
    "        hparams=[HP_NUM_UNITS, HP_DROPOUT, HP_OPTIMIZER, HP_L_RATE],\n",
    "        metrics=[hp.Metric(METRIC_ACCURACY, display_name='Accuracy')],\n",
    "    )"
   ]
  },
  {
   "cell_type": "code",
   "execution_count": 6,
   "id": "5197d1f5",
   "metadata": {
    "executionInfo": {
     "elapsed": 410,
     "status": "ok",
     "timestamp": 1651487784933,
     "user": {
      "displayName": "Laurence Brown",
      "userId": "02353821870267800674"
     },
     "user_tz": -60
    },
    "id": "5197d1f5"
   },
   "outputs": [],
   "source": [
    "# read in train data\n",
    "train_df = pd.read_csv(DATASET_PATH+'/train_COVIDx9B.txt', \n",
    "                       sep=\" \", header=None)\n",
    "# add columns to go from 0, 1, 2, 3 to patient id, filename, class etc\n",
    "train_df.columns=['patient id', 'filename', 'class', 'data source']\n",
    "\n",
    "# drop patient id and datasource as not needed\n",
    "train_df=train_df.drop(['patient id', 'data source'], axis=1 )\n",
    "\n",
    "# read in test data\n",
    "test_df = pd.read_csv(DATASET_PATH+'/test_COVIDx9B.txt', \n",
    "                      sep=\" \", header=None)\n",
    "# add columns to go from 0, 1, 2, 3 to patient id, filename, class etc\n",
    "test_df.columns=['patient id', 'filename', 'class', 'data source']\n",
    "\n",
    "# drop patient id and datasource as not needed\n",
    "test_df=test_df.drop(['patient id', 'data source'], axis=1 )"
   ]
  },
  {
   "cell_type": "code",
   "execution_count": 7,
   "id": "fe14addd",
   "metadata": {
    "colab": {
     "base_uri": "https://localhost:8080/"
    },
    "executionInfo": {
     "elapsed": 8,
     "status": "ok",
     "timestamp": 1651487784933,
     "user": {
      "displayName": "Laurence Brown",
      "userId": "02353821870267800674"
     },
     "user_tz": -60
    },
    "id": "fe14addd",
    "outputId": "789af2d9-04b2-44da-c656-6d22bb9602c1"
   },
   "outputs": [
    {
     "name": "stdout",
     "output_type": "stream",
     "text": [
      "Train class counts:\n",
      "positive    16490\n",
      "negative    13992\n",
      "Name: class, dtype: int64\n",
      "\n",
      "Test class counts:\n",
      "positive    200\n",
      "negative    200\n",
      "Name: class, dtype: int64\n"
     ]
    }
   ],
   "source": [
    "print(\"Train class counts:\")\n",
    "print(train_df['class'].value_counts())\n",
    "print(\"\\nTest class counts:\")\n",
    "print(test_df['class'].value_counts())"
   ]
  },
  {
   "cell_type": "code",
   "execution_count": 8,
   "id": "e42bf5ec",
   "metadata": {
    "colab": {
     "base_uri": "https://localhost:8080/"
    },
    "executionInfo": {
     "elapsed": 6,
     "status": "ok",
     "timestamp": 1651487784934,
     "user": {
      "displayName": "Laurence Brown",
      "userId": "02353821870267800674"
     },
     "user_tz": -60
    },
    "id": "e42bf5ec",
    "outputId": "ba140bda-0e0d-4ea6-9346-7187f5942bbc"
   },
   "outputs": [
    {
     "name": "stdout",
     "output_type": "stream",
     "text": [
      "Train class counts:\n",
      "positive    750\n",
      "negative    750\n",
      "Name: class, dtype: int64\n"
     ]
    }
   ],
   "source": [
    "negative  = train_df[train_df['class']=='negative']   # normal values in class column\n",
    "positive = train_df[train_df['class']=='positive']  # COVID-19 values in class column\n",
    "\n",
    "from sklearn.utils import resample\n",
    "# downsample training data to equal values of each class, to reduce class bias and reduce training time\n",
    "\n",
    "df_negative_downsampled = resample(negative, replace = True, n_samples = DATASET_SIZE//2)\n",
    "df_positive_downsampled = resample(positive, replace = True, n_samples = DATASET_SIZE//2) \n",
    "\n",
    "#concatenate\n",
    "train_df = pd.concat([df_negative_downsampled, df_positive_downsampled])\n",
    "\n",
    "from sklearn.utils import shuffle\n",
    "train_df = shuffle(train_df) # shuffling so that there is no particular sequence\n",
    "print(\"Train class counts:\")\n",
    "print(train_df['class'].value_counts())"
   ]
  },
  {
   "cell_type": "code",
   "execution_count": 9,
   "id": "7caf2941",
   "metadata": {
    "colab": {
     "base_uri": "https://localhost:8080/"
    },
    "executionInfo": {
     "elapsed": 4,
     "status": "ok",
     "timestamp": 1651487784934,
     "user": {
      "displayName": "Laurence Brown",
      "userId": "02353821870267800674"
     },
     "user_tz": -60
    },
    "id": "7caf2941",
    "outputId": "6db723bd-1576-4a5e-d72e-971c00944eb5",
    "scrolled": true
   },
   "outputs": [
    {
     "name": "stdout",
     "output_type": "stream",
     "text": [
      "Train class counts:\n",
      "positive    750\n",
      "negative    750\n",
      "Name: class, dtype: int64\n",
      "\n",
      "Test class counts:\n",
      "positive    200\n",
      "negative    200\n",
      "Name: class, dtype: int64\n"
     ]
    }
   ],
   "source": [
    "print(\"Train class counts:\")\n",
    "print(train_df['class'].value_counts())\n",
    "print(\"\\nTest class counts:\")\n",
    "print(test_df['class'].value_counts())"
   ]
  },
  {
   "cell_type": "code",
   "execution_count": 10,
   "id": "4a7105a4",
   "metadata": {
    "colab": {
     "base_uri": "https://localhost:8080/"
    },
    "executionInfo": {
     "elapsed": 227,
     "status": "ok",
     "timestamp": 1651487785158,
     "user": {
      "displayName": "Laurence Brown",
      "userId": "02353821870267800674"
     },
     "user_tz": -60
    },
    "id": "4a7105a4",
    "outputId": "d0cf575a-85b1-4b2a-d0bb-328a5877178f"
   },
   "outputs": [
    {
     "name": "stdout",
     "output_type": "stream",
     "text": [
      "Found 400 validated image filenames belonging to 2 classes.\n"
     ]
    }
   ],
   "source": [
    "# preprocess images\n",
    "test_datagen = ImageDataGenerator(preprocessing_function=tf.keras.applications.xception.preprocess_input)\n",
    "\n",
    "test_gen = test_datagen.flow_from_dataframe(dataframe = test_df, directory=DATASET_PATH+'/test', x_col='filename',\n",
    "                                            y_col='class', target_size=(IMAGE_SIZE, IMAGE_SIZE), batch_size=BATCH_SIZE, \n",
    "                                            color_mode='rgb', class_mode='binary', shuffle=False)"
   ]
  },
  {
   "cell_type": "code",
   "execution_count": 11,
   "id": "dc520d7a",
   "metadata": {
    "executionInfo": {
     "elapsed": 6,
     "status": "ok",
     "timestamp": 1651487785159,
     "user": {
      "displayName": "Laurence Brown",
      "userId": "02353821870267800674"
     },
     "user_tz": -60
    },
    "id": "dc520d7a"
   },
   "outputs": [],
   "source": [
    "def preprocess_images_cv(train_index, val_index):\n",
    "    # find the section of the training data that the fold is located\n",
    "    training_data = train_df.iloc[train_index]\n",
    "    validation_data = train_df.iloc[val_index]\n",
    "    train_datagen = ImageDataGenerator(preprocessing_function=tf.keras.applications.xception.preprocess_input,\n",
    "                                       rotation_range = 20, width_shift_range = 0.2, height_shift_range = 0.2, \n",
    "                                       shear_range = 0.2, zoom_range = 0.1, horizontal_flip = True)\n",
    "\n",
    "    # now get the images from directory with augmentation\n",
    "    \n",
    "    train_gen = train_datagen.flow_from_dataframe(dataframe = training_data, directory=DATASET_PATH+'/train', \n",
    "                                                  x_col='filename', y_col='class', target_size=(IMAGE_SIZE, IMAGE_SIZE), \n",
    "                                                  batch_size=BATCH_SIZE, color_mode='rgb', class_mode='binary')\n",
    "    valid_gen = test_datagen.flow_from_dataframe(dataframe = validation_data, directory=DATASET_PATH+'/train', \n",
    "                                                 x_col='filename', y_col='class', target_size=(IMAGE_SIZE, IMAGE_SIZE), \n",
    "                                                 batch_size=BATCH_SIZE,  color_mode='rgb', class_mode='binary')\n",
    "    return train_gen, valid_gen"
   ]
  },
  {
   "cell_type": "markdown",
   "id": "4174e3f4",
   "metadata": {
    "id": "4174e3f4"
   },
   "source": [
    "## Xception"
   ]
  },
  {
   "cell_type": "code",
   "execution_count": 12,
   "id": "96ce3019",
   "metadata": {
    "executionInfo": {
     "elapsed": 6,
     "status": "ok",
     "timestamp": 1651487785159,
     "user": {
      "displayName": "Laurence Brown",
      "userId": "02353821870267800674"
     },
     "user_tz": -60
    },
    "id": "96ce3019"
   },
   "outputs": [],
   "source": [
    "# required libraries for Xception\n",
    "from tensorflow import keras\n",
    "from tensorflow.keras.optimizers import Adam"
   ]
  },
  {
   "cell_type": "code",
   "execution_count": 13,
   "id": "836aa1a9",
   "metadata": {
    "executionInfo": {
     "elapsed": 6,
     "status": "ok",
     "timestamp": 1651487785159,
     "user": {
      "displayName": "Laurence Brown",
      "userId": "02353821870267800674"
     },
     "user_tz": -60
    },
    "id": "836aa1a9"
   },
   "outputs": [],
   "source": [
    "def create_model(hparams):\n",
    "    # create the base pre-trained model\n",
    "    base_model = keras.applications.Xception(weights=None, input_shape = (IMAGE_SIZE,IMAGE_SIZE,3),\n",
    "                                                  include_top=False)\n",
    "# add some minor imtpovements to prevent overfitting and add output layer\n",
    "    model = keras.Sequential([ base_model, \n",
    "                                 keras.layers.GlobalAveragePooling2D(), \n",
    "                                 keras.layers.Dense(hparams[HP_NUM_UNITS], activation='relu'),\n",
    "                                 keras.layers.BatchNormalization(), \n",
    "                                 keras.layers.Dropout(hparams[HP_DROPOUT]),\n",
    "                                 keras.layers.Dense(1, activation='sigmoid')\n",
    "                                ])\n",
    "\n",
    "    # compile model\n",
    "    optimizer_name = hparams[HP_OPTIMIZER]\n",
    "    learning_rate = hparams[HP_L_RATE]\n",
    "    if optimizer_name == \"adam\":\n",
    "        optimizer = tf.keras.optimizers.Adam(learning_rate=learning_rate)\n",
    "    elif optimizer_name == \"sgd\":\n",
    "        optimizer = tf.keras.optimizers.SGD(learning_rate=learning_rate)\n",
    "    else:\n",
    "        raise ValueError(\"unexpected optimizer name: %r\" % (optimizer_name,))\n",
    "\n",
    "\n",
    "    model.compile(optimizer = optimizer,\n",
    "                  loss = 'binary_crossentropy',\n",
    "                  metrics=['accuracy'])\n",
    "    return model"
   ]
  },
  {
   "cell_type": "code",
   "execution_count": 14,
   "id": "b8275562",
   "metadata": {
    "executionInfo": {
     "elapsed": 5,
     "status": "ok",
     "timestamp": 1651487785159,
     "user": {
      "displayName": "Laurence Brown",
      "userId": "02353821870267800674"
     },
     "user_tz": -60
    },
    "id": "b8275562"
   },
   "outputs": [],
   "source": [
    "def get_model_name(k):\n",
    "    return str(\"Xception-Binary-No-Weights\" + \"Fold-\"+str(k)+\"-\"+datetime.now().strftime(\"%Y%m%d-%H%M%S\"))"
   ]
  },
  {
   "cell_type": "code",
   "execution_count": 15,
   "id": "8faa2fa4",
   "metadata": {
    "colab": {
     "base_uri": "https://localhost:8080/"
    },
    "executionInfo": {
     "elapsed": 1250867,
     "status": "ok",
     "timestamp": 1651489036021,
     "user": {
      "displayName": "Laurence Brown",
      "userId": "02353821870267800674"
     },
     "user_tz": -60
    },
    "id": "8faa2fa4",
    "outputId": "2f7e4ef6-9bc2-4c74-af93-f53920e64d58"
   },
   "outputs": [
    {
     "name": "stdout",
     "output_type": "stream",
     "text": [
      "HPARAMS: {'num_units': 128, 'dropout': 0.1, 'optimizer': 'adam', 'learning_rate': 0.001}\n",
      "--- Starting trial: 0\n",
      "Found 1200 validated image filenames belonging to 2 classes.\n",
      "Found 300 validated image filenames belonging to 2 classes.\n",
      "Epoch 1/20\n",
      "38/38 [==============================] - 399s 10s/step - loss: 0.5081 - accuracy: 0.7617 - val_loss: 0.6932 - val_accuracy: 0.5000 - lr: 0.0010\n",
      "Epoch 2/20\n",
      "38/38 [==============================] - ETA: 0s - loss: 0.3747 - accuracy: 0.8450\n",
      "Epoch 2: ReduceLROnPlateau reducing learning rate to 0.0005000000237487257.\n",
      "38/38 [==============================] - 40s 1s/step - loss: 0.3747 - accuracy: 0.8450 - val_loss: 0.6931 - val_accuracy: 0.5000 - lr: 0.0010\n",
      "Epoch 3/20\n",
      "38/38 [==============================] - ETA: 0s - loss: 0.3297 - accuracy: 0.8692\n",
      "Epoch 3: ReduceLROnPlateau reducing learning rate to 0.0002500000118743628.\n",
      "38/38 [==============================] - 37s 975ms/step - loss: 0.3297 - accuracy: 0.8692 - val_loss: 0.6933 - val_accuracy: 0.5000 - lr: 5.0000e-04\n",
      "Epoch 4/20\n",
      "38/38 [==============================] - ETA: 0s - loss: 0.3190 - accuracy: 0.8708\n",
      "Epoch 4: ReduceLROnPlateau reducing learning rate to 0.0001250000059371814.\n",
      "38/38 [==============================] - 37s 959ms/step - loss: 0.3190 - accuracy: 0.8708 - val_loss: 0.6932 - val_accuracy: 0.5100 - lr: 2.5000e-04\n",
      "Epoch 5/20\n",
      "38/38 [==============================] - ETA: 0s - loss: 0.2707 - accuracy: 0.8883Restoring model weights from the end of the best epoch: 2.\n",
      "\n",
      "Epoch 5: ReduceLROnPlateau reducing learning rate to 6.25000029685907e-05.\n",
      "38/38 [==============================] - 37s 960ms/step - loss: 0.2707 - accuracy: 0.8883 - val_loss: 0.6939 - val_accuracy: 0.5000 - lr: 1.2500e-04\n",
      "Epoch 5: early stopping\n",
      "--- Starting trial: 1\n",
      "Found 1200 validated image filenames belonging to 2 classes.\n",
      "Found 300 validated image filenames belonging to 2 classes.\n",
      "Epoch 1/20\n",
      "38/38 [==============================] - 44s 1s/step - loss: 0.4623 - accuracy: 0.7808 - val_loss: 0.6935 - val_accuracy: 0.5000 - lr: 0.0010\n",
      "Epoch 2/20\n",
      "38/38 [==============================] - ETA: 0s - loss: 0.4138 - accuracy: 0.8192\n",
      "Epoch 2: ReduceLROnPlateau reducing learning rate to 0.0005000000237487257.\n",
      "38/38 [==============================] - 37s 964ms/step - loss: 0.4138 - accuracy: 0.8192 - val_loss: 0.7116 - val_accuracy: 0.5000 - lr: 0.0010\n",
      "Epoch 3/20\n",
      "38/38 [==============================] - ETA: 0s - loss: 0.3712 - accuracy: 0.8425\n",
      "Epoch 3: ReduceLROnPlateau reducing learning rate to 0.0002500000118743628.\n",
      "38/38 [==============================] - 37s 959ms/step - loss: 0.3712 - accuracy: 0.8425 - val_loss: 0.6980 - val_accuracy: 0.5000 - lr: 5.0000e-04\n",
      "Epoch 4/20\n",
      "38/38 [==============================] - ETA: 0s - loss: 0.2934 - accuracy: 0.8883Restoring model weights from the end of the best epoch: 1.\n",
      "\n",
      "Epoch 4: ReduceLROnPlateau reducing learning rate to 0.0001250000059371814.\n",
      "38/38 [==============================] - 37s 963ms/step - loss: 0.2934 - accuracy: 0.8883 - val_loss: 0.6936 - val_accuracy: 0.5000 - lr: 2.5000e-04\n",
      "Epoch 4: early stopping\n",
      "--- Starting trial: 2\n",
      "Found 1200 validated image filenames belonging to 2 classes.\n",
      "Found 300 validated image filenames belonging to 2 classes.\n",
      "Epoch 1/20\n",
      "38/38 [==============================] - 44s 1s/step - loss: 0.5079 - accuracy: 0.7617 - val_loss: 0.7298 - val_accuracy: 0.5000 - lr: 0.0010\n",
      "Epoch 2/20\n",
      "38/38 [==============================] - ETA: 0s - loss: 0.3546 - accuracy: 0.8475\n",
      "Epoch 2: ReduceLROnPlateau reducing learning rate to 0.0005000000237487257.\n",
      "38/38 [==============================] - 37s 971ms/step - loss: 0.3546 - accuracy: 0.8475 - val_loss: 0.8158 - val_accuracy: 0.5000 - lr: 0.0010\n",
      "Epoch 3/20\n",
      "38/38 [==============================] - ETA: 0s - loss: 0.3179 - accuracy: 0.8667\n",
      "Epoch 3: ReduceLROnPlateau reducing learning rate to 0.0002500000118743628.\n",
      "38/38 [==============================] - 37s 959ms/step - loss: 0.3179 - accuracy: 0.8667 - val_loss: 0.8509 - val_accuracy: 0.5000 - lr: 5.0000e-04\n",
      "Epoch 4/20\n",
      "38/38 [==============================] - ETA: 0s - loss: 0.2353 - accuracy: 0.9208Restoring model weights from the end of the best epoch: 1.\n",
      "\n",
      "Epoch 4: ReduceLROnPlateau reducing learning rate to 0.0001250000059371814.\n",
      "38/38 [==============================] - 37s 968ms/step - loss: 0.2353 - accuracy: 0.9208 - val_loss: 0.8377 - val_accuracy: 0.5000 - lr: 2.5000e-04\n",
      "Epoch 4: early stopping\n",
      "--- Starting trial: 3\n",
      "Found 1200 validated image filenames belonging to 2 classes.\n",
      "Found 300 validated image filenames belonging to 2 classes.\n",
      "Epoch 1/20\n",
      "38/38 [==============================] - 44s 1s/step - loss: 0.4908 - accuracy: 0.7758 - val_loss: 0.6938 - val_accuracy: 0.5000 - lr: 0.0010\n",
      "Epoch 2/20\n",
      "38/38 [==============================] - ETA: 0s - loss: 0.3882 - accuracy: 0.8442\n",
      "Epoch 2: ReduceLROnPlateau reducing learning rate to 0.0005000000237487257.\n",
      "38/38 [==============================] - 37s 960ms/step - loss: 0.3882 - accuracy: 0.8442 - val_loss: 0.6976 - val_accuracy: 0.5000 - lr: 0.0010\n",
      "Epoch 3/20\n",
      "38/38 [==============================] - ETA: 0s - loss: 0.3485 - accuracy: 0.8483\n",
      "Epoch 3: ReduceLROnPlateau reducing learning rate to 0.0002500000118743628.\n",
      "38/38 [==============================] - 37s 958ms/step - loss: 0.3485 - accuracy: 0.8483 - val_loss: 0.7003 - val_accuracy: 0.5000 - lr: 5.0000e-04\n",
      "Epoch 4/20\n",
      "38/38 [==============================] - ETA: 0s - loss: 0.2994 - accuracy: 0.8825Restoring model weights from the end of the best epoch: 1.\n",
      "\n",
      "Epoch 4: ReduceLROnPlateau reducing learning rate to 0.0001250000059371814.\n",
      "38/38 [==============================] - 37s 961ms/step - loss: 0.2994 - accuracy: 0.8825 - val_loss: 0.6989 - val_accuracy: 0.5000 - lr: 2.5000e-04\n",
      "Epoch 4: early stopping\n",
      "--- Starting trial: 4\n",
      "Found 1200 validated image filenames belonging to 2 classes.\n",
      "Found 300 validated image filenames belonging to 2 classes.\n",
      "Epoch 1/20\n",
      "38/38 [==============================] - 44s 1s/step - loss: 0.5037 - accuracy: 0.7525 - val_loss: 0.6985 - val_accuracy: 0.5000 - lr: 0.0010\n",
      "Epoch 2/20\n",
      "38/38 [==============================] - ETA: 0s - loss: 0.3750 - accuracy: 0.8300\n",
      "Epoch 2: ReduceLROnPlateau reducing learning rate to 0.0005000000237487257.\n",
      "38/38 [==============================] - 37s 964ms/step - loss: 0.3750 - accuracy: 0.8300 - val_loss: 0.7115 - val_accuracy: 0.5000 - lr: 0.0010\n",
      "Epoch 3/20\n",
      "38/38 [==============================] - ETA: 0s - loss: 0.3179 - accuracy: 0.8708\n",
      "Epoch 3: ReduceLROnPlateau reducing learning rate to 0.0002500000118743628.\n",
      "38/38 [==============================] - 37s 967ms/step - loss: 0.3179 - accuracy: 0.8708 - val_loss: 0.7238 - val_accuracy: 0.5000 - lr: 5.0000e-04\n",
      "Epoch 4/20\n",
      "38/38 [==============================] - ETA: 0s - loss: 0.2827 - accuracy: 0.8917Restoring model weights from the end of the best epoch: 1.\n",
      "\n",
      "Epoch 4: ReduceLROnPlateau reducing learning rate to 0.0001250000059371814.\n",
      "38/38 [==============================] - 37s 960ms/step - loss: 0.2827 - accuracy: 0.8917 - val_loss: 0.7084 - val_accuracy: 0.5000 - lr: 2.5000e-04\n",
      "Epoch 4: early stopping\n"
     ]
    }
   ],
   "source": [
    "# perform HP tuning and CV on the model on the data\n",
    "Y = train_df['class']\n",
    "trained_models = []\n",
    "\n",
    "# iterate through hyper-parameters\n",
    "for num_units in HP_NUM_UNITS.domain.values:\n",
    "    for dropout_rate in HP_DROPOUT.domain.values:\n",
    "        for optimizer in HP_OPTIMIZER.domain.values:\n",
    "            for learning_rate in HP_L_RATE.domain.values:\n",
    "                # instantiate k folds and hyper-parameters for this iteration\n",
    "                skf = StratifiedKFold(n_splits = K_FOLDS, shuffle = True) \n",
    "                k_i = 0\n",
    "                k_fold_models = []\n",
    "                elapsed_times = []\n",
    "                hparams = {\n",
    "                    HP_NUM_UNITS: num_units,\n",
    "                    HP_DROPOUT: dropout_rate,\n",
    "                    HP_OPTIMIZER: optimizer,\n",
    "                    HP_L_RATE: learning_rate\n",
    "                }\n",
    "                print('HPARAMS:',{h.name: hparams[h] for h in hparams})\n",
    "                \n",
    "                # iterate through k folds\n",
    "                for train_index, val_index in skf.split(np.zeros(len(Y)),Y):\n",
    "                    print('--- Starting trial: %s' % k_i)\n",
    "                    t = time.process_time() # begin timing model\n",
    "                    train_gen, valid_gen = preprocess_images_cv(train_index, val_index) # fetch dataset for this fold\n",
    "                    \n",
    "                    # set up logging directories and callbacks\n",
    "                    logdir = os.path.join('trained-classifiers','logs','fit', get_model_name(k_i))\n",
    "                    hpdir = os.path.join('trained-classifiers','logs','hparam_tuning', get_model_name(k_i))\n",
    "                    modeldir = os.path.join('model-checkpoints',str(get_model_name(k_i)+\".h5\"))\n",
    "                    callbacks = [\n",
    "                        keras.callbacks.ModelCheckpoint(filepath=modeldir, save_best_only=True, verbose = 0),\n",
    "                        keras.callbacks.EarlyStopping(patience=3, monitor='val_loss', verbose=1, restore_best_weights=True),\n",
    "                        keras.callbacks.ReduceLROnPlateau(monitor='val_loss', factor=0.5, patience=1, verbose=1),\n",
    "                        keras.callbacks.TensorBoard(log_dir=logdir)\n",
    "                      ]\n",
    "                    \n",
    "                    # create the model\n",
    "                    hp.hparams(hparams)  \n",
    "                    model = create_model(hparams)\n",
    "                    \n",
    "                    # train model\n",
    "                    model.fit(train_gen, validation_data=valid_gen, epochs=MAX_EPOCHS, callbacks=callbacks)\n",
    "                    \n",
    "                    # record the values used in this trial\n",
    "                    elapsed_times.append(time.process_time() - t)\n",
    "                    k_fold_models.append(modeldir)\n",
    "                    \n",
    "                    # clean memory\n",
    "                    del model, train_gen, valid_gen\n",
    "                    keras.backend.clear_session()\n",
    "                    k_i += 1\n",
    "                    \n",
    "                trained_models.append([hparams, k_fold_models, elapsed_times])"
   ]
  },
  {
   "cell_type": "markdown",
   "id": "7d4d6530",
   "metadata": {
    "id": "7d4d6530"
   },
   "source": [
    "## Evaluation"
   ]
  },
  {
   "cell_type": "code",
   "execution_count": 17,
   "id": "9851f1f7",
   "metadata": {
    "executionInfo": {
     "elapsed": 299,
     "status": "ok",
     "timestamp": 1651489036314,
     "user": {
      "displayName": "Laurence Brown",
      "userId": "02353821870267800674"
     },
     "user_tz": -60
    },
    "id": "9851f1f7"
   },
   "outputs": [],
   "source": [
    "# import libraries for evaluation\n",
    "from sklearn.metrics import accuracy_score, precision_score, recall_score, f1_score, confusion_matrix\n",
    "from statistics import mean"
   ]
  },
  {
   "cell_type": "code",
   "execution_count": 18,
   "id": "69b88b94",
   "metadata": {
    "colab": {
     "base_uri": "https://localhost:8080/"
    },
    "executionInfo": {
     "elapsed": 368889,
     "status": "ok",
     "timestamp": 1651489405201,
     "user": {
      "displayName": "Laurence Brown",
      "userId": "02353821870267800674"
     },
     "user_tz": -60
    },
    "id": "69b88b94",
    "outputId": "17b692cf-efc7-471d-a18b-bdbcd954dd9d"
   },
   "outputs": [
    {
     "name": "stdout",
     "output_type": "stream",
     "text": [
      "13/13 [==============================] - 19s 1s/step - loss: 0.6931 - accuracy: 0.5000\n",
      "13/13 [==============================] - 18s 1s/step - loss: 0.6936 - accuracy: 0.5000\n",
      "13/13 [==============================] - 18s 1s/step - loss: 0.7298 - accuracy: 0.5000\n",
      "13/13 [==============================] - 18s 1s/step - loss: 0.6937 - accuracy: 0.5000\n",
      "13/13 [==============================] - 18s 1s/step - loss: 0.6985 - accuracy: 0.5000\n",
      "SCORE FOR HPARAMS: {'num_units': 128, 'dropout': 0.1, 'optimizer': 'adam', 'learning_rate': 0.001}\n",
      "Mean accuracy: 0.5\n",
      "Mean k_accuracy; 0.5\n",
      "Mean precision: 0.4\n",
      "Mean recall: 0.8\n",
      "Mean f1: 0.5333333333333333\n",
      "Mean training time: 226.77044350879999\n"
     ]
    }
   ],
   "source": [
    "# iterate through hyper-parameter configurations\n",
    "for j in trained_models:\n",
    "    model = create_model(j[0])\n",
    "    accuracies = []\n",
    "    k_accuracies = []\n",
    "    precisions = []\n",
    "    recalls = []\n",
    "    f1s = []\n",
    "    tp = []\n",
    "    fp = []\n",
    "    tn = []\n",
    "    fn = []\n",
    "    \n",
    "    # iterate through each folds model\n",
    "    for i in j[1]:\n",
    "        model.load_weights(i)\n",
    "        test_pred = model.predict(test_gen)\n",
    "        y_pred = np.rint(test_pred).flatten()\n",
    "        y_test= [test_gen.class_indices[k] for k in test_df['class'].values.tolist()]\n",
    "        k_accuracies.append(model.evaluate(test_gen)[1])\n",
    "        accuracies.append(accuracy_score(y_test, y_pred))\n",
    "        precisions.append(precision_score(y_test, y_pred, zero_division=0))\n",
    "        recalls.append(recall_score(y_test, y_pred))\n",
    "        f1s.append(f1_score(y_test, y_pred))\n",
    "        tn_x, fp_x, fn_x, tp_x = confusion_matrix(y_test, y_pred).ravel()\n",
    "        tp.append(tp_x)\n",
    "        fp.append(fp_x)\n",
    "        tn.append(tn_x)\n",
    "        fn.append(fn_x)\n",
    "\n",
    "    print(\"SCORE FOR HPARAMS:\", {h.name: j[0][h] for h in j[0]})\n",
    "    print(\"Mean accuracy:\", mean(accuracies))\n",
    "    print(\"Mean k_accuracy;\", mean(k_accuracies))\n",
    "    print(\"Mean precision:\", mean(precisions))\n",
    "    print(\"Mean recall:\", mean(recalls))\n",
    "    print(\"Mean f1:\", mean(f1s))\n",
    "    print(\"Mean training time:\", mean(j[2]))\n",
    "    \n",
    "    # retreive hyper-parameters\n",
    "    hdict = {h.name: j[0][h] for h in j[0]}\n",
    "    \n",
    "    # save results to file\n",
    "    df =  pd.DataFrame(np.array([[str(j[1]),\n",
    "                                  hdict.get('num_units'), hdict.get('dropout'), hdict.get('optimizer'), \n",
    "                                  hdict.get('learning_rate'),IMAGE_SIZE, BATCH_SIZE, DATASET_SIZE, MAX_EPOCHS, K_FOLDS,\n",
    "                                  mean(accuracies), mean(k_accuracies), mean(precisions), mean(recalls), mean(f1s),\n",
    "                                  mean(tn), mean(fp), mean(fn), mean(tp), mean(j[2])\n",
    "                                 ]]),\n",
    "                       columns=['Model Names','num_units', 'dropout','optimizer','learning_rate',\n",
    "                                'IMAGE_SIZE', 'BATCH_SIZE', 'DATASET_SIZE', 'MAX_EPOCHS',\n",
    "                                'K_FOLDS','Accuracy', 'K_accuracy', 'Precision', 'Recall', 'f1 Score', \n",
    "                                'True Negatives', ' False Positives', 'False Negatives', 'True Positives', 'Training Time'])\n",
    "    with open('trained-classifiers/Xception.csv', 'a') as f:\n",
    "        df.to_csv(f, mode='a', header=f.tell()==0, index = False)"
   ]
  },
  {
   "cell_type": "markdown",
   "id": "96f74fbe",
   "metadata": {
    "id": "96f74fbe"
   },
   "source": [
    "NOTE: Accuracy and loss graphs can be seen on TensorBoard, run \"%tensorboard --logdir logs --host 0.0.0.0\" to open"
   ]
  }
 ],
 "metadata": {
  "accelerator": "GPU",
  "colab": {
   "collapsed_sections": [],
   "name": "FINAL Xception-Binary-Hparams-No-Weights.ipynb",
   "provenance": [
    {
     "file_id": "11r3f-qnUzKIE9bcitoUoSNfognYvm6mH",
     "timestamp": 1651487560509
    },
    {
     "file_id": "https://github.com/laurencebrwn/ml-covid19-eval/blob/main/Xception-Binary-Hparams.ipynb",
     "timestamp": 1649284749785
    }
   ]
  },
  "environment": {
   "kernel": "python3",
   "name": "managed-notebooks.m90",
   "type": "gcloud",
   "uri": "gcr.io/deeplearning-platform-release/managed-notebooks:m90"
  },
  "kernelspec": {
   "display_name": "Python 3 (ipykernel)",
   "language": "python",
   "name": "python3"
  },
  "language_info": {
   "codemirror_mode": {
    "name": "ipython",
    "version": 3
   },
   "file_extension": ".py",
   "mimetype": "text/x-python",
   "name": "python",
   "nbconvert_exporter": "python",
   "pygments_lexer": "ipython3",
   "version": "3.7.9"
  }
 },
 "nbformat": 4,
 "nbformat_minor": 5
}
